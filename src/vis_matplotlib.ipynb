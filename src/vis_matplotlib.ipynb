{
 "cells": [
  {
   "cell_type": "code",
   "execution_count": 1,
   "metadata": {},
   "outputs": [
    {
     "data": {
      "text/html": [
       "<div>\n",
       "<style scoped>\n",
       "    .dataframe tbody tr th:only-of-type {\n",
       "        vertical-align: middle;\n",
       "    }\n",
       "\n",
       "    .dataframe tbody tr th {\n",
       "        vertical-align: top;\n",
       "    }\n",
       "\n",
       "    .dataframe thead th {\n",
       "        text-align: right;\n",
       "    }\n",
       "</style>\n",
       "<table border=\"1\" class=\"dataframe\">\n",
       "  <thead>\n",
       "    <tr style=\"text-align: right;\">\n",
       "      <th></th>\n",
       "      <th>title</th>\n",
       "      <th>ingredients</th>\n",
       "      <th>link</th>\n",
       "      <th>white sugar (c.)</th>\n",
       "      <th>brown sugar (c.)</th>\n",
       "      <th>flour (c.)</th>\n",
       "      <th>egg (c.)</th>\n",
       "      <th>vanilla (c.)</th>\n",
       "      <th>chocolate chips (c.)</th>\n",
       "      <th>salt (c.)</th>\n",
       "      <th>...</th>\n",
       "      <th>butter (%)</th>\n",
       "      <th>baking powder (%)</th>\n",
       "      <th>nuts (%)</th>\n",
       "      <th>shortening (%)</th>\n",
       "      <th>margarine (%)</th>\n",
       "      <th>milk (%)</th>\n",
       "      <th>water (%)</th>\n",
       "      <th>oats (%)</th>\n",
       "      <th>cinnamon (%)</th>\n",
       "      <th>peanut butter (%)</th>\n",
       "    </tr>\n",
       "  </thead>\n",
       "  <tbody>\n",
       "    <tr>\n",
       "      <th>0</th>\n",
       "      <td>Chicago Crunchy Chocolate Chip Cookies</td>\n",
       "      <td>['3 1/2 c. flour', '3 tsp. baking soda', '1 c....</td>\n",
       "      <td>www.cookbooks.com/Recipe-Details.aspx?id=758790</td>\n",
       "      <td>1.00</td>\n",
       "      <td>1.00</td>\n",
       "      <td>3.50</td>\n",
       "      <td>0.2</td>\n",
       "      <td>0.1250</td>\n",
       "      <td>1.5</td>\n",
       "      <td>0.0208</td>\n",
       "      <td>...</td>\n",
       "      <td>0.055736</td>\n",
       "      <td>0.000000</td>\n",
       "      <td>0.000000</td>\n",
       "      <td>0.000000</td>\n",
       "      <td>0.0</td>\n",
       "      <td>0.006967</td>\n",
       "      <td>0.0</td>\n",
       "      <td>0.111473</td>\n",
       "      <td>0.0</td>\n",
       "      <td>0.0</td>\n",
       "    </tr>\n",
       "    <tr>\n",
       "      <th>1</th>\n",
       "      <td>Oatmeal Chocolate Chip Cookies</td>\n",
       "      <td>['1 c. butter flavored shortening', '1 1/4 c. ...</td>\n",
       "      <td>www.cookbooks.com/Recipe-Details.aspx?id=288543</td>\n",
       "      <td>0.50</td>\n",
       "      <td>1.25</td>\n",
       "      <td>1.75</td>\n",
       "      <td>0.4</td>\n",
       "      <td>0.0417</td>\n",
       "      <td>2.0</td>\n",
       "      <td>0.0000</td>\n",
       "      <td>...</td>\n",
       "      <td>0.000000</td>\n",
       "      <td>0.000000</td>\n",
       "      <td>0.123648</td>\n",
       "      <td>0.123648</td>\n",
       "      <td>0.0</td>\n",
       "      <td>0.015456</td>\n",
       "      <td>0.0</td>\n",
       "      <td>0.000000</td>\n",
       "      <td>0.0</td>\n",
       "      <td>0.0</td>\n",
       "    </tr>\n",
       "    <tr>\n",
       "      <th>2</th>\n",
       "      <td>Chocolate Chip Cookies</td>\n",
       "      <td>['1 1/2 c. salad oil', '1 c. sugar', '2 c. bro...</td>\n",
       "      <td>www.cookbooks.com/Recipe-Details.aspx?id=13529</td>\n",
       "      <td>1.00</td>\n",
       "      <td>2.00</td>\n",
       "      <td>4.50</td>\n",
       "      <td>0.8</td>\n",
       "      <td>0.0417</td>\n",
       "      <td>2.0</td>\n",
       "      <td>0.0417</td>\n",
       "      <td>...</td>\n",
       "      <td>0.000000</td>\n",
       "      <td>0.000000</td>\n",
       "      <td>0.000000</td>\n",
       "      <td>0.000000</td>\n",
       "      <td>0.0</td>\n",
       "      <td>0.000000</td>\n",
       "      <td>0.0</td>\n",
       "      <td>0.000000</td>\n",
       "      <td>0.0</td>\n",
       "      <td>0.0</td>\n",
       "    </tr>\n",
       "    <tr>\n",
       "      <th>3</th>\n",
       "      <td>The Best Chocolate Chip Cookies</td>\n",
       "      <td>['1/2 lb. real butter', '1 c. brown sugar', '1...</td>\n",
       "      <td>www.cookbooks.com/Recipe-Details.aspx?id=1050198</td>\n",
       "      <td>1.00</td>\n",
       "      <td>1.00</td>\n",
       "      <td>2.00</td>\n",
       "      <td>0.4</td>\n",
       "      <td>0.0208</td>\n",
       "      <td>4.0</td>\n",
       "      <td>0.0208</td>\n",
       "      <td>...</td>\n",
       "      <td>0.105449</td>\n",
       "      <td>0.002197</td>\n",
       "      <td>0.000000</td>\n",
       "      <td>0.000000</td>\n",
       "      <td>0.0</td>\n",
       "      <td>0.000000</td>\n",
       "      <td>0.0</td>\n",
       "      <td>0.000000</td>\n",
       "      <td>0.0</td>\n",
       "      <td>0.0</td>\n",
       "    </tr>\n",
       "    <tr>\n",
       "      <th>4</th>\n",
       "      <td>White Chocolate Chip Cookies</td>\n",
       "      <td>['2 1/4 c. flour, sifted', '1 tsp. baking soda...</td>\n",
       "      <td>www.cookbooks.com/Recipe-Details.aspx?id=997342</td>\n",
       "      <td>0.75</td>\n",
       "      <td>0.75</td>\n",
       "      <td>2.25</td>\n",
       "      <td>0.6</td>\n",
       "      <td>0.0000</td>\n",
       "      <td>1.5</td>\n",
       "      <td>0.0208</td>\n",
       "      <td>...</td>\n",
       "      <td>0.130863</td>\n",
       "      <td>0.000000</td>\n",
       "      <td>0.098147</td>\n",
       "      <td>0.000000</td>\n",
       "      <td>0.0</td>\n",
       "      <td>0.000000</td>\n",
       "      <td>0.0</td>\n",
       "      <td>0.000000</td>\n",
       "      <td>0.0</td>\n",
       "      <td>0.0</td>\n",
       "    </tr>\n",
       "  </tbody>\n",
       "</table>\n",
       "<p>5 rows × 39 columns</p>\n",
       "</div>"
      ],
      "text/plain": [
       "                                    title  \\\n",
       "0  Chicago Crunchy Chocolate Chip Cookies   \n",
       "1          Oatmeal Chocolate Chip Cookies   \n",
       "2                  Chocolate Chip Cookies   \n",
       "3         The Best Chocolate Chip Cookies   \n",
       "4            White Chocolate Chip Cookies   \n",
       "\n",
       "                                         ingredients  \\\n",
       "0  ['3 1/2 c. flour', '3 tsp. baking soda', '1 c....   \n",
       "1  ['1 c. butter flavored shortening', '1 1/4 c. ...   \n",
       "2  ['1 1/2 c. salad oil', '1 c. sugar', '2 c. bro...   \n",
       "3  ['1/2 lb. real butter', '1 c. brown sugar', '1...   \n",
       "4  ['2 1/4 c. flour, sifted', '1 tsp. baking soda...   \n",
       "\n",
       "                                               link  white sugar (c.)  \\\n",
       "0   www.cookbooks.com/Recipe-Details.aspx?id=758790              1.00   \n",
       "1   www.cookbooks.com/Recipe-Details.aspx?id=288543              0.50   \n",
       "2    www.cookbooks.com/Recipe-Details.aspx?id=13529              1.00   \n",
       "3  www.cookbooks.com/Recipe-Details.aspx?id=1050198              1.00   \n",
       "4   www.cookbooks.com/Recipe-Details.aspx?id=997342              0.75   \n",
       "\n",
       "   brown sugar (c.)  flour (c.)  egg (c.)  vanilla (c.)  chocolate chips (c.)  \\\n",
       "0              1.00        3.50       0.2        0.1250                   1.5   \n",
       "1              1.25        1.75       0.4        0.0417                   2.0   \n",
       "2              2.00        4.50       0.8        0.0417                   2.0   \n",
       "3              1.00        2.00       0.4        0.0208                   4.0   \n",
       "4              0.75        2.25       0.6        0.0000                   1.5   \n",
       "\n",
       "   salt (c.)  ...  butter (%)  baking powder (%)  nuts (%)  shortening (%)  \\\n",
       "0     0.0208  ...    0.055736           0.000000  0.000000        0.000000   \n",
       "1     0.0000  ...    0.000000           0.000000  0.123648        0.123648   \n",
       "2     0.0417  ...    0.000000           0.000000  0.000000        0.000000   \n",
       "3     0.0208  ...    0.105449           0.002197  0.000000        0.000000   \n",
       "4     0.0208  ...    0.130863           0.000000  0.098147        0.000000   \n",
       "\n",
       "   margarine (%)  milk (%)  water (%)  oats (%)  cinnamon (%)  \\\n",
       "0            0.0  0.006967        0.0  0.111473           0.0   \n",
       "1            0.0  0.015456        0.0  0.000000           0.0   \n",
       "2            0.0  0.000000        0.0  0.000000           0.0   \n",
       "3            0.0  0.000000        0.0  0.000000           0.0   \n",
       "4            0.0  0.000000        0.0  0.000000           0.0   \n",
       "\n",
       "   peanut butter (%)  \n",
       "0                0.0  \n",
       "1                0.0  \n",
       "2                0.0  \n",
       "3                0.0  \n",
       "4                0.0  \n",
       "\n",
       "[5 rows x 39 columns]"
      ]
     },
     "execution_count": 1,
     "metadata": {},
     "output_type": "execute_result"
    }
   ],
   "source": [
    "import pathlib\n",
    "import pandas as pd\n",
    "import numpy as np\n",
    "import plotly\n",
    "from matplotlib import pyplot as plt\n",
    "import plotly.express as px\n",
    "import plotly.graph_objects as go\n",
    "\n",
    "path_dataset = pathlib.Path(\"../dataset/\")\n",
    "\n",
    "# read in the cleaned data\n",
    "df_after = pd.read_csv(path_dataset/\"recipenlg-cookies_cleaned.csv\")\n",
    "col_ingd_cup = [col for col in df_after.columns if \"(c.)\" in col]\n",
    "df_after = df_after[df_after.to_drop == 0].reset_index(drop=True)[[\"title\", \"ingredients\", \"link\"] + col_ingd_cup]\n",
    "df_after[\"chocolate chips (c.)\"] = df_after[\"chocolate chips (c.)\"].astype(\"float\")\n",
    "df_after[col_ingd_cup] = df_after[col_ingd_cup].fillna(0)\n",
    "\n",
    "# convert each row from cup measurements to percentage\n",
    "df_after_pct = df_after[col_ingd_cup].div(df_after[col_ingd_cup].sum(axis=1), axis=0)\n",
    "df_after_pct.rename(columns=lambda col: col.replace(\"(c.)\", \"(%)\"), inplace=True)\n",
    "col_ingd_pct = df_after_pct.columns\n",
    "df_after = pd.concat([df_after, df_after_pct], axis=1)\n",
    "del df_after_pct\n",
    "df_after.head()"
   ]
  },
  {
   "cell_type": "code",
   "execution_count": 15,
   "metadata": {},
   "outputs": [
    {
     "data": {
      "text/html": [
       "<div>\n",
       "<style scoped>\n",
       "    .dataframe tbody tr th:only-of-type {\n",
       "        vertical-align: middle;\n",
       "    }\n",
       "\n",
       "    .dataframe tbody tr th {\n",
       "        vertical-align: top;\n",
       "    }\n",
       "\n",
       "    .dataframe thead th {\n",
       "        text-align: right;\n",
       "    }\n",
       "</style>\n",
       "<table border=\"1\" class=\"dataframe\">\n",
       "  <thead>\n",
       "    <tr style=\"text-align: right;\">\n",
       "      <th></th>\n",
       "      <th>ingredient</th>\n",
       "      <th>pct</th>\n",
       "      <th>category</th>\n",
       "    </tr>\n",
       "  </thead>\n",
       "  <tbody>\n",
       "    <tr>\n",
       "      <th>0</th>\n",
       "      <td>flour</td>\n",
       "      <td>0.329321</td>\n",
       "      <td>flour</td>\n",
       "    </tr>\n",
       "    <tr>\n",
       "      <th>1</th>\n",
       "      <td>chocolate chips</td>\n",
       "      <td>0.214697</td>\n",
       "      <td>toppings</td>\n",
       "    </tr>\n",
       "    <tr>\n",
       "      <th>2</th>\n",
       "      <td>brown sugar</td>\n",
       "      <td>0.107879</td>\n",
       "      <td>sweeteners</td>\n",
       "    </tr>\n",
       "    <tr>\n",
       "      <th>3</th>\n",
       "      <td>white sugar</td>\n",
       "      <td>0.091230</td>\n",
       "      <td>sweeteners</td>\n",
       "    </tr>\n",
       "    <tr>\n",
       "      <th>4</th>\n",
       "      <td>butter</td>\n",
       "      <td>0.064508</td>\n",
       "      <td>fats</td>\n",
       "    </tr>\n",
       "  </tbody>\n",
       "</table>\n",
       "</div>"
      ],
      "text/plain": [
       "        ingredient       pct    category\n",
       "0            flour  0.329321       flour\n",
       "1  chocolate chips  0.214697    toppings\n",
       "2      brown sugar  0.107879  sweeteners\n",
       "3      white sugar  0.091230  sweeteners\n",
       "4           butter  0.064508        fats"
      ]
     },
     "execution_count": 15,
     "metadata": {},
     "output_type": "execute_result"
    }
   ],
   "source": [
    "df_avg = df_after[col_ingd_pct].mean(axis=0).sort_values(ascending=False).reset_index()\n",
    "df_avg.columns = [\"ingredient\", \"pct\"]\n",
    "df_avg[\"ingredient\"] = [item.replace(\" (%)\", \"\") for item in df_avg.ingredient]\n",
    "\n",
    "ingd_to_cate = pd.DataFrame(\n",
    "    np.array([\n",
    "        [\"white sugar\", \"sweeteners\"],\n",
    "        [\"brown sugar\", \"sweeteners\"],\n",
    "        [\"flour\", \"flour\"],\n",
    "        [\"egg\", \"eggs\"],\n",
    "        [\"vanilla\", \"flavorings\"],\n",
    "        [\"chocolate chips\", \"toppings\"],\n",
    "        [\"salt\", \"flavorings\"],\n",
    "        [\"baking soda\", \"leaveners\"],\n",
    "        [\"butter\", \"fats\"],\n",
    "        [\"baking powder\", \"leaveners\"],\n",
    "        [\"nuts\", \"toppings\"],\n",
    "        [\"shortening\", \"fats\"],\n",
    "        [\"margarine\", \"fats\"],\n",
    "        [\"milk\", \"liquids\"],\n",
    "        [\"water\", \"liquids\"],\n",
    "        [\"oats\", \"toppings\"],\n",
    "        [\"cinnamon\", \"flavorings\"],\n",
    "        [\"peanut butter\", \"flavorings\"]\n",
    "    ]), columns=[\"ingredient\", \"category\"]\n",
    ")\n",
    "\n",
    "df_avg = df_avg.join(ingd_to_cate.set_index(\"ingredient\"), on=\"ingredient\")\n",
    "df_avg.head()"
   ]
  },
  {
   "cell_type": "markdown",
   "metadata": {},
   "source": [
    "## Sunburst chart (multilevel pie charts)\n",
    "\n",
    "> Reference: [tutorial](https://plotly.com/python/sunburst-charts/)"
   ]
  },
  {
   "cell_type": "code",
   "execution_count": 65,
   "metadata": {},
   "outputs": [
    {
     "data": {
      "application/vnd.plotly.v1+json": {
       "config": {
        "plotlyServerURL": "https://plot.ly"
       },
       "data": [
        {
         "branchvalues": "total",
         "customdata": [
          [
           5.319597055781658,
           "eggss"
          ],
          [
           2.643795311982074,
           "fats"
          ],
          [
           21.469728441444367,
           "toppings"
          ],
          [
           32.932122992512056,
           "flour"
          ],
          [
           0.4018092101244295,
           "flavorings"
          ],
          [
           1.950083071670097,
           "toppings"
          ],
          [
           5.485323845026661,
           "toppings"
          ],
          [
           9.12298913482801,
           "sweeteners"
          ],
          [
           0.042318286272221214,
           "leaveners"
          ],
          [
           0.270585639364508,
           "liquids"
          ],
          [
           0.21000422867073612,
           "flavorings"
          ],
          [
           0.4598992121681309,
           "flavorings"
          ],
          [
           1.9616921289335127,
           "fats"
          ],
          [
           6.450774369966705,
           "fats"
          ],
          [
           10.787924170377067,
           "sweeteners"
          ],
          [
           0.22252756021543219,
           "liquids"
          ],
          [
           0.2505168086521261,
           "leaveners"
          ],
          [
           0.018308532010197706,
           "flavorings"
          ],
          [
           5.319597055781658,
           "eggss"
          ],
          [
           11.056261810882292,
           "fats"
          ],
          [
           1.0900211829734943,
           "flavorings"
          ],
          [
           32.932122992512056,
           "flour"
          ],
          [
           0.29283509492434734,
           "leaveners"
          ],
          [
           0.4931131995799402,
           "liquids"
          ],
          [
           19.910913305205078,
           "sweeteners"
          ],
          [
           28.905135358141127,
           "toppings"
          ]
         ],
         "domain": {
          "x": [
           0,
           1
          ],
          "y": [
           0,
           1
          ]
         },
         "hovertemplate": "%{label}<br>pct=%{customdata[0]:5.2f}%<extra></extra>",
         "ids": [
          "eggss/egg",
          "fats/margarine",
          "toppings/chocolate chips",
          "flour/flour",
          "flavorings/vanilla",
          "toppings/oats",
          "toppings/nuts",
          "sweeteners/white sugar",
          "leaveners/baking powder",
          "liquids/water",
          "flavorings/salt",
          "flavorings/peanut butter",
          "fats/shortening",
          "fats/butter",
          "sweeteners/brown sugar",
          "liquids/milk",
          "leaveners/baking soda",
          "flavorings/cinnamon",
          "eggss",
          "fats",
          "flavorings",
          "flour",
          "leaveners",
          "liquids",
          "sweeteners",
          "toppings"
         ],
         "labels": [
          "egg",
          "margarine",
          "chocolate chips",
          "flour",
          "vanilla",
          "oats",
          "nuts",
          "white sugar",
          "baking powder",
          "water",
          "salt",
          "peanut butter",
          "shortening",
          "butter",
          "brown sugar",
          "milk",
          "baking soda",
          "cinnamon",
          "eggss",
          "fats",
          "flavorings",
          "flour",
          "leaveners",
          "liquids",
          "sweeteners",
          "toppings"
         ],
         "marker": {
          "colors": [
           "rgb(133, 92, 117)",
           "rgb(217, 175, 107)",
           "rgb(175, 100, 88)",
           "rgb(115, 111, 76)",
           "rgb(82, 106, 131)",
           "rgb(175, 100, 88)",
           "rgb(175, 100, 88)",
           "rgb(98, 83, 119)",
           "rgb(104, 133, 92)",
           "rgb(156, 156, 94)",
           "rgb(82, 106, 131)",
           "rgb(82, 106, 131)",
           "rgb(217, 175, 107)",
           "rgb(217, 175, 107)",
           "rgb(98, 83, 119)",
           "rgb(156, 156, 94)",
           "rgb(104, 133, 92)",
           "rgb(82, 106, 131)",
           "rgb(133, 92, 117)",
           "rgb(217, 175, 107)",
           "rgb(82, 106, 131)",
           "rgb(115, 111, 76)",
           "rgb(104, 133, 92)",
           "rgb(156, 156, 94)",
           "rgb(98, 83, 119)",
           "rgb(175, 100, 88)"
          ]
         },
         "name": "",
         "parents": [
          "eggss",
          "fats",
          "toppings",
          "flour",
          "flavorings",
          "toppings",
          "toppings",
          "sweeteners",
          "leaveners",
          "liquids",
          "flavorings",
          "flavorings",
          "fats",
          "fats",
          "sweeteners",
          "liquids",
          "leaveners",
          "flavorings",
          "",
          "",
          "",
          "",
          "",
          "",
          "",
          ""
         ],
         "textinfo": "percent entry+label",
         "type": "sunburst",
         "values": [
          5.319597055781658,
          2.643795311982074,
          21.469728441444367,
          32.932122992512056,
          0.4018092101244295,
          1.950083071670097,
          5.485323845026661,
          9.12298913482801,
          0.042318286272221214,
          0.270585639364508,
          0.21000422867073612,
          0.4598992121681309,
          1.9616921289335127,
          6.450774369966705,
          10.787924170377067,
          0.22252756021543219,
          0.2505168086521261,
          0.018308532010197706,
          5.319597055781658,
          11.056261810882292,
          1.0900211829734943,
          32.932122992512056,
          0.29283509492434734,
          0.4931131995799402,
          19.910913305205078,
          28.905135358141127
         ]
        }
       ],
       "layout": {
        "height": 600,
        "legend": {
         "tracegroupgap": 0
        },
        "sunburstcolorway": [
         "rgb(133, 92, 117)",
         "rgb(217, 175, 107)",
         "rgb(175, 100, 88)",
         "rgb(115, 111, 76)",
         "rgb(82, 106, 131)",
         "rgb(98, 83, 119)",
         "rgb(104, 133, 92)",
         "rgb(156, 156, 94)",
         "rgb(160, 97, 119)",
         "rgb(140, 120, 93)",
         "rgb(124, 124, 124)"
        ],
        "template": {
         "data": {
          "bar": [
           {
            "error_x": {
             "color": "#2a3f5f"
            },
            "error_y": {
             "color": "#2a3f5f"
            },
            "marker": {
             "line": {
              "color": "#E5ECF6",
              "width": 0.5
             },
             "pattern": {
              "fillmode": "overlay",
              "size": 10,
              "solidity": 0.2
             }
            },
            "type": "bar"
           }
          ],
          "barpolar": [
           {
            "marker": {
             "line": {
              "color": "#E5ECF6",
              "width": 0.5
             },
             "pattern": {
              "fillmode": "overlay",
              "size": 10,
              "solidity": 0.2
             }
            },
            "type": "barpolar"
           }
          ],
          "carpet": [
           {
            "aaxis": {
             "endlinecolor": "#2a3f5f",
             "gridcolor": "white",
             "linecolor": "white",
             "minorgridcolor": "white",
             "startlinecolor": "#2a3f5f"
            },
            "baxis": {
             "endlinecolor": "#2a3f5f",
             "gridcolor": "white",
             "linecolor": "white",
             "minorgridcolor": "white",
             "startlinecolor": "#2a3f5f"
            },
            "type": "carpet"
           }
          ],
          "choropleth": [
           {
            "colorbar": {
             "outlinewidth": 0,
             "ticks": ""
            },
            "type": "choropleth"
           }
          ],
          "contour": [
           {
            "colorbar": {
             "outlinewidth": 0,
             "ticks": ""
            },
            "colorscale": [
             [
              0,
              "#0d0887"
             ],
             [
              0.1111111111111111,
              "#46039f"
             ],
             [
              0.2222222222222222,
              "#7201a8"
             ],
             [
              0.3333333333333333,
              "#9c179e"
             ],
             [
              0.4444444444444444,
              "#bd3786"
             ],
             [
              0.5555555555555556,
              "#d8576b"
             ],
             [
              0.6666666666666666,
              "#ed7953"
             ],
             [
              0.7777777777777778,
              "#fb9f3a"
             ],
             [
              0.8888888888888888,
              "#fdca26"
             ],
             [
              1,
              "#f0f921"
             ]
            ],
            "type": "contour"
           }
          ],
          "contourcarpet": [
           {
            "colorbar": {
             "outlinewidth": 0,
             "ticks": ""
            },
            "type": "contourcarpet"
           }
          ],
          "heatmap": [
           {
            "colorbar": {
             "outlinewidth": 0,
             "ticks": ""
            },
            "colorscale": [
             [
              0,
              "#0d0887"
             ],
             [
              0.1111111111111111,
              "#46039f"
             ],
             [
              0.2222222222222222,
              "#7201a8"
             ],
             [
              0.3333333333333333,
              "#9c179e"
             ],
             [
              0.4444444444444444,
              "#bd3786"
             ],
             [
              0.5555555555555556,
              "#d8576b"
             ],
             [
              0.6666666666666666,
              "#ed7953"
             ],
             [
              0.7777777777777778,
              "#fb9f3a"
             ],
             [
              0.8888888888888888,
              "#fdca26"
             ],
             [
              1,
              "#f0f921"
             ]
            ],
            "type": "heatmap"
           }
          ],
          "heatmapgl": [
           {
            "colorbar": {
             "outlinewidth": 0,
             "ticks": ""
            },
            "colorscale": [
             [
              0,
              "#0d0887"
             ],
             [
              0.1111111111111111,
              "#46039f"
             ],
             [
              0.2222222222222222,
              "#7201a8"
             ],
             [
              0.3333333333333333,
              "#9c179e"
             ],
             [
              0.4444444444444444,
              "#bd3786"
             ],
             [
              0.5555555555555556,
              "#d8576b"
             ],
             [
              0.6666666666666666,
              "#ed7953"
             ],
             [
              0.7777777777777778,
              "#fb9f3a"
             ],
             [
              0.8888888888888888,
              "#fdca26"
             ],
             [
              1,
              "#f0f921"
             ]
            ],
            "type": "heatmapgl"
           }
          ],
          "histogram": [
           {
            "marker": {
             "pattern": {
              "fillmode": "overlay",
              "size": 10,
              "solidity": 0.2
             }
            },
            "type": "histogram"
           }
          ],
          "histogram2d": [
           {
            "colorbar": {
             "outlinewidth": 0,
             "ticks": ""
            },
            "colorscale": [
             [
              0,
              "#0d0887"
             ],
             [
              0.1111111111111111,
              "#46039f"
             ],
             [
              0.2222222222222222,
              "#7201a8"
             ],
             [
              0.3333333333333333,
              "#9c179e"
             ],
             [
              0.4444444444444444,
              "#bd3786"
             ],
             [
              0.5555555555555556,
              "#d8576b"
             ],
             [
              0.6666666666666666,
              "#ed7953"
             ],
             [
              0.7777777777777778,
              "#fb9f3a"
             ],
             [
              0.8888888888888888,
              "#fdca26"
             ],
             [
              1,
              "#f0f921"
             ]
            ],
            "type": "histogram2d"
           }
          ],
          "histogram2dcontour": [
           {
            "colorbar": {
             "outlinewidth": 0,
             "ticks": ""
            },
            "colorscale": [
             [
              0,
              "#0d0887"
             ],
             [
              0.1111111111111111,
              "#46039f"
             ],
             [
              0.2222222222222222,
              "#7201a8"
             ],
             [
              0.3333333333333333,
              "#9c179e"
             ],
             [
              0.4444444444444444,
              "#bd3786"
             ],
             [
              0.5555555555555556,
              "#d8576b"
             ],
             [
              0.6666666666666666,
              "#ed7953"
             ],
             [
              0.7777777777777778,
              "#fb9f3a"
             ],
             [
              0.8888888888888888,
              "#fdca26"
             ],
             [
              1,
              "#f0f921"
             ]
            ],
            "type": "histogram2dcontour"
           }
          ],
          "mesh3d": [
           {
            "colorbar": {
             "outlinewidth": 0,
             "ticks": ""
            },
            "type": "mesh3d"
           }
          ],
          "parcoords": [
           {
            "line": {
             "colorbar": {
              "outlinewidth": 0,
              "ticks": ""
             }
            },
            "type": "parcoords"
           }
          ],
          "pie": [
           {
            "automargin": true,
            "type": "pie"
           }
          ],
          "scatter": [
           {
            "marker": {
             "colorbar": {
              "outlinewidth": 0,
              "ticks": ""
             }
            },
            "type": "scatter"
           }
          ],
          "scatter3d": [
           {
            "line": {
             "colorbar": {
              "outlinewidth": 0,
              "ticks": ""
             }
            },
            "marker": {
             "colorbar": {
              "outlinewidth": 0,
              "ticks": ""
             }
            },
            "type": "scatter3d"
           }
          ],
          "scattercarpet": [
           {
            "marker": {
             "colorbar": {
              "outlinewidth": 0,
              "ticks": ""
             }
            },
            "type": "scattercarpet"
           }
          ],
          "scattergeo": [
           {
            "marker": {
             "colorbar": {
              "outlinewidth": 0,
              "ticks": ""
             }
            },
            "type": "scattergeo"
           }
          ],
          "scattergl": [
           {
            "marker": {
             "colorbar": {
              "outlinewidth": 0,
              "ticks": ""
             }
            },
            "type": "scattergl"
           }
          ],
          "scattermapbox": [
           {
            "marker": {
             "colorbar": {
              "outlinewidth": 0,
              "ticks": ""
             }
            },
            "type": "scattermapbox"
           }
          ],
          "scatterpolar": [
           {
            "marker": {
             "colorbar": {
              "outlinewidth": 0,
              "ticks": ""
             }
            },
            "type": "scatterpolar"
           }
          ],
          "scatterpolargl": [
           {
            "marker": {
             "colorbar": {
              "outlinewidth": 0,
              "ticks": ""
             }
            },
            "type": "scatterpolargl"
           }
          ],
          "scatterternary": [
           {
            "marker": {
             "colorbar": {
              "outlinewidth": 0,
              "ticks": ""
             }
            },
            "type": "scatterternary"
           }
          ],
          "surface": [
           {
            "colorbar": {
             "outlinewidth": 0,
             "ticks": ""
            },
            "colorscale": [
             [
              0,
              "#0d0887"
             ],
             [
              0.1111111111111111,
              "#46039f"
             ],
             [
              0.2222222222222222,
              "#7201a8"
             ],
             [
              0.3333333333333333,
              "#9c179e"
             ],
             [
              0.4444444444444444,
              "#bd3786"
             ],
             [
              0.5555555555555556,
              "#d8576b"
             ],
             [
              0.6666666666666666,
              "#ed7953"
             ],
             [
              0.7777777777777778,
              "#fb9f3a"
             ],
             [
              0.8888888888888888,
              "#fdca26"
             ],
             [
              1,
              "#f0f921"
             ]
            ],
            "type": "surface"
           }
          ],
          "table": [
           {
            "cells": {
             "fill": {
              "color": "#EBF0F8"
             },
             "line": {
              "color": "white"
             }
            },
            "header": {
             "fill": {
              "color": "#C8D4E3"
             },
             "line": {
              "color": "white"
             }
            },
            "type": "table"
           }
          ]
         },
         "layout": {
          "annotationdefaults": {
           "arrowcolor": "#2a3f5f",
           "arrowhead": 0,
           "arrowwidth": 1
          },
          "autotypenumbers": "strict",
          "coloraxis": {
           "colorbar": {
            "outlinewidth": 0,
            "ticks": ""
           }
          },
          "colorscale": {
           "diverging": [
            [
             0,
             "#8e0152"
            ],
            [
             0.1,
             "#c51b7d"
            ],
            [
             0.2,
             "#de77ae"
            ],
            [
             0.3,
             "#f1b6da"
            ],
            [
             0.4,
             "#fde0ef"
            ],
            [
             0.5,
             "#f7f7f7"
            ],
            [
             0.6,
             "#e6f5d0"
            ],
            [
             0.7,
             "#b8e186"
            ],
            [
             0.8,
             "#7fbc41"
            ],
            [
             0.9,
             "#4d9221"
            ],
            [
             1,
             "#276419"
            ]
           ],
           "sequential": [
            [
             0,
             "#0d0887"
            ],
            [
             0.1111111111111111,
             "#46039f"
            ],
            [
             0.2222222222222222,
             "#7201a8"
            ],
            [
             0.3333333333333333,
             "#9c179e"
            ],
            [
             0.4444444444444444,
             "#bd3786"
            ],
            [
             0.5555555555555556,
             "#d8576b"
            ],
            [
             0.6666666666666666,
             "#ed7953"
            ],
            [
             0.7777777777777778,
             "#fb9f3a"
            ],
            [
             0.8888888888888888,
             "#fdca26"
            ],
            [
             1,
             "#f0f921"
            ]
           ],
           "sequentialminus": [
            [
             0,
             "#0d0887"
            ],
            [
             0.1111111111111111,
             "#46039f"
            ],
            [
             0.2222222222222222,
             "#7201a8"
            ],
            [
             0.3333333333333333,
             "#9c179e"
            ],
            [
             0.4444444444444444,
             "#bd3786"
            ],
            [
             0.5555555555555556,
             "#d8576b"
            ],
            [
             0.6666666666666666,
             "#ed7953"
            ],
            [
             0.7777777777777778,
             "#fb9f3a"
            ],
            [
             0.8888888888888888,
             "#fdca26"
            ],
            [
             1,
             "#f0f921"
            ]
           ]
          },
          "colorway": [
           "#636efa",
           "#EF553B",
           "#00cc96",
           "#ab63fa",
           "#FFA15A",
           "#19d3f3",
           "#FF6692",
           "#B6E880",
           "#FF97FF",
           "#FECB52"
          ],
          "font": {
           "color": "#2a3f5f"
          },
          "geo": {
           "bgcolor": "white",
           "lakecolor": "white",
           "landcolor": "#E5ECF6",
           "showlakes": true,
           "showland": true,
           "subunitcolor": "white"
          },
          "hoverlabel": {
           "align": "left"
          },
          "hovermode": "closest",
          "mapbox": {
           "style": "light"
          },
          "paper_bgcolor": "white",
          "plot_bgcolor": "#E5ECF6",
          "polar": {
           "angularaxis": {
            "gridcolor": "white",
            "linecolor": "white",
            "ticks": ""
           },
           "bgcolor": "#E5ECF6",
           "radialaxis": {
            "gridcolor": "white",
            "linecolor": "white",
            "ticks": ""
           }
          },
          "scene": {
           "xaxis": {
            "backgroundcolor": "#E5ECF6",
            "gridcolor": "white",
            "gridwidth": 2,
            "linecolor": "white",
            "showbackground": true,
            "ticks": "",
            "zerolinecolor": "white"
           },
           "yaxis": {
            "backgroundcolor": "#E5ECF6",
            "gridcolor": "white",
            "gridwidth": 2,
            "linecolor": "white",
            "showbackground": true,
            "ticks": "",
            "zerolinecolor": "white"
           },
           "zaxis": {
            "backgroundcolor": "#E5ECF6",
            "gridcolor": "white",
            "gridwidth": 2,
            "linecolor": "white",
            "showbackground": true,
            "ticks": "",
            "zerolinecolor": "white"
           }
          },
          "shapedefaults": {
           "line": {
            "color": "#2a3f5f"
           }
          },
          "ternary": {
           "aaxis": {
            "gridcolor": "white",
            "linecolor": "white",
            "ticks": ""
           },
           "baxis": {
            "gridcolor": "white",
            "linecolor": "white",
            "ticks": ""
           },
           "bgcolor": "#E5ECF6",
           "caxis": {
            "gridcolor": "white",
            "linecolor": "white",
            "ticks": ""
           }
          },
          "title": {
           "x": 0.05
          },
          "xaxis": {
           "automargin": true,
           "gridcolor": "white",
           "linecolor": "white",
           "ticks": "",
           "title": {
            "standoff": 15
           },
           "zerolinecolor": "white",
           "zerolinewidth": 2
          },
          "yaxis": {
           "automargin": true,
           "gridcolor": "white",
           "linecolor": "white",
           "ticks": "",
           "title": {
            "standoff": 15
           },
           "zerolinecolor": "white",
           "zerolinewidth": 2
          }
         }
        },
        "title": {
         "text": "Chocolate chip cookies"
        },
        "width": 600
       }
      }
     },
     "metadata": {},
     "output_type": "display_data"
    }
   ],
   "source": [
    "fig = px.sunburst(\n",
    "    df_avg.assign(pct=df_avg.pct*100),\n",
    "    path=[\"category\", \"ingredient\"],\n",
    "    values=\"pct\",\n",
    "    color=\"category\",\n",
    "    color_discrete_sequence=px.colors.qualitative.Antique,\n",
    "    title=\"Chocolate chip cookies\",\n",
    "    custom_data=[\"pct\"],\n",
    "    width=600, height=600\n",
    ")\n",
    "fig.update_traces(\n",
    "    hovertemplate='%{label}<br>pct=%{customdata[0]:5.2f}%<extra></extra>',\n",
    "    textinfo=\"percent entry+label\"\n",
    ")\n",
    "fig.show()"
   ]
  },
  {
   "cell_type": "markdown",
   "metadata": {},
   "source": [
    "## Histogram"
   ]
  },
  {
   "cell_type": "code",
   "execution_count": 67,
   "metadata": {},
   "outputs": [
    {
     "data": {
      "text/html": [
       "<div>\n",
       "<style scoped>\n",
       "    .dataframe tbody tr th:only-of-type {\n",
       "        vertical-align: middle;\n",
       "    }\n",
       "\n",
       "    .dataframe tbody tr th {\n",
       "        vertical-align: top;\n",
       "    }\n",
       "\n",
       "    .dataframe thead th {\n",
       "        text-align: right;\n",
       "    }\n",
       "</style>\n",
       "<table border=\"1\" class=\"dataframe\">\n",
       "  <thead>\n",
       "    <tr style=\"text-align: right;\">\n",
       "      <th></th>\n",
       "      <th>white sugar (%)</th>\n",
       "      <th>brown sugar (%)</th>\n",
       "      <th>flour (%)</th>\n",
       "      <th>egg (%)</th>\n",
       "      <th>vanilla (%)</th>\n",
       "      <th>chocolate chips (%)</th>\n",
       "      <th>salt (%)</th>\n",
       "      <th>baking soda (%)</th>\n",
       "      <th>butter (%)</th>\n",
       "      <th>baking powder (%)</th>\n",
       "      <th>nuts (%)</th>\n",
       "      <th>shortening (%)</th>\n",
       "      <th>margarine (%)</th>\n",
       "      <th>milk (%)</th>\n",
       "      <th>water (%)</th>\n",
       "      <th>oats (%)</th>\n",
       "      <th>cinnamon (%)</th>\n",
       "      <th>peanut butter (%)</th>\n",
       "    </tr>\n",
       "  </thead>\n",
       "  <tbody>\n",
       "    <tr>\n",
       "      <th>0</th>\n",
       "      <td>0.111473</td>\n",
       "      <td>0.111473</td>\n",
       "      <td>0.390155</td>\n",
       "      <td>0.022295</td>\n",
       "      <td>0.013934</td>\n",
       "      <td>0.167209</td>\n",
       "      <td>0.002319</td>\n",
       "      <td>0.006967</td>\n",
       "      <td>0.055736</td>\n",
       "      <td>0.000000</td>\n",
       "      <td>0.000000</td>\n",
       "      <td>0.000000</td>\n",
       "      <td>0.0</td>\n",
       "      <td>0.006967</td>\n",
       "      <td>0.0</td>\n",
       "      <td>0.111473</td>\n",
       "      <td>0.0</td>\n",
       "      <td>0.0</td>\n",
       "    </tr>\n",
       "    <tr>\n",
       "      <th>1</th>\n",
       "      <td>0.061824</td>\n",
       "      <td>0.154560</td>\n",
       "      <td>0.216383</td>\n",
       "      <td>0.049459</td>\n",
       "      <td>0.005156</td>\n",
       "      <td>0.247295</td>\n",
       "      <td>0.000000</td>\n",
       "      <td>0.002572</td>\n",
       "      <td>0.000000</td>\n",
       "      <td>0.000000</td>\n",
       "      <td>0.123648</td>\n",
       "      <td>0.123648</td>\n",
       "      <td>0.0</td>\n",
       "      <td>0.015456</td>\n",
       "      <td>0.0</td>\n",
       "      <td>0.000000</td>\n",
       "      <td>0.0</td>\n",
       "      <td>0.0</td>\n",
       "    </tr>\n",
       "    <tr>\n",
       "      <th>2</th>\n",
       "      <td>0.095922</td>\n",
       "      <td>0.191845</td>\n",
       "      <td>0.431651</td>\n",
       "      <td>0.076738</td>\n",
       "      <td>0.004000</td>\n",
       "      <td>0.191845</td>\n",
       "      <td>0.004000</td>\n",
       "      <td>0.004000</td>\n",
       "      <td>0.000000</td>\n",
       "      <td>0.000000</td>\n",
       "      <td>0.000000</td>\n",
       "      <td>0.000000</td>\n",
       "      <td>0.0</td>\n",
       "      <td>0.000000</td>\n",
       "      <td>0.0</td>\n",
       "      <td>0.000000</td>\n",
       "      <td>0.0</td>\n",
       "      <td>0.0</td>\n",
       "    </tr>\n",
       "    <tr>\n",
       "      <th>3</th>\n",
       "      <td>0.105449</td>\n",
       "      <td>0.105449</td>\n",
       "      <td>0.210899</td>\n",
       "      <td>0.042180</td>\n",
       "      <td>0.002193</td>\n",
       "      <td>0.421797</td>\n",
       "      <td>0.002193</td>\n",
       "      <td>0.002193</td>\n",
       "      <td>0.105449</td>\n",
       "      <td>0.002197</td>\n",
       "      <td>0.000000</td>\n",
       "      <td>0.000000</td>\n",
       "      <td>0.0</td>\n",
       "      <td>0.000000</td>\n",
       "      <td>0.0</td>\n",
       "      <td>0.000000</td>\n",
       "      <td>0.0</td>\n",
       "      <td>0.0</td>\n",
       "    </tr>\n",
       "    <tr>\n",
       "      <th>4</th>\n",
       "      <td>0.098147</td>\n",
       "      <td>0.098147</td>\n",
       "      <td>0.294441</td>\n",
       "      <td>0.078518</td>\n",
       "      <td>0.000000</td>\n",
       "      <td>0.196294</td>\n",
       "      <td>0.002722</td>\n",
       "      <td>0.002722</td>\n",
       "      <td>0.130863</td>\n",
       "      <td>0.000000</td>\n",
       "      <td>0.098147</td>\n",
       "      <td>0.000000</td>\n",
       "      <td>0.0</td>\n",
       "      <td>0.000000</td>\n",
       "      <td>0.0</td>\n",
       "      <td>0.000000</td>\n",
       "      <td>0.0</td>\n",
       "      <td>0.0</td>\n",
       "    </tr>\n",
       "  </tbody>\n",
       "</table>\n",
       "</div>"
      ],
      "text/plain": [
       "   white sugar (%)  brown sugar (%)  flour (%)   egg (%)  vanilla (%)  \\\n",
       "0         0.111473         0.111473   0.390155  0.022295     0.013934   \n",
       "1         0.061824         0.154560   0.216383  0.049459     0.005156   \n",
       "2         0.095922         0.191845   0.431651  0.076738     0.004000   \n",
       "3         0.105449         0.105449   0.210899  0.042180     0.002193   \n",
       "4         0.098147         0.098147   0.294441  0.078518     0.000000   \n",
       "\n",
       "   chocolate chips (%)  salt (%)  baking soda (%)  butter (%)  \\\n",
       "0             0.167209  0.002319         0.006967    0.055736   \n",
       "1             0.247295  0.000000         0.002572    0.000000   \n",
       "2             0.191845  0.004000         0.004000    0.000000   \n",
       "3             0.421797  0.002193         0.002193    0.105449   \n",
       "4             0.196294  0.002722         0.002722    0.130863   \n",
       "\n",
       "   baking powder (%)  nuts (%)  shortening (%)  margarine (%)  milk (%)  \\\n",
       "0           0.000000  0.000000        0.000000            0.0  0.006967   \n",
       "1           0.000000  0.123648        0.123648            0.0  0.015456   \n",
       "2           0.000000  0.000000        0.000000            0.0  0.000000   \n",
       "3           0.002197  0.000000        0.000000            0.0  0.000000   \n",
       "4           0.000000  0.098147        0.000000            0.0  0.000000   \n",
       "\n",
       "   water (%)  oats (%)  cinnamon (%)  peanut butter (%)  \n",
       "0        0.0  0.111473           0.0                0.0  \n",
       "1        0.0  0.000000           0.0                0.0  \n",
       "2        0.0  0.000000           0.0                0.0  \n",
       "3        0.0  0.000000           0.0                0.0  \n",
       "4        0.0  0.000000           0.0                0.0  "
      ]
     },
     "execution_count": 67,
     "metadata": {},
     "output_type": "execute_result"
    }
   ],
   "source": [
    "df_after[col_ingd_pct].head()"
   ]
  },
  {
   "cell_type": "code",
   "execution_count": 5,
   "metadata": {},
   "outputs": [
    {
     "data": {
      "application/vnd.jupyter.widget-view+json": {
       "model_id": "3690a4284ecb4c8aa55999e630247c10",
       "version_major": 2,
       "version_minor": 0
      },
      "text/plain": [
       "interactive(children=(Dropdown(description='country', options=('USA', 'Russia'), value='USA'), Dropdown(descri…"
      ]
     },
     "metadata": {},
     "output_type": "display_data"
    }
   ],
   "source": [
    "from ipywidgets import interact, Dropdown\n",
    "\n",
    "geo = {'USA':['CHI','NYC'],'Russia':['MOW','LED']}\n",
    "countryW = Dropdown(options = geo.keys())\n",
    "cityW = Dropdown()\n",
    "\n",
    "@interact(country = countryW, city = cityW)\n",
    "def print_city(country, city):\n",
    "    cityW.options = geo[country] # Here is the trick, i.e. update cityW.options based on country, namely countryW.value.\n",
    "    print(country, city)"
   ]
  },
  {
   "cell_type": "code",
   "execution_count": 23,
   "metadata": {},
   "outputs": [
    {
     "data": {
      "application/vnd.jupyter.widget-view+json": {
       "model_id": "ed321024dfca489b9e5b77b1321a957e",
       "version_major": 2,
       "version_minor": 0
      },
      "text/plain": [
       "interactive(children=(Dropdown(description='category', options=('sweeteners', 'leaveners', 'flour', 'liquids',…"
      ]
     },
     "metadata": {},
     "output_type": "display_data"
    }
   ],
   "source": [
    "from ipywidgets import interact, Dropdown\n",
    "dict_cate = dict()\n",
    "for cate in set(ingd_to_cate.category):\n",
    "    dict_cate[cate] = ingd_to_cate.ingredient.loc[ingd_to_cate.category == cate].tolist()\n",
    "\n",
    "cateWidget = Dropdown(options = dict_cate.keys())\n",
    "\n",
    "@interact(category=cateWidget)\n",
    "def plot_hist(category=cateWidget):\n",
    "    fig = go.Figure()\n",
    "    for ingd in ingd_to_cate.ingredient[ingd_to_cate.category==category]:\n",
    "        fig.add_trace(go.Histogram(\n",
    "            x=df_after[f\"{ingd} (%)\"],\n",
    "            name=ingd,\n",
    "            xbins=dict(start=0)\n",
    "        ))\n",
    "\n",
    "    fig.update_layout(\n",
    "        bargap=0.2,\n",
    "        #barmode='stack',\n",
    "        width=800,\n",
    "        height=500\n",
    "    )\n",
    "    fig.update_traces(opacity=0.75)\n",
    "    fig.show()"
   ]
  },
  {
   "cell_type": "code",
   "execution_count": null,
   "metadata": {},
   "outputs": [],
   "source": []
  }
 ],
 "metadata": {
  "interpreter": {
   "hash": "2243570999d709669870674c130d5c989af571bf8fd02bb480a01170839d5b26"
  },
  "kernelspec": {
   "display_name": "Python 3 (ipykernel)",
   "language": "python",
   "name": "python3"
  },
  "language_info": {
   "codemirror_mode": {
    "name": "ipython",
    "version": 3
   },
   "file_extension": ".py",
   "mimetype": "text/x-python",
   "name": "python",
   "nbconvert_exporter": "python",
   "pygments_lexer": "ipython3",
   "version": "3.8.2"
  }
 },
 "nbformat": 4,
 "nbformat_minor": 2
}
