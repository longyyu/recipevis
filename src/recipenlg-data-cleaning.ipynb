{
 "cells": [
  {
   "cell_type": "markdown",
   "metadata": {},
   "source": [
    "Takes 1 minute 40 seconds or so to run"
   ]
  },
  {
   "cell_type": "code",
   "execution_count": 1,
   "metadata": {},
   "outputs": [
    {
     "name": "stdout",
     "output_type": "stream",
     "text": [
      "Current directory: /Users/longyyu/Documents/research/recipevis.git/src\n"
     ]
    }
   ],
   "source": [
    "import os\n",
    "import re\n",
    "import json\n",
    "import pathlib\n",
    "import numpy as np\n",
    "import pandas as pd\n",
    "import ast\n",
    "\n",
    "print(f\"Current directory: {os.getcwd()}\")\n",
    "path_dataset = pathlib.Path(\"../dataset/\")\n",
    "\n",
    "with open(\"ingredient_mapper.json\", \"r\") as f:\n",
    "    ingredient_mapper = json.load(f)\n",
    "\n",
    "from zipfile import ZipFile\n",
    "with ZipFile(path_dataset/\"recipenlg-dataset.zip\") as z:\n",
    "    with z.open(\"dataset/full_dataset.csv\") as f:\n",
    "        df = pd.read_csv(f).drop(columns=['Unnamed: 0'])\n",
    "df.ingredients = [ast.literal_eval(item.lower()) for item in df.ingredients]\n",
    "df.NER = [ast.literal_eval(item.lower()) for item in df.NER]\n",
    "df.NER = [list(set(item)) for item in df.NER] # list(set(...)) ensure NER lists are non-repetitive\n",
    "df[\"source_website\"] = [item.split(\".com\")[0].replace(\"www.\", \"\") for item in df.link]"
   ]
  },
  {
   "cell_type": "markdown",
   "metadata": {},
   "source": [
    "## Keyword search to narrow down recipes\n",
    "\n",
    "### Filter recipes of interest\n",
    "\n",
    "* For example, pull chocolate chip cookie recipes with `patterns = [\"cookie\", \"chocolate chip\"]`\n",
    "    - if `patterns = [\"chocolate\", \"chip\", \"cookie\"]` is used instead, there will be \"peanut butter chip chocolate cookies\" and \"chocolate dipped potato chip cookies\", which are not exactly CCC.\n",
    "* Draw samples from the recipes grouped by source websites (source distributions are similar in the sample and in the entire collection)\n",
    "* Peanut butter cookies: 5857 recipes (`patterns = [\"peanut\", \"butter\", \"cookie\"]`)"
   ]
  },
  {
   "cell_type": "code",
   "execution_count": 101,
   "metadata": {},
   "outputs": [],
   "source": [
    "def filter_recipes(patterns, n=None, frac=None, random_seed=123):\n",
    "    dft = df.loc[\n",
    "        df.title.str.lower().apply(lambda item: all(pattern in item for pattern in patterns))\n",
    "    ]\\\n",
    "        .reset_index(drop=True)\\\n",
    "        .drop(columns=[\"directions\"])\n",
    "    if n == None: # priortize sampling using \"n\" over \"frac\"\n",
    "        if frac == None:\n",
    "            raise Exception(\"'n' and 'frac' cannot both be None!\")\n",
    "        else:\n",
    "            return dft.groupby(\"source_website\").sample(frac=frac, random_state=random_seed)\n",
    "    else:\n",
    "        print(f\"n={min([n, dft.shape[0]])}, dft has {dft.shape[0]} records\")\n",
    "        return dft.sample(n=min([n, dft.shape[0]]), random_state=random_seed) # no group by\n",
    "\n",
    "def plot_source_dist(df):\n",
    "    import matplotlib.pyplot as plt\n",
    "    ax = df.groupby(\"source_website\")[\"title\"].count()\\\n",
    "        .sort_values(ascending=False)\\\n",
    "        .plot.bar(rot=40, figsize=[15,4]) # matplotlib.axes._subplots.AxesSubplot\n",
    "    for bar in ax.patches:\n",
    "        ax.annotate(bar.get_height(), (bar.get_x(), bar.get_height()))\n",
    "    return ax\n",
    "\n",
    "# helper function\n",
    "def find_keyword(df, keyword):\n",
    "    # input:\n",
    "    #     df: has a column \"NER\" with each element being an iterable\n",
    "    #     keyword: a search keyword\n",
    "    # output: all records that have this keyword (exact match) in at least one of their NER item\n",
    "    return [\n",
    "        (i, [item for item in ner if keyword in item]) \\\n",
    "            for i, ner in enumerate(df.NER) \\\n",
    "                if any([keyword in item for item in ner])\n",
    "    ]"
   ]
  },
  {
   "cell_type": "code",
   "execution_count": 160,
   "metadata": {},
   "outputs": [
    {
     "name": "stdout",
     "output_type": "stream",
     "text": [
      "n=150, dft has 2378 records\n",
      "sj\n",
      "(144, 7)\n"
     ]
    },
    {
     "data": {
      "text/plain": [
       "<AxesSubplot:xlabel='source_website'>"
      ]
     },
     "execution_count": 160,
     "metadata": {},
     "output_type": "execute_result"
    },
    {
     "data": {
      "image/png": "[encoded data removed]",
      "text/plain": [
       "<Figure size 1080x288 with 1 Axes>"
      ]
     },
     "metadata": {
      "needs_background": "light"
     },
     "output_type": "display_data"
    }
   ],
   "source": [
    "recipe_dataset = \"sj\" # \"bc\" for beef chili, \"sj\" for Sloppy Joes, \"ccc\" for chocolate chip cookies, \"4desserts\", and \"others\"\n",
    "\n",
    "if recipe_dataset == \"bc\":\n",
    "    df_output = filter_recipes(patterns=[\"beef\", \"chili\"], n=150, random_seed=10000)\\\n",
    "        .assign(label=\"beef chili\")\\\n",
    "        .reset_index(drop=True)\n",
    "\n",
    "elif recipe_dataset == \"sj\":\n",
    "    df_output = filter_recipes(patterns=[\"sloppy\", \"joe\"], n=150, random_seed=10000)\\\n",
    "        .assign(label=\"sloppy joes\")\\\n",
    "        .reset_index(drop=True)\n",
    "    # drop any records with \"%mix%\" ingredients (e.g. sloppy joe mix, baking mix, etc.)\n",
    "    df_output = df_output.drop([a for (a, b) in find_keyword(df_output, \"mix\")], axis=0).reset_index(drop=True)\n",
    "\n",
    "elif recipe_dataset == \"ccc\":\n",
    "    df_output = filter_recipes(patterns=[\"chocolate chip\", \"cookie\"], frac=0.05, random_seed=10000)\\\n",
    "        .assign(label=\"chocolate chip cookie\")\\\n",
    "        .reset_index(drop=True)\n",
    "\n",
    "elif recipe_dataset == \"4desserts\":\n",
    "    df_output = pd.concat([\n",
    "        filter_recipes(patterns=[\"chocolate chip\", \"cookie\"], frac=0.05, random_seed=10000).assign(label=\"chocolate chip cookie\"),\n",
    "        filter_recipes(patterns=[\"peanut\", \"butter\", \"cookie\"], frac=0.05, random_seed=10086).assign(label=\"peanut butter cookie\"),\n",
    "        filter_recipes(patterns=[\"chocolate\", \"sheet\", \"cake\"], frac=0.5, random_seed=1).assign(label=\"chocolate sheet cake\"),\n",
    "        filter_recipes(patterns=[\"chocolate\", \"brownie\"], frac=.1, random_seed=48105).assign(label=\"chocolate brownie\")\n",
    "    ]).reset_index(drop=True)\n",
    "    # drop rows with non-basic ingredients (cake/mix)\n",
    "    rows_to_drop = [\n",
    "        idx for idx, ner in enumerate(df_output.NER) \\\n",
    "            if [ingd for ingd in ner if re.findall(\"(mix|cake|cookies|cookie)$\", ingd)]\n",
    "    ]\n",
    "    df_output = df_output.drop(rows_to_drop).reset_index(drop=True)\n",
    "\n",
    "else: # others\n",
    "    # [\"baked\", \"bean\"], frac=0.05\n",
    "    # [\"mac\", \"cheese\"], frac=0.05\n",
    "    # [\"clam\", \"chowder\"], frac=0.25\n",
    "    # [\"egg\", \"benedict\"], frac=1\n",
    "    # [\"spinach\", \"pie\"], frac=0.5\n",
    "    # [\"chicken\", \"tikka\", \"masala\"], frac=1\n",
    "    # [\"dosa\"], frac=1\n",
    "    # [\"lyonnaise\", \"potato\"], n=300\n",
    "    # [\"po'\", \"boy\"], n=300\n",
    "    # [\"lasagne\"], n=300\n",
    "    # [\"shepherd\", \"pie\"], n=300\n",
    "    # [\"samosa\"], n=300\n",
    "    # [\"stargazy\", \"pie\"], n=300\n",
    "    # [\"lobster\", \"bisque\"]\n",
    "    # [\"coleslaw\"]\n",
    "    # [\"beef\", \"chili\"]]\n",
    "    df_output = filter_recipes(patterns=[\"chowder\"], n=300, random_seed=10000)#.assign(label=\"others\")\n",
    "\n",
    "print(recipe_dataset)\n",
    "print(df_output.shape)\n",
    "plot_source_dist(df_output)\n",
    "# df_output.to_csv(path_dataset/f\"recipenlg-{recipe_dataset}-to_clean_long.csv\", index=False)"
   ]
  },
  {
   "cell_type": "code",
   "execution_count": 161,
   "metadata": {},
   "outputs": [
    {
     "data": {
      "text/plain": [
       "{'ground pork', 'pork'}"
      ]
     },
     "execution_count": 161,
     "metadata": {},
     "output_type": "execute_result"
    }
   ],
   "source": [
    "# find_keyword(df_output, \"kidney\") # this one will return row id\n",
    "set(chain.from_iterable([b for (a, b) in find_keyword(df_output, \"pork\")]))"
   ]
  },
  {
   "cell_type": "markdown",
   "metadata": {},
   "source": [
    "### Clean up NER list\n",
    "\n",
    "* `ingredient_mapper.json`: full text match and swap\n",
    "* `ner_replace_list`: partial match and swap\n",
    "* `ner_drop_list`: messy NERs to take out\n",
    "* With the ingredient frequency table, ingredient coappearance frequency table, and network graph, our goal is to examine the clean-up rules and adjust them accordingly\n",
    "    - For example, using the network graph and adjusting the threshold of coappearance, I found out that \"vanilla\" appears when the threshold is very high (meaning it has a lot of coappearances with other major ingredients), while \"vanilla extract\" appears at a lower threshold. This reminds me that \"vanilla\" and \"vanilla extract\" might be the same thing and should be mapped to the same term. "
   ]
  },
  {
   "cell_type": "code",
   "execution_count": 224,
   "metadata": {},
   "outputs": [
    {
     "name": "stdout",
     "output_type": "stream",
     "text": [
      "(226, 3)\n",
      "              ingredient  freq freq_pct\n",
      "0                  onion   103   71.53%\n",
      "1                   beef    87   60.42%\n",
      "2                ketchup    74   51.39%\n",
      "3                   salt    64   44.44%\n",
      "4   worcestershire sauce    54   37.50%\n",
      "5            brown sugar    52   36.11%\n",
      "6                 garlic    46   31.94%\n",
      "7                mustard    41   28.47%\n",
      "8                   buns    38   26.39%\n",
      "9                  water    36   25.00%\n",
      "10          chili powder    31   21.53%\n",
      "11          tomato sauce    30   20.83%\n",
      "12                celery    27   18.75%\n",
      "13               vinegar    25   17.36%\n",
      "14          green pepper    24   16.67%\n",
      "15             hamburger    23   15.97%\n",
      "16                pepper    21   14.58%\n",
      "17             olive oil    17   11.81%\n",
      "18          tomato paste    17   11.81%\n",
      "19        barbecue sauce    16   11.11%\n"
     ]
    }
   ],
   "source": [
    "with open(\"ingredient_mapper.json\", \"r\") as f:\n",
    "    ingredient_mapper = json.load(f)\n",
    "\n",
    "from collections import Counter\n",
    "from itertools import combinations, chain\n",
    "\n",
    "# some \"ingredients\" and \"NER\" columns have messy terms such as \"+\" or \"ingredients\"\n",
    "# taking these out at this step\n",
    "ner_drop_list = [\"ingredients\", \"recipe\", \"packet\", \"choice\", \"flavorful\", \"extra-lean\", \"lean\", \"brown\", \"+\", \"½\", \"¼\", \"'s\"]\n",
    "ner_replace_list = [\n",
    "    # chili/pepper\n",
    "    (\"chilis\", \"chili\"), (\"chilli\", \"chili\"), (\"chiles\", \"chili\"), (\"chilies\", \"chili\"), (\"chile\", \"chili\"),\n",
    "    (\"red chili long\", \"long red chili\"),\n",
    "    (\"peppers\", \"pepper\"), (\"chili pepper\", \"chili\"),\n",
    "    (\"cracked black pepper\", \"black pepper\"),\n",
    "    # abbreviations\n",
    "    (\"pwdr\", \"powder\"), (\"grnd\", \"ground\"),\n",
    "    # stock/soup/bouillon\n",
    "    (\"beef stock condensed\", \"beef stock\"), (\"condensed beef broth\", \"beef broth\"), \n",
    "    (\"condensed chili beef soup\", \"beef broth\"), (\"broth powder\", \"broth\"),\n",
    "    (\"beef bouillon\", \"beef broth\"), (\"beef broth granules\", \"beef broth\"),\n",
    "    (\"campbell's chili beef soup\", \"beef broth\"), (\"chili beef soup\", \"beef broth\"),\n",
    "    # adjectives\n",
    "    (\"extra lean \", \"\"), (\"extra-lean \", \"\"), (\"lean \", \"\"), (\"shredded \", \"\"),\n",
    "    (\"freshly \", \"\"), (\"fresh \", \"\"), (\"boneless \", \"\"), (\"ground \", \"\"), (\"cubed \", \"\"),\n",
    "    (\" roast\", \"\"), (\"tb \", \"\"), (\"coarse \", \"\"), (\"frozen \", \"\"), (\"handful \", \"\"),\n",
    "    # brand names\n",
    "    (\"campbell's \", \"\"),\n",
    "    # beef cuts\n",
    "    (\"beef chuck steak\", \"beef\"), (\"beef chuck eye\", \"beef\"), (\"beef chuck\", \"beef\"),\n",
    "    (\"beef sirloin steak\", \"beef\"), (\"beef sirloin\", \"beef\"), (\"beef brisket\", \"beef\"),\n",
    "    (\"flank steak\", \"beef\"), (\"beef cube steak\", \"beef\"), (\"beef round steak\", \"beef\"),\n",
    "    (\"beef tenderloin\", \"beef\"), (\"bottom round beef\", \"beef\"), (\"braising beef\", \"beef\"),\n",
    "    (\"beef shoulder\", \"beef\"), (\"lean beef\", \"beef\"), (\"beef cubes\", \"beef\"), (\"beef mince\", \"beef\"),\n",
    "    (\"sirloin beef\", \"beef\"), (\"beef flap\", \"beef\"), (\"beef loin\", \"beef\"),\n",
    "    (\"beef short ribs\", \"beef\"), (\"beef skirt\", \"beef\"), (\"beef stew meat\", \"beef\"), (\"lean stew beef\", \"beef\"),\n",
    "    (\"stewing beef\", \"beef\"), (\"corned beef\", \"beef\"), (\"lean beef\", \"beef\"), (\"beef brown\", \"beef\"),\n",
    "    # pork cuts\n",
    "    (\"pork shoulder\", \"pork\"),\n",
    "    # plural -> singular\n",
    "    (\"onions\", \"onion\"), (\"shallots\", \"shallot\"), (\"scallions\", \"scallion\"), (\"tomatoes\", \"tomato\"), (\"carrots\", \"carrot\"),\n",
    "    (\"peanuts\", \"peanut\"), (\"eggs\", \"egg\"), (\"avocados\", \"avocado\"), (\"brown onion\", \"yellow onion\"),\n",
    "    # other random stuff\n",
    "    (\"catsup\", \"ketchup\"), (\"clove garlic\", \"garlic\"), (\"brown mustard spicy\", \"brown mustard\"),\n",
    "    (\"pickle slices\", \"pickle\"), (\"flat leaf parsley\", \"parsley\"), (\"carrot regular\", \"carrot\"), \n",
    "    (\"dark red kidney beans\", \"kidney beans\"), (\"light kidney beans\", \"kidney beans\"), (\"red kidney beans\", \"kidney beans\"),\n",
    "    (\"passata\", \"tomato paste\")\n",
    "]\n",
    "\n",
    "def transform_ner(item):\n",
    "    item = ingredient_mapper.get(item, item)\n",
    "    for r in ner_replace_list:\n",
    "        item = item.replace(*r)\n",
    "    return item.strip()\n",
    "\n",
    "df_output.NER = df_output.NER.apply(lambda ner : list(\n",
    "    set([transform_ner(item) for item in ner])\\\n",
    "        .difference(ner_drop_list)\n",
    "))\n",
    "\n",
    "df_ingredients = pd.Series(chain.from_iterable(df_output.NER)).value_counts()\\\n",
    "    .rename(\"freq\").reset_index().rename(columns={'index': 'ingredient'})\n",
    "df_ingredients[\"freq_pct\"] = df_ingredients.freq.apply(\n",
    "    lambda x : \"{:6.2f}%\".format(x / df_output.shape[0] * 100)\n",
    ")\n",
    "ingd2count = dict(zip(df_ingredients.ingredient, df_ingredients.freq))\n",
    "\n",
    "print(df_ingredients.shape)\n",
    "print(df_ingredients.head(20))"
   ]
  },
  {
   "cell_type": "code",
   "execution_count": 223,
   "metadata": {},
   "outputs": [
    {
     "data": {
      "text/plain": [
       "{'chicken gumbo soup'}"
      ]
     },
     "execution_count": 223,
     "metadata": {},
     "output_type": "execute_result"
    }
   ],
   "source": [
    "# find_keyword(df_output, \"chicken gumbo\") # partial match, return row id\n",
    "# [i for (i, ner) in enumerate(df_output.NER) if \"chicken gumbo\" in ner] # full text match, return row id\n",
    "set(chain.from_iterable([b for (a, b) in find_keyword(df_output, \"gumbo\")]))\n",
    "# chicken gumbo"
   ]
  },
  {
   "cell_type": "code",
   "execution_count": 215,
   "metadata": {},
   "outputs": [
    {
     "data": {
      "text/plain": [
       "['4 pounds ground beef',\n",
       " '15 ounces soup can chicken gumbo',\n",
       " '15 ounces soup can tomato rice',\n",
       " '1 onion large',\n",
       " '2 tablespoons brown sugar',\n",
       " '1 1/2 tablespoons chili powder',\n",
       " '2 tablespoons apple cider vinegar',\n",
       " '1 cup ketchup']"
      ]
     },
     "execution_count": 215,
     "metadata": {},
     "output_type": "execute_result"
    }
   ],
   "source": [
    "df_output.iloc[56].ingredients"
   ]
  },
  {
   "cell_type": "code",
   "execution_count": 171,
   "metadata": {},
   "outputs": [
    {
     "data": {
      "text/plain": [
       "181    brown\n",
       "Name: ingredient, dtype: object"
      ]
     },
     "execution_count": 171,
     "metadata": {},
     "output_type": "execute_result"
    }
   ],
   "source": [
    "df_ingredients.query(\"ingredient.str.contains('chili')\").ingredient.unique()"
   ]
  },
  {
   "cell_type": "markdown",
   "metadata": {},
   "source": [
    "#### Look for outliers with network graph"
   ]
  },
  {
   "cell_type": "code",
   "execution_count": 99,
   "metadata": {},
   "outputs": [
    {
     "data": {
      "text/plain": [
       "[(('beef', 'onion'), 75),\n",
       " (('beef', 'garlic'), 73),\n",
       " (('garlic', 'onion'), 71),\n",
       " (('beef', 'chili powder'), 64),\n",
       " (('chili powder', 'garlic'), 64),\n",
       " (('garlic', 'salt'), 62),\n",
       " (('beef', 'salt'), 61),\n",
       " (('garlic', 'tomato'), 59),\n",
       " (('beef', 'tomato'), 58),\n",
       " (('chili powder', 'onion'), 58)]"
      ]
     },
     "execution_count": 99,
     "metadata": {},
     "output_type": "execute_result"
    }
   ],
   "source": [
    "# create a dictionary that counts the occurrences of each ingredient pair\n",
    "combi_count = dict(Counter(\n",
    "    chain.from_iterable([\n",
    "        list(combinations(sorted(ner), 2)) for ner in df_output.NER\n",
    "    ])\n",
    "))\n",
    "sorted(combi_count.items(), key=lambda item: item[1], reverse=True)[:10]"
   ]
  },
  {
   "cell_type": "code",
   "execution_count": 100,
   "metadata": {},
   "outputs": [
    {
     "data": {
      "application/vnd.jupyter.widget-view+json": {
       "model_id": "448b3388404d470e830f597ab229474e",
       "version_major": 2,
       "version_minor": 0
      },
      "text/plain": [
       "interactive(children=(IntSlider(value=14, continuous_update=False, description='# of Co-appearance', max=75, m…"
      ]
     },
     "metadata": {},
     "output_type": "display_data"
    }
   ],
   "source": [
    "import networkx as nx\n",
    "import matplotlib.pyplot as plt\n",
    "from ipywidgets import interact, IntSlider\n",
    "\n",
    "slider = IntSlider(\n",
    "    value=np.quantile(list(combi_count.values()), 0.98),\n",
    "    min=min(list(combi_count.values())),\n",
    "    max=max(list(combi_count.values())),\n",
    "    step=1,\n",
    "    description='# of Co-appearance',\n",
    "    disabled=False,\n",
    "    continuous_update=False,\n",
    "    orientation='horizontal',\n",
    "    readout=True,\n",
    "    readout_format='d'\n",
    ")\n",
    "\n",
    "@interact(thresEdgeCount = slider)\n",
    "def plotNwGraph(thresEdgeCount = slider):\n",
    "    G = nx.Graph()\n",
    "    # G.add_edges_from(combi_count.keys())\n",
    "    G.add_edges_from([item[0] for item in combi_count.items() if item[1] >= thresEdgeCount])\n",
    "    print(\"thres: {:d}\\nNum of nodes: {:d}\\nNum of edges: {:d}\".format(thresEdgeCount, G.number_of_nodes(), G.number_of_edges()))\n",
    "\n",
    "    for edge in G.edges():\n",
    "        occurrence = combi_count[edge] if edge in combi_count else combi_count[(edge[1], edge[0])]\n",
    "        G.edges()[edge].update({\n",
    "            \"edge_weight\": occurrence\n",
    "        })\n",
    "\n",
    "    for node in G.nodes():\n",
    "        G.nodes()[node].update({\n",
    "            \"label\": node,\n",
    "            \"weight\": ingd2count[node]\n",
    "        })\n",
    "\n",
    "    # draw the graph using networkx (matplotlib)\n",
    "    weights = [ingd2count[node] for node in G.nodes()]\n",
    "    widths = [G.edges()[edge]['edge_weight'] for edge in G.edges()]\n",
    "    plt.rcParams[\"figure.figsize\"] = [10, 7]#[12, 8]\n",
    "    return nx.draw(\n",
    "        G, with_labels=True, font_size=15,\n",
    "        pos=nx.spring_layout(G, seed=23),\n",
    "        node_size=np.array(weights)/10, node_color=weights, cmap=plt.cm.viridis_r, vmin=2, vmax=8500,\n",
    "        edge_color=widths, edge_cmap=plt.cm.viridis_r, edge_vmin=0, edge_vmax=3500\n",
    "    )"
   ]
  },
  {
   "cell_type": "code",
   "execution_count": 14,
   "metadata": {},
   "outputs": [
    {
     "name": "stdout",
     "output_type": "stream",
     "text": [
      "thres: 5\n",
      "Num of nodes: 45\n",
      "Num of edges: 157\n"
     ]
    },
    {
     "data": {
      "text/plain": [
       "<pydot.Dot at 0x3bc5b67f0>"
      ]
     },
     "execution_count": 14,
     "metadata": {},
     "output_type": "execute_result"
    }
   ],
   "source": [
    "import networkx as nx\n",
    "import matplotlib.pyplot as plt\n",
    "\n",
    "def plotNwGraph(thresEdgeCount):\n",
    "    G = nx.Graph()\n",
    "    # G.add_edges_from(combi_count.keys())\n",
    "    G.add_edges_from([item[0] for item in combi_count.items() if item[1] >= thresEdgeCount])\n",
    "    print(\"thres: {:d}\\nNum of nodes: {:d}\\nNum of edges: {:d}\".format(thresEdgeCount, G.number_of_nodes(), G.number_of_edges()))\n",
    "\n",
    "    for edge in G.edges():\n",
    "        occurrence = combi_count[edge] if edge in combi_count else combi_count[(edge[1], edge[0])]\n",
    "        G.edges()[edge].update({\n",
    "            \"edge_weight\": occurrence\n",
    "        })\n",
    "\n",
    "    for node in G.nodes():\n",
    "        G.nodes()[node].update({\n",
    "            \"label\": node,\n",
    "            \"weight\": ingd2count[node]\n",
    "        })\n",
    "\n",
    "    # draw the graph using networkx (matplotlib)\n",
    "    weights = [ingd2count[node] for node in G.nodes()]\n",
    "    widths = [G.edges()[edge]['edge_weight'] for edge in G.edges()]\n",
    "    plt.rcParams[\"figure.figsize\"] = [10, 7]\n",
    "    return G\n",
    "    # nx.draw(\n",
    "    #     G, with_labels=True, font_size=15,\n",
    "    #     pos=nx.spring_layout(G, seed=23),\n",
    "    #     node_size=np.array(weights)/10, node_color=weights, cmap=plt.cm.viridis_r, vmin=2, vmax=8500,\n",
    "    #     edge_color=widths, edge_cmap=plt.cm.viridis_r, edge_vmin=0, edge_vmax=3500\n",
    "    # )\n",
    "\n",
    "graph = plotNwGraph(thresEdgeCount=5)\n",
    "nx.nx_pydot.to_pydot(graph)"
   ]
  },
  {
   "cell_type": "code",
   "execution_count": 87,
   "metadata": {},
   "outputs": [
    {
     "name": "stdout",
     "output_type": "stream",
     "text": [
      "(298, 699)\n",
      "[]\n"
     ]
    }
   ],
   "source": [
    "def plotNwGraph(thresEdgeCount = slider):\n",
    "    G = nx.Graph()\n",
    "    # G.add_edges_from(combi_count.keys())\n",
    "    G.add_edges_from([item[0] for item in combi_count.items() if item[1] >= thresEdgeCount])\n",
    "    print(\"thres: {:d}\\nNum of nodes: {:d}\\nNum of edges: {:d}\".format(thresEdgeCount, G.number_of_nodes(), G.number_of_edges()))\n",
    "\n",
    "    for edge in G.edges():\n",
    "        occurrence = combi_count[edge] if edge in combi_count else combi_count[(edge[1], edge[0])]\n",
    "        G.edges()[edge].update({\n",
    "            \"edge_weight\": occurrence\n",
    "        })\n",
    "\n",
    "    for node in G.nodes():\n",
    "        G.nodes()[node].update({\n",
    "            \"label\": node,\n",
    "            \"weight\": ingd2count[node]\n",
    "        })\n",
    "\n",
    "    # draw the graph using networkx (matplotlib)\n",
    "    weights = [ingd2count[node] for node in G.nodes()]\n",
    "    widths = [G.edges()[edge]['edge_weight'] for edge in G.edges()]\n",
    "    plt.rcParams[\"figure.figsize\"] = [10, 7]#[12, 8]\n",
    "    return nx.draw(\n",
    "        G, with_labels=True, font_size=15,\n",
    "        pos=nx.spring_layout(G, seed=23),\n",
    "        node_size=np.array(weights)/10, node_color=weights, cmap=plt.cm.viridis_r, vmin=2, vmax=8500,\n",
    "        edge_color=widths, edge_cmap=plt.cm.viridis_r, edge_vmin=0, edge_vmax=3500\n",
    "    )"
   ]
  },
  {
   "cell_type": "code",
   "execution_count": 95,
   "metadata": {},
   "outputs": [
    {
     "data": {
      "text/plain": [
       "'1 12 tablespoons olive oil => Number: 1 12 , unit: tablespoons olive oil'"
      ]
     },
     "execution_count": 95,
     "metadata": {},
     "output_type": "execute_result"
    }
   ],
   "source": [
    "def split_num_unit(str):\n",
    "    import re\n",
    "    match = re.match(r\"^([ /0-9]*)(.*)$\", str)\n",
    "    return(\"%s => Number: %s, unit: %s\" % (str, match.group(1), match.group(2)))\n",
    "# #[cols_sorted]\n",
    "split_num_unit(str=df_before_cleanup[\"oil\"][1])"
   ]
  },
  {
   "cell_type": "markdown",
   "metadata": {},
   "source": [
    "#### Manually inspect and expand ingredient mapper"
   ]
  },
  {
   "cell_type": "code",
   "execution_count": 16,
   "metadata": {},
   "outputs": [
    {
     "data": {
      "text/plain": [
       "{'basic cookie',\n",
       " 'chocolate chip cookie',\n",
       " 'chocolate chip cookies',\n",
       " 'cookies',\n",
       " 'rolls chocolate chip cookies',\n",
       " 'stuff cookies',\n",
       " 'vanilla bean cookies'}"
      ]
     },
     "execution_count": 16,
     "metadata": {},
     "output_type": "execute_result"
    }
   ],
   "source": [
    "if False:\n",
    "    with open(\"ingredient_mapper.json\", \"r\") as f:\n",
    "        ingredient_mapper = json.load(f)\n",
    "\n",
    "    ingredient_mapper_updated = ingredient_mapper\n",
    "    print(f\"Before: {len(ingredient_mapper)}\")\n",
    "    clean_ner = set(ingredient_mapper.values())\n",
    "    unmatched_ner = set(chain.from_iterable(df_output.NER))\\\n",
    "        .difference(ingredient_mapper_updated.values())\\\n",
    "        .difference(ingredient_mapper_updated.keys())\n",
    "\n",
    "    for hypernym in clean_ner:\n",
    "        new_rules = [(ingd, hypernym) for ingd in unmatched_ner if ingd.find(hypernym) != -1]\n",
    "        new_ingd = [rule[0] for rule in new_rules]\n",
    "        ingredient_mapper_updated.update(new_rules)\n",
    "        unmatched_ner = unmatched_ner.difference(new_ingd)\n",
    "        if new_rules:\n",
    "            print(f\"Found {len(new_rules)} more rules for '{hypernym}': {'^'.join(new_ingd)}\")\n",
    "\n",
    "    print(f\"After: {len(ingredient_mapper)}\")\n",
    "    del new_rules, new_ingd\n",
    "\n",
    "# or\n",
    "# set(x for x in set(chain.from_iterable(df_output.NER)) if x.find(\"chocolate piece\") != -1)\n",
    "set(x for x in set(chain.from_iterable(df_output.NER)) if re.findall(\"(mix|cake|cookies|cookie)$\", x))"
   ]
  },
  {
   "cell_type": "markdown",
   "metadata": {},
   "source": [
    "### Flatten out the table making NER the columns"
   ]
  },
  {
   "cell_type": "code",
   "execution_count": 225,
   "metadata": {},
   "outputs": [
    {
     "name": "stdout",
     "output_type": "stream",
     "text": [
      "(144, 231)\n",
      "[]\n"
     ]
    },
    {
     "data": {
      "text/plain": [
       "queso cheese          143\n",
       "no-salt               143\n",
       "beans                 143\n",
       "tomato rice           143\n",
       "pasta sauce           143\n",
       "condensed             143\n",
       "white rolls           143\n",
       "chili-garlic sauce    143\n",
       "barbeque sauce        143\n",
       "monterey              143\n",
       "crusty rolls          143\n",
       "salami                143\n",
       "beef stock            143\n",
       "parsley               143\n",
       "green cabbage         143\n",
       "dtype: int64"
      ]
     },
     "execution_count": 225,
     "metadata": {},
     "output_type": "execute_result"
    }
   ],
   "source": [
    "df_before_cleanup = pd.DataFrame()\n",
    "cols_to_keep = [\"title\", \"ingredients\", \"link\", \"label\"]\n",
    "error_idx = []\n",
    "for idx, row in df_output.iterrows():\n",
    "    try:\n",
    "        ner_ingd = [[item for item in row.ingredients if ner in item] for ner in row.NER]\n",
    "        new_row = pd.DataFrame([\n",
    "            [\"^\".join(ingd_list) for ingd_list in ner_ingd]\n",
    "        ], columns=row.NER)\n",
    "        new_row[\"unmatched\"] = \"^\".join(set(row.ingredients).difference(\n",
    "            list(chain.from_iterable(ner_ingd))\n",
    "        ))\n",
    "        df_before_cleanup = pd.concat(\n",
    "            [df_before_cleanup, new_row],\n",
    "            ignore_index=True\n",
    "        )\n",
    "    except:\n",
    "        error_idx.append(idx)\n",
    "\n",
    "cols_sorted = sorted(\n",
    "    list(df_before_cleanup.columns),\n",
    "    key = lambda col: ingd2count.get(col, 9999),\n",
    "    reverse=True\n",
    ")\n",
    "df_before_cleanup = pd.concat([df_output[cols_to_keep], df_before_cleanup[cols_sorted]], axis=1)\n",
    "print(df_before_cleanup.shape)\n",
    "print(error_idx)\n",
    "# df_before_cleanup.isna().sum().sort_values(ascending=False)\n",
    "df_before_cleanup.isna().sum().sort_values(ascending=False).head(15)"
   ]
  },
  {
   "cell_type": "code",
   "execution_count": 226,
   "metadata": {},
   "outputs": [],
   "source": [
    "df_before_cleanup.to_csv(path_dataset/f\"recipenlg-{recipe_dataset}-to_clean.csv\", index=False)"
   ]
  },
  {
   "cell_type": "code",
   "execution_count": 171,
   "metadata": {},
   "outputs": [
    {
     "data": {
      "text/plain": [
       "ID         0\n",
       "Name       0\n",
       "Sex        0\n",
       "Age        0\n",
       "Height     2\n",
       "Weight     2\n",
       "Team       0\n",
       "NOC        0\n",
       "Games      0\n",
       "Year       0\n",
       "Season     0\n",
       "City       0\n",
       "Sport      0\n",
       "Event      0\n",
       "Medal     20\n",
       "dtype: int64"
      ]
     },
     "execution_count": 171,
     "metadata": {},
     "output_type": "execute_result"
    }
   ],
   "source": [
    "import pandas as pd\n",
    "df = pd.read_csv(\n",
    "    \"~/Documents/personal/aws-learning/els-lab0506/athlete_events.csv\",\n",
    "    on_bad_lines='skip'\n",
    ") # todo: delete 25\n",
    "df.fillna(1).to_csv(\"~/Documents/personal/aws-learning/els-lab0506/athlete_events_filledna.csv\", index=False)"
   ]
  },
  {
   "cell_type": "code",
   "execution_count": 104,
   "metadata": {},
   "outputs": [],
   "source": [
    "df_heatmap = df_before_cleanup.groupby(\"label\")\\\n",
    "    .sample(frac=0.1, random_state=23)\\\n",
    "    .reset_index()\\\n",
    "    .melt(\n",
    "        id_vars = [\"label\", \"index\"],\n",
    "        value_vars = cols_sorted\n",
    "    )\\\n",
    "    .rename(columns={\"label\": \"group\", \"index\": \"recipe_id\", \"variable\": \"ingd\", \"value\": \"ingd_text\"})\n",
    "df_heatmap[\"bool\"] = df_heatmap.ingd_text.str.match(\"[0-9*]\").apply(lambda x : 0 if np.isnan(x) else 1)\n",
    "df_heatmap.query(\"bool == 1\")\\\n",
    "    .merge(df_ingredients, left_on=\"ingd\", right_on=\"ingredient\")\\\n",
    "    .sort_values(by=[\"recipe_id\", \"freq\"], ascending=[True, False])\\\n",
    "    [[\"group\", \"recipe_id\", \"ingd\", \"ingd_text\"]]\\\n",
    "    .to_csv(path_dataset/\"recipenlg-heatmap.csv\", index=False)"
   ]
  },
  {
   "cell_type": "markdown",
   "metadata": {},
   "source": [
    "### Network graph (d3.js) data prep"
   ]
  },
  {
   "cell_type": "code",
   "execution_count": 88,
   "metadata": {},
   "outputs": [],
   "source": [
    "from collections import Counter\n",
    "from itertools import combinations, chain\n",
    "\n",
    "# assumes NER has been cleaned up\n",
    "# ner_drop_list = [\"ingredients\", \"+\", \"¼\", \"'s\"]\n",
    "# df_output.NER = df_output.NER.apply(lambda ner : list(\n",
    "#     set([ingredient_mapper.get(item, item) for item in ner]).difference(ner_drop_list)\n",
    "# ))\n",
    "def prep_network_data(df_tabular):\n",
    "    ingd_count = dict(Counter(chain.from_iterable(df_tabular.NER)))\n",
    "    combi_count = dict(Counter(\n",
    "        chain.from_iterable([\n",
    "            list(combinations(sorted(ner), 2)) for ner in df_tabular.NER\n",
    "        ])\n",
    "    ))\n",
    "    return {\n",
    "        \"nodes\": [{\"ingd\": key, \"freq\": value} for (key, value) in ingd_count.items()],\n",
    "        \"links\": [{\"source\": key[0], \"target\": key[1], \"count\": value} for (key, value) in combi_count.items()]\n",
    "    }\n",
    "\n",
    "import json\n",
    "# with open(path_dataset/\"recipenlg-network.json\", \"w\") as outfile:\n",
    "#     json.dump(prep_network_data(df_output), outfile, indent=4)\n",
    "with open(path_dataset/\"recipenlg-network-by-group.json\", \"w\") as outfile:\n",
    "    json.dump(\n",
    "        dict([ [label, prep_network_data(df_output.query(f\"label == '{label}'\"))] for label in set(df_output.label)]),\n",
    "        outfile, indent=4\n",
    "    )"
   ]
  },
  {
   "cell_type": "markdown",
   "metadata": {},
   "source": [
    "### Post clean-up analysis"
   ]
  },
  {
   "cell_type": "code",
   "execution_count": 51,
   "metadata": {},
   "outputs": [
    {
     "name": "stdout",
     "output_type": "stream",
     "text": [
      "Current directory: /Users/longyyu/Documents/research/recipevis.git/src\n"
     ]
    }
   ],
   "source": [
    "import os\n",
    "import re\n",
    "import json\n",
    "import pathlib\n",
    "import numpy as np\n",
    "import pandas as pd\n",
    "import ast\n",
    "\n",
    "print(f\"Current directory: {os.getcwd()}\")\n",
    "path_dataset = pathlib.Path(\"../dataset/\")\n",
    "\n",
    "df_after = pd.read_csv(path_dataset/\"recipenlg-cookies_cleaned.csv\")\n",
    "col_to_keep = [\"title\", \"ingredients\", \"link\"]\n",
    "col_ingd_cup = [col for col in df_after.columns if \"(c.)\" in col]\n",
    "df_after = df_after[df_after.to_drop == 0].reset_index(drop=True)[col_to_keep + col_ingd_cup]\n",
    "df_after[\"chocolate chips (c.)\"] = df_after[\"chocolate chips (c.)\"].astype(\"float\")\n",
    "df_after[col_ingd_cup] = df_after[col_ingd_cup].fillna(0)\n",
    "\n",
    "# convert each row from cup measurements to percentage\n",
    "df_after_pct = df_after[col_ingd_cup].div(df_after[col_ingd_cup].sum(axis=1), axis=0)\n",
    "df_after_pct.rename(columns=lambda col: col.replace(\"(c.)\", \"(%)\"), inplace=True)\n",
    "col_ingd_pct = df_after_pct.columns\n",
    "df_after = pd.concat([df_after, df_after_pct], axis=1)\n",
    "df_after.shape\n",
    "del df_after_pct\n",
    "\n",
    "col_to_keep.append(\"recipe_id\")\n",
    "df_output = df_after.reset_index().rename(columns={\"index\": \"recipe_id\"})[col_to_keep + list(col_ingd_pct)]\\\n",
    "    .rename(columns = lambda col: col.replace(\" (%)\", \"\"))\\\n",
    "    .melt(id_vars = col_to_keep, var_name=\"ingd\", value_name=\"ingd_pct\")\n",
    "df_output.ingredients = [\"^\".join(ast.literal_eval(x)) for x in df_output.ingredients]\n",
    "df_output.to_csv(path_dataset/\"demo-ccc-recipes.csv\", index=False)\n",
    "del df_output"
   ]
  },
  {
   "cell_type": "markdown",
   "metadata": {},
   "source": [
    "output: json"
   ]
  },
  {
   "cell_type": "code",
   "execution_count": 100,
   "metadata": {},
   "outputs": [],
   "source": [
    "\n",
    "df_after = pd.read_csv(path_dataset/\"recipenlg-cookies_cleaned.csv\")\n",
    "col_to_keep = [\"title\", \"ingredients\", \"link\"]\n",
    "col_ingd_cup = [col for col in df_after.columns if \"(c.)\" in col]\n",
    "df_after = df_after[df_after.to_drop == 0].reset_index(drop=True)[col_to_keep + col_ingd_cup]\n",
    "df_after[\"chocolate chips (c.)\"] = df_after[\"chocolate chips (c.)\"].astype(\"float\")\n",
    "df_after[col_ingd_cup] = df_after[col_ingd_cup].fillna(0)\n",
    "\n",
    "# convert each row from cup measurements to percentage\n",
    "df_after_pct = df_after[col_ingd_cup].div(df_after[col_ingd_cup].sum(axis=1), axis=0)\n",
    "df_after_pct.rename(columns=lambda col: col.replace(\" (c.)\", \"\"), inplace=True)\n",
    "col_ingd = df_after_pct.columns\n",
    "\n",
    "df_after = df_after[col_to_keep].reset_index().rename(columns={\"index\": \"recipe_id\"})\n",
    "col_to_keep.append(\"recipe_id\")\n",
    "# df_after.ingredients = [\"^\".join(ast.literal_eval(x)) for x in df_after.ingredients]\n",
    "df_after.ingredients = [ast.literal_eval(x) for x in df_after.ingredients]\n",
    "df_after = pd.concat([df_after, df_after_pct], axis = 1)\n",
    "del df_after_pct\n",
    "\n",
    "\n",
    "def turn_row_to_json(row):\n",
    "    row_json = dict(row[col_to_keep])\n",
    "    row_json.update({\n",
    "            \"ingd\": [{\"ner\": ingd, \"pct\": pct} for (ingd, pct) in zip(col_ingd, row[col_ingd])]\n",
    "        })\n",
    "    return row_json\n",
    "\n",
    "json_output = {}\n",
    "for idx, row in df_after.iterrows():\n",
    "    json_output.update({\n",
    "        row.recipe_id: turn_row_to_json(row)\n",
    "    })"
   ]
  },
  {
   "cell_type": "code",
   "execution_count": 102,
   "metadata": {},
   "outputs": [],
   "source": [
    "with open(path_dataset/\"demo-ccc-recipes.json\", \"w\") as outfile:\n",
    "    json.dump(\n",
    "        json_output, outfile, indent=4\n",
    "    )"
   ]
  },
  {
   "cell_type": "code",
   "execution_count": null,
   "metadata": {},
   "outputs": [],
   "source": []
  },
  {
   "cell_type": "code",
   "execution_count": null,
   "metadata": {},
   "outputs": [],
   "source": []
  }
 ],
 "metadata": {
  "interpreter": {
   "hash": "2243570999d709669870674c130d5c989af571bf8fd02bb480a01170839d5b26"
  },
  "kernelspec": {
   "display_name": "Python 3.8.2 ('env': venv)",
   "language": "python",
   "name": "python3"
  },
  "language_info": {
   "codemirror_mode": {
    "name": "ipython",
    "version": 3
   },
   "file_extension": ".py",
   "mimetype": "text/x-python",
   "name": "python",
   "nbconvert_exporter": "python",
   "pygments_lexer": "ipython3",
   "version": "3.8.2"
  },
  "orig_nbformat": 4
 },
 "nbformat": 4,
 "nbformat_minor": 2
}
