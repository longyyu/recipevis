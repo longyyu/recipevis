{
 "cells": [
  {
   "cell_type": "code",
   "execution_count": 3,
   "metadata": {},
   "outputs": [
    {
     "name": "stdout",
     "output_type": "stream",
     "text": [
      "Current directory: /Users/longyyu/Documents/research\n"
     ]
    }
   ],
   "source": [
    "import os\n",
    "import pathlib\n",
    "\n",
    "os.chdir(path=\"../\")\n",
    "print(f\"Current directory: {os.getcwd()}\")\n",
    "\n",
    "path_dataset = pathlib.Path(\"dataset/\")"
   ]
  },
  {
   "cell_type": "code",
   "execution_count": 4,
   "metadata": {},
   "outputs": [],
   "source": [
    "def download_resource(resource_url, local_path):\n",
    "    import requests\n",
    "    if not os.path.exists(local_path):\n",
    "        r = requests.get(resource_url)\n",
    "        print(f\"Content type: {r.headers.get('content-type')}\")\n",
    "        print(f\"Content disposition: {r.headers.get('content-disposition')}\")\n",
    "        print(f\"Content length: {r.headers.get('content-length')}\")\n",
    "        try:\n",
    "            with open(local_path, 'wb') as file_disk:\n",
    "                for chunk in r.iter_content(chunk_size=1024):\n",
    "                    if chunk:\n",
    "                        file_disk.write(chunk)\n",
    "        except Exception as e:\n",
    "            print(f\"Error: {str(e)}\")\n",
    "        if os.path.isfile(local_path):\n",
    "            print(\"Downloaded successfully!\")\n",
    "    else:\n",
    "        print(f\"Resource {local_path} already exists.\")"
   ]
  },
  {
   "cell_type": "markdown",
   "metadata": {},
   "source": [
    "## Annotated recipes from [\"RecipeScape\"](https://recipescape.kixlab.org/)\n",
    "\n",
    "Annotated recipes in JSON format for [chocolate chip cookies](https://recipescape.kixlab.org/ccc_trees.json) and [tomato pasta](https://recipescape.kixlab.org/tomatopasta_trees.json)."
   ]
  },
  {
   "cell_type": "code",
   "execution_count": 13,
   "metadata": {},
   "outputs": [
    {
     "name": "stdout",
     "output_type": "stream",
     "text": [
      "Resource dataset/recipescape-choco-chip-cookies.json already exists.\n"
     ]
    }
   ],
   "source": [
    "# download dataset from url if not already exists\n",
    "filename_dataset = \"recipescape-choco-chip-cookies.json\"\n",
    "download_resource(\n",
    "    resource_url=\"https://recipescape.kixlab.org/ccc_trees.json\",\n",
    "    local_path=str(path_dataset/filename_dataset)\n",
    ")\n",
    "# read in the json file\n",
    "import json\n",
    "with open(path_dataset/filename_dataset, 'r') as f:\n",
    "    data = json.load(f)\n",
    "# data is a list of dict objects, each dict has keys 'id' and 'tree'"
   ]
  },
  {
   "cell_type": "markdown",
   "metadata": {},
   "source": [
    "This dataset is a list of dict objects, each dict has keys 'id' and 'tree'."
   ]
  },
  {
   "cell_type": "code",
   "execution_count": 42,
   "metadata": {},
   "outputs": [
    {
     "name": "stdout",
     "output_type": "stream",
     "text": [
      "Num of elements: 490\n",
      "Keys of an element:  dict_keys(['id', 'tree'])\n"
     ]
    }
   ],
   "source": [
    "print(f\"Num of elements: {len(data)}\")\n",
    "print(\"Keys of an element: \", data[0].keys())\n",
    "# print(json.dumps(data, indent=4))"
   ]
  },
  {
   "cell_type": "markdown",
   "metadata": {},
   "source": [
    "A 'tree' is also a list of dict objects, each with keys 'word' and 'ingredient'. "
   ]
  },
  {
   "cell_type": "code",
   "execution_count": 45,
   "metadata": {},
   "outputs": [
    {
     "name": "stdout",
     "output_type": "stream",
     "text": [
      "Num of elements: 7\n",
      "Keys of an element:  dict_keys(['word', 'ingredient'])\n"
     ]
    }
   ],
   "source": [
    "tree = data[0][\"tree\"]\n",
    "print(f\"Num of elements: {len(tree)}\")\n",
    "print(\"Keys of an element: \", tree[0].keys())\n",
    "# print(json.dumps(tree, indent=4))"
   ]
  },
  {
   "cell_type": "code",
   "execution_count": 75,
   "metadata": {},
   "outputs": [
    {
     "name": "stdout",
     "output_type": "stream",
     "text": [
      "recipe_id               \tword        \tingredient\n",
      "54a47bb66529d92b2c02c10e\tarrange     \tbread slices,work surface,bread slice,cheese,tablespoons caponata,half,tomato\n",
      "                        \tremaining   \tcheese,bread,brush,bread slices,oil,heat,skillet,medium heat\n",
      "                        \tis          \tcheese\n",
      "54a42ff76529d92b2c01385a\theat        \tcooking spray\n",
      "                        \tadd         \ttomato sauce,cranberry sauce,horseradish,dry mustard,vinegar,stock\n",
      "                        \tlower       \t\n",
      "                        \tstirring    \t\n",
      "                        \tlower       \t\n",
      "                        \tserve       \t\n",
      "                        \treheat      \t\n",
      "54a4154d19925f464b375841\theat        \toil\n",
      "                        \tsauté       \tshallots\n",
      "                        \tadd         \tchicken\n",
      "                        \tturn        \tchicken\n",
      "                        \tbroth       \t\n",
      "                        \tcover       \t\n",
      "                        \tsimmer      \tchicken\n",
      "                        \tboil        \tsauce\n",
      "54a47c2e19925f464b39bb94\theat        \toil\n",
      "                        \tsauté       \t\n",
      "                        \tsimmer      \tsauce\n",
      "                        \ttoss        \tsauce,pasta\n",
      "                        \ttransfer    \tpasta\n",
      "54a47c4d6529d92b2c02c371\tadd         \tsausage,onion,garlic\n",
      "                        \tbreaking    \t\n",
      "                        \tadd         \ttomatoes,juices\n",
      "                        \tstirring    \t\n",
      "                        \tseason      \tsauce,salt,pepper\n",
      "                        \trefrigerate \t\n",
      "                        \tpreheat     \toil\n",
      "                        \tstir        \ttomato sauce\n",
      "                        \tsprinkle    \tparmesan cheese\n",
      "54a433f76529d92b2c016abd\theat        \tolive oil\n",
      "                        \tsauté       \t\n",
      "                        \ttransfer    \tpancetta\n",
      "                        \tadd         \tpork\n",
      "                        \ttransfer    \tpancetta\n",
      "                        \tsauté       \t\n",
      "                        \treduce      \theat\n",
      "                        \tadd         \twine\n",
      "                        \tadd         \tpancetta,pork,accumulated juices\n",
      "                        \tcover       \t\n",
      "                        \tstirring    \t\n",
      "                        \ttilt        \t\n",
      "                        \toff         \tfat,ragù\n",
      "                        \tbreak       \t\n",
      "                        \tseason      \tragù,salt,pepper\n",
      "                        \tcover       \t\n",
      "                        \trefrigerated\t\n",
      "                        \tpreheat     \t\n",
      "                        \tcook        \tpasta,water\n",
      "                        \tdrain       \tpasta\n",
      "                        \tseason      \tmixture,salt,pepper\n",
      "                        \tsprinkle    \tcheeses\n"
     ]
    }
   ],
   "source": [
    "# pretty print the data as table (first 6 rows)\n",
    "def print_row(row):\n",
    "    print(f\"{row[0]:<24}\\t{row[1]:<12}\\t{row[2]}\")\n",
    "\n",
    "print_row([\"recipe_id\", \"word\", \"ingredient\"])\n",
    "for recipe in data[:6]:\n",
    "    for idx, record in enumerate(recipe[\"tree\"]):\n",
    "        print_row(row=[' ' if idx else recipe['id'], record['word'], ','.join(record['ingredient'])])"
   ]
  },
  {
   "cell_type": "markdown",
   "metadata": {},
   "source": [
    "### Tomato pasta"
   ]
  },
  {
   "cell_type": "code",
   "execution_count": 72,
   "metadata": {},
   "outputs": [
    {
     "name": "stdout",
     "output_type": "stream",
     "text": [
      "Resource dataset/recipescape-tomato-pasta.json already exists.\n",
      "Num of elements: 553\n",
      "Keys of an element:  dict_keys(['id', 'tree'])\n",
      "\n",
      "Num of elements: 3\n",
      "Keys of an element:  dict_keys(['word', 'ingredient'])\n"
     ]
    }
   ],
   "source": [
    "# download dataset from url if not already exists\n",
    "filename_dataset = \"recipescape-tomato-pasta.json\"\n",
    "download_resource(\n",
    "    resource_url=\"https://recipescape.kixlab.org/tomatopasta_trees.json\",\n",
    "    local_path=str(path_dataset/filename_dataset)\n",
    ")\n",
    "\n",
    "# read in the json file\n",
    "import json\n",
    "with open(path_dataset/filename_dataset, 'r') as f:\n",
    "    data = json.load(f)\n",
    "# data is a list of dict objects, each dict has keys 'id' and 'tree'\n",
    "\n",
    "print(f\"Num of elements: {len(data)}\")\n",
    "print(\"Keys of an element: \", data[0].keys())\n",
    "# print(json.dumps(data, indent=4))\n",
    "\n",
    "tree = data[0][\"tree\"]\n",
    "print(f\"\\nNum of elements: {len(tree)}\")\n",
    "print(\"Keys of an element: \", tree[0].keys())\n",
    "# print(json.dumps(tree, indent=4))"
   ]
  },
  {
   "cell_type": "code",
   "execution_count": 74,
   "metadata": {},
   "outputs": [
    {
     "name": "stdout",
     "output_type": "stream",
     "text": [
      "recipe_id               \tword        \tingredient\n",
      "54a47bb66529d92b2c02c10e\tarrange     \tbread slices,work surface,bread slice,cheese,tablespoons caponata,half,tomato\n",
      "                        \tremaining   \tcheese,bread,brush,bread slices,oil,heat,skillet,medium heat\n",
      "                        \tis          \tcheese\n",
      "54a42ff76529d92b2c01385a\theat        \tcooking spray\n",
      "                        \tadd         \ttomato sauce,cranberry sauce,horseradish,dry mustard,vinegar,stock\n",
      "                        \tlower       \t\n",
      "                        \tstirring    \t\n",
      "                        \tlower       \t\n",
      "                        \tserve       \t\n",
      "                        \treheat      \t\n",
      "54a4154d19925f464b375841\theat        \toil\n",
      "                        \tsauté       \tshallots\n",
      "                        \tadd         \tchicken\n",
      "                        \tturn        \tchicken\n",
      "                        \tbroth       \t\n",
      "                        \tcover       \t\n",
      "                        \tsimmer      \tchicken\n",
      "                        \tboil        \tsauce\n",
      "54a47c2e19925f464b39bb94\theat        \toil\n",
      "                        \tsauté       \t\n",
      "                        \tsimmer      \tsauce\n",
      "                        \ttoss        \tsauce,pasta\n",
      "                        \ttransfer    \tpasta\n",
      "54a47c4d6529d92b2c02c371\tadd         \tsausage,onion,garlic\n",
      "                        \tbreaking    \t\n",
      "                        \tadd         \ttomatoes,juices\n",
      "                        \tstirring    \t\n",
      "                        \tseason      \tsauce,salt,pepper\n",
      "                        \trefrigerate \t\n",
      "                        \tpreheat     \toil\n",
      "                        \tstir        \ttomato sauce\n",
      "                        \tsprinkle    \tparmesan cheese\n",
      "54a433f76529d92b2c016abd\theat        \tolive oil\n",
      "                        \tsauté       \t\n",
      "                        \ttransfer    \tpancetta\n",
      "                        \tadd         \tpork\n",
      "                        \ttransfer    \tpancetta\n",
      "                        \tsauté       \t\n",
      "                        \treduce      \theat\n",
      "                        \tadd         \twine\n",
      "                        \tadd         \tpancetta,pork,accumulated juices\n",
      "                        \tcover       \t\n",
      "                        \tstirring    \t\n",
      "                        \ttilt        \t\n",
      "                        \toff         \tfat,ragù\n",
      "                        \tbreak       \t\n",
      "                        \tseason      \tragù,salt,pepper\n",
      "                        \tcover       \t\n",
      "                        \trefrigerated\t\n",
      "                        \tpreheat     \t\n",
      "                        \tcook        \tpasta,water\n",
      "                        \tdrain       \tpasta\n",
      "                        \tseason      \tmixture,salt,pepper\n",
      "                        \tsprinkle    \tcheeses\n"
     ]
    }
   ],
   "source": [
    "# pretty print the data as table (first 6 rows)\n",
    "def print_row(row):\n",
    "    print(f\"{row[0]:<24}\\t{row[1]:<12}\\t{row[2]}\")\n",
    "\n",
    "print_row([\"recipe_id\", \"word\", \"ingredient\"])\n",
    "for recipe in data[:6]:\n",
    "    for idx, record in enumerate(recipe[\"tree\"]):\n",
    "        print_row(row=[' ' if idx else recipe['id'], record['word'], ','.join(record['ingredient'])])"
   ]
  },
  {
   "cell_type": "markdown",
   "metadata": {},
   "source": [
    "## Simplified Recipes1M\n",
    "\n",
    "> Source: https://dominikschmidt.xyz/simplified-recipes-1M/"
   ]
  },
  {
   "cell_type": "code",
   "execution_count": 10,
   "metadata": {},
   "outputs": [
    {
     "name": "stdout",
     "output_type": "stream",
     "text": [
      "Resource dataset/simplified-recipes-1M.npz already exists.\n"
     ]
    }
   ],
   "source": [
    "# download dataset from url if not already exists\n",
    "filename_dataset = \"simplified-recipes-1M.npz\"\n",
    "download_resource(\n",
    "    resource_url=\"https://github.com/schmidtdominik/RecipeNet/raw/master/simplified-recipes-1M.npz\",\n",
    "    local_path=str(path_dataset/filename_dataset)\n",
    ")"
   ]
  },
  {
   "cell_type": "code",
   "execution_count": null,
   "metadata": {},
   "outputs": [],
   "source": [
    "import numpy as np\n",
    "\n",
    "data = np.load(path_dataset/filename_dataset)\n",
    "# with np.load(path_dataset/filename_dataset) as data:\n",
    "#     recipes = data['recipes']\n",
    "#     ingredients = data['ingredients']"
   ]
  },
  {
   "cell_type": "code",
   "execution_count": null,
   "metadata": {},
   "outputs": [],
   "source": []
  },
  {
   "cell_type": "code",
   "execution_count": null,
   "metadata": {},
   "outputs": [],
   "source": []
  },
  {
   "cell_type": "code",
   "execution_count": null,
   "metadata": {},
   "outputs": [],
   "source": []
  },
  {
   "cell_type": "code",
   "execution_count": null,
   "metadata": {},
   "outputs": [],
   "source": []
  },
  {
   "cell_type": "code",
   "execution_count": null,
   "metadata": {},
   "outputs": [],
   "source": []
  },
  {
   "cell_type": "code",
   "execution_count": null,
   "metadata": {},
   "outputs": [],
   "source": []
  },
  {
   "cell_type": "code",
   "execution_count": null,
   "metadata": {},
   "outputs": [],
   "source": []
  },
  {
   "cell_type": "code",
   "execution_count": null,
   "metadata": {},
   "outputs": [],
   "source": []
  },
  {
   "cell_type": "code",
   "execution_count": null,
   "metadata": {},
   "outputs": [],
   "source": []
  },
  {
   "cell_type": "code",
   "execution_count": null,
   "metadata": {},
   "outputs": [],
   "source": []
  },
  {
   "cell_type": "code",
   "execution_count": null,
   "metadata": {},
   "outputs": [],
   "source": []
  },
  {
   "cell_type": "code",
   "execution_count": null,
   "metadata": {},
   "outputs": [],
   "source": []
  },
  {
   "cell_type": "code",
   "execution_count": null,
   "metadata": {},
   "outputs": [],
   "source": []
  },
  {
   "cell_type": "code",
   "execution_count": null,
   "metadata": {},
   "outputs": [],
   "source": []
  },
  {
   "cell_type": "code",
   "execution_count": null,
   "metadata": {},
   "outputs": [],
   "source": []
  },
  {
   "cell_type": "code",
   "execution_count": null,
   "metadata": {},
   "outputs": [],
   "source": []
  },
  {
   "cell_type": "code",
   "execution_count": null,
   "metadata": {},
   "outputs": [],
   "source": []
  },
  {
   "cell_type": "code",
   "execution_count": null,
   "metadata": {},
   "outputs": [],
   "source": []
  },
  {
   "cell_type": "code",
   "execution_count": null,
   "metadata": {},
   "outputs": [],
   "source": []
  },
  {
   "cell_type": "code",
   "execution_count": null,
   "metadata": {},
   "outputs": [],
   "source": []
  },
  {
   "cell_type": "code",
   "execution_count": null,
   "metadata": {},
   "outputs": [],
   "source": []
  },
  {
   "cell_type": "code",
   "execution_count": null,
   "metadata": {},
   "outputs": [],
   "source": []
  }
 ],
 "metadata": {
  "interpreter": {
   "hash": "2243570999d709669870674c130d5c989af571bf8fd02bb480a01170839d5b26"
  },
  "kernelspec": {
   "display_name": "Python 3.8.2 64-bit ('env': venv)",
   "language": "python",
   "name": "python3"
  },
  "language_info": {
   "codemirror_mode": {
    "name": "ipython",
    "version": 3
   },
   "file_extension": ".py",
   "mimetype": "text/x-python",
   "name": "python",
   "nbconvert_exporter": "python",
   "pygments_lexer": "ipython3",
   "version": "3.8.2"
  },
  "orig_nbformat": 4
 },
 "nbformat": 4,
 "nbformat_minor": 2
}
