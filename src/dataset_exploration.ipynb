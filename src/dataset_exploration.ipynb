{
 "cells": [
  {
   "cell_type": "code",
   "execution_count": 87,
   "metadata": {},
   "outputs": [
    {
     "name": "stdout",
     "output_type": "stream",
     "text": [
      "Current directory: /Users/longyyu/Documents/research/recipevis.git/src\n"
     ]
    }
   ],
   "source": [
    "import os\n",
    "import pathlib\n",
    "\n",
    "print(f\"Current directory: {os.getcwd()}\")\n",
    "\n",
    "path_dataset = pathlib.Path(\"../dataset/\")"
   ]
  },
  {
   "cell_type": "code",
   "execution_count": 4,
   "metadata": {},
   "outputs": [],
   "source": [
    "def download_resource(resource_url, local_path):\n",
    "    import requests\n",
    "    if not os.path.exists(local_path):\n",
    "        r = requests.get(resource_url)\n",
    "        print(f\"Content type: {r.headers.get('content-type')}\")\n",
    "        print(f\"Content disposition: {r.headers.get('content-disposition')}\")\n",
    "        print(f\"Content length: {r.headers.get('content-length')}\")\n",
    "        try:\n",
    "            with open(local_path, 'wb') as file_disk:\n",
    "                for chunk in r.iter_content(chunk_size=1024):\n",
    "                    if chunk:\n",
    "                        file_disk.write(chunk)\n",
    "        except Exception as e:\n",
    "            print(f\"Error: {str(e)}\")\n",
    "        if os.path.isfile(local_path):\n",
    "            print(\"Downloaded successfully!\")\n",
    "    else:\n",
    "        print(f\"Resource {local_path} already exists.\")"
   ]
  },
  {
   "cell_type": "markdown",
   "metadata": {},
   "source": [
    "## BBC Good Food\n",
    "\n",
    "* JSON format recipes from this [github repo](https://github.com/mneedham/bbcgoodfood). There is no documentation on the original source of data, but it seems like data come from this [web scraping script](https://github.com/mneedham/bbcgoodfood/blob/master/download_recipes.py). The url list is unknown. \n",
    "* See also https://www.bbcgoodfood.com/. "
   ]
  },
  {
   "cell_type": "code",
   "execution_count": 119,
   "metadata": {},
   "outputs": [
    {
     "name": "stdout",
     "output_type": "stream",
     "text": [
      "Resource ../dataset/bbcgoodfood.json already exists.\n"
     ]
    }
   ],
   "source": [
    "filename_dataset = \"bbcgoodfood.json\"\n",
    "download_resource(\n",
    "    resource_url=\"https://github.com/mneedham/bbcgoodfood/raw/master/stream_clean.json\",\n",
    "    local_path=str(path_dataset/filename_dataset)\n",
    ")\n",
    "# read in the json file\n",
    "import json\n",
    "data = []\n",
    "with open(path_dataset/filename_dataset, 'r') as f:\n",
    "    for line in f:\n",
    "        data.append(json.loads(line))\n",
    "\n",
    "print(f\"Num of recipes: {len(data)}\")\n",
    "print(\"Keys of an element: \", data[0].keys())\n"
   ]
  },
  {
   "cell_type": "markdown",
   "metadata": {},
   "source": [
    "* The data is a list of dictionary objects, and each dictionary has only one key 'page'. \n",
    "    * Each 'page' is also a dictionary, with keys ['article', 'recipe', 'channel', 'title'].\n",
    "        * Channel is just 'Recipe'.  \n",
    "        * Article is again a dictionary, with keys ['author', 'description', 'id', 'tags']. \n",
    "        * Recipe, another dictionary, has keys ['collections', 'cooking_time', 'prep_time', 'serves', 'keywords', 'ratings', 'nutrition_info', 'ingredients', 'courses', 'cusine', 'diet_types', 'skill_level', 'post_dates']. \n",
    "            - Collections: tags such as `Bakewell tart, 200-400 calorie, Easy Christmas, Eat like an athlete, Thai, Blackberry, Summer soup, Autumn cake, Sponge cake, Omelette, Salmon, Chickpea, Microwave pudding, Prosecco, Low in salt, Christmas Day drinks, Healthy pie, Easy cocktail`. \n",
    "            - Keywords: key ingredients and tags such as `Stewing steak, Bucks fizz, Vegetarian bbq, Devilled mushrooms, Packed lunch, chickpea side dish, oat and fruit bars, Vanilla sponge, Smart supper, Summer fruit, healthy gravy, Merrilees Parker, Chilled pudding, Gordon ramsay recipes`. \n",
    "            - Cusine (45): `French, Scottish, Thai, Greek, African, Cuban, Middle Eastern, Italian, Cajun & Creole, Eastern European, Australian, English, Asian, Swiss, Caribbean, Japanese, Korean, American, Chinese, Latin American, Brazilian, Turkish, Irish, Belgian, Indonesian, British, Indian, Scandinavian, Balinese, Spanish, German, Mediterranean, Danish, Tunisian, Moroccan, Mexican, Swedish, Portuguese, Austrian, Chilean, Jewish, North African, Southern & Soul, Vietnamese, Hungarian`. \n",
    "            - Courses (22): `Starter, Supper, Cheese Course, Canapes, Condiment, Side dish, Main course, Afternoon tea, Soup course, Vegetable course, Fish Course, Lunch, Buffet, Breakfast, Cocktails, Snack, Dinner, Brunch, Drink, Dessert, Pasta course, Treat`. "
   ]
  },
  {
   "cell_type": "code",
   "execution_count": 211,
   "metadata": {},
   "outputs": [],
   "source": [
    "import pandas as pd\n",
    "cols = ['article_id', 'title', 'ratings', 'serves', 'ingredients', 'cusine', 'courses']\n",
    "data_df = pd.DataFrame(columns=cols)\n",
    "for item in data:\n",
    "    page = item['page']\n",
    "    recipe = page['recipe']\n",
    "    data_df = data_df.append(\n",
    "        pd.DataFrame(\n",
    "            data=[[page['article']['id'], page['title'], recipe['ratings'], recipe['serves'], recipe['ingredients'], recipe['cusine'], recipe['courses']]],\n",
    "            columns=cols\n",
    "        )\n",
    "    )\n",
    "data_df = data_df.reset_index(drop=True)"
   ]
  },
  {
   "cell_type": "markdown",
   "metadata": {},
   "source": [
    "### A closer look at the pizza recipes"
   ]
  },
  {
   "cell_type": "markdown",
   "metadata": {},
   "source": [
    "#### Filtering pizza recipes\n",
    "\n",
    "I first filtered the recipes with \"pizza\" in their titles, which yields 118 results. Then I manually examined the recipe titles to drop non-pizza recipes and label as much pizza subcategories as I can: \n",
    "* Non-pizza: 'Steak with pizzaiola sauce', '5 easy pizza toppings', ['Pizza omelette'](https://www.bbcgoodfood.com/recipes/pizza-omelette), ['Baked cauliflower pizzaiola'](https://www.bbcgoodfood.com/recipes/baked-cauliflower-pizzaiola), ['Pizza baked potato'](https://www.bbcgoodfood.com/recipes/pizza-baked-potato), ['Puff pizza tart'](https://www.bbcgoodfood.com/recipes/puff-pizza-tart), ['Mini pizza quiches'](https://www.bbcgoodfood.com/recipes/mini-pizza-quiches), ['Pizzadillas'](https://www.bbcgoodfood.com/recipes/pizzadillas), and ['Pizza pasta salad'](https://www.bbcgoodfood.com/recipes/pizza-pasta-salad)\n",
    "* Margherita pizza, e.g. 'Next level Margherita pizza', 'Very simple Margherita pizza', 'Ultimate pizza Margherita', 'Pizza Margherita in 4 easy steps', 'Lighter Pizza Margherita'\n",
    "* Florentine pizza: 'Florentine pizza', '20-minute Fiorentina pizzas', 'Florentine dairy-free pizza', 'Eggs Florentine pizza'\n",
    "* Deep-pan pizza: 'Cheat's deep-pan pizza'\n",
    "* Frying pan pizza: 'Frying pan pizza bianco with mushrooms & egg', 'Frying pan pizza with aubergine, ricotta & mint', 'Frying pan pizza', 'Frying pan pizza pie'\n",
    "* Others: 'Mini top-your-own pizzas', 'Pesto pizza with artichokes & prosciutto'\n",
    "\n",
    "In this process, I also identified some potential outliers: ['Cookie dough pizza'](https://www.bbcgoodfood.com/recipes/cookie-dough-pizza), ['Cauliflower crust pizza'](https://www.bbcgoodfood.com/recipes/cauliflower-crust-pizza), ['Tuna melt pizza baguettes'](https://www.bbcgoodfood.com/recipes/tuna-melt-pizza-baguettes)."
   ]
  },
  {
   "cell_type": "code",
   "execution_count": 409,
   "metadata": {},
   "outputs": [
    {
     "name": "stdout",
     "output_type": "stream",
     "text": [
      "Before: 118\n",
      "After: 109\n",
      "category\n",
      "Deep-pan      1\n",
      "Florentine    4\n",
      "Frying-pan    4\n",
      "Margherita    5\n",
      "Name: category, dtype: int64\n"
     ]
    },
    {
     "data": {
      "text/html": [
       "<div>\n",
       "<style scoped>\n",
       "    .dataframe tbody tr th:only-of-type {\n",
       "        vertical-align: middle;\n",
       "    }\n",
       "\n",
       "    .dataframe tbody tr th {\n",
       "        vertical-align: top;\n",
       "    }\n",
       "\n",
       "    .dataframe thead th {\n",
       "        text-align: right;\n",
       "    }\n",
       "</style>\n",
       "<table border=\"1\" class=\"dataframe\">\n",
       "  <thead>\n",
       "    <tr style=\"text-align: right;\">\n",
       "      <th></th>\n",
       "      <th>article_id</th>\n",
       "      <th>title</th>\n",
       "      <th>ratings</th>\n",
       "      <th>serves</th>\n",
       "      <th>ingredients</th>\n",
       "      <th>cusine</th>\n",
       "      <th>courses</th>\n",
       "      <th>category</th>\n",
       "    </tr>\n",
       "  </thead>\n",
       "  <tbody>\n",
       "    <tr>\n",
       "      <th>0</th>\n",
       "      <td>102136</td>\n",
       "      <td>Pizza puff pinwheels</td>\n",
       "      <td>92</td>\n",
       "      <td>12</td>\n",
       "      <td>[puff pastry, pasta, ham, cheddar, egg, oregano]</td>\n",
       "      <td>Italian</td>\n",
       "      <td>[Treat, Starter, Snack, Afternoon tea]</td>\n",
       "      <td>None</td>\n",
       "    </tr>\n",
       "    <tr>\n",
       "      <th>1</th>\n",
       "      <td>4278386</td>\n",
       "      <td>Smoking chilli chicken &amp; sweetcorn pizza</td>\n",
       "      <td>100</td>\n",
       "      <td>4</td>\n",
       "      <td>[barbecue sauce, chipotle paste, pizza base, m...</td>\n",
       "      <td></td>\n",
       "      <td>[Main course]</td>\n",
       "      <td>None</td>\n",
       "    </tr>\n",
       "    <tr>\n",
       "      <th>2</th>\n",
       "      <td>7829316</td>\n",
       "      <td>Next level Margherita pizza</td>\n",
       "      <td>100</td>\n",
       "      <td>0</td>\n",
       "      <td>[strong white flour, fast-action dried yeast, ...</td>\n",
       "      <td></td>\n",
       "      <td>[Dinner, Lunch, Main course]</td>\n",
       "      <td>Margherita</td>\n",
       "    </tr>\n",
       "    <tr>\n",
       "      <th>3</th>\n",
       "      <td>96966</td>\n",
       "      <td>Very simple Margherita pizza</td>\n",
       "      <td>98</td>\n",
       "      <td>2</td>\n",
       "      <td>[olive oil, plain flour, yeast, sugar, water, ...</td>\n",
       "      <td>Italian</td>\n",
       "      <td>[Dinner, Main course]</td>\n",
       "      <td>Margherita</td>\n",
       "    </tr>\n",
       "    <tr>\n",
       "      <th>4</th>\n",
       "      <td>3410721</td>\n",
       "      <td>Holiday pizzas</td>\n",
       "      <td>93</td>\n",
       "      <td>0</td>\n",
       "      <td>[bread flour, sugar, fast-action dried yeast, ...</td>\n",
       "      <td>Italian</td>\n",
       "      <td>[Main course]</td>\n",
       "      <td>None</td>\n",
       "    </tr>\n",
       "  </tbody>\n",
       "</table>\n",
       "</div>"
      ],
      "text/plain": [
       "  article_id                                     title ratings serves  \\\n",
       "0     102136                      Pizza puff pinwheels      92     12   \n",
       "1    4278386  Smoking chilli chicken & sweetcorn pizza     100      4   \n",
       "2    7829316               Next level Margherita pizza     100      0   \n",
       "3      96966              Very simple Margherita pizza      98      2   \n",
       "4    3410721                            Holiday pizzas      93      0   \n",
       "\n",
       "                                         ingredients   cusine  \\\n",
       "0   [puff pastry, pasta, ham, cheddar, egg, oregano]  Italian   \n",
       "1  [barbecue sauce, chipotle paste, pizza base, m...            \n",
       "2  [strong white flour, fast-action dried yeast, ...            \n",
       "3  [olive oil, plain flour, yeast, sugar, water, ...  Italian   \n",
       "4  [bread flour, sugar, fast-action dried yeast, ...  Italian   \n",
       "\n",
       "                                  courses    category  \n",
       "0  [Treat, Starter, Snack, Afternoon tea]        None  \n",
       "1                           [Main course]        None  \n",
       "2            [Dinner, Lunch, Main course]  Margherita  \n",
       "3                   [Dinner, Main course]  Margherita  \n",
       "4                           [Main course]        None  "
      ]
     },
     "execution_count": 409,
     "metadata": {},
     "output_type": "execute_result"
    }
   ],
   "source": [
    "df_pizza = data_df[data_df.title.str.lower().str.contains(\"pizza\")].reset_index(drop = True)\n",
    "print(f\"Before: {df_pizza.shape[0]}\")\n",
    "\n",
    "# drop the non-pizza recipes\n",
    "list_nonpizza = ['Steak with pizzaiola sauce', '5 easy pizza toppings', 'Pizza omelette', 'Baked cauliflower pizzaiola', 'Pizza baked potato', 'Puff pizza tart', 'Mini pizza quiches', 'Pizzadillas', 'Pizza pasta salad']\n",
    "df_pizza = df_pizza[~df_pizza.title.isin(list_nonpizza)].reset_index(drop = True)\n",
    "\n",
    "# label the rest\n",
    "df_pizza[\"category\"] = None\n",
    "df_pizza.loc[df_pizza.title.str.contains(\"Margherita\"), \"category\"] = \"Margherita\"\n",
    "df_pizza.loc[df_pizza.title.str.contains(\"Florentine|Florentina|Fiorentina\", regex=True), \"category\"] = \"Florentine\"\n",
    "df_pizza.loc[df_pizza.title.str.contains(\"Frying pan\"), \"category\"] = \"Frying-pan\"\n",
    "df_pizza.loc[df_pizza.title.str.contains(\"deep-pan\"), \"category\"] = \"Deep-pan\"\n",
    "\n",
    "print(f\"After: {df_pizza.shape[0]}\")\n",
    "print(df_pizza.groupby(\"category\")[\"category\"].count())\n",
    "\n",
    "df_pizza.head()"
   ]
  },
  {
   "cell_type": "markdown",
   "metadata": {},
   "source": [
    "The original recipe with article_id [4278386](https://www.bbcgoodfood.com/recipes/smoking-chilli-chicken-sweetcorn-pizza):\n",
    "\n",
    "* 100g barbecue sauce\n",
    "* 1-2 tbsp chipotle paste , or more if you like it spicy\n",
    "* 2 large ready-made pizza bases\n",
    "* 175g mozzarella , grated (ready-grated is fine)\n",
    "* 200g can sweetcorn , drained\n",
    "* 300g jar red pepper , drained and torn into slices\n",
    "* 200g cooked sliced chicken\n",
    "* small pack coriander , leaves only\n",
    "* 2 fat green chillies , sliced, seeds removed (optional)"
   ]
  },
  {
   "cell_type": "markdown",
   "metadata": {},
   "source": [
    "#### Ingredient list cleanup\n",
    "\n",
    "This dataset already comes with pre-processed ingredient lists with the measuring units and most of the descriptive terms removed. But there is still room for further clean-up, e.g., 'strong white flour' -> 'flour'. I manually created a set of mapping rules to aggregate ingredients (see `src/ingredient_mapper.json`), reducing the number of unique ingredients from 270 to 194.  \n",
    "\n",
    "**Question**\n",
    "* Granularity\n",
    "    - Should we treat \"pizza base\" and \"pizza base mix\" as the same? What about \"pizza base mix\" and \"bread mix\"?\n",
    "    - Brown sugar and regular sugar? Balsamic vinegar and red wine vinegar?\n",
    "    - 'olive oil' -> 'oil'? 'tomato sauce' -> 'tomato'?\n",
    "* How to automatically generate these mapping rules?"
   ]
  },
  {
   "cell_type": "code",
   "execution_count": 435,
   "metadata": {},
   "outputs": [
    {
     "name": "stdout",
     "output_type": "stream",
     "text": [
      "Num of unique ingredients (before cleaning):  270\n",
      ">>> puff pastry,pasta,ham,cheddar,egg,oregano\n",
      "<<< cheddar,pasta,ham,oregano,egg,puff pastry\n",
      "\n",
      ">>> barbecue sauce,chipotle paste,pizza base,mozzarella,sweetcorn,red pepper,chicken,coriander,green chilli\n",
      "<<< mozzarella,sweetcorn,chicken,barbecue sauce,red pepper,pizza base,chipotle paste,coriander,chilli\n",
      "\n",
      ">>> strong white flour,fast-action dried yeast,plum tomatoes,extra virgin olive oil,oregano,basil,parmesan,mozzarella\n",
      "<<< oil,mozzarella,parmesan,flour,basil,tomato,oregano,yeast\n",
      "\n",
      ">>> olive oil,plain flour,yeast,sugar,water,passata,mozzarella,parmesan,basil,salad\n",
      "<<< oil,mozzarella,passata,salad,parmesan,flour,sugar,basil,yeast,water\n",
      "\n",
      ">>> bread flour,sugar,fast-action dried yeast,olive oil,water,garlic clove,passata,tomato purÃ©e,oregano,basil leaf,sugar,red wine vinegar,mozzarella,houmous\n",
      "<<< oil,mozzarella,garlic clove,passata,houmous,flour,sugar,tomato,basil,red wine vinegar,oregano,yeast,water\n",
      "\n",
      "Num of unique ingredients (after cleaning): 194\n"
     ]
    },
    {
     "data": {
      "text/html": [
       "<div>\n",
       "<style scoped>\n",
       "    .dataframe tbody tr th:only-of-type {\n",
       "        vertical-align: middle;\n",
       "    }\n",
       "\n",
       "    .dataframe tbody tr th {\n",
       "        vertical-align: top;\n",
       "    }\n",
       "\n",
       "    .dataframe thead th {\n",
       "        text-align: right;\n",
       "    }\n",
       "</style>\n",
       "<table border=\"1\" class=\"dataframe\">\n",
       "  <thead>\n",
       "    <tr style=\"text-align: right;\">\n",
       "      <th></th>\n",
       "      <th>ingredient</th>\n",
       "      <th>freq</th>\n",
       "    </tr>\n",
       "  </thead>\n",
       "  <tbody>\n",
       "    <tr>\n",
       "      <th>0</th>\n",
       "      <td>oil</td>\n",
       "      <td>75</td>\n",
       "    </tr>\n",
       "    <tr>\n",
       "      <th>1</th>\n",
       "      <td>tomato</td>\n",
       "      <td>54</td>\n",
       "    </tr>\n",
       "    <tr>\n",
       "      <th>2</th>\n",
       "      <td>flour</td>\n",
       "      <td>51</td>\n",
       "    </tr>\n",
       "    <tr>\n",
       "      <th>3</th>\n",
       "      <td>mozzarella</td>\n",
       "      <td>49</td>\n",
       "    </tr>\n",
       "    <tr>\n",
       "      <th>4</th>\n",
       "      <td>garlic clove</td>\n",
       "      <td>37</td>\n",
       "    </tr>\n",
       "    <tr>\n",
       "      <th>5</th>\n",
       "      <td>yeast</td>\n",
       "      <td>33</td>\n",
       "    </tr>\n",
       "    <tr>\n",
       "      <th>6</th>\n",
       "      <td>onion</td>\n",
       "      <td>32</td>\n",
       "    </tr>\n",
       "    <tr>\n",
       "      <th>7</th>\n",
       "      <td>basil</td>\n",
       "      <td>29</td>\n",
       "    </tr>\n",
       "    <tr>\n",
       "      <th>8</th>\n",
       "      <td>bread</td>\n",
       "      <td>22</td>\n",
       "    </tr>\n",
       "    <tr>\n",
       "      <th>9</th>\n",
       "      <td>olive</td>\n",
       "      <td>19</td>\n",
       "    </tr>\n",
       "  </tbody>\n",
       "</table>\n",
       "</div>"
      ],
      "text/plain": [
       "     ingredient  freq\n",
       "0           oil    75\n",
       "1        tomato    54\n",
       "2         flour    51\n",
       "3    mozzarella    49\n",
       "4  garlic clove    37\n",
       "5         yeast    33\n",
       "6         onion    32\n",
       "7         basil    29\n",
       "8         bread    22\n",
       "9         olive    19"
      ]
     },
     "execution_count": 435,
     "metadata": {},
     "output_type": "execute_result"
    }
   ],
   "source": [
    "with open(\"ingredient_mapper.json\", \"r\") as f:\n",
    "    ingredient_mapper = json.load(f)\n",
    "# print(json.dumps(ingredient_mapper, indent=4))\n",
    "\n",
    "from itertools import chain\n",
    "from collections import defaultdict\n",
    "print(\"Num of unique ingredients (before cleaning): \", len(set(chain.from_iterable(df_pizza[\"ingredients\"]))))\n",
    "\n",
    "# further clean up the ingredients\n",
    "df_pizza[\"ingredients_cleaned\"] = [\n",
    "    list(set([ingredient_mapper.get(item, item) for item in ing_list])) \\\n",
    "        for ing_list in df_pizza[\"ingredients\"]\n",
    "]\n",
    "# row-to-row comparison\n",
    "for i in range(5):\n",
    "    print(f\">>> {','.join(df_pizza.ingredients[i])}\\n<<< {','.join(df_pizza.ingredients_cleaned[i])}\\n\")\n",
    "\n",
    "# compute frequency table\n",
    "ingredients = defaultdict(int)\n",
    "for item in chain.from_iterable(df_pizza[\"ingredients_cleaned\"]):\n",
    "    ingredients[item] += 1\n",
    "\n",
    "df_ingredients = pd.DataFrame.from_dict(ingredients, orient = \"index\", columns=[\"freq\"])\\\n",
    "    .sort_values(by=\"freq\", ascending=False).reset_index().rename(columns={'index': 'ingredient'})\n",
    "\n",
    "print(f\"Num of unique ingredients (after cleaning): {len(df_ingredients)}\")\n",
    "df_ingredients.head(10)\n",
    "\n",
    "# df_ingredients[df_ingredients['ingredient'].str.contains('potato')].ingredient.tolist()"
   ]
  },
  {
   "cell_type": "code",
   "execution_count": 485,
   "metadata": {},
   "outputs": [
    {
     "data": {
      "text/plain": [
       "[(('flour', 'oil'), 44),\n",
       " (('oil', 'tomato'), 41),\n",
       " (('garlic clove', 'oil'), 35),\n",
       " (('mozzarella', 'tomato'), 34),\n",
       " (('oil', 'yeast'), 33),\n",
       " (('flour', 'yeast'), 32),\n",
       " (('mozzarella', 'oil'), 32),\n",
       " (('flour', 'tomato'), 29),\n",
       " (('flour', 'mozzarella'), 25),\n",
       " (('flour', 'garlic clove'), 25)]"
      ]
     },
     "execution_count": 485,
     "metadata": {},
     "output_type": "execute_result"
    }
   ],
   "source": [
    "from collections import Counter\n",
    "from itertools import combinations\n",
    "# create a dictionary that counts the occurrences of each ingredient pair\n",
    "combi_count = dict(Counter(\n",
    "    chain.from_iterable([\n",
    "        list(combinations(sorted(ing_list), 2)) for ing_list in df_pizza.ingredients_cleaned\n",
    "    ])\n",
    "))\n",
    "sorted(combi_count.items(), key=lambda item: item[1], reverse=True)[:10]"
   ]
  },
  {
   "cell_type": "markdown",
   "metadata": {},
   "source": [
    "#### Visualization attempts"
   ]
  },
  {
   "cell_type": "markdown",
   "metadata": {},
   "source": [
    "##### Bar/Pie Charts\n",
    "\n",
    "Select several main ingredients to plot proportion?\n",
    "\n",
    "* Refer to [Baking with machine learning](https://sararobinson.dev/2020/04/30/baking-machine-learning.html) - 12 main ingredients: flour, sugar, starter, salt, yeast, milk, water, oil, eggs, baking powder, baking soda, butter.\n",
    "\n",
    "Problem is the current dataset **does not have quantity information.**"
   ]
  },
  {
   "cell_type": "code",
   "execution_count": 430,
   "metadata": {},
   "outputs": [
    {
     "data": {
      "text/plain": [
       "['potato', 'new potato', 'Jersey Royal potato']"
      ]
     },
     "execution_count": 430,
     "metadata": {},
     "output_type": "execute_result"
    }
   ],
   "source": [
    "major_ingredients = [\"flour\", \"sugar\", \"salt\", \"yeast\", \"milk\", \"water\", \"oil\", \"egg\", \"baking powder\", \"butter\"]"
   ]
  },
  {
   "cell_type": "markdown",
   "metadata": {},
   "source": [
    "##### Network Graphs"
   ]
  },
  {
   "cell_type": "code",
   "execution_count": 413,
   "metadata": {},
   "outputs": [],
   "source": [
    "import matplotlib.pyplot as plt\n",
    "import networkx as nx\n",
    "import nx_altair as nxa"
   ]
  },
  {
   "cell_type": "code",
   "execution_count": 636,
   "metadata": {},
   "outputs": [
    {
     "name": "stdout",
     "output_type": "stream",
     "text": [
      "Num of edges:  41\n",
      "Num of nodes:  16\n"
     ]
    },
    {
     "data": {
      "text/html": [
       "\n",
       "<div id=\"altair-viz-674ffc159c1f4f3a8fa5c72b5fe56522\"></div>\n",
       "<script type=\"text/javascript\">\n",
       "  var VEGA_DEBUG = (typeof VEGA_DEBUG == \"undefined\") ? {} : VEGA_DEBUG;\n",
       "  (function(spec, embedOpt){\n",
       "    let outputDiv = document.currentScript.previousElementSibling;\n",
       "    if (outputDiv.id !== \"altair-viz-674ffc159c1f4f3a8fa5c72b5fe56522\") {\n",
       "      outputDiv = document.getElementById(\"altair-viz-674ffc159c1f4f3a8fa5c72b5fe56522\");\n",
       "    }\n",
       "    const paths = {\n",
       "      \"vega\": \"https://cdn.jsdelivr.net/npm//vega@5?noext\",\n",
       "      \"vega-lib\": \"https://cdn.jsdelivr.net/npm//vega-lib?noext\",\n",
       "      \"vega-lite\": \"https://cdn.jsdelivr.net/npm//vega-lite@4.17.0?noext\",\n",
       "      \"vega-embed\": \"https://cdn.jsdelivr.net/npm//vega-embed@6?noext\",\n",
       "    };\n",
       "\n",
       "    function maybeLoadScript(lib, version) {\n",
       "      var key = `${lib.replace(\"-\", \"\")}_version`;\n",
       "      return (VEGA_DEBUG[key] == version) ?\n",
       "        Promise.resolve(paths[lib]) :\n",
       "        new Promise(function(resolve, reject) {\n",
       "          var s = document.createElement('script');\n",
       "          document.getElementsByTagName(\"head\")[0].appendChild(s);\n",
       "          s.async = true;\n",
       "          s.onload = () => {\n",
       "            VEGA_DEBUG[key] = version;\n",
       "            return resolve(paths[lib]);\n",
       "          };\n",
       "          s.onerror = () => reject(`Error loading script: ${paths[lib]}`);\n",
       "          s.src = paths[lib];\n",
       "        });\n",
       "    }\n",
       "\n",
       "    function showError(err) {\n",
       "      outputDiv.innerHTML = `<div class=\"error\" style=\"color:red;\">${err}</div>`;\n",
       "      throw err;\n",
       "    }\n",
       "\n",
       "    function displayChart(vegaEmbed) {\n",
       "      vegaEmbed(outputDiv, spec, embedOpt)\n",
       "        .catch(err => showError(`Javascript Error: ${err.message}<br>This usually means there's a typo in your chart specification. See the javascript console for the full traceback.`));\n",
       "    }\n",
       "\n",
       "    if(typeof define === \"function\" && define.amd) {\n",
       "      requirejs.config({paths});\n",
       "      require([\"vega-embed\"], displayChart, err => showError(`Error loading script: ${err.message}`));\n",
       "    } else {\n",
       "      maybeLoadScript(\"vega\", \"5\")\n",
       "        .then(() => maybeLoadScript(\"vega-lite\", \"4.17.0\"))\n",
       "        .then(() => maybeLoadScript(\"vega-embed\", \"6\"))\n",
       "        .catch(showError)\n",
       "        .then(() => displayChart(vegaEmbed));\n",
       "    }\n",
       "  })({\"config\": {\"view\": {\"continuousWidth\": 400, \"continuousHeight\": 300}}, \"layer\": [{\"data\": {\"name\": \"data-3841a27f069e56f46a09ada52fcb5ef0\"}, \"mark\": {\"type\": \"line\", \"color\": \"#5D8AA8\", \"opacity\": 1}, \"encoding\": {\"detail\": {\"field\": \"edge\", \"type\": \"quantitative\"}, \"size\": {\"field\": \"edge_weight\", \"legend\": null, \"type\": \"quantitative\"}, \"x\": {\"axis\": {\"grid\": false, \"labels\": false, \"ticks\": false, \"title\": \"\"}, \"field\": \"x\", \"type\": \"quantitative\"}, \"y\": {\"axis\": {\"grid\": false, \"labels\": false, \"ticks\": false, \"title\": \"\"}, \"field\": \"y\", \"type\": \"quantitative\"}}, \"selection\": {\"selector040\": {\"type\": \"interval\", \"bind\": \"scales\", \"encodings\": [\"x\", \"y\"]}}}, {\"data\": {\"name\": \"data-fb87b36c90d424e975a5c1d17aafac03\"}, \"mark\": {\"type\": \"point\", \"opacity\": 1, \"size\": 300, \"strokeWidth\": 1.0}, \"encoding\": {\"fill\": {\"field\": \"weight\", \"scale\": {\"scheme\": \"blues\"}, \"type\": \"quantitative\"}, \"x\": {\"axis\": {\"grid\": false, \"labels\": false, \"ticks\": false}, \"field\": \"x\", \"type\": \"quantitative\"}, \"y\": {\"axis\": {\"grid\": false, \"labels\": false, \"ticks\": false}, \"field\": \"y\", \"type\": \"quantitative\"}}}, {\"data\": {\"name\": \"data-fb87b36c90d424e975a5c1d17aafac03\"}, \"mark\": {\"type\": \"text\", \"baseline\": \"middle\", \"fill\": \"black\", \"size\": 15}, \"encoding\": {\"text\": {\"field\": \"label\", \"type\": \"nominal\"}, \"x\": {\"axis\": {\"grid\": false, \"labels\": false, \"ticks\": false}, \"field\": \"x\", \"type\": \"quantitative\"}, \"y\": {\"axis\": {\"grid\": false, \"labels\": false, \"ticks\": false}, \"field\": \"y\", \"type\": \"quantitative\"}}}], \"$schema\": \"https://vega.github.io/schema/vega-lite/v4.17.0.json\", \"datasets\": {\"data-3841a27f069e56f46a09ada52fcb5ef0\": [{\"y\": 0.20591491875862764, \"edge\": 0, \"pair\": [\"basil\", \"flour\"], \"x\": -0.1197128424804056, \"target\": \"flour\", \"edge_weight\": 16, \"source\": \"basil\"}, {\"y\": -0.06557198117619564, \"edge\": 0, \"pair\": [\"basil\", \"flour\"], \"x\": -0.09999866382248197, \"target\": \"flour\", \"edge_weight\": 16, \"source\": \"basil\"}, {\"y\": 0.20591491875862764, \"edge\": 1, \"pair\": [\"basil\", \"mozzarella\"], \"x\": -0.1197128424804056, \"target\": \"mozzarella\", \"edge_weight\": 20, \"source\": \"basil\"}, {\"y\": 0.4215765266846388, \"edge\": 1, \"pair\": [\"basil\", \"mozzarella\"], \"x\": -0.06399907170517544, \"target\": \"mozzarella\", \"edge_weight\": 20, \"source\": \"basil\"}, {\"y\": 0.20591491875862764, \"edge\": 2, \"pair\": [\"basil\", \"oil\"], \"x\": -0.1197128424804056, \"target\": \"oil\", \"edge_weight\": 23, \"source\": \"basil\"}, {\"y\": -0.21915056163087027, \"edge\": 2, \"pair\": [\"basil\", \"oil\"], \"x\": 0.05374950538474092, \"target\": \"oil\", \"edge_weight\": 23, \"source\": \"basil\"}, {\"y\": 0.20591491875862764, \"edge\": 3, \"pair\": [\"basil\", \"tomato\"], \"x\": -0.1197128424804056, \"target\": \"tomato\", \"edge_weight\": 21, \"source\": \"basil\"}, {\"y\": 0.056726047092859444, \"edge\": 3, \"pair\": [\"basil\", \"tomato\"], \"x\": 0.13225020650964425, \"target\": \"tomato\", \"edge_weight\": 21, \"source\": \"basil\"}, {\"y\": 0.20591491875862764, \"edge\": 4, \"pair\": [\"basil\", \"yeast\"], \"x\": -0.1197128424804056, \"target\": \"yeast\", \"edge_weight\": 12, \"source\": \"basil\"}, {\"y\": -0.008204850628300958, \"edge\": 4, \"pair\": [\"basil\", \"yeast\"], \"x\": -0.2362381547699536, \"target\": \"yeast\", \"edge_weight\": 12, \"source\": \"basil\"}, {\"y\": 0.20591491875862764, \"edge\": 5, \"pair\": [\"basil\", \"garlic clove\"], \"x\": -0.1197128424804056, \"target\": \"garlic clove\", \"edge_weight\": 15, \"source\": \"basil\"}, {\"y\": 0.1866490156981765, \"edge\": 5, \"pair\": [\"basil\", \"garlic clove\"], \"x\": 0.16595486466183204, \"target\": \"garlic clove\", \"edge_weight\": 15, \"source\": \"basil\"}, {\"y\": -0.06557198117619564, \"edge\": 6, \"pair\": [\"flour\", \"mozzarella\"], \"x\": -0.09999866382248197, \"target\": \"mozzarella\", \"edge_weight\": 25, \"source\": \"flour\"}, {\"y\": 0.4215765266846388, \"edge\": 6, \"pair\": [\"flour\", \"mozzarella\"], \"x\": -0.06399907170517544, \"target\": \"mozzarella\", \"edge_weight\": 25, \"source\": \"flour\"}, {\"y\": -0.06557198117619564, \"edge\": 7, \"pair\": [\"flour\", \"oil\"], \"x\": -0.09999866382248197, \"target\": \"oil\", \"edge_weight\": 44, \"source\": \"flour\"}, {\"y\": -0.21915056163087027, \"edge\": 7, \"pair\": [\"flour\", \"oil\"], \"x\": 0.05374950538474092, \"target\": \"oil\", \"edge_weight\": 44, \"source\": \"flour\"}, {\"y\": -0.06557198117619564, \"edge\": 8, \"pair\": [\"flour\", \"tomato\"], \"x\": -0.09999866382248197, \"target\": \"tomato\", \"edge_weight\": 29, \"source\": \"flour\"}, {\"y\": 0.056726047092859444, \"edge\": 8, \"pair\": [\"flour\", \"tomato\"], \"x\": 0.13225020650964425, \"target\": \"tomato\", \"edge_weight\": 29, \"source\": \"flour\"}, {\"y\": -0.06557198117619564, \"edge\": 9, \"pair\": [\"flour\", \"yeast\"], \"x\": -0.09999866382248197, \"target\": \"yeast\", \"edge_weight\": 32, \"source\": \"flour\"}, {\"y\": -0.008204850628300958, \"edge\": 9, \"pair\": [\"flour\", \"yeast\"], \"x\": -0.2362381547699536, \"target\": \"yeast\", \"edge_weight\": 32, \"source\": \"flour\"}, {\"y\": -0.06557198117619564, \"edge\": 10, \"pair\": [\"flour\", \"sugar\"], \"x\": -0.09999866382248197, \"target\": \"sugar\", \"edge_weight\": 13, \"source\": \"flour\"}, {\"y\": -0.4600355245732178, \"edge\": 10, \"pair\": [\"flour\", \"sugar\"], \"x\": -0.1928041038191293, \"target\": \"sugar\", \"edge_weight\": 13, \"source\": \"flour\"}, {\"y\": -0.06557198117619564, \"edge\": 11, \"pair\": [\"flour\", \"water\"], \"x\": -0.09999866382248197, \"target\": \"water\", \"edge_weight\": 13, \"source\": \"flour\"}, {\"y\": -0.12546988068609596, \"edge\": 11, \"pair\": [\"flour\", \"water\"], \"x\": -0.49981240776829255, \"target\": \"water\", \"edge_weight\": 13, \"source\": \"flour\"}, {\"y\": -0.06557198117619564, \"edge\": 12, \"pair\": [\"flour\", \"garlic clove\"], \"x\": -0.09999866382248197, \"target\": \"garlic clove\", \"edge_weight\": 25, \"source\": \"flour\"}, {\"y\": 0.1866490156981765, \"edge\": 12, \"pair\": [\"flour\", \"garlic clove\"], \"x\": 0.16595486466183204, \"target\": \"garlic clove\", \"edge_weight\": 25, \"source\": \"flour\"}, {\"y\": -0.06557198117619564, \"edge\": 13, \"pair\": [\"flour\", \"salt\"], \"x\": -0.09999866382248197, \"target\": \"salt\", \"edge_weight\": 15, \"source\": \"flour\"}, {\"y\": -0.3561738234595477, \"edge\": 13, \"pair\": [\"flour\", \"salt\"], \"x\": -0.4023293665395842, \"target\": \"salt\", \"edge_weight\": 15, \"source\": \"flour\"}, {\"y\": -0.06557198117619564, \"edge\": 14, \"pair\": [\"flour\", \"onion\"], \"x\": -0.09999866382248197, \"target\": \"onion\", \"edge_weight\": 15, \"source\": \"flour\"}, {\"y\": -0.014375192235009427, \"edge\": 14, \"pair\": [\"flour\", \"onion\"], \"x\": 0.34965695830483406, \"target\": \"onion\", \"edge_weight\": 15, \"source\": \"flour\"}, {\"y\": 0.4215765266846388, \"edge\": 15, \"pair\": [\"mozzarella\", \"oil\"], \"x\": -0.06399907170517544, \"target\": \"oil\", \"edge_weight\": 32, \"source\": \"mozzarella\"}, {\"y\": -0.21915056163087027, \"edge\": 15, \"pair\": [\"mozzarella\", \"oil\"], \"x\": 0.05374950538474092, \"target\": \"oil\", \"edge_weight\": 32, \"source\": \"mozzarella\"}, {\"y\": 0.4215765266846388, \"edge\": 16, \"pair\": [\"mozzarella\", \"oregano\"], \"x\": -0.06399907170517544, \"target\": \"oregano\", \"edge_weight\": 12, \"source\": \"mozzarella\"}, {\"y\": 1.0, \"edge\": 16, \"pair\": [\"mozzarella\", \"oregano\"], \"x\": 0.105050484464986, \"target\": \"oregano\", \"edge_weight\": 12, \"source\": \"mozzarella\"}, {\"y\": 0.4215765266846388, \"edge\": 17, \"pair\": [\"mozzarella\", \"parmesan\"], \"x\": -0.06399907170517544, \"target\": \"parmesan\", \"edge_weight\": 12, \"source\": \"mozzarella\"}, {\"y\": 0.9563956730059682, \"edge\": 17, \"pair\": [\"mozzarella\", \"parmesan\"], \"x\": -0.3425265834977154, \"target\": \"parmesan\", \"edge_weight\": 12, \"source\": \"mozzarella\"}, {\"y\": 0.4215765266846388, \"edge\": 18, \"pair\": [\"mozzarella\", \"tomato\"], \"x\": -0.06399907170517544, \"target\": \"tomato\", \"edge_weight\": 34, \"source\": \"mozzarella\"}, {\"y\": 0.056726047092859444, \"edge\": 18, \"pair\": [\"mozzarella\", \"tomato\"], \"x\": 0.13225020650964425, \"target\": \"tomato\", \"edge_weight\": 34, \"source\": \"mozzarella\"}, {\"y\": 0.4215765266846388, \"edge\": 19, \"pair\": [\"mozzarella\", \"yeast\"], \"x\": -0.06399907170517544, \"target\": \"yeast\", \"edge_weight\": 16, \"source\": \"mozzarella\"}, {\"y\": -0.008204850628300958, \"edge\": 19, \"pair\": [\"mozzarella\", \"yeast\"], \"x\": -0.2362381547699536, \"target\": \"yeast\", \"edge_weight\": 16, \"source\": \"mozzarella\"}, {\"y\": 0.4215765266846388, \"edge\": 20, \"pair\": [\"mozzarella\", \"garlic clove\"], \"x\": -0.06399907170517544, \"target\": \"garlic clove\", \"edge_weight\": 17, \"source\": \"mozzarella\"}, {\"y\": 0.1866490156981765, \"edge\": 20, \"pair\": [\"mozzarella\", \"garlic clove\"], \"x\": 0.16595486466183204, \"target\": \"garlic clove\", \"edge_weight\": 17, \"source\": \"mozzarella\"}, {\"y\": -0.21915056163087027, \"edge\": 21, \"pair\": [\"oil\", \"tomato\"], \"x\": 0.05374950538474092, \"target\": \"tomato\", \"edge_weight\": 41, \"source\": \"oil\"}, {\"y\": 0.056726047092859444, \"edge\": 21, \"pair\": [\"oil\", \"tomato\"], \"x\": 0.13225020650964425, \"target\": \"tomato\", \"edge_weight\": 41, \"source\": \"oil\"}, {\"y\": -0.21915056163087027, \"edge\": 22, \"pair\": [\"oil\", \"yeast\"], \"x\": 0.05374950538474092, \"target\": \"yeast\", \"edge_weight\": 33, \"source\": \"oil\"}, {\"y\": -0.008204850628300958, \"edge\": 22, \"pair\": [\"oil\", \"yeast\"], \"x\": -0.2362381547699536, \"target\": \"yeast\", \"edge_weight\": 33, \"source\": \"oil\"}, {\"y\": -0.21915056163087027, \"edge\": 23, \"pair\": [\"oil\", \"sugar\"], \"x\": 0.05374950538474092, \"target\": \"sugar\", \"edge_weight\": 15, \"source\": \"oil\"}, {\"y\": -0.4600355245732178, \"edge\": 23, \"pair\": [\"oil\", \"sugar\"], \"x\": -0.1928041038191293, \"target\": \"sugar\", \"edge_weight\": 15, \"source\": \"oil\"}, {\"y\": -0.21915056163087027, \"edge\": 24, \"pair\": [\"oil\", \"water\"], \"x\": 0.05374950538474092, \"target\": \"water\", \"edge_weight\": 13, \"source\": \"oil\"}, {\"y\": -0.12546988068609596, \"edge\": 24, \"pair\": [\"oil\", \"water\"], \"x\": -0.49981240776829255, \"target\": \"water\", \"edge_weight\": 13, \"source\": \"oil\"}, {\"y\": -0.21915056163087027, \"edge\": 25, \"pair\": [\"oil\", \"garlic clove\"], \"x\": 0.05374950538474092, \"target\": \"garlic clove\", \"edge_weight\": 35, \"source\": \"oil\"}, {\"y\": 0.1866490156981765, \"edge\": 25, \"pair\": [\"oil\", \"garlic clove\"], \"x\": 0.16595486466183204, \"target\": \"garlic clove\", \"edge_weight\": 35, \"source\": \"oil\"}, {\"y\": -0.21915056163087027, \"edge\": 26, \"pair\": [\"oil\", \"salt\"], \"x\": 0.05374950538474092, \"target\": \"salt\", \"edge_weight\": 14, \"source\": \"oil\"}, {\"y\": -0.3561738234595477, \"edge\": 26, \"pair\": [\"oil\", \"salt\"], \"x\": -0.4023293665395842, \"target\": \"salt\", \"edge_weight\": 14, \"source\": \"oil\"}, {\"y\": -0.21915056163087027, \"edge\": 27, \"pair\": [\"oil\", \"pizza base\"], \"x\": 0.05374950538474092, \"target\": \"pizza base\", \"edge_weight\": 11, \"source\": \"oil\"}, {\"y\": -0.8549343325687051, \"edge\": 27, \"pair\": [\"oil\", \"pizza base\"], \"x\": 0.11479135358414777, \"target\": \"pizza base\", \"edge_weight\": 11, \"source\": \"oil\"}, {\"y\": -0.21915056163087027, \"edge\": 28, \"pair\": [\"oil\", \"olive\"], \"x\": 0.05374950538474092, \"target\": \"olive\", \"edge_weight\": 13, \"source\": \"oil\"}, {\"y\": -0.05966922220735658, \"edge\": 28, \"pair\": [\"oil\", \"olive\"], \"x\": 0.5313712660943755, \"target\": \"olive\", \"edge_weight\": 13, \"source\": \"oil\"}, {\"y\": -0.21915056163087027, \"edge\": 29, \"pair\": [\"oil\", \"onion\"], \"x\": 0.05374950538474092, \"target\": \"onion\", \"edge_weight\": 25, \"source\": \"oil\"}, {\"y\": -0.014375192235009427, \"edge\": 29, \"pair\": [\"oil\", \"onion\"], \"x\": 0.34965695830483406, \"target\": \"onion\", \"edge_weight\": 25, \"source\": \"oil\"}, {\"y\": -0.21915056163087027, \"edge\": 30, \"pair\": [\"oil\", \"rocket\"], \"x\": 0.05374950538474092, \"target\": \"rocket\", \"edge_weight\": 12, \"source\": \"oil\"}, {\"y\": -0.6636768120749709, \"edge\": 30, \"pair\": [\"oil\", \"rocket\"], \"x\": 0.5045965553981768, \"target\": \"rocket\", \"edge_weight\": 12, \"source\": \"oil\"}, {\"y\": 0.056726047092859444, \"edge\": 31, \"pair\": [\"tomato\", \"yeast\"], \"x\": 0.13225020650964425, \"target\": \"yeast\", \"edge_weight\": 20, \"source\": \"tomato\"}, {\"y\": -0.008204850628300958, \"edge\": 31, \"pair\": [\"tomato\", \"yeast\"], \"x\": -0.2362381547699536, \"target\": \"yeast\", \"edge_weight\": 20, \"source\": \"tomato\"}, {\"y\": 0.056726047092859444, \"edge\": 32, \"pair\": [\"tomato\", \"garlic clove\"], \"x\": 0.13225020650964425, \"target\": \"garlic clove\", \"edge_weight\": 21, \"source\": \"tomato\"}, {\"y\": 0.1866490156981765, \"edge\": 32, \"pair\": [\"tomato\", \"garlic clove\"], \"x\": 0.16595486466183204, \"target\": \"garlic clove\", \"edge_weight\": 21, \"source\": \"tomato\"}, {\"y\": 0.056726047092859444, \"edge\": 33, \"pair\": [\"tomato\", \"onion\"], \"x\": 0.13225020650964425, \"target\": \"onion\", \"edge_weight\": 13, \"source\": \"tomato\"}, {\"y\": -0.014375192235009427, \"edge\": 33, \"pair\": [\"tomato\", \"onion\"], \"x\": 0.34965695830483406, \"target\": \"onion\", \"edge_weight\": 13, \"source\": \"tomato\"}, {\"y\": 0.056726047092859444, \"edge\": 34, \"pair\": [\"tomato\", \"olive\"], \"x\": 0.13225020650964425, \"target\": \"olive\", \"edge_weight\": 12, \"source\": \"tomato\"}, {\"y\": -0.05966922220735658, \"edge\": 34, \"pair\": [\"tomato\", \"olive\"], \"x\": 0.5313712660943755, \"target\": \"olive\", \"edge_weight\": 12, \"source\": \"tomato\"}, {\"y\": -0.008204850628300958, \"edge\": 35, \"pair\": [\"yeast\", \"sugar\"], \"x\": -0.2362381547699536, \"target\": \"sugar\", \"edge_weight\": 12, \"source\": \"yeast\"}, {\"y\": -0.4600355245732178, \"edge\": 35, \"pair\": [\"yeast\", \"sugar\"], \"x\": -0.1928041038191293, \"target\": \"sugar\", \"edge_weight\": 12, \"source\": \"yeast\"}, {\"y\": -0.008204850628300958, \"edge\": 36, \"pair\": [\"yeast\", \"water\"], \"x\": -0.2362381547699536, \"target\": \"water\", \"edge_weight\": 13, \"source\": \"yeast\"}, {\"y\": -0.12546988068609596, \"edge\": 36, \"pair\": [\"yeast\", \"water\"], \"x\": -0.49981240776829255, \"target\": \"water\", \"edge_weight\": 13, \"source\": \"yeast\"}, {\"y\": -0.008204850628300958, \"edge\": 37, \"pair\": [\"yeast\", \"garlic clove\"], \"x\": -0.2362381547699536, \"target\": \"garlic clove\", \"edge_weight\": 20, \"source\": \"yeast\"}, {\"y\": 0.1866490156981765, \"edge\": 37, \"pair\": [\"yeast\", \"garlic clove\"], \"x\": 0.16595486466183204, \"target\": \"garlic clove\", \"edge_weight\": 20, \"source\": \"yeast\"}, {\"y\": -0.008204850628300958, \"edge\": 38, \"pair\": [\"yeast\", \"salt\"], \"x\": -0.2362381547699536, \"target\": \"salt\", \"edge_weight\": 12, \"source\": \"yeast\"}, {\"y\": -0.3561738234595477, \"edge\": 38, \"pair\": [\"yeast\", \"salt\"], \"x\": -0.4023293665395842, \"target\": \"salt\", \"edge_weight\": 12, \"source\": \"yeast\"}, {\"y\": 0.1866490156981765, \"edge\": 39, \"pair\": [\"garlic clove\", \"olive\"], \"x\": 0.16595486466183204, \"target\": \"olive\", \"edge_weight\": 11, \"source\": \"garlic clove\"}, {\"y\": -0.05966922220735658, \"edge\": 39, \"pair\": [\"garlic clove\", \"olive\"], \"x\": 0.5313712660943755, \"target\": \"olive\", \"edge_weight\": 11, \"source\": \"garlic clove\"}, {\"y\": 0.1866490156981765, \"edge\": 40, \"pair\": [\"garlic clove\", \"onion\"], \"x\": 0.16595486466183204, \"target\": \"onion\", \"edge_weight\": 12, \"source\": \"garlic clove\"}, {\"y\": -0.014375192235009427, \"edge\": 40, \"pair\": [\"garlic clove\", \"onion\"], \"x\": 0.34965695830483406, \"target\": \"onion\", \"edge_weight\": 12, \"source\": \"garlic clove\"}], \"data-fb87b36c90d424e975a5c1d17aafac03\": [{\"x\": -0.1197128424804056, \"weight\": 29, \"y\": 0.20591491875862764, \"label\": \"basil\"}, {\"x\": -0.09999866382248197, \"weight\": 51, \"y\": -0.06557198117619564, \"label\": \"flour\"}, {\"x\": -0.06399907170517544, \"weight\": 49, \"y\": 0.4215765266846388, \"label\": \"mozzarella\"}, {\"x\": 0.05374950538474092, \"weight\": 75, \"y\": -0.21915056163087027, \"label\": \"oil\"}, {\"x\": 0.13225020650964425, \"weight\": 54, \"y\": 0.056726047092859444, \"label\": \"tomato\"}, {\"x\": -0.2362381547699536, \"weight\": 33, \"y\": -0.008204850628300958, \"label\": \"yeast\"}, {\"x\": 0.105050484464986, \"weight\": 13, \"y\": 1.0, \"label\": \"oregano\"}, {\"x\": -0.3425265834977154, \"weight\": 13, \"y\": 0.9563956730059682, \"label\": \"parmesan\"}, {\"x\": -0.1928041038191293, \"weight\": 17, \"y\": -0.4600355245732178, \"label\": \"sugar\"}, {\"x\": -0.49981240776829255, \"weight\": 13, \"y\": -0.12546988068609596, \"label\": \"water\"}, {\"x\": 0.16595486466183204, \"weight\": 37, \"y\": 0.1866490156981765, \"label\": \"garlic clove\"}, {\"x\": -0.4023293665395842, \"weight\": 15, \"y\": -0.3561738234595477, \"label\": \"salt\"}, {\"x\": 0.11479135358414777, \"weight\": 18, \"y\": -0.8549343325687051, \"label\": \"pizza base\"}, {\"x\": 0.5313712660943755, \"weight\": 19, \"y\": -0.05966922220735658, \"label\": \"olive\"}, {\"x\": 0.34965695830483406, \"weight\": 32, \"y\": -0.014375192235009427, \"label\": \"onion\"}, {\"x\": 0.5045965553981768, \"weight\": 14, \"y\": -0.6636768120749709, \"label\": \"rocket\"}]}}, {\"mode\": \"vega-lite\"});\n",
       "</script>"
      ],
      "text/plain": [
       "alt.LayerChart(...)"
      ]
     },
     "execution_count": 636,
     "metadata": {},
     "output_type": "execute_result"
    },
    {
     "data": {
      "image/png": "[encoded data removed]",
      "text/plain": [
       "<Figure size 432x288 with 1 Axes>"
      ]
     },
     "metadata": {},
     "output_type": "display_data"
    }
   ],
   "source": [
    "G = nx.Graph()\n",
    "# G.add_edges_from(combi_count.keys())\n",
    "G.add_edges_from([item[0] for item in combi_count.items() if item[1] > 10])\n",
    "print(\"Num of edges: \", G.number_of_edges())\n",
    "print(\"Num of nodes: \", G.number_of_nodes())\n",
    "\n",
    "for edge in G.edges():\n",
    "    occurrence = combi_count[edge] if edge in combi_count else combi_count[(edge[1], edge[0])]\n",
    "    G.edges()[edge].update({\n",
    "        \"edge_weight\": occurrence\n",
    "    })\n",
    "\n",
    "for node in G.nodes():\n",
    "    G.nodes()[node].update({\n",
    "        \"label\": node,\n",
    "        \"weight\": ingredients[node]\n",
    "    })\n",
    "\n",
    "# draw the graph using networkx (matplotlib)\n",
    "weights = [ingredients[node] for node in G.nodes()]\n",
    "widths = [G.edges()[edge]['edge_weight'] for edge in G.edges()]\n",
    "nx.draw(\n",
    "    G, with_labels=True, pos=nx.spring_layout(G, seed=23),\n",
    "    node_size=np.array(weights)*10, node_color=weights, cmap=plt.cm.viridis_r, vmin=2, vmax=150,\n",
    "    edge_color=widths, edge_cmap=plt.cm.viridis_r, edge_vmin=0, edge_vmax=35\n",
    ")\n",
    "\n",
    "# draw the graph using nx-altair\n",
    "viz = nxa.draw_networkx(\n",
    "    G,\n",
    "    node_label='label',\n",
    "    node_color='weight', cmap='blues',\n",
    "    pos=nx.spring_layout(G, seed=23),\n",
    "    width='edge_weight',\n",
    "    edge_color=\"#5D8AA8\",\n",
    ")\n",
    "viz.interactive()"
   ]
  },
  {
   "cell_type": "markdown",
   "metadata": {},
   "source": [
    "## Annotated recipes from [\"RecipeScape\"](https://recipescape.kixlab.org/)\n",
    "\n",
    "Annotated recipes in JSON format for [chocolate chip cookies](https://recipescape.kixlab.org/ccc_trees.json) and [tomato pasta](https://recipescape.kixlab.org/tomatopasta_trees.json)."
   ]
  },
  {
   "cell_type": "code",
   "execution_count": 13,
   "metadata": {},
   "outputs": [
    {
     "name": "stdout",
     "output_type": "stream",
     "text": [
      "Resource dataset/recipescape-choco-chip-cookies.json already exists.\n"
     ]
    }
   ],
   "source": [
    "# download dataset from url if not already exists\n",
    "filename_dataset = \"recipescape-choco-chip-cookies.json\"\n",
    "download_resource(\n",
    "    resource_url=\"https://recipescape.kixlab.org/ccc_trees.json\",\n",
    "    local_path=str(path_dataset/filename_dataset)\n",
    ")\n",
    "# read in the json file\n",
    "import json\n",
    "with open(path_dataset/filename_dataset, 'r') as f:\n",
    "    data = json.load(f)\n",
    "# data is a list of dict objects, each dict has keys 'id' and 'tree'"
   ]
  },
  {
   "cell_type": "markdown",
   "metadata": {},
   "source": [
    "This dataset is a list of dict objects, each dict has keys 'id' and 'tree'."
   ]
  },
  {
   "cell_type": "code",
   "execution_count": 42,
   "metadata": {},
   "outputs": [
    {
     "name": "stdout",
     "output_type": "stream",
     "text": [
      "Num of elements: 490\n",
      "Keys of an element:  dict_keys(['id', 'tree'])\n"
     ]
    }
   ],
   "source": [
    "print(f\"Num of elements: {len(data)}\")\n",
    "print(\"Keys of an element: \", data[0].keys())\n",
    "# print(json.dumps(data, indent=4))"
   ]
  },
  {
   "cell_type": "markdown",
   "metadata": {},
   "source": [
    "A 'tree' is also a list of dict objects, each with keys 'word' and 'ingredient'. "
   ]
  },
  {
   "cell_type": "code",
   "execution_count": 45,
   "metadata": {},
   "outputs": [
    {
     "name": "stdout",
     "output_type": "stream",
     "text": [
      "Num of elements: 7\n",
      "Keys of an element:  dict_keys(['word', 'ingredient'])\n"
     ]
    }
   ],
   "source": [
    "tree = data[0][\"tree\"]\n",
    "print(f\"Num of elements: {len(tree)}\")\n",
    "print(\"Keys of an element: \", tree[0].keys())\n",
    "# print(json.dumps(tree, indent=4))"
   ]
  },
  {
   "cell_type": "code",
   "execution_count": 75,
   "metadata": {},
   "outputs": [
    {
     "name": "stdout",
     "output_type": "stream",
     "text": [
      "recipe_id               \tword        \tingredient\n",
      "54a47bb66529d92b2c02c10e\tarrange     \tbread slices,work surface,bread slice,cheese,tablespoons caponata,half,tomato\n",
      "                        \tremaining   \tcheese,bread,brush,bread slices,oil,heat,skillet,medium heat\n",
      "                        \tis          \tcheese\n",
      "54a42ff76529d92b2c01385a\theat        \tcooking spray\n",
      "                        \tadd         \ttomato sauce,cranberry sauce,horseradish,dry mustard,vinegar,stock\n",
      "                        \tlower       \t\n",
      "                        \tstirring    \t\n",
      "                        \tlower       \t\n",
      "                        \tserve       \t\n",
      "                        \treheat      \t\n",
      "54a4154d19925f464b375841\theat        \toil\n",
      "                        \tsauté       \tshallots\n",
      "                        \tadd         \tchicken\n",
      "                        \tturn        \tchicken\n",
      "                        \tbroth       \t\n",
      "                        \tcover       \t\n",
      "                        \tsimmer      \tchicken\n",
      "                        \tboil        \tsauce\n",
      "54a47c2e19925f464b39bb94\theat        \toil\n",
      "                        \tsauté       \t\n",
      "                        \tsimmer      \tsauce\n",
      "                        \ttoss        \tsauce,pasta\n",
      "                        \ttransfer    \tpasta\n",
      "54a47c4d6529d92b2c02c371\tadd         \tsausage,onion,garlic\n",
      "                        \tbreaking    \t\n",
      "                        \tadd         \ttomatoes,juices\n",
      "                        \tstirring    \t\n",
      "                        \tseason      \tsauce,salt,pepper\n",
      "                        \trefrigerate \t\n",
      "                        \tpreheat     \toil\n",
      "                        \tstir        \ttomato sauce\n",
      "                        \tsprinkle    \tparmesan cheese\n",
      "54a433f76529d92b2c016abd\theat        \tolive oil\n",
      "                        \tsauté       \t\n",
      "                        \ttransfer    \tpancetta\n",
      "                        \tadd         \tpork\n",
      "                        \ttransfer    \tpancetta\n",
      "                        \tsauté       \t\n",
      "                        \treduce      \theat\n",
      "                        \tadd         \twine\n",
      "                        \tadd         \tpancetta,pork,accumulated juices\n",
      "                        \tcover       \t\n",
      "                        \tstirring    \t\n",
      "                        \ttilt        \t\n",
      "                        \toff         \tfat,ragù\n",
      "                        \tbreak       \t\n",
      "                        \tseason      \tragù,salt,pepper\n",
      "                        \tcover       \t\n",
      "                        \trefrigerated\t\n",
      "                        \tpreheat     \t\n",
      "                        \tcook        \tpasta,water\n",
      "                        \tdrain       \tpasta\n",
      "                        \tseason      \tmixture,salt,pepper\n",
      "                        \tsprinkle    \tcheeses\n"
     ]
    }
   ],
   "source": [
    "# pretty print the data as table (first 6 rows)\n",
    "def print_row(row):\n",
    "    print(f\"{row[0]:<24}\\t{row[1]:<12}\\t{row[2]}\")\n",
    "\n",
    "print_row([\"recipe_id\", \"word\", \"ingredient\"])\n",
    "for recipe in data[:6]:\n",
    "    for idx, record in enumerate(recipe[\"tree\"]):\n",
    "        print_row(row=[' ' if idx else recipe['id'], record['word'], ','.join(record['ingredient'])])"
   ]
  },
  {
   "cell_type": "markdown",
   "metadata": {},
   "source": [
    "### Tomato pasta"
   ]
  },
  {
   "cell_type": "code",
   "execution_count": 363,
   "metadata": {},
   "outputs": [
    {
     "name": "stdout",
     "output_type": "stream",
     "text": [
      "Resource ../dataset/recipescape-tomato-pasta.json already exists.\n",
      "Num of elements: 553\n",
      "Keys of an element:  dict_keys(['id', 'tree'])\n",
      "\n",
      "Num of elements: 3\n",
      "Keys of an element:  dict_keys(['word', 'ingredient'])\n"
     ]
    }
   ],
   "source": [
    "# download dataset from url if not already exists\n",
    "filename_dataset = \"recipescape-tomato-pasta.json\"\n",
    "download_resource(\n",
    "    resource_url=\"https://recipescape.kixlab.org/tomatopasta_trees.json\",\n",
    "    local_path=str(path_dataset/filename_dataset)\n",
    ")\n",
    "\n",
    "# read in the json file\n",
    "import json\n",
    "with open(path_dataset/filename_dataset, 'r') as f:\n",
    "    data = json.load(f)\n",
    "# data is a list of dict objects, each dict has keys 'id' and 'tree'\n",
    "\n",
    "print(f\"Num of elements: {len(data)}\")\n",
    "print(\"Keys of an element: \", data[0].keys())\n",
    "# print(json.dumps(data, indent=4))\n",
    "\n",
    "tree = data[0][\"tree\"]\n",
    "print(f\"\\nNum of elements: {len(tree)}\")\n",
    "print(\"Keys of an element: \", tree[0].keys())\n",
    "# print(json.dumps(tree, indent=4))"
   ]
  },
  {
   "cell_type": "code",
   "execution_count": 365,
   "metadata": {},
   "outputs": [
    {
     "name": "stdout",
     "output_type": "stream",
     "text": [
      "recipe_id               \tword        \tingredient\n",
      "54a47bb66529d92b2c02c10e\tarrange     \tbread slices,work surface,bread slice,cheese,tablespoons caponata,half,tomato\n",
      "                        \tremaining   \tcheese,bread,brush,bread slices,oil,heat,skillet,medium heat\n",
      "                        \tis          \tcheese\n",
      "54a42ff76529d92b2c01385a\theat        \tcooking spray\n",
      "                        \tadd         \ttomato sauce,cranberry sauce,horseradish,dry mustard,vinegar,stock\n",
      "                        \tlower       \t\n",
      "                        \tstirring    \t\n",
      "                        \tlower       \t\n",
      "                        \tserve       \t\n",
      "                        \treheat      \t\n",
      "54a4154d19925f464b375841\theat        \toil\n",
      "                        \tsauté       \tshallots\n",
      "                        \tadd         \tchicken\n",
      "                        \tturn        \tchicken\n",
      "                        \tbroth       \t\n",
      "                        \tcover       \t\n",
      "                        \tsimmer      \tchicken\n",
      "                        \tboil        \tsauce\n",
      "54a47c2e19925f464b39bb94\theat        \toil\n",
      "                        \tsauté       \t\n",
      "                        \tsimmer      \tsauce\n",
      "                        \ttoss        \tsauce,pasta\n",
      "                        \ttransfer    \tpasta\n",
      "54a47c4d6529d92b2c02c371\tadd         \tsausage,onion,garlic\n",
      "                        \tbreaking    \t\n",
      "                        \tadd         \ttomatoes,juices\n",
      "                        \tstirring    \t\n",
      "                        \tseason      \tsauce,salt,pepper\n",
      "                        \trefrigerate \t\n",
      "                        \tpreheat     \toil\n",
      "                        \tstir        \ttomato sauce\n",
      "                        \tsprinkle    \tparmesan cheese\n",
      "54a433f76529d92b2c016abd\theat        \tolive oil\n",
      "                        \tsauté       \t\n",
      "                        \ttransfer    \tpancetta\n",
      "                        \tadd         \tpork\n",
      "                        \ttransfer    \tpancetta\n",
      "                        \tsauté       \t\n",
      "                        \treduce      \theat\n",
      "                        \tadd         \twine\n",
      "                        \tadd         \tpancetta,pork,accumulated juices\n",
      "                        \tcover       \t\n",
      "                        \tstirring    \t\n",
      "                        \ttilt        \t\n",
      "                        \toff         \tfat,ragù\n",
      "                        \tbreak       \t\n",
      "                        \tseason      \tragù,salt,pepper\n",
      "                        \tcover       \t\n",
      "                        \trefrigerated\t\n",
      "                        \tpreheat     \t\n",
      "                        \tcook        \tpasta,water\n",
      "                        \tdrain       \tpasta\n",
      "                        \tseason      \tmixture,salt,pepper\n",
      "                        \tsprinkle    \tcheeses\n"
     ]
    }
   ],
   "source": [
    "# pretty print the data as table (first 6 rows)\n",
    "def print_row(row):\n",
    "    print(f\"{row[0]:<24}\\t{row[1]:<12}\\t{row[2]}\")\n",
    "\n",
    "print_row([\"recipe_id\", \"word\", \"ingredient\"])\n",
    "for recipe in data[:6]:\n",
    "    for idx, record in enumerate(recipe[\"tree\"]):\n",
    "        print_row(row=[' ' if idx else recipe['id'], record['word'], ','.join(record['ingredient'])])\n",
    "\n",
    "# pprint_df = pd.DataFrame(\n",
    "#     columns = [\"recipe_id\", \"word\", \"ingredient\"]\n",
    "# )\n",
    "# for recipe in data:\n",
    "#     for record in recipe[\"tree\"]:\n",
    "#         pprint_df = pprint_df.append(pd.DataFrame(\n",
    "#             data=[[recipe[\"id\"], record[\"word\"], record[\"ingredient\"]]],\n",
    "#             columns=[\"recipe_id\", \"word\", \"ingredient\"]\n",
    "#         ))\n",
    "# pprint_df.head()"
   ]
  },
  {
   "cell_type": "markdown",
   "metadata": {},
   "source": [
    "## Simplified Recipes1M\n",
    "\n",
    "> Source: https://dominikschmidt.xyz/simplified-recipes-1M/"
   ]
  },
  {
   "cell_type": "code",
   "execution_count": 88,
   "metadata": {},
   "outputs": [
    {
     "name": "stdout",
     "output_type": "stream",
     "text": [
      "Resource ../dataset/simplified-recipes-1M.npz already exists.\n"
     ]
    }
   ],
   "source": [
    "# download dataset from url if not already exists\n",
    "filename_dataset = \"simplified-recipes-1M.npz\"\n",
    "download_resource(\n",
    "    resource_url=\"https://github.com/schmidtdominik/RecipeNet/raw/master/simplified-recipes-1M.npz\",\n",
    "    local_path=str(path_dataset/filename_dataset)\n",
    ")\n",
    "\n",
    "import numpy as np\n",
    "with np.load(path_dataset/filename_dataset, allow_pickle=True) as data:\n",
    "    recipes = data['recipes']\n",
    "    ingredients = data['ingredients']\n",
    "del data"
   ]
  },
  {
   "cell_type": "code",
   "execution_count": 103,
   "metadata": {},
   "outputs": [],
   "source": []
  }
 ],
 "metadata": {
  "interpreter": {
   "hash": "2243570999d709669870674c130d5c989af571bf8fd02bb480a01170839d5b26"
  },
  "kernelspec": {
   "display_name": "Python 3.8.2 64-bit ('env': venv)",
   "language": "python",
   "name": "python3"
  },
  "language_info": {
   "codemirror_mode": {
    "name": "ipython",
    "version": 3
   },
   "file_extension": ".py",
   "mimetype": "text/x-python",
   "name": "python",
   "nbconvert_exporter": "python",
   "pygments_lexer": "ipython3",
   "version": "3.8.2"
  },
  "orig_nbformat": 4
 },
 "nbformat": 4,
 "nbformat_minor": 2
}
