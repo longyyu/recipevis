{
 "cells": [
  {
   "cell_type": "code",
   "execution_count": 1,
   "metadata": {},
   "outputs": [
    {
     "name": "stdout",
     "output_type": "stream",
     "text": [
      "Current directory: /Users/longyyu/Documents/research/recipevis.git/src\n"
     ]
    }
   ],
   "source": [
    "import os\n",
    "import pathlib\n",
    "import pandas as pd\n",
    "import ast\n",
    "\n",
    "print(f\"Current directory: {os.getcwd()}\")\n",
    "path_dataset = pathlib.Path(\"../dataset/\")"
   ]
  },
  {
   "cell_type": "code",
   "execution_count": 2,
   "metadata": {},
   "outputs": [],
   "source": [
    "def download_resource(resource_url, local_path):\n",
    "    import requests\n",
    "    if not os.path.exists(local_path):\n",
    "        r = requests.get(resource_url)\n",
    "        print(f\"Content type: {r.headers.get('content-type')}\")\n",
    "        print(f\"Content disposition: {r.headers.get('content-disposition')}\")\n",
    "        print(f\"Content length: {r.headers.get('content-length')}\")\n",
    "        try:\n",
    "            with open(local_path, 'wb') as file_disk:\n",
    "                for chunk in r.iter_content(chunk_size=1024):\n",
    "                    if chunk:\n",
    "                        file_disk.write(chunk)\n",
    "        except Exception as e:\n",
    "            print(f\"Error: {str(e)}\")\n",
    "        if os.path.isfile(local_path):\n",
    "            print(\"Downloaded successfully!\")\n",
    "    else:\n",
    "        print(f\"Resource {local_path} already exists.\")"
   ]
  },
  {
   "cell_type": "markdown",
   "metadata": {},
   "source": [
    "## [Kaggle: foodRecSys-V1](https://www.kaggle.com/elisaxxygao/foodrecsysv1)\n",
    "\n",
    "### Original dataset\n",
    "\n",
    "* Data were crawled from allrecipes.com\n",
    "* Crawled 52,821 recipes from allrecipes.com, posted between 2000 and 2018, covering 27 categories\n",
    "    - Excluded recipes that do not have images and that contain repeated ingredients and zero reviews\n",
    "* Attributes: ingredients, image and the corresponding ratings from users\n",
    "* raw_data: 49,698 recipes with 38,131 ingredients and 3,794,003 interactions"
   ]
  },
  {
   "cell_type": "markdown",
   "metadata": {},
   "source": [
    "### Pre-processing\n",
    "\n",
    "* Download [raw-data_recipe.csv.zip](https://www.kaggle.com/elisaxxygao/foodrecsysv1?select=raw-data_recipe.csv)\n",
    "* Delete two columns: nutritions and reviews, which shrinks the file from 1.77GB to 41.7MB.\n",
    "```python\n",
    "import pandas as pd\n",
    "import ast\n",
    "df = pd.read_csv(path_dataset/\"foodRecSys_raw-data_recipe.csv.zip\").drop(columns=['image_url', 'nutritions', 'reviews'])\n",
    "df['cooking_directions'] = [ast.literal_eval(item)['directions'].split(\"\\n\") for item in df.cooking_directions]\n",
    "df.to_csv(path_dataset/\"foodRecSys.csv\")\n",
    "```"
   ]
  },
  {
   "cell_type": "code",
   "execution_count": 3,
   "metadata": {},
   "outputs": [
    {
     "name": "stdout",
     "output_type": "stream",
     "text": [
      "Shape:  (49698, 6)\n"
     ]
    },
    {
     "data": {
      "text/html": [
       "<div>\n",
       "<style scoped>\n",
       "    .dataframe tbody tr th:only-of-type {\n",
       "        vertical-align: middle;\n",
       "    }\n",
       "\n",
       "    .dataframe tbody tr th {\n",
       "        vertical-align: top;\n",
       "    }\n",
       "\n",
       "    .dataframe thead th {\n",
       "        text-align: right;\n",
       "    }\n",
       "</style>\n",
       "<table border=\"1\" class=\"dataframe\">\n",
       "  <thead>\n",
       "    <tr style=\"text-align: right;\">\n",
       "      <th></th>\n",
       "      <th>recipe_id</th>\n",
       "      <th>recipe_name</th>\n",
       "      <th>aver_rate</th>\n",
       "      <th>review_nums</th>\n",
       "      <th>ingredients</th>\n",
       "      <th>cooking_directions</th>\n",
       "    </tr>\n",
       "  </thead>\n",
       "  <tbody>\n",
       "    <tr>\n",
       "      <th>0</th>\n",
       "      <td>222388</td>\n",
       "      <td>Homemade Bacon</td>\n",
       "      <td>5.000000</td>\n",
       "      <td>3</td>\n",
       "      <td>pork belly^smoked paprika^kosher salt^ground b...</td>\n",
       "      <td>['Prep', '5 m', 'Cook', '2 h 45 m', 'Ready In'...</td>\n",
       "    </tr>\n",
       "    <tr>\n",
       "      <th>1</th>\n",
       "      <td>240488</td>\n",
       "      <td>Pork Loin, Apples, and Sauerkraut</td>\n",
       "      <td>4.764706</td>\n",
       "      <td>29</td>\n",
       "      <td>sauerkraut drained^Granny Smith apples sliced^...</td>\n",
       "      <td>['Prep', '15 m', 'Cook', '2 h 30 m', 'Ready In...</td>\n",
       "    </tr>\n",
       "    <tr>\n",
       "      <th>2</th>\n",
       "      <td>218939</td>\n",
       "      <td>Foolproof Rosemary Chicken Wings</td>\n",
       "      <td>4.571429</td>\n",
       "      <td>12</td>\n",
       "      <td>chicken wings^sprigs rosemary^head garlic^oliv...</td>\n",
       "      <td>['Prep', '20 m', 'Cook', '40 m', 'Ready In', '...</td>\n",
       "    </tr>\n",
       "    <tr>\n",
       "      <th>3</th>\n",
       "      <td>87211</td>\n",
       "      <td>Chicken Pesto Paninis</td>\n",
       "      <td>4.625000</td>\n",
       "      <td>163</td>\n",
       "      <td>focaccia bread quartered^prepared basil pesto^...</td>\n",
       "      <td>['Prep', '15 m', 'Cook', '5 m', 'Ready In', '2...</td>\n",
       "    </tr>\n",
       "    <tr>\n",
       "      <th>4</th>\n",
       "      <td>245714</td>\n",
       "      <td>Potato Bacon Pizza</td>\n",
       "      <td>4.500000</td>\n",
       "      <td>2</td>\n",
       "      <td>red potatoes^strips bacon^Sauce:^heavy whippin...</td>\n",
       "      <td>['Prep', '20 m', 'Cook', '45 m', 'Ready In', '...</td>\n",
       "    </tr>\n",
       "  </tbody>\n",
       "</table>\n",
       "</div>"
      ],
      "text/plain": [
       "   recipe_id                        recipe_name  aver_rate  review_nums  \\\n",
       "0     222388                     Homemade Bacon   5.000000            3   \n",
       "1     240488  Pork Loin, Apples, and Sauerkraut   4.764706           29   \n",
       "2     218939   Foolproof Rosemary Chicken Wings   4.571429           12   \n",
       "3      87211              Chicken Pesto Paninis   4.625000          163   \n",
       "4     245714                 Potato Bacon Pizza   4.500000            2   \n",
       "\n",
       "                                         ingredients  \\\n",
       "0  pork belly^smoked paprika^kosher salt^ground b...   \n",
       "1  sauerkraut drained^Granny Smith apples sliced^...   \n",
       "2  chicken wings^sprigs rosemary^head garlic^oliv...   \n",
       "3  focaccia bread quartered^prepared basil pesto^...   \n",
       "4  red potatoes^strips bacon^Sauce:^heavy whippin...   \n",
       "\n",
       "                                  cooking_directions  \n",
       "0  ['Prep', '5 m', 'Cook', '2 h 45 m', 'Ready In'...  \n",
       "1  ['Prep', '15 m', 'Cook', '2 h 30 m', 'Ready In...  \n",
       "2  ['Prep', '20 m', 'Cook', '40 m', 'Ready In', '...  \n",
       "3  ['Prep', '15 m', 'Cook', '5 m', 'Ready In', '2...  \n",
       "4  ['Prep', '20 m', 'Cook', '45 m', 'Ready In', '...  "
      ]
     },
     "execution_count": 3,
     "metadata": {},
     "output_type": "execute_result"
    }
   ],
   "source": [
    "filename_dataset = \"foodRecSys.csv\"\n",
    "df = pd.read_csv(path_dataset/filename_dataset).drop(columns=[\"Unnamed: 0\"])\n",
    "print(\"Shape: \", df.shape)\n",
    "df.head()\n",
    "# convert cooking directions from strings to lists\n",
    "# [ast.literal_eval(item) for item in df.cooking_directions]"
   ]
  },
  {
   "cell_type": "code",
   "execution_count": 9,
   "metadata": {},
   "outputs": [
    {
     "name": "stdout",
     "output_type": "stream",
     "text": [
      "pork belly^smoked paprika^kosher salt^ground black pepper\n",
      "[\n",
      "  \"Prep\",\n",
      "  \"5 m\",\n",
      "  \"Cook\",\n",
      "  \"2 h 45 m\",\n",
      "  \"Ready In\",\n",
      "  \"11 h 50 m\",\n",
      "  \"Preheat oven to 200 degrees F (95 degrees C).\",\n",
      "  \"Season pork belly with paprika, salt, and pepper. Tightly wrap pork twice in heavy-duty aluminum foil. Place on a baking sheet and bake in the preheated oven for 2 1/2 hours. Turn off the oven; let pork rest in the oven for 1 hour. Remove meat from oven, leaving it wrapped in aluminum foil, and refrigerate at least 8 hours or overnight.\",\n",
      "  \"Remove pork from foil and slice across the grain in 1/4-inch thick slices. Working in batches, cook pork in a non-stick skillet over medium heat until golden and crisped, 6 to 8 minutes per slice.\"\n",
      "]\n"
     ]
    }
   ],
   "source": [
    "import json\n",
    "print(df.ingredients[0])\n",
    "print(json.dumps(ast.literal_eval(df.cooking_directions[0]), indent=2))"
   ]
  },
  {
   "cell_type": "markdown",
   "metadata": {},
   "source": [
    "## RecipeNLG\n",
    "\n",
    "* Source: [github](https://github.com/Glorf/recipenlg) | [dataset](https://recipenlg.cs.put.poznan.pl)\n",
    "* 2.23M(2,231,142) recipes, out of which 0.59M were from Recipe1M and the rest were gathered by this project team"
   ]
  },
  {
   "cell_type": "code",
   "execution_count": 3,
   "metadata": {},
   "outputs": [],
   "source": [
    "import ast\n",
    "import pandas as pd\n",
    "from zipfile import ZipFile\n",
    "with ZipFile(path_dataset/\"recipenlg-dataset.zip\") as z:\n",
    "    with z.open(\"dataset/full_dataset.csv\") as f:\n",
    "        df = pd.read_csv(f).drop(columns=['Unnamed: 0'])\n",
    "df.ingredients = [ast.literal_eval(item.lower()) for item in df.ingredients]\n",
    "df.NER = [ast.literal_eval(item.lower()) for item in df.NER]\n",
    "df.NER = [list(set(item)) for item in df.NER] # list(set(...)) ensure NER lists are non-repetitive\n",
    "\n",
    "# ast.literal_eval(df.directions[0])\n",
    "# df_recipes1M = df.loc[df.source == \"Recipes1M\"].reset_index(drop=True)\n",
    "# df_gathered = df.loc[df.source == \"Gathered\"].reset_index(drop=True)"
   ]
  },
  {
   "cell_type": "code",
   "execution_count": 4,
   "metadata": {},
   "outputs": [
    {
     "name": "stdout",
     "output_type": "stream",
     "text": [
      "Shape:  (2231142, 6)\n"
     ]
    },
    {
     "data": {
      "text/html": [
       "<div>\n",
       "<style scoped>\n",
       "    .dataframe tbody tr th:only-of-type {\n",
       "        vertical-align: middle;\n",
       "    }\n",
       "\n",
       "    .dataframe tbody tr th {\n",
       "        vertical-align: top;\n",
       "    }\n",
       "\n",
       "    .dataframe thead th {\n",
       "        text-align: right;\n",
       "    }\n",
       "</style>\n",
       "<table border=\"1\" class=\"dataframe\">\n",
       "  <thead>\n",
       "    <tr style=\"text-align: right;\">\n",
       "      <th></th>\n",
       "      <th>title</th>\n",
       "      <th>ingredients</th>\n",
       "      <th>directions</th>\n",
       "      <th>link</th>\n",
       "      <th>source</th>\n",
       "      <th>NER</th>\n",
       "    </tr>\n",
       "  </thead>\n",
       "  <tbody>\n",
       "    <tr>\n",
       "      <th>0</th>\n",
       "      <td>No-Bake Nut Cookies</td>\n",
       "      <td>[1 c. firmly packed brown sugar, 1/2 c. evapor...</td>\n",
       "      <td>[\"In a heavy 2-quart saucepan, mix brown sugar...</td>\n",
       "      <td>www.cookbooks.com/Recipe-Details.aspx?id=44874</td>\n",
       "      <td>Gathered</td>\n",
       "      <td>[bite size shredded rice biscuits, milk, vanil...</td>\n",
       "    </tr>\n",
       "    <tr>\n",
       "      <th>1</th>\n",
       "      <td>Jewell Ball'S Chicken</td>\n",
       "      <td>[1 small jar chipped beef, cut up, 4 boned chi...</td>\n",
       "      <td>[\"Place chipped beef on bottom of baking dish....</td>\n",
       "      <td>www.cookbooks.com/Recipe-Details.aspx?id=699419</td>\n",
       "      <td>Gathered</td>\n",
       "      <td>[sour cream, cream of mushroom soup, chicken b...</td>\n",
       "    </tr>\n",
       "    <tr>\n",
       "      <th>2</th>\n",
       "      <td>Creamy Corn</td>\n",
       "      <td>[2 (16 oz.) pkg. frozen corn, 1 (8 oz.) pkg. c...</td>\n",
       "      <td>[\"In a slow cooker, combine all ingredients. C...</td>\n",
       "      <td>www.cookbooks.com/Recipe-Details.aspx?id=10570</td>\n",
       "      <td>Gathered</td>\n",
       "      <td>[frozen corn, pepper, salt, butter, cream chee...</td>\n",
       "    </tr>\n",
       "    <tr>\n",
       "      <th>3</th>\n",
       "      <td>Chicken Funny</td>\n",
       "      <td>[1 large whole chicken, 2 (10 1/2 oz.) cans ch...</td>\n",
       "      <td>[\"Boil and debone chicken.\", \"Put bite size pi...</td>\n",
       "      <td>www.cookbooks.com/Recipe-Details.aspx?id=897570</td>\n",
       "      <td>Gathered</td>\n",
       "      <td>[shredded cheese, chicken gravy, cream of mush...</td>\n",
       "    </tr>\n",
       "    <tr>\n",
       "      <th>4</th>\n",
       "      <td>Reeses Cups(Candy)</td>\n",
       "      <td>[1 c. peanut butter, 3/4 c. graham cracker cru...</td>\n",
       "      <td>[\"Combine first four ingredients and press in ...</td>\n",
       "      <td>www.cookbooks.com/Recipe-Details.aspx?id=659239</td>\n",
       "      <td>Gathered</td>\n",
       "      <td>[chocolate chips, graham cracker crumbs, butte...</td>\n",
       "    </tr>\n",
       "  </tbody>\n",
       "</table>\n",
       "</div>"
      ],
      "text/plain": [
       "                   title                                        ingredients  \\\n",
       "0    No-Bake Nut Cookies  [1 c. firmly packed brown sugar, 1/2 c. evapor...   \n",
       "1  Jewell Ball'S Chicken  [1 small jar chipped beef, cut up, 4 boned chi...   \n",
       "2            Creamy Corn  [2 (16 oz.) pkg. frozen corn, 1 (8 oz.) pkg. c...   \n",
       "3          Chicken Funny  [1 large whole chicken, 2 (10 1/2 oz.) cans ch...   \n",
       "4   Reeses Cups(Candy)    [1 c. peanut butter, 3/4 c. graham cracker cru...   \n",
       "\n",
       "                                          directions  \\\n",
       "0  [\"In a heavy 2-quart saucepan, mix brown sugar...   \n",
       "1  [\"Place chipped beef on bottom of baking dish....   \n",
       "2  [\"In a slow cooker, combine all ingredients. C...   \n",
       "3  [\"Boil and debone chicken.\", \"Put bite size pi...   \n",
       "4  [\"Combine first four ingredients and press in ...   \n",
       "\n",
       "                                              link    source  \\\n",
       "0   www.cookbooks.com/Recipe-Details.aspx?id=44874  Gathered   \n",
       "1  www.cookbooks.com/Recipe-Details.aspx?id=699419  Gathered   \n",
       "2   www.cookbooks.com/Recipe-Details.aspx?id=10570  Gathered   \n",
       "3  www.cookbooks.com/Recipe-Details.aspx?id=897570  Gathered   \n",
       "4  www.cookbooks.com/Recipe-Details.aspx?id=659239  Gathered   \n",
       "\n",
       "                                                 NER  \n",
       "0  [bite size shredded rice biscuits, milk, vanil...  \n",
       "1  [sour cream, cream of mushroom soup, chicken b...  \n",
       "2  [frozen corn, pepper, salt, butter, cream chee...  \n",
       "3  [shredded cheese, chicken gravy, cream of mush...  \n",
       "4  [chocolate chips, graham cracker crumbs, butte...  "
      ]
     },
     "execution_count": 4,
     "metadata": {},
     "output_type": "execute_result"
    }
   ],
   "source": [
    "print(\"Shape: \", df.shape)\n",
    "df.head()"
   ]
  },
  {
   "cell_type": "code",
   "execution_count": 5,
   "metadata": {
    "scrolled": true
   },
   "outputs": [
    {
     "data": {
      "text/plain": [
       "2231142"
      ]
     },
     "execution_count": 5,
     "metadata": {},
     "output_type": "execute_result"
    }
   ],
   "source": [
    "len(df.link.unique())"
   ]
  },
  {
   "cell_type": "markdown",
   "metadata": {},
   "source": [
    "### Source of recipes\n",
    "\n",
    "* Recipes from different websites might have different styles and call for different data cleaning steps."
   ]
  },
  {
   "cell_type": "code",
   "execution_count": 10,
   "metadata": {},
   "outputs": [
    {
     "data": {
      "image/png": "[encoded data removed]",
      "text/plain": [
       "<Figure size 1440x504 with 1 Axes>"
      ]
     },
     "metadata": {
      "needs_background": "light"
     },
     "output_type": "display_data"
    }
   ],
   "source": [
    "df[\"source_website\"] = [item.split(\".com\")[0].replace(\"www.\", \"\") for item in df.link]\n",
    "freq_table = df.pivot_table(columns=\"source\", index=\"source_website\", values=\"title\", aggfunc=\"count\", fill_value=0)\n",
    "freq_table = freq_table.assign(rsum = freq_table.sum(axis=1)).reset_index()\\\n",
    "    .sort_values(by = \"rsum\", ascending=False).drop(columns=\"rsum\")\n",
    "\n",
    "import matplotlib.pyplot as plt\n",
    "freq_table.set_index(\"source_website\").plot.bar(rot=40, figsize=[20,7])\n",
    "plt.legend(loc='upper left', bbox_to_anchor=(0.05, 0.98))\n",
    "plt.rc('axes', labelsize=20)\n",
    "plt.show()"
   ]
  },
  {
   "cell_type": "code",
   "execution_count": 13,
   "metadata": {},
   "outputs": [
    {
     "data": {
      "application/vnd.plotly.v1+json": {
       "config": {
        "plotlyServerURL": "https://plot.ly"
       },
       "data": [
        {
         "name": "Gathered",
         "opacity": 0.75,
         "type": "bar",
         "x": [
          "cookbooks",
          "food",
          "epicurious",
          "tastykitchen",
          "myrecipes",
          "allrecipes",
          "cookpad",
          "cookeatshare",
          "yummly",
          "tasteofhome",
          "foodnetwork",
          "food52",
          "kraftrecipes",
          "recipeland",
          "recipes-plus",
          "cooking.nytimes",
          "foodandwine",
          "seriouseats",
          "foodgeeks",
          "cookstr",
          "online-cookbook",
          "chowhound",
          "vegetariantimes",
          "delish",
          "landolakes",
          "foodrepublic",
          "lovefood"
         ],
         "y": [
          896341,
          290565,
          94398,
          50320,
          64862,
          61398,
          0,
          0,
          51963,
          51594,
          0,
          48501,
          0,
          0,
          20524,
          0,
          0,
          12632,
          0,
          0,
          0,
          0,
          0,
          0,
          0,
          0,
          0
         ]
        },
        {
         "name": "Recipes1M",
         "opacity": 0.75,
         "type": "bar",
         "x": [
          "cookbooks",
          "food",
          "epicurious",
          "tastykitchen",
          "myrecipes",
          "allrecipes",
          "cookpad",
          "cookeatshare",
          "yummly",
          "tasteofhome",
          "foodnetwork",
          "food52",
          "kraftrecipes",
          "recipeland",
          "recipes-plus",
          "cooking.nytimes",
          "foodandwine",
          "seriouseats",
          "foodgeeks",
          "cookstr",
          "online-cookbook",
          "chowhound",
          "vegetariantimes",
          "delish",
          "landolakes",
          "foodrepublic",
          "lovefood"
         ],
         "y": [
          0,
          209051,
          35046,
          28448,
          33,
          3204,
          61020,
          59307,
          0,
          0,
          49443,
          0,
          42010,
          24418,
          0,
          16367,
          15436,
          0,
          8963,
          8797,
          5691,
          5671,
          4578,
          3880,
          2492,
          2259,
          1930
         ]
        }
       ],
       "layout": {
        "bargap": 0.2,
        "height": 400,
        "template": {
         "data": {
          "bar": [
           {
            "error_x": {
             "color": "#2a3f5f"
            },
            "error_y": {
             "color": "#2a3f5f"
            },
            "marker": {
             "line": {
              "color": "#E5ECF6",
              "width": 0.5
             },
             "pattern": {
              "fillmode": "overlay",
              "size": 10,
              "solidity": 0.2
             }
            },
            "type": "bar"
           }
          ],
          "barpolar": [
           {
            "marker": {
             "line": {
              "color": "#E5ECF6",
              "width": 0.5
             },
             "pattern": {
              "fillmode": "overlay",
              "size": 10,
              "solidity": 0.2
             }
            },
            "type": "barpolar"
           }
          ],
          "carpet": [
           {
            "aaxis": {
             "endlinecolor": "#2a3f5f",
             "gridcolor": "white",
             "linecolor": "white",
             "minorgridcolor": "white",
             "startlinecolor": "#2a3f5f"
            },
            "baxis": {
             "endlinecolor": "#2a3f5f",
             "gridcolor": "white",
             "linecolor": "white",
             "minorgridcolor": "white",
             "startlinecolor": "#2a3f5f"
            },
            "type": "carpet"
           }
          ],
          "choropleth": [
           {
            "colorbar": {
             "outlinewidth": 0,
             "ticks": ""
            },
            "type": "choropleth"
           }
          ],
          "contour": [
           {
            "colorbar": {
             "outlinewidth": 0,
             "ticks": ""
            },
            "colorscale": [
             [
              0,
              "#0d0887"
             ],
             [
              0.1111111111111111,
              "#46039f"
             ],
             [
              0.2222222222222222,
              "#7201a8"
             ],
             [
              0.3333333333333333,
              "#9c179e"
             ],
             [
              0.4444444444444444,
              "#bd3786"
             ],
             [
              0.5555555555555556,
              "#d8576b"
             ],
             [
              0.6666666666666666,
              "#ed7953"
             ],
             [
              0.7777777777777778,
              "#fb9f3a"
             ],
             [
              0.8888888888888888,
              "#fdca26"
             ],
             [
              1,
              "#f0f921"
             ]
            ],
            "type": "contour"
           }
          ],
          "contourcarpet": [
           {
            "colorbar": {
             "outlinewidth": 0,
             "ticks": ""
            },
            "type": "contourcarpet"
           }
          ],
          "heatmap": [
           {
            "colorbar": {
             "outlinewidth": 0,
             "ticks": ""
            },
            "colorscale": [
             [
              0,
              "#0d0887"
             ],
             [
              0.1111111111111111,
              "#46039f"
             ],
             [
              0.2222222222222222,
              "#7201a8"
             ],
             [
              0.3333333333333333,
              "#9c179e"
             ],
             [
              0.4444444444444444,
              "#bd3786"
             ],
             [
              0.5555555555555556,
              "#d8576b"
             ],
             [
              0.6666666666666666,
              "#ed7953"
             ],
             [
              0.7777777777777778,
              "#fb9f3a"
             ],
             [
              0.8888888888888888,
              "#fdca26"
             ],
             [
              1,
              "#f0f921"
             ]
            ],
            "type": "heatmap"
           }
          ],
          "heatmapgl": [
           {
            "colorbar": {
             "outlinewidth": 0,
             "ticks": ""
            },
            "colorscale": [
             [
              0,
              "#0d0887"
             ],
             [
              0.1111111111111111,
              "#46039f"
             ],
             [
              0.2222222222222222,
              "#7201a8"
             ],
             [
              0.3333333333333333,
              "#9c179e"
             ],
             [
              0.4444444444444444,
              "#bd3786"
             ],
             [
              0.5555555555555556,
              "#d8576b"
             ],
             [
              0.6666666666666666,
              "#ed7953"
             ],
             [
              0.7777777777777778,
              "#fb9f3a"
             ],
             [
              0.8888888888888888,
              "#fdca26"
             ],
             [
              1,
              "#f0f921"
             ]
            ],
            "type": "heatmapgl"
           }
          ],
          "histogram": [
           {
            "marker": {
             "pattern": {
              "fillmode": "overlay",
              "size": 10,
              "solidity": 0.2
             }
            },
            "type": "histogram"
           }
          ],
          "histogram2d": [
           {
            "colorbar": {
             "outlinewidth": 0,
             "ticks": ""
            },
            "colorscale": [
             [
              0,
              "#0d0887"
             ],
             [
              0.1111111111111111,
              "#46039f"
             ],
             [
              0.2222222222222222,
              "#7201a8"
             ],
             [
              0.3333333333333333,
              "#9c179e"
             ],
             [
              0.4444444444444444,
              "#bd3786"
             ],
             [
              0.5555555555555556,
              "#d8576b"
             ],
             [
              0.6666666666666666,
              "#ed7953"
             ],
             [
              0.7777777777777778,
              "#fb9f3a"
             ],
             [
              0.8888888888888888,
              "#fdca26"
             ],
             [
              1,
              "#f0f921"
             ]
            ],
            "type": "histogram2d"
           }
          ],
          "histogram2dcontour": [
           {
            "colorbar": {
             "outlinewidth": 0,
             "ticks": ""
            },
            "colorscale": [
             [
              0,
              "#0d0887"
             ],
             [
              0.1111111111111111,
              "#46039f"
             ],
             [
              0.2222222222222222,
              "#7201a8"
             ],
             [
              0.3333333333333333,
              "#9c179e"
             ],
             [
              0.4444444444444444,
              "#bd3786"
             ],
             [
              0.5555555555555556,
              "#d8576b"
             ],
             [
              0.6666666666666666,
              "#ed7953"
             ],
             [
              0.7777777777777778,
              "#fb9f3a"
             ],
             [
              0.8888888888888888,
              "#fdca26"
             ],
             [
              1,
              "#f0f921"
             ]
            ],
            "type": "histogram2dcontour"
           }
          ],
          "mesh3d": [
           {
            "colorbar": {
             "outlinewidth": 0,
             "ticks": ""
            },
            "type": "mesh3d"
           }
          ],
          "parcoords": [
           {
            "line": {
             "colorbar": {
              "outlinewidth": 0,
              "ticks": ""
             }
            },
            "type": "parcoords"
           }
          ],
          "pie": [
           {
            "automargin": true,
            "type": "pie"
           }
          ],
          "scatter": [
           {
            "marker": {
             "colorbar": {
              "outlinewidth": 0,
              "ticks": ""
             }
            },
            "type": "scatter"
           }
          ],
          "scatter3d": [
           {
            "line": {
             "colorbar": {
              "outlinewidth": 0,
              "ticks": ""
             }
            },
            "marker": {
             "colorbar": {
              "outlinewidth": 0,
              "ticks": ""
             }
            },
            "type": "scatter3d"
           }
          ],
          "scattercarpet": [
           {
            "marker": {
             "colorbar": {
              "outlinewidth": 0,
              "ticks": ""
             }
            },
            "type": "scattercarpet"
           }
          ],
          "scattergeo": [
           {
            "marker": {
             "colorbar": {
              "outlinewidth": 0,
              "ticks": ""
             }
            },
            "type": "scattergeo"
           }
          ],
          "scattergl": [
           {
            "marker": {
             "colorbar": {
              "outlinewidth": 0,
              "ticks": ""
             }
            },
            "type": "scattergl"
           }
          ],
          "scattermapbox": [
           {
            "marker": {
             "colorbar": {
              "outlinewidth": 0,
              "ticks": ""
             }
            },
            "type": "scattermapbox"
           }
          ],
          "scatterpolar": [
           {
            "marker": {
             "colorbar": {
              "outlinewidth": 0,
              "ticks": ""
             }
            },
            "type": "scatterpolar"
           }
          ],
          "scatterpolargl": [
           {
            "marker": {
             "colorbar": {
              "outlinewidth": 0,
              "ticks": ""
             }
            },
            "type": "scatterpolargl"
           }
          ],
          "scatterternary": [
           {
            "marker": {
             "colorbar": {
              "outlinewidth": 0,
              "ticks": ""
             }
            },
            "type": "scatterternary"
           }
          ],
          "surface": [
           {
            "colorbar": {
             "outlinewidth": 0,
             "ticks": ""
            },
            "colorscale": [
             [
              0,
              "#0d0887"
             ],
             [
              0.1111111111111111,
              "#46039f"
             ],
             [
              0.2222222222222222,
              "#7201a8"
             ],
             [
              0.3333333333333333,
              "#9c179e"
             ],
             [
              0.4444444444444444,
              "#bd3786"
             ],
             [
              0.5555555555555556,
              "#d8576b"
             ],
             [
              0.6666666666666666,
              "#ed7953"
             ],
             [
              0.7777777777777778,
              "#fb9f3a"
             ],
             [
              0.8888888888888888,
              "#fdca26"
             ],
             [
              1,
              "#f0f921"
             ]
            ],
            "type": "surface"
           }
          ],
          "table": [
           {
            "cells": {
             "fill": {
              "color": "#EBF0F8"
             },
             "line": {
              "color": "white"
             }
            },
            "header": {
             "fill": {
              "color": "#C8D4E3"
             },
             "line": {
              "color": "white"
             }
            },
            "type": "table"
           }
          ]
         },
         "layout": {
          "annotationdefaults": {
           "arrowcolor": "#2a3f5f",
           "arrowhead": 0,
           "arrowwidth": 1
          },
          "autotypenumbers": "strict",
          "coloraxis": {
           "colorbar": {
            "outlinewidth": 0,
            "ticks": ""
           }
          },
          "colorscale": {
           "diverging": [
            [
             0,
             "#8e0152"
            ],
            [
             0.1,
             "#c51b7d"
            ],
            [
             0.2,
             "#de77ae"
            ],
            [
             0.3,
             "#f1b6da"
            ],
            [
             0.4,
             "#fde0ef"
            ],
            [
             0.5,
             "#f7f7f7"
            ],
            [
             0.6,
             "#e6f5d0"
            ],
            [
             0.7,
             "#b8e186"
            ],
            [
             0.8,
             "#7fbc41"
            ],
            [
             0.9,
             "#4d9221"
            ],
            [
             1,
             "#276419"
            ]
           ],
           "sequential": [
            [
             0,
             "#0d0887"
            ],
            [
             0.1111111111111111,
             "#46039f"
            ],
            [
             0.2222222222222222,
             "#7201a8"
            ],
            [
             0.3333333333333333,
             "#9c179e"
            ],
            [
             0.4444444444444444,
             "#bd3786"
            ],
            [
             0.5555555555555556,
             "#d8576b"
            ],
            [
             0.6666666666666666,
             "#ed7953"
            ],
            [
             0.7777777777777778,
             "#fb9f3a"
            ],
            [
             0.8888888888888888,
             "#fdca26"
            ],
            [
             1,
             "#f0f921"
            ]
           ],
           "sequentialminus": [
            [
             0,
             "#0d0887"
            ],
            [
             0.1111111111111111,
             "#46039f"
            ],
            [
             0.2222222222222222,
             "#7201a8"
            ],
            [
             0.3333333333333333,
             "#9c179e"
            ],
            [
             0.4444444444444444,
             "#bd3786"
            ],
            [
             0.5555555555555556,
             "#d8576b"
            ],
            [
             0.6666666666666666,
             "#ed7953"
            ],
            [
             0.7777777777777778,
             "#fb9f3a"
            ],
            [
             0.8888888888888888,
             "#fdca26"
            ],
            [
             1,
             "#f0f921"
            ]
           ]
          },
          "colorway": [
           "#636efa",
           "#EF553B",
           "#00cc96",
           "#ab63fa",
           "#FFA15A",
           "#19d3f3",
           "#FF6692",
           "#B6E880",
           "#FF97FF",
           "#FECB52"
          ],
          "font": {
           "color": "#2a3f5f"
          },
          "geo": {
           "bgcolor": "white",
           "lakecolor": "white",
           "landcolor": "#E5ECF6",
           "showlakes": true,
           "showland": true,
           "subunitcolor": "white"
          },
          "hoverlabel": {
           "align": "left"
          },
          "hovermode": "closest",
          "mapbox": {
           "style": "light"
          },
          "paper_bgcolor": "white",
          "plot_bgcolor": "#E5ECF6",
          "polar": {
           "angularaxis": {
            "gridcolor": "white",
            "linecolor": "white",
            "ticks": ""
           },
           "bgcolor": "#E5ECF6",
           "radialaxis": {
            "gridcolor": "white",
            "linecolor": "white",
            "ticks": ""
           }
          },
          "scene": {
           "xaxis": {
            "backgroundcolor": "#E5ECF6",
            "gridcolor": "white",
            "gridwidth": 2,
            "linecolor": "white",
            "showbackground": true,
            "ticks": "",
            "zerolinecolor": "white"
           },
           "yaxis": {
            "backgroundcolor": "#E5ECF6",
            "gridcolor": "white",
            "gridwidth": 2,
            "linecolor": "white",
            "showbackground": true,
            "ticks": "",
            "zerolinecolor": "white"
           },
           "zaxis": {
            "backgroundcolor": "#E5ECF6",
            "gridcolor": "white",
            "gridwidth": 2,
            "linecolor": "white",
            "showbackground": true,
            "ticks": "",
            "zerolinecolor": "white"
           }
          },
          "shapedefaults": {
           "line": {
            "color": "#2a3f5f"
           }
          },
          "ternary": {
           "aaxis": {
            "gridcolor": "white",
            "linecolor": "white",
            "ticks": ""
           },
           "baxis": {
            "gridcolor": "white",
            "linecolor": "white",
            "ticks": ""
           },
           "bgcolor": "#E5ECF6",
           "caxis": {
            "gridcolor": "white",
            "linecolor": "white",
            "ticks": ""
           }
          },
          "title": {
           "x": 0.05
          },
          "xaxis": {
           "automargin": true,
           "gridcolor": "white",
           "linecolor": "white",
           "ticks": "",
           "title": {
            "standoff": 15
           },
           "zerolinecolor": "white",
           "zerolinewidth": 2
          },
          "yaxis": {
           "automargin": true,
           "gridcolor": "white",
           "linecolor": "white",
           "ticks": "",
           "title": {
            "standoff": 15
           },
           "zerolinecolor": "white",
           "zerolinewidth": 2
          }
         }
        },
        "width": 900
       }
      },
      "text/html": [
       "<div>                            <div id=\"a53abe00-dbb7-466c-b702-c87a2f66f01f\" class=\"plotly-graph-div\" style=\"height:400px; width:900px;\"></div>            <script type=\"text/javascript\">                require([\"plotly\"], function(Plotly) {                    window.PLOTLYENV=window.PLOTLYENV || {};                                    if (document.getElementById(\"a53abe00-dbb7-466c-b702-c87a2f66f01f\")) {                    Plotly.newPlot(                        \"a53abe00-dbb7-466c-b702-c87a2f66f01f\",                        [{\"name\":\"Gathered\",\"x\":[\"cookbooks\",\"food\",\"epicurious\",\"tastykitchen\",\"myrecipes\",\"allrecipes\",\"cookpad\",\"cookeatshare\",\"yummly\",\"tasteofhome\",\"foodnetwork\",\"food52\",\"kraftrecipes\",\"recipeland\",\"recipes-plus\",\"cooking.nytimes\",\"foodandwine\",\"seriouseats\",\"foodgeeks\",\"cookstr\",\"online-cookbook\",\"chowhound\",\"vegetariantimes\",\"delish\",\"landolakes\",\"foodrepublic\",\"lovefood\"],\"y\":[896341,290565,94398,50320,64862,61398,0,0,51963,51594,0,48501,0,0,20524,0,0,12632,0,0,0,0,0,0,0,0,0],\"type\":\"bar\",\"opacity\":0.75},{\"name\":\"Recipes1M\",\"x\":[\"cookbooks\",\"food\",\"epicurious\",\"tastykitchen\",\"myrecipes\",\"allrecipes\",\"cookpad\",\"cookeatshare\",\"yummly\",\"tasteofhome\",\"foodnetwork\",\"food52\",\"kraftrecipes\",\"recipeland\",\"recipes-plus\",\"cooking.nytimes\",\"foodandwine\",\"seriouseats\",\"foodgeeks\",\"cookstr\",\"online-cookbook\",\"chowhound\",\"vegetariantimes\",\"delish\",\"landolakes\",\"foodrepublic\",\"lovefood\"],\"y\":[0,209051,35046,28448,33,3204,61020,59307,0,0,49443,0,42010,24418,0,16367,15436,0,8963,8797,5691,5671,4578,3880,2492,2259,1930],\"type\":\"bar\",\"opacity\":0.75}],                        {\"template\":{\"data\":{\"bar\":[{\"error_x\":{\"color\":\"#2a3f5f\"},\"error_y\":{\"color\":\"#2a3f5f\"},\"marker\":{\"line\":{\"color\":\"#E5ECF6\",\"width\":0.5},\"pattern\":{\"fillmode\":\"overlay\",\"size\":10,\"solidity\":0.2}},\"type\":\"bar\"}],\"barpolar\":[{\"marker\":{\"line\":{\"color\":\"#E5ECF6\",\"width\":0.5},\"pattern\":{\"fillmode\":\"overlay\",\"size\":10,\"solidity\":0.2}},\"type\":\"barpolar\"}],\"carpet\":[{\"aaxis\":{\"endlinecolor\":\"#2a3f5f\",\"gridcolor\":\"white\",\"linecolor\":\"white\",\"minorgridcolor\":\"white\",\"startlinecolor\":\"#2a3f5f\"},\"baxis\":{\"endlinecolor\":\"#2a3f5f\",\"gridcolor\":\"white\",\"linecolor\":\"white\",\"minorgridcolor\":\"white\",\"startlinecolor\":\"#2a3f5f\"},\"type\":\"carpet\"}],\"choropleth\":[{\"colorbar\":{\"outlinewidth\":0,\"ticks\":\"\"},\"type\":\"choropleth\"}],\"contour\":[{\"colorbar\":{\"outlinewidth\":0,\"ticks\":\"\"},\"colorscale\":[[0.0,\"#0d0887\"],[0.1111111111111111,\"#46039f\"],[0.2222222222222222,\"#7201a8\"],[0.3333333333333333,\"#9c179e\"],[0.4444444444444444,\"#bd3786\"],[0.5555555555555556,\"#d8576b\"],[0.6666666666666666,\"#ed7953\"],[0.7777777777777778,\"#fb9f3a\"],[0.8888888888888888,\"#fdca26\"],[1.0,\"#f0f921\"]],\"type\":\"contour\"}],\"contourcarpet\":[{\"colorbar\":{\"outlinewidth\":0,\"ticks\":\"\"},\"type\":\"contourcarpet\"}],\"heatmap\":[{\"colorbar\":{\"outlinewidth\":0,\"ticks\":\"\"},\"colorscale\":[[0.0,\"#0d0887\"],[0.1111111111111111,\"#46039f\"],[0.2222222222222222,\"#7201a8\"],[0.3333333333333333,\"#9c179e\"],[0.4444444444444444,\"#bd3786\"],[0.5555555555555556,\"#d8576b\"],[0.6666666666666666,\"#ed7953\"],[0.7777777777777778,\"#fb9f3a\"],[0.8888888888888888,\"#fdca26\"],[1.0,\"#f0f921\"]],\"type\":\"heatmap\"}],\"heatmapgl\":[{\"colorbar\":{\"outlinewidth\":0,\"ticks\":\"\"},\"colorscale\":[[0.0,\"#0d0887\"],[0.1111111111111111,\"#46039f\"],[0.2222222222222222,\"#7201a8\"],[0.3333333333333333,\"#9c179e\"],[0.4444444444444444,\"#bd3786\"],[0.5555555555555556,\"#d8576b\"],[0.6666666666666666,\"#ed7953\"],[0.7777777777777778,\"#fb9f3a\"],[0.8888888888888888,\"#fdca26\"],[1.0,\"#f0f921\"]],\"type\":\"heatmapgl\"}],\"histogram\":[{\"marker\":{\"pattern\":{\"fillmode\":\"overlay\",\"size\":10,\"solidity\":0.2}},\"type\":\"histogram\"}],\"histogram2d\":[{\"colorbar\":{\"outlinewidth\":0,\"ticks\":\"\"},\"colorscale\":[[0.0,\"#0d0887\"],[0.1111111111111111,\"#46039f\"],[0.2222222222222222,\"#7201a8\"],[0.3333333333333333,\"#9c179e\"],[0.4444444444444444,\"#bd3786\"],[0.5555555555555556,\"#d8576b\"],[0.6666666666666666,\"#ed7953\"],[0.7777777777777778,\"#fb9f3a\"],[0.8888888888888888,\"#fdca26\"],[1.0,\"#f0f921\"]],\"type\":\"histogram2d\"}],\"histogram2dcontour\":[{\"colorbar\":{\"outlinewidth\":0,\"ticks\":\"\"},\"colorscale\":[[0.0,\"#0d0887\"],[0.1111111111111111,\"#46039f\"],[0.2222222222222222,\"#7201a8\"],[0.3333333333333333,\"#9c179e\"],[0.4444444444444444,\"#bd3786\"],[0.5555555555555556,\"#d8576b\"],[0.6666666666666666,\"#ed7953\"],[0.7777777777777778,\"#fb9f3a\"],[0.8888888888888888,\"#fdca26\"],[1.0,\"#f0f921\"]],\"type\":\"histogram2dcontour\"}],\"mesh3d\":[{\"colorbar\":{\"outlinewidth\":0,\"ticks\":\"\"},\"type\":\"mesh3d\"}],\"parcoords\":[{\"line\":{\"colorbar\":{\"outlinewidth\":0,\"ticks\":\"\"}},\"type\":\"parcoords\"}],\"pie\":[{\"automargin\":true,\"type\":\"pie\"}],\"scatter\":[{\"marker\":{\"colorbar\":{\"outlinewidth\":0,\"ticks\":\"\"}},\"type\":\"scatter\"}],\"scatter3d\":[{\"line\":{\"colorbar\":{\"outlinewidth\":0,\"ticks\":\"\"}},\"marker\":{\"colorbar\":{\"outlinewidth\":0,\"ticks\":\"\"}},\"type\":\"scatter3d\"}],\"scattercarpet\":[{\"marker\":{\"colorbar\":{\"outlinewidth\":0,\"ticks\":\"\"}},\"type\":\"scattercarpet\"}],\"scattergeo\":[{\"marker\":{\"colorbar\":{\"outlinewidth\":0,\"ticks\":\"\"}},\"type\":\"scattergeo\"}],\"scattergl\":[{\"marker\":{\"colorbar\":{\"outlinewidth\":0,\"ticks\":\"\"}},\"type\":\"scattergl\"}],\"scattermapbox\":[{\"marker\":{\"colorbar\":{\"outlinewidth\":0,\"ticks\":\"\"}},\"type\":\"scattermapbox\"}],\"scatterpolar\":[{\"marker\":{\"colorbar\":{\"outlinewidth\":0,\"ticks\":\"\"}},\"type\":\"scatterpolar\"}],\"scatterpolargl\":[{\"marker\":{\"colorbar\":{\"outlinewidth\":0,\"ticks\":\"\"}},\"type\":\"scatterpolargl\"}],\"scatterternary\":[{\"marker\":{\"colorbar\":{\"outlinewidth\":0,\"ticks\":\"\"}},\"type\":\"scatterternary\"}],\"surface\":[{\"colorbar\":{\"outlinewidth\":0,\"ticks\":\"\"},\"colorscale\":[[0.0,\"#0d0887\"],[0.1111111111111111,\"#46039f\"],[0.2222222222222222,\"#7201a8\"],[0.3333333333333333,\"#9c179e\"],[0.4444444444444444,\"#bd3786\"],[0.5555555555555556,\"#d8576b\"],[0.6666666666666666,\"#ed7953\"],[0.7777777777777778,\"#fb9f3a\"],[0.8888888888888888,\"#fdca26\"],[1.0,\"#f0f921\"]],\"type\":\"surface\"}],\"table\":[{\"cells\":{\"fill\":{\"color\":\"#EBF0F8\"},\"line\":{\"color\":\"white\"}},\"header\":{\"fill\":{\"color\":\"#C8D4E3\"},\"line\":{\"color\":\"white\"}},\"type\":\"table\"}]},\"layout\":{\"annotationdefaults\":{\"arrowcolor\":\"#2a3f5f\",\"arrowhead\":0,\"arrowwidth\":1},\"autotypenumbers\":\"strict\",\"coloraxis\":{\"colorbar\":{\"outlinewidth\":0,\"ticks\":\"\"}},\"colorscale\":{\"diverging\":[[0,\"#8e0152\"],[0.1,\"#c51b7d\"],[0.2,\"#de77ae\"],[0.3,\"#f1b6da\"],[0.4,\"#fde0ef\"],[0.5,\"#f7f7f7\"],[0.6,\"#e6f5d0\"],[0.7,\"#b8e186\"],[0.8,\"#7fbc41\"],[0.9,\"#4d9221\"],[1,\"#276419\"]],\"sequential\":[[0.0,\"#0d0887\"],[0.1111111111111111,\"#46039f\"],[0.2222222222222222,\"#7201a8\"],[0.3333333333333333,\"#9c179e\"],[0.4444444444444444,\"#bd3786\"],[0.5555555555555556,\"#d8576b\"],[0.6666666666666666,\"#ed7953\"],[0.7777777777777778,\"#fb9f3a\"],[0.8888888888888888,\"#fdca26\"],[1.0,\"#f0f921\"]],\"sequentialminus\":[[0.0,\"#0d0887\"],[0.1111111111111111,\"#46039f\"],[0.2222222222222222,\"#7201a8\"],[0.3333333333333333,\"#9c179e\"],[0.4444444444444444,\"#bd3786\"],[0.5555555555555556,\"#d8576b\"],[0.6666666666666666,\"#ed7953\"],[0.7777777777777778,\"#fb9f3a\"],[0.8888888888888888,\"#fdca26\"],[1.0,\"#f0f921\"]]},\"colorway\":[\"#636efa\",\"#EF553B\",\"#00cc96\",\"#ab63fa\",\"#FFA15A\",\"#19d3f3\",\"#FF6692\",\"#B6E880\",\"#FF97FF\",\"#FECB52\"],\"font\":{\"color\":\"#2a3f5f\"},\"geo\":{\"bgcolor\":\"white\",\"lakecolor\":\"white\",\"landcolor\":\"#E5ECF6\",\"showlakes\":true,\"showland\":true,\"subunitcolor\":\"white\"},\"hoverlabel\":{\"align\":\"left\"},\"hovermode\":\"closest\",\"mapbox\":{\"style\":\"light\"},\"paper_bgcolor\":\"white\",\"plot_bgcolor\":\"#E5ECF6\",\"polar\":{\"angularaxis\":{\"gridcolor\":\"white\",\"linecolor\":\"white\",\"ticks\":\"\"},\"bgcolor\":\"#E5ECF6\",\"radialaxis\":{\"gridcolor\":\"white\",\"linecolor\":\"white\",\"ticks\":\"\"}},\"scene\":{\"xaxis\":{\"backgroundcolor\":\"#E5ECF6\",\"gridcolor\":\"white\",\"gridwidth\":2,\"linecolor\":\"white\",\"showbackground\":true,\"ticks\":\"\",\"zerolinecolor\":\"white\"},\"yaxis\":{\"backgroundcolor\":\"#E5ECF6\",\"gridcolor\":\"white\",\"gridwidth\":2,\"linecolor\":\"white\",\"showbackground\":true,\"ticks\":\"\",\"zerolinecolor\":\"white\"},\"zaxis\":{\"backgroundcolor\":\"#E5ECF6\",\"gridcolor\":\"white\",\"gridwidth\":2,\"linecolor\":\"white\",\"showbackground\":true,\"ticks\":\"\",\"zerolinecolor\":\"white\"}},\"shapedefaults\":{\"line\":{\"color\":\"#2a3f5f\"}},\"ternary\":{\"aaxis\":{\"gridcolor\":\"white\",\"linecolor\":\"white\",\"ticks\":\"\"},\"baxis\":{\"gridcolor\":\"white\",\"linecolor\":\"white\",\"ticks\":\"\"},\"bgcolor\":\"#E5ECF6\",\"caxis\":{\"gridcolor\":\"white\",\"linecolor\":\"white\",\"ticks\":\"\"}},\"title\":{\"x\":0.05},\"xaxis\":{\"automargin\":true,\"gridcolor\":\"white\",\"linecolor\":\"white\",\"ticks\":\"\",\"title\":{\"standoff\":15},\"zerolinecolor\":\"white\",\"zerolinewidth\":2},\"yaxis\":{\"automargin\":true,\"gridcolor\":\"white\",\"linecolor\":\"white\",\"ticks\":\"\",\"title\":{\"standoff\":15},\"zerolinecolor\":\"white\",\"zerolinewidth\":2}}},\"bargap\":0.2,\"width\":900,\"height\":400},                        {\"responsive\": true}                    ).then(function(){\n",
       "                            \n",
       "var gd = document.getElementById('a53abe00-dbb7-466c-b702-c87a2f66f01f');\n",
       "var x = new MutationObserver(function (mutations, observer) {{\n",
       "        var display = window.getComputedStyle(gd).display;\n",
       "        if (!display || display === 'none') {{\n",
       "            console.log([gd, 'removed!']);\n",
       "            Plotly.purge(gd);\n",
       "            observer.disconnect();\n",
       "        }}\n",
       "}});\n",
       "\n",
       "// Listen for the removal of the full notebook cells\n",
       "var notebookContainer = gd.closest('#notebook-container');\n",
       "if (notebookContainer) {{\n",
       "    x.observe(notebookContainer, {childList: true});\n",
       "}}\n",
       "\n",
       "// Listen for the clearing of the current output cell\n",
       "var outputEl = gd.closest('.output');\n",
       "if (outputEl) {{\n",
       "    x.observe(outputEl, {childList: true});\n",
       "}}\n",
       "\n",
       "                        })                };                });            </script>        </div>"
      ]
     },
     "metadata": {},
     "output_type": "display_data"
    }
   ],
   "source": [
    "import plotly\n",
    "import plotly.express as px\n",
    "import plotly.graph_objects as go\n",
    "\n",
    "fig = go.Figure()\n",
    "for src in [\"Gathered\", \"Recipes1M\"]:\n",
    "  fig.add_trace(go.Bar(\n",
    "      x=freq_table[\"source_website\"],\n",
    "      y=freq_table[src],\n",
    "      name=src\n",
    "  ))\n",
    "fig.update_layout(\n",
    "    bargap=0.2,\n",
    "    #barmode='stack',\n",
    "    width=900,\n",
    "    height=400\n",
    ")\n",
    "fig.update_traces(opacity=0.75)\n",
    "fig.show()"
   ]
  },
  {
   "cell_type": "markdown",
   "metadata": {},
   "source": [
    "### Chocolate chip cookie recipes\n",
    "\n",
    "There are 75,979 cookie recipes in this dataset, out of which 7720 are chocolate chip cookies.\n",
    "\n",
    "```python\n",
    "df.title.str.lower().str.contains(\"cookie\").sum()\n",
    "```"
   ]
  },
  {
   "cell_type": "code",
   "execution_count": 14,
   "metadata": {},
   "outputs": [
    {
     "name": "stdout",
     "output_type": "stream",
     "text": [
      "Shape:  (7720, 7)\n"
     ]
    },
    {
     "data": {
      "text/html": [
       "<div>\n",
       "<style scoped>\n",
       "    .dataframe tbody tr th:only-of-type {\n",
       "        vertical-align: middle;\n",
       "    }\n",
       "\n",
       "    .dataframe tbody tr th {\n",
       "        vertical-align: top;\n",
       "    }\n",
       "\n",
       "    .dataframe thead th {\n",
       "        text-align: right;\n",
       "    }\n",
       "</style>\n",
       "<table border=\"1\" class=\"dataframe\">\n",
       "  <thead>\n",
       "    <tr style=\"text-align: right;\">\n",
       "      <th></th>\n",
       "      <th>title</th>\n",
       "      <th>ingredients</th>\n",
       "      <th>NER</th>\n",
       "      <th>directions</th>\n",
       "    </tr>\n",
       "  </thead>\n",
       "  <tbody>\n",
       "    <tr>\n",
       "      <th>0</th>\n",
       "      <td>Chicago Crunchy Chocolate Chip Cookies</td>\n",
       "      <td>[3 1/2 c. flour, 3 tsp. baking soda, 1 c. pack...</td>\n",
       "      <td>[chocolate, milk, vanilla, oats, brown sugar, ...</td>\n",
       "      <td>[\"Sift flour, baking soda and salt onto wax pa...</td>\n",
       "    </tr>\n",
       "    <tr>\n",
       "      <th>1</th>\n",
       "      <td>Oatmeal Chocolate Chip Cookies</td>\n",
       "      <td>[1 c. butter flavored shortening, 1 1/4 c. bro...</td>\n",
       "      <td>[milk, vanilla, brown sugar, chocolate chips, ...</td>\n",
       "      <td>[\"Beat margarine and sugar until creamy.\", \"Ad...</td>\n",
       "    </tr>\n",
       "    <tr>\n",
       "      <th>2</th>\n",
       "      <td>Chocolate Chip Cookies</td>\n",
       "      <td>[1 1/2 c. salad oil, 1 c. sugar, 2 c. brown su...</td>\n",
       "      <td>[vanilla, brown sugar, chocolate chips, flour,...</td>\n",
       "      <td>[\"Blend together the salad oil, sugar, brown s...</td>\n",
       "    </tr>\n",
       "    <tr>\n",
       "      <th>3</th>\n",
       "      <td>The Best Chocolate Chip Cookies</td>\n",
       "      <td>[1/2 lb. real butter, 1 c. brown sugar, 1 c. w...</td>\n",
       "      <td>[vanilla, brown sugar, chocolate chips, flour,...</td>\n",
       "      <td>[\"Beat butter, sugars, vanilla and eggs until ...</td>\n",
       "    </tr>\n",
       "    <tr>\n",
       "      <th>4</th>\n",
       "      <td>White Chocolate Chip Cookies</td>\n",
       "      <td>[2 1/4 c. flour, sifted, 1 tsp. baking soda, 1...</td>\n",
       "      <td>[nuts, unsalted butter, brown sugar, white cho...</td>\n",
       "      <td>[\"Preheat oven to 350\\u00b0.\", \"Combine flour,...</td>\n",
       "    </tr>\n",
       "  </tbody>\n",
       "</table>\n",
       "</div>"
      ],
      "text/plain": [
       "                                    title  \\\n",
       "0  Chicago Crunchy Chocolate Chip Cookies   \n",
       "1          Oatmeal Chocolate Chip Cookies   \n",
       "2                  Chocolate Chip Cookies   \n",
       "3         The Best Chocolate Chip Cookies   \n",
       "4            White Chocolate Chip Cookies   \n",
       "\n",
       "                                         ingredients  \\\n",
       "0  [3 1/2 c. flour, 3 tsp. baking soda, 1 c. pack...   \n",
       "1  [1 c. butter flavored shortening, 1 1/4 c. bro...   \n",
       "2  [1 1/2 c. salad oil, 1 c. sugar, 2 c. brown su...   \n",
       "3  [1/2 lb. real butter, 1 c. brown sugar, 1 c. w...   \n",
       "4  [2 1/4 c. flour, sifted, 1 tsp. baking soda, 1...   \n",
       "\n",
       "                                                 NER  \\\n",
       "0  [chocolate, milk, vanilla, oats, brown sugar, ...   \n",
       "1  [milk, vanilla, brown sugar, chocolate chips, ...   \n",
       "2  [vanilla, brown sugar, chocolate chips, flour,...   \n",
       "3  [vanilla, brown sugar, chocolate chips, flour,...   \n",
       "4  [nuts, unsalted butter, brown sugar, white cho...   \n",
       "\n",
       "                                          directions  \n",
       "0  [\"Sift flour, baking soda and salt onto wax pa...  \n",
       "1  [\"Beat margarine and sugar until creamy.\", \"Ad...  \n",
       "2  [\"Blend together the salad oil, sugar, brown s...  \n",
       "3  [\"Beat butter, sugars, vanilla and eggs until ...  \n",
       "4  [\"Preheat oven to 350\\u00b0.\", \"Combine flour,...  "
      ]
     },
     "execution_count": 14,
     "metadata": {},
     "output_type": "execute_result"
    }
   ],
   "source": [
    "import json\n",
    "with open(\"ingredient_mapper.json\", \"r\") as f:\n",
    "    ingredient_mapper = json.load(f)\n",
    "\n",
    "fn_dataset = path_dataset/\"recipenlg-cookies_ori_format.csv\"\n",
    "if os.path.exists(fn_dataset):\n",
    "    df_cookies = pd.read_csv(fn_dataset)\n",
    "    df_cookies.ingredients = [ast.literal_eval(item.lower()) for item in df_cookies.ingredients]\n",
    "    df_cookies.NER = [ast.literal_eval(item.lower()) for item in df_cookies.NER]\n",
    "    df_cookies.NER = [list(set(item)) for item in df_cookies.NER] # list(set(...)) ensure NER lists are non-repetitive\n",
    "else:\n",
    "    patterns = [\"cookie\", \"chocolate chip\"]\n",
    "    df_cookies = df.loc[df.title.str.lower().apply(lambda item: all(pattern in item for pattern in patterns))].reset_index(drop=True)\n",
    "    df_cookies.to_csv(fn_dataset, index=False)\n",
    "\n",
    "print(\"Shape: \", df_cookies.shape)\n",
    "df_cookies[[\"title\", \"ingredients\", \"NER\", \"directions\"]].head()"
   ]
  },
  {
   "cell_type": "markdown",
   "metadata": {},
   "source": [
    "#### Data issues\n",
    "\n",
    "* Mixed units: `1 (12 oz.) pkg.`\n",
    "* Some ingredients cannot be converted to \"cup\", e.g. `1/2 stick butter or margarine, softened` / `3 medium apples, chopped` / `dash of salt` / `1 stick oleo` / `2 pkg. instant pudding`\n",
    "    - It is possible to find conversion rules: `3/4 of an average sliced or cubed apple equates to a single cup`, or `one egg equals 0.2 cup`.\n",
    "    - Or leave out such ingredients?\n",
    "* Some messed up values, such as 'T' or '¼', can be found in the NER column, e.g. `df.iloc[1272077].NER`\n",
    "* Some ingredients were misinterpreted - \"butter flavored shortening\" was mapped to \"butter\" in NER\n",
    "* Some ingredients were not found in the NER list, see below:"
   ]
  },
  {
   "cell_type": "code",
   "execution_count": 85,
   "metadata": {},
   "outputs": [
    {
     "name": "stdout",
     "output_type": "stream",
     "text": [
      "***Ingredient***                  ***Net Ingredient***\n",
      "1 c. butter                    -> butter              \n",
      "1 c. sugar                     -> sugar               \n",
      "1 c. brown sugar               -> brown sugar^sugar   \n",
      "2 eggs                         -> eggs                \n",
      "1 tsp. vanilla flavoring       -> vanilla flavoring   \n",
      "2 c. flour                     -> flour               \n",
      "2 1/2 c. oatmeal (processed in blender) -> ?????               \n",
      "1/2 tsp. salt                  -> salt                \n",
      "1 tsp. baking powder           -> baking powder       \n",
      "1 tsp. baking soda             -> baking soda         \n",
      "12 oz. real chocolate chips    -> chocolate chips     \n",
      "4 oz. hershey bar, grated      -> ?????               \n",
      "1 1/2 c. chopped nuts          -> nuts                \n"
     ]
    }
   ],
   "source": [
    "row = df_cookies.iloc[16]\n",
    "\n",
    "print(\"{:30}    {:20}\".format(\"***Ingredient***\", \"***NER Ingredient***\"))\n",
    "for ingd in row.ingredients:\n",
    "    ner_set = [item for item in row.NER if item in ingd]\n",
    "    print(\"{:30} -> {:20}\".format(ingd, \"^\".join(ner_set) if ner_set else \"?????\"))"
   ]
  },
  {
   "cell_type": "markdown",
   "metadata": {},
   "source": [
    "**Manually cleaned these 50 chocolate chips cookies recipes:**\n",
    "\n",
    "* Only looked at the top 20 ingredients in terms of occurrences in chocolate chips cookies recipes\n",
    "    - Ended up with 18 ingredients because combined `nuts`, `walnuts` and `pecans`\n",
    "    - ingredient list: \n",
    "        - white sugar, brown sugar, flour, egg, vanilla, chocolate chips, salt, baking soda, butter, baking powder, nuts, shortening, margarine, milk, water, oats, cinnamon, peanut butter\n",
    "* All 50 recipes happened to come from `cookbooks.com`\n",
    "* For unit conversion rules and data cleaning notes, see [spreadsheet](https://docs.google.com/spreadsheets/d/1N9ZzqTbR8KOHMXoq96fxTpbfXhRjRWhubdVbNmoelrg/edit?usp=sharing)"
   ]
  },
  {
   "cell_type": "code",
   "execution_count": 19,
   "metadata": {},
   "outputs": [
    {
     "name": "stdout",
     "output_type": "stream",
     "text": [
      "(50, 60)\n",
      "[]\n"
     ]
    }
   ],
   "source": [
    "nrow_to_export = 50\n",
    "df_cookies.NER = [list(set([ingredient_mapper.get(item, item) for item in ner])) for ner in df_cookies.NER]\n",
    "df_before = pd.DataFrame()\n",
    "error_idx = []\n",
    "for idx, row in df_cookies.iloc[:nrow_to_export].iterrows():\n",
    "    try:\n",
    "        df_before = pd.concat(\n",
    "            [df_before, pd.DataFrame([\n",
    "                [row.title, row.ingredients, row.link] + [\"^\".join([item for item in row.ingredients if ner in item]) for ner in row.NER]\n",
    "            ], columns=[\"title\", \"ingredients\", \"link\"] + row.NER)],\n",
    "            ignore_index=True\n",
    "        )\n",
    "    except:\n",
    "        error_idx.append(idx)\n",
    "print(df_before.shape)\n",
    "print(error_idx)\n",
    "# export to disk as csv file\n",
    "# top20_list = [\n",
    "#     \"brown sugar\", \"white sugar\", \"egg\", \"flour\", \"vanilla\", \"chocolate chips\", \"baking soda\", \"salt\", \"butter\", \"baking powder\", \"nuts\",\n",
    "#     \"shortening\", \"margarine\", \"milk\", \"walnuts\", \"water\", \"pecans\", \"oats\", \"cinnamon\", \"peanut butter\"\n",
    "# ]\n",
    "# df_before[[\"title\", \"ingredients\", \"link\"] + top20_list]\\\n",
    "#     .to_csv(path_dataset/\"recipenlg-cookies_to_clean.csv\", index=False)"
   ]
  },
  {
   "cell_type": "code",
   "execution_count": 75,
   "metadata": {},
   "outputs": [],
   "source": [
    "# read in the cleaned data\n",
    "df_after = pd.read_csv(path_dataset/\"recipenlg-cookies_cleaned.csv\")\n",
    "col_ingd_cup = [col for col in df_after.columns if \"(c.)\" in col]\n",
    "df_after = df_after[df_after.to_drop == 0].reset_index(drop=True)[[\"title\", \"ingredients\", \"link\"] + col_ingd_cup]\n",
    "df_after[\"chocolate chips (c.)\"] = df_after[\"chocolate chips (c.)\"].astype(\"float\")\n",
    "df_after[col_ingd_cup] = df_after[col_ingd_cup].fillna(0)\n",
    "\n",
    "# convert each row from cup measurements to percentage\n",
    "df_after_pct = df_after[col_ingd_cup].div(df_after[col_ingd_cup].sum(axis=1), axis=0)\n",
    "df_after_pct.rename(columns=lambda col: col.replace(\"(c.)\", \"(%)\"), inplace=True)\n",
    "col_ingd_pct = df_after_pct.columns\n",
    "df_after = pd.concat([df_after, df_after_pct], axis=1)\n",
    "del df_after_pct"
   ]
  },
  {
   "cell_type": "markdown",
   "metadata": {},
   "source": [
    "Categorize the main ingredients into flour, fats, liquids, toppings, leaveners, and flavorings （reference: [Basic Cookie Ingredients](https://www.craftybaking.com/learn/baked-goods/cookies/ingredients))."
   ]
  },
  {
   "cell_type": "code",
   "execution_count": 4,
   "metadata": {},
   "outputs": [
    {
     "data": {
      "text/html": [
       "<div>\n",
       "<style scoped>\n",
       "    .dataframe tbody tr th:only-of-type {\n",
       "        vertical-align: middle;\n",
       "    }\n",
       "\n",
       "    .dataframe tbody tr th {\n",
       "        vertical-align: top;\n",
       "    }\n",
       "\n",
       "    .dataframe thead th {\n",
       "        text-align: right;\n",
       "    }\n",
       "</style>\n",
       "<table border=\"1\" class=\"dataframe\">\n",
       "  <thead>\n",
       "    <tr style=\"text-align: right;\">\n",
       "      <th></th>\n",
       "      <th>category</th>\n",
       "      <th>ingredient</th>\n",
       "    </tr>\n",
       "  </thead>\n",
       "  <tbody>\n",
       "    <tr>\n",
       "      <th>3</th>\n",
       "      <td>eggs</td>\n",
       "      <td>egg</td>\n",
       "    </tr>\n",
       "    <tr>\n",
       "      <th>8</th>\n",
       "      <td>fats</td>\n",
       "      <td>butter</td>\n",
       "    </tr>\n",
       "    <tr>\n",
       "      <th>12</th>\n",
       "      <td>fats</td>\n",
       "      <td>margarine</td>\n",
       "    </tr>\n",
       "    <tr>\n",
       "      <th>11</th>\n",
       "      <td>fats</td>\n",
       "      <td>shortening</td>\n",
       "    </tr>\n",
       "    <tr>\n",
       "      <th>16</th>\n",
       "      <td>flavorings</td>\n",
       "      <td>cinnamon</td>\n",
       "    </tr>\n",
       "    <tr>\n",
       "      <th>6</th>\n",
       "      <td>flavorings</td>\n",
       "      <td>salt</td>\n",
       "    </tr>\n",
       "    <tr>\n",
       "      <th>17</th>\n",
       "      <td>flavorings</td>\n",
       "      <td>peanut butter</td>\n",
       "    </tr>\n",
       "    <tr>\n",
       "      <th>4</th>\n",
       "      <td>flavorings</td>\n",
       "      <td>vanilla</td>\n",
       "    </tr>\n",
       "    <tr>\n",
       "      <th>2</th>\n",
       "      <td>flour</td>\n",
       "      <td>flour</td>\n",
       "    </tr>\n",
       "    <tr>\n",
       "      <th>7</th>\n",
       "      <td>leaveners</td>\n",
       "      <td>baking soda</td>\n",
       "    </tr>\n",
       "    <tr>\n",
       "      <th>9</th>\n",
       "      <td>leaveners</td>\n",
       "      <td>baking powder</td>\n",
       "    </tr>\n",
       "    <tr>\n",
       "      <th>13</th>\n",
       "      <td>liquids</td>\n",
       "      <td>milk</td>\n",
       "    </tr>\n",
       "    <tr>\n",
       "      <th>14</th>\n",
       "      <td>liquids</td>\n",
       "      <td>water</td>\n",
       "    </tr>\n",
       "    <tr>\n",
       "      <th>1</th>\n",
       "      <td>sweeteners</td>\n",
       "      <td>brown sugar</td>\n",
       "    </tr>\n",
       "    <tr>\n",
       "      <th>0</th>\n",
       "      <td>sweeteners</td>\n",
       "      <td>white sugar</td>\n",
       "    </tr>\n",
       "    <tr>\n",
       "      <th>10</th>\n",
       "      <td>toppings</td>\n",
       "      <td>nuts</td>\n",
       "    </tr>\n",
       "    <tr>\n",
       "      <th>15</th>\n",
       "      <td>toppings</td>\n",
       "      <td>oats</td>\n",
       "    </tr>\n",
       "    <tr>\n",
       "      <th>5</th>\n",
       "      <td>toppings</td>\n",
       "      <td>chocolate chips</td>\n",
       "    </tr>\n",
       "  </tbody>\n",
       "</table>\n",
       "</div>"
      ],
      "text/plain": [
       "      category       ingredient\n",
       "3         eggs              egg\n",
       "8         fats           butter\n",
       "12        fats        margarine\n",
       "11        fats       shortening\n",
       "16  flavorings         cinnamon\n",
       "6   flavorings             salt\n",
       "17  flavorings    peanut butter\n",
       "4   flavorings          vanilla\n",
       "2        flour            flour\n",
       "7    leaveners      baking soda\n",
       "9    leaveners    baking powder\n",
       "13     liquids             milk\n",
       "14     liquids            water\n",
       "1   sweeteners      brown sugar\n",
       "0   sweeteners      white sugar\n",
       "10    toppings             nuts\n",
       "15    toppings             oats\n",
       "5     toppings  chocolate chips"
      ]
     },
     "execution_count": 4,
     "metadata": {},
     "output_type": "execute_result"
    }
   ],
   "source": [
    "ingd_to_cate = pd.DataFrame(np.array([\n",
    "    [\"white sugar\", \"sweeteners\"],\n",
    "    [\"brown sugar\", \"sweeteners\"],\n",
    "    [\"flour\", \"flour\"],\n",
    "    [\"egg\", \"eggs\"],\n",
    "    [\"vanilla\", \"flavorings\"],\n",
    "    [\"chocolate chips\", \"toppings\"],\n",
    "    [\"salt\", \"flavorings\"],\n",
    "    [\"baking soda\", \"leaveners\"],\n",
    "    [\"butter\", \"fats\"],\n",
    "    [\"baking powder\", \"leaveners\"],\n",
    "    [\"nuts\", \"toppings\"],\n",
    "    [\"shortening\", \"fats\"],\n",
    "    [\"margarine\", \"fats\"],\n",
    "    [\"milk\", \"liquids\"],\n",
    "    [\"water\", \"liquids\"],\n",
    "    [\"oats\", \"toppings\"],\n",
    "    [\"cinnamon\", \"flavorings\"],\n",
    "    [\"peanut butter\", \"flavorings\"]\n",
    "]), columns=[\"ingredient\", \"category\"])\n",
    "\n",
    "ingd_to_cate.sort_values(by=\"category\")[[\"category\", \"ingredient\"]]"
   ]
  },
  {
   "cell_type": "markdown",
   "metadata": {},
   "source": [
    "#### An average chocolate chips cookies recipe"
   ]
  },
  {
   "cell_type": "code",
   "execution_count": 180,
   "metadata": {},
   "outputs": [
    {
     "data": {
      "text/html": [
       "<div>\n",
       "<style scoped>\n",
       "    .dataframe tbody tr th:only-of-type {\n",
       "        vertical-align: middle;\n",
       "    }\n",
       "\n",
       "    .dataframe tbody tr th {\n",
       "        vertical-align: top;\n",
       "    }\n",
       "\n",
       "    .dataframe thead th {\n",
       "        text-align: right;\n",
       "    }\n",
       "</style>\n",
       "<table border=\"1\" class=\"dataframe\">\n",
       "  <thead>\n",
       "    <tr style=\"text-align: right;\">\n",
       "      <th></th>\n",
       "      <th>ingredient</th>\n",
       "      <th>pct</th>\n",
       "      <th>category</th>\n",
       "    </tr>\n",
       "  </thead>\n",
       "  <tbody>\n",
       "    <tr>\n",
       "      <th>0</th>\n",
       "      <td>flour</td>\n",
       "      <td>0.329321</td>\n",
       "      <td>flour</td>\n",
       "    </tr>\n",
       "    <tr>\n",
       "      <th>1</th>\n",
       "      <td>chocolate chips</td>\n",
       "      <td>0.214697</td>\n",
       "      <td>toppings</td>\n",
       "    </tr>\n",
       "    <tr>\n",
       "      <th>2</th>\n",
       "      <td>brown sugar</td>\n",
       "      <td>0.107879</td>\n",
       "      <td>sweeteners</td>\n",
       "    </tr>\n",
       "    <tr>\n",
       "      <th>3</th>\n",
       "      <td>white sugar</td>\n",
       "      <td>0.091230</td>\n",
       "      <td>sweeteners</td>\n",
       "    </tr>\n",
       "    <tr>\n",
       "      <th>4</th>\n",
       "      <td>butter</td>\n",
       "      <td>0.064508</td>\n",
       "      <td>fats</td>\n",
       "    </tr>\n",
       "  </tbody>\n",
       "</table>\n",
       "</div>"
      ],
      "text/plain": [
       "        ingredient       pct    category\n",
       "0            flour  0.329321       flour\n",
       "1  chocolate chips  0.214697    toppings\n",
       "2      brown sugar  0.107879  sweeteners\n",
       "3      white sugar  0.091230  sweeteners\n",
       "4           butter  0.064508        fats"
      ]
     },
     "execution_count": 180,
     "metadata": {},
     "output_type": "execute_result"
    }
   ],
   "source": [
    "import numpy as np\n",
    "from matplotlib import pyplot as plt\n",
    "import plotly\n",
    "import plotly.express as px\n",
    "import plotly.graph_objects as go\n",
    "\n",
    "df_avg = df_after[col_ingd_pct].mean(axis=0).sort_values(ascending=False).reset_index()\n",
    "df_avg.columns = [\"ingredient\", \"pct\"]\n",
    "df_avg[\"ingredient\"] = [item.replace(\" (%)\", \"\") for item in df_avg.ingredient]\n",
    "df_avg = df_avg.join(ingd_to_cate.set_index(\"ingredient\"), on=\"ingredient\")\n",
    "df_avg.head()"
   ]
  },
  {
   "cell_type": "code",
   "execution_count": 178,
   "metadata": {},
   "outputs": [
    {
     "data": {
      "application/vnd.plotly.v1+json": {
       "config": {
        "plotlyServerURL": "https://plot.ly"
       },
       "data": [
        {
         "branchvalues": "total",
         "customdata": [
          [
           5.319597055781658,
           "eggs"
          ],
          [
           2.643795311982074,
           "fats"
          ],
          [
           21.469728441444367,
           "toppings"
          ],
          [
           32.932122992512056,
           "flour"
          ],
          [
           0.4018092101244295,
           "flavorings"
          ],
          [
           1.950083071670097,
           "toppings"
          ],
          [
           5.485323845026661,
           "toppings"
          ],
          [
           9.12298913482801,
           "sweeteners"
          ],
          [
           0.042318286272221214,
           "leaveners"
          ],
          [
           0.270585639364508,
           "liquids"
          ],
          [
           0.21000422867073618,
           "flavorings"
          ],
          [
           0.4598992121681309,
           "flavorings"
          ],
          [
           1.9616921289335132,
           "fats"
          ],
          [
           6.450774369966707,
           "fats"
          ],
          [
           10.787924170377067,
           "sweeteners"
          ],
          [
           0.22252756021543219,
           "liquids"
          ],
          [
           0.25051680865212617,
           "leaveners"
          ],
          [
           0.018308532010197706,
           "flavorings"
          ],
          [
           5.319597055781658,
           "eggs"
          ],
          [
           11.056261810882294,
           "fats"
          ],
          [
           1.0900211829734943,
           "flavorings"
          ],
          [
           32.932122992512056,
           "flour"
          ],
          [
           0.2928350949243474,
           "leaveners"
          ],
          [
           0.4931131995799402,
           "liquids"
          ],
          [
           19.910913305205078,
           "sweeteners"
          ],
          [
           28.905135358141127,
           "toppings"
          ]
         ],
         "domain": {
          "x": [
           0,
           1
          ],
          "y": [
           0,
           1
          ]
         },
         "hovertemplate": "%{label}<br>pct=%{customdata[0]:5.2f}%<extra></extra>",
         "ids": [
          "eggs/egg",
          "fats/margarine",
          "toppings/chocolate chips",
          "flour/flour",
          "flavorings/vanilla",
          "toppings/oats",
          "toppings/nuts",
          "sweeteners/white sugar",
          "leaveners/baking powder",
          "liquids/water",
          "flavorings/salt",
          "flavorings/peanut butter",
          "fats/shortening",
          "fats/butter",
          "sweeteners/brown sugar",
          "liquids/milk",
          "leaveners/baking soda",
          "flavorings/cinnamon",
          "eggs",
          "fats",
          "flavorings",
          "flour",
          "leaveners",
          "liquids",
          "sweeteners",
          "toppings"
         ],
         "labels": [
          "egg",
          "margarine",
          "chocolate chips",
          "flour",
          "vanilla",
          "oats",
          "nuts",
          "white sugar",
          "baking powder",
          "water",
          "salt",
          "peanut butter",
          "shortening",
          "butter",
          "brown sugar",
          "milk",
          "baking soda",
          "cinnamon",
          "eggs",
          "fats",
          "flavorings",
          "flour",
          "leaveners",
          "liquids",
          "sweeteners",
          "toppings"
         ],
         "marker": {
          "colors": [
           "rgb(133, 92, 117)",
           "rgb(217, 175, 107)",
           "rgb(175, 100, 88)",
           "rgb(115, 111, 76)",
           "rgb(82, 106, 131)",
           "rgb(175, 100, 88)",
           "rgb(175, 100, 88)",
           "rgb(98, 83, 119)",
           "rgb(104, 133, 92)",
           "rgb(156, 156, 94)",
           "rgb(82, 106, 131)",
           "rgb(82, 106, 131)",
           "rgb(217, 175, 107)",
           "rgb(217, 175, 107)",
           "rgb(98, 83, 119)",
           "rgb(156, 156, 94)",
           "rgb(104, 133, 92)",
           "rgb(82, 106, 131)",
           "rgb(133, 92, 117)",
           "rgb(217, 175, 107)",
           "rgb(82, 106, 131)",
           "rgb(115, 111, 76)",
           "rgb(104, 133, 92)",
           "rgb(156, 156, 94)",
           "rgb(98, 83, 119)",
           "rgb(175, 100, 88)"
          ]
         },
         "name": "",
         "parents": [
          "eggs",
          "fats",
          "toppings",
          "flour",
          "flavorings",
          "toppings",
          "toppings",
          "sweeteners",
          "leaveners",
          "liquids",
          "flavorings",
          "flavorings",
          "fats",
          "fats",
          "sweeteners",
          "liquids",
          "leaveners",
          "flavorings",
          "",
          "",
          "",
          "",
          "",
          "",
          "",
          ""
         ],
         "textinfo": "percent entry+label",
         "type": "sunburst",
         "values": [
          5.319597055781658,
          2.643795311982074,
          21.469728441444367,
          32.932122992512056,
          0.4018092101244295,
          1.950083071670097,
          5.485323845026661,
          9.12298913482801,
          0.042318286272221214,
          0.270585639364508,
          0.21000422867073618,
          0.4598992121681309,
          1.9616921289335132,
          6.450774369966707,
          10.787924170377067,
          0.22252756021543219,
          0.25051680865212617,
          0.018308532010197706,
          5.319597055781658,
          11.056261810882294,
          1.0900211829734943,
          32.932122992512056,
          0.2928350949243474,
          0.4931131995799402,
          19.910913305205078,
          28.905135358141127
         ]
        }
       ],
       "layout": {
        "height": 600,
        "legend": {
         "tracegroupgap": 0
        },
        "sunburstcolorway": [
         "rgb(133, 92, 117)",
         "rgb(217, 175, 107)",
         "rgb(175, 100, 88)",
         "rgb(115, 111, 76)",
         "rgb(82, 106, 131)",
         "rgb(98, 83, 119)",
         "rgb(104, 133, 92)",
         "rgb(156, 156, 94)",
         "rgb(160, 97, 119)",
         "rgb(140, 120, 93)",
         "rgb(124, 124, 124)"
        ],
        "template": {
         "data": {
          "bar": [
           {
            "error_x": {
             "color": "#2a3f5f"
            },
            "error_y": {
             "color": "#2a3f5f"
            },
            "marker": {
             "line": {
              "color": "#E5ECF6",
              "width": 0.5
             },
             "pattern": {
              "fillmode": "overlay",
              "size": 10,
              "solidity": 0.2
             }
            },
            "type": "bar"
           }
          ],
          "barpolar": [
           {
            "marker": {
             "line": {
              "color": "#E5ECF6",
              "width": 0.5
             },
             "pattern": {
              "fillmode": "overlay",
              "size": 10,
              "solidity": 0.2
             }
            },
            "type": "barpolar"
           }
          ],
          "carpet": [
           {
            "aaxis": {
             "endlinecolor": "#2a3f5f",
             "gridcolor": "white",
             "linecolor": "white",
             "minorgridcolor": "white",
             "startlinecolor": "#2a3f5f"
            },
            "baxis": {
             "endlinecolor": "#2a3f5f",
             "gridcolor": "white",
             "linecolor": "white",
             "minorgridcolor": "white",
             "startlinecolor": "#2a3f5f"
            },
            "type": "carpet"
           }
          ],
          "choropleth": [
           {
            "colorbar": {
             "outlinewidth": 0,
             "ticks": ""
            },
            "type": "choropleth"
           }
          ],
          "contour": [
           {
            "colorbar": {
             "outlinewidth": 0,
             "ticks": ""
            },
            "colorscale": [
             [
              0,
              "#0d0887"
             ],
             [
              0.1111111111111111,
              "#46039f"
             ],
             [
              0.2222222222222222,
              "#7201a8"
             ],
             [
              0.3333333333333333,
              "#9c179e"
             ],
             [
              0.4444444444444444,
              "#bd3786"
             ],
             [
              0.5555555555555556,
              "#d8576b"
             ],
             [
              0.6666666666666666,
              "#ed7953"
             ],
             [
              0.7777777777777778,
              "#fb9f3a"
             ],
             [
              0.8888888888888888,
              "#fdca26"
             ],
             [
              1,
              "#f0f921"
             ]
            ],
            "type": "contour"
           }
          ],
          "contourcarpet": [
           {
            "colorbar": {
             "outlinewidth": 0,
             "ticks": ""
            },
            "type": "contourcarpet"
           }
          ],
          "heatmap": [
           {
            "colorbar": {
             "outlinewidth": 0,
             "ticks": ""
            },
            "colorscale": [
             [
              0,
              "#0d0887"
             ],
             [
              0.1111111111111111,
              "#46039f"
             ],
             [
              0.2222222222222222,
              "#7201a8"
             ],
             [
              0.3333333333333333,
              "#9c179e"
             ],
             [
              0.4444444444444444,
              "#bd3786"
             ],
             [
              0.5555555555555556,
              "#d8576b"
             ],
             [
              0.6666666666666666,
              "#ed7953"
             ],
             [
              0.7777777777777778,
              "#fb9f3a"
             ],
             [
              0.8888888888888888,
              "#fdca26"
             ],
             [
              1,
              "#f0f921"
             ]
            ],
            "type": "heatmap"
           }
          ],
          "heatmapgl": [
           {
            "colorbar": {
             "outlinewidth": 0,
             "ticks": ""
            },
            "colorscale": [
             [
              0,
              "#0d0887"
             ],
             [
              0.1111111111111111,
              "#46039f"
             ],
             [
              0.2222222222222222,
              "#7201a8"
             ],
             [
              0.3333333333333333,
              "#9c179e"
             ],
             [
              0.4444444444444444,
              "#bd3786"
             ],
             [
              0.5555555555555556,
              "#d8576b"
             ],
             [
              0.6666666666666666,
              "#ed7953"
             ],
             [
              0.7777777777777778,
              "#fb9f3a"
             ],
             [
              0.8888888888888888,
              "#fdca26"
             ],
             [
              1,
              "#f0f921"
             ]
            ],
            "type": "heatmapgl"
           }
          ],
          "histogram": [
           {
            "marker": {
             "pattern": {
              "fillmode": "overlay",
              "size": 10,
              "solidity": 0.2
             }
            },
            "type": "histogram"
           }
          ],
          "histogram2d": [
           {
            "colorbar": {
             "outlinewidth": 0,
             "ticks": ""
            },
            "colorscale": [
             [
              0,
              "#0d0887"
             ],
             [
              0.1111111111111111,
              "#46039f"
             ],
             [
              0.2222222222222222,
              "#7201a8"
             ],
             [
              0.3333333333333333,
              "#9c179e"
             ],
             [
              0.4444444444444444,
              "#bd3786"
             ],
             [
              0.5555555555555556,
              "#d8576b"
             ],
             [
              0.6666666666666666,
              "#ed7953"
             ],
             [
              0.7777777777777778,
              "#fb9f3a"
             ],
             [
              0.8888888888888888,
              "#fdca26"
             ],
             [
              1,
              "#f0f921"
             ]
            ],
            "type": "histogram2d"
           }
          ],
          "histogram2dcontour": [
           {
            "colorbar": {
             "outlinewidth": 0,
             "ticks": ""
            },
            "colorscale": [
             [
              0,
              "#0d0887"
             ],
             [
              0.1111111111111111,
              "#46039f"
             ],
             [
              0.2222222222222222,
              "#7201a8"
             ],
             [
              0.3333333333333333,
              "#9c179e"
             ],
             [
              0.4444444444444444,
              "#bd3786"
             ],
             [
              0.5555555555555556,
              "#d8576b"
             ],
             [
              0.6666666666666666,
              "#ed7953"
             ],
             [
              0.7777777777777778,
              "#fb9f3a"
             ],
             [
              0.8888888888888888,
              "#fdca26"
             ],
             [
              1,
              "#f0f921"
             ]
            ],
            "type": "histogram2dcontour"
           }
          ],
          "mesh3d": [
           {
            "colorbar": {
             "outlinewidth": 0,
             "ticks": ""
            },
            "type": "mesh3d"
           }
          ],
          "parcoords": [
           {
            "line": {
             "colorbar": {
              "outlinewidth": 0,
              "ticks": ""
             }
            },
            "type": "parcoords"
           }
          ],
          "pie": [
           {
            "automargin": true,
            "type": "pie"
           }
          ],
          "scatter": [
           {
            "marker": {
             "colorbar": {
              "outlinewidth": 0,
              "ticks": ""
             }
            },
            "type": "scatter"
           }
          ],
          "scatter3d": [
           {
            "line": {
             "colorbar": {
              "outlinewidth": 0,
              "ticks": ""
             }
            },
            "marker": {
             "colorbar": {
              "outlinewidth": 0,
              "ticks": ""
             }
            },
            "type": "scatter3d"
           }
          ],
          "scattercarpet": [
           {
            "marker": {
             "colorbar": {
              "outlinewidth": 0,
              "ticks": ""
             }
            },
            "type": "scattercarpet"
           }
          ],
          "scattergeo": [
           {
            "marker": {
             "colorbar": {
              "outlinewidth": 0,
              "ticks": ""
             }
            },
            "type": "scattergeo"
           }
          ],
          "scattergl": [
           {
            "marker": {
             "colorbar": {
              "outlinewidth": 0,
              "ticks": ""
             }
            },
            "type": "scattergl"
           }
          ],
          "scattermapbox": [
           {
            "marker": {
             "colorbar": {
              "outlinewidth": 0,
              "ticks": ""
             }
            },
            "type": "scattermapbox"
           }
          ],
          "scatterpolar": [
           {
            "marker": {
             "colorbar": {
              "outlinewidth": 0,
              "ticks": ""
             }
            },
            "type": "scatterpolar"
           }
          ],
          "scatterpolargl": [
           {
            "marker": {
             "colorbar": {
              "outlinewidth": 0,
              "ticks": ""
             }
            },
            "type": "scatterpolargl"
           }
          ],
          "scatterternary": [
           {
            "marker": {
             "colorbar": {
              "outlinewidth": 0,
              "ticks": ""
             }
            },
            "type": "scatterternary"
           }
          ],
          "surface": [
           {
            "colorbar": {
             "outlinewidth": 0,
             "ticks": ""
            },
            "colorscale": [
             [
              0,
              "#0d0887"
             ],
             [
              0.1111111111111111,
              "#46039f"
             ],
             [
              0.2222222222222222,
              "#7201a8"
             ],
             [
              0.3333333333333333,
              "#9c179e"
             ],
             [
              0.4444444444444444,
              "#bd3786"
             ],
             [
              0.5555555555555556,
              "#d8576b"
             ],
             [
              0.6666666666666666,
              "#ed7953"
             ],
             [
              0.7777777777777778,
              "#fb9f3a"
             ],
             [
              0.8888888888888888,
              "#fdca26"
             ],
             [
              1,
              "#f0f921"
             ]
            ],
            "type": "surface"
           }
          ],
          "table": [
           {
            "cells": {
             "fill": {
              "color": "#EBF0F8"
             },
             "line": {
              "color": "white"
             }
            },
            "header": {
             "fill": {
              "color": "#C8D4E3"
             },
             "line": {
              "color": "white"
             }
            },
            "type": "table"
           }
          ]
         },
         "layout": {
          "annotationdefaults": {
           "arrowcolor": "#2a3f5f",
           "arrowhead": 0,
           "arrowwidth": 1
          },
          "autotypenumbers": "strict",
          "coloraxis": {
           "colorbar": {
            "outlinewidth": 0,
            "ticks": ""
           }
          },
          "colorscale": {
           "diverging": [
            [
             0,
             "#8e0152"
            ],
            [
             0.1,
             "#c51b7d"
            ],
            [
             0.2,
             "#de77ae"
            ],
            [
             0.3,
             "#f1b6da"
            ],
            [
             0.4,
             "#fde0ef"
            ],
            [
             0.5,
             "#f7f7f7"
            ],
            [
             0.6,
             "#e6f5d0"
            ],
            [
             0.7,
             "#b8e186"
            ],
            [
             0.8,
             "#7fbc41"
            ],
            [
             0.9,
             "#4d9221"
            ],
            [
             1,
             "#276419"
            ]
           ],
           "sequential": [
            [
             0,
             "#0d0887"
            ],
            [
             0.1111111111111111,
             "#46039f"
            ],
            [
             0.2222222222222222,
             "#7201a8"
            ],
            [
             0.3333333333333333,
             "#9c179e"
            ],
            [
             0.4444444444444444,
             "#bd3786"
            ],
            [
             0.5555555555555556,
             "#d8576b"
            ],
            [
             0.6666666666666666,
             "#ed7953"
            ],
            [
             0.7777777777777778,
             "#fb9f3a"
            ],
            [
             0.8888888888888888,
             "#fdca26"
            ],
            [
             1,
             "#f0f921"
            ]
           ],
           "sequentialminus": [
            [
             0,
             "#0d0887"
            ],
            [
             0.1111111111111111,
             "#46039f"
            ],
            [
             0.2222222222222222,
             "#7201a8"
            ],
            [
             0.3333333333333333,
             "#9c179e"
            ],
            [
             0.4444444444444444,
             "#bd3786"
            ],
            [
             0.5555555555555556,
             "#d8576b"
            ],
            [
             0.6666666666666666,
             "#ed7953"
            ],
            [
             0.7777777777777778,
             "#fb9f3a"
            ],
            [
             0.8888888888888888,
             "#fdca26"
            ],
            [
             1,
             "#f0f921"
            ]
           ]
          },
          "colorway": [
           "#636efa",
           "#EF553B",
           "#00cc96",
           "#ab63fa",
           "#FFA15A",
           "#19d3f3",
           "#FF6692",
           "#B6E880",
           "#FF97FF",
           "#FECB52"
          ],
          "font": {
           "color": "#2a3f5f"
          },
          "geo": {
           "bgcolor": "white",
           "lakecolor": "white",
           "landcolor": "#E5ECF6",
           "showlakes": true,
           "showland": true,
           "subunitcolor": "white"
          },
          "hoverlabel": {
           "align": "left"
          },
          "hovermode": "closest",
          "mapbox": {
           "style": "light"
          },
          "paper_bgcolor": "white",
          "plot_bgcolor": "#E5ECF6",
          "polar": {
           "angularaxis": {
            "gridcolor": "white",
            "linecolor": "white",
            "ticks": ""
           },
           "bgcolor": "#E5ECF6",
           "radialaxis": {
            "gridcolor": "white",
            "linecolor": "white",
            "ticks": ""
           }
          },
          "scene": {
           "xaxis": {
            "backgroundcolor": "#E5ECF6",
            "gridcolor": "white",
            "gridwidth": 2,
            "linecolor": "white",
            "showbackground": true,
            "ticks": "",
            "zerolinecolor": "white"
           },
           "yaxis": {
            "backgroundcolor": "#E5ECF6",
            "gridcolor": "white",
            "gridwidth": 2,
            "linecolor": "white",
            "showbackground": true,
            "ticks": "",
            "zerolinecolor": "white"
           },
           "zaxis": {
            "backgroundcolor": "#E5ECF6",
            "gridcolor": "white",
            "gridwidth": 2,
            "linecolor": "white",
            "showbackground": true,
            "ticks": "",
            "zerolinecolor": "white"
           }
          },
          "shapedefaults": {
           "line": {
            "color": "#2a3f5f"
           }
          },
          "ternary": {
           "aaxis": {
            "gridcolor": "white",
            "linecolor": "white",
            "ticks": ""
           },
           "baxis": {
            "gridcolor": "white",
            "linecolor": "white",
            "ticks": ""
           },
           "bgcolor": "#E5ECF6",
           "caxis": {
            "gridcolor": "white",
            "linecolor": "white",
            "ticks": ""
           }
          },
          "title": {
           "x": 0.05
          },
          "xaxis": {
           "automargin": true,
           "gridcolor": "white",
           "linecolor": "white",
           "ticks": "",
           "title": {
            "standoff": 15
           },
           "zerolinecolor": "white",
           "zerolinewidth": 2
          },
          "yaxis": {
           "automargin": true,
           "gridcolor": "white",
           "linecolor": "white",
           "ticks": "",
           "title": {
            "standoff": 15
           },
           "zerolinecolor": "white",
           "zerolinewidth": 2
          }
         }
        },
        "title": {
         "text": "Chocolate chip cookies"
        },
        "width": 600
       }
      }
     },
     "metadata": {},
     "output_type": "display_data"
    }
   ],
   "source": [
    "fig = px.sunburst(\n",
    "    df_avg.assign(pct=df_avg.pct*100),\n",
    "    path=[\"category\", \"ingredient\"],\n",
    "    values=\"pct\",\n",
    "    color=\"category\",\n",
    "    color_discrete_sequence=px.colors.qualitative.Antique,\n",
    "    title=\"Chocolate chip cookies\",\n",
    "    custom_data=[\"pct\"],\n",
    "    width=600, height=600\n",
    ")\n",
    "fig.update_traces(\n",
    "    hovertemplate='%{label}<br>pct=%{customdata[0]:5.2f}%<extra></extra>',\n",
    "    textinfo=\"percent entry+label\"\n",
    ")\n",
    "fig.show()"
   ]
  },
  {
   "cell_type": "code",
   "execution_count": 181,
   "metadata": {},
   "outputs": [
    {
     "data": {
      "application/vnd.jupyter.widget-view+json": {
       "model_id": "0dbd810d863249c689f74f1ff3df37c1",
       "version_major": 2,
       "version_minor": 0
      },
      "text/plain": [
       "interactive(children=(Dropdown(description='category', options=('fats', 'toppings', 'flour', 'eggs', 'liquids'…"
      ]
     },
     "metadata": {},
     "output_type": "display_data"
    }
   ],
   "source": [
    "from ipywidgets import interact, Dropdown\n",
    "dict_cate = dict()\n",
    "for cate in set(ingd_to_cate.category):\n",
    "    dict_cate[cate] = ingd_to_cate.ingredient.loc[ingd_to_cate.category == cate].tolist()\n",
    "\n",
    "cateWidget = Dropdown(options = dict_cate.keys())\n",
    "\n",
    "@interact(category=cateWidget)\n",
    "def plot_hist(category=cateWidget):\n",
    "    fig = go.Figure()\n",
    "    for ingd in ingd_to_cate.ingredient[ingd_to_cate.category==category]:\n",
    "        fig.add_trace(go.Histogram(\n",
    "            x=df_after[f\"{ingd} (%)\"],\n",
    "            name=ingd,\n",
    "            xbins=dict(start=0)\n",
    "        ))\n",
    "\n",
    "    fig.update_layout(\n",
    "        bargap=0.2,\n",
    "        #barmode='stack',\n",
    "        width=800,\n",
    "        height=500,\n",
    "        showlegend=True\n",
    "    )\n",
    "    fig.update_traces(opacity=0.75)\n",
    "    fig.show()"
   ]
  },
  {
   "cell_type": "markdown",
   "metadata": {},
   "source": [
    "#### Compute ingredient frequencies and update `ingredient_mapper.json`"
   ]
  },
  {
   "cell_type": "code",
   "execution_count": 174,
   "metadata": {},
   "outputs": [
    {
     "data": {
      "text/html": [
       "<div>\n",
       "<style scoped>\n",
       "    .dataframe tbody tr th:only-of-type {\n",
       "        vertical-align: middle;\n",
       "    }\n",
       "\n",
       "    .dataframe tbody tr th {\n",
       "        vertical-align: top;\n",
       "    }\n",
       "\n",
       "    .dataframe thead th {\n",
       "        text-align: right;\n",
       "    }\n",
       "</style>\n",
       "<table border=\"1\" class=\"dataframe\">\n",
       "  <thead>\n",
       "    <tr style=\"text-align: right;\">\n",
       "      <th></th>\n",
       "      <th>ingredient</th>\n",
       "      <th>freq</th>\n",
       "      <th>freq_pct</th>\n",
       "    </tr>\n",
       "  </thead>\n",
       "  <tbody>\n",
       "    <tr>\n",
       "      <th>0</th>\n",
       "      <td>flour</td>\n",
       "      <td>6862</td>\n",
       "      <td>88.89%</td>\n",
       "    </tr>\n",
       "    <tr>\n",
       "      <th>1</th>\n",
       "      <td>egg</td>\n",
       "      <td>6720</td>\n",
       "      <td>87.05%</td>\n",
       "    </tr>\n",
       "    <tr>\n",
       "      <th>2</th>\n",
       "      <td>chocolate chips</td>\n",
       "      <td>6382</td>\n",
       "      <td>82.67%</td>\n",
       "    </tr>\n",
       "    <tr>\n",
       "      <th>3</th>\n",
       "      <td>vanilla</td>\n",
       "      <td>6297</td>\n",
       "      <td>81.57%</td>\n",
       "    </tr>\n",
       "    <tr>\n",
       "      <th>4</th>\n",
       "      <td>baking soda</td>\n",
       "      <td>6122</td>\n",
       "      <td>79.30%</td>\n",
       "    </tr>\n",
       "    <tr>\n",
       "      <th>5</th>\n",
       "      <td>brown sugar</td>\n",
       "      <td>6044</td>\n",
       "      <td>78.29%</td>\n",
       "    </tr>\n",
       "    <tr>\n",
       "      <th>6</th>\n",
       "      <td>white sugar</td>\n",
       "      <td>5899</td>\n",
       "      <td>76.41%</td>\n",
       "    </tr>\n",
       "    <tr>\n",
       "      <th>7</th>\n",
       "      <td>salt</td>\n",
       "      <td>5692</td>\n",
       "      <td>73.73%</td>\n",
       "    </tr>\n",
       "    <tr>\n",
       "      <th>8</th>\n",
       "      <td>butter</td>\n",
       "      <td>4758</td>\n",
       "      <td>61.63%</td>\n",
       "    </tr>\n",
       "    <tr>\n",
       "      <th>9</th>\n",
       "      <td>baking powder</td>\n",
       "      <td>1590</td>\n",
       "      <td>20.60%</td>\n",
       "    </tr>\n",
       "    <tr>\n",
       "      <th>10</th>\n",
       "      <td>nuts</td>\n",
       "      <td>1300</td>\n",
       "      <td>16.84%</td>\n",
       "    </tr>\n",
       "    <tr>\n",
       "      <th>11</th>\n",
       "      <td>shortening</td>\n",
       "      <td>1130</td>\n",
       "      <td>14.64%</td>\n",
       "    </tr>\n",
       "    <tr>\n",
       "      <th>12</th>\n",
       "      <td>margarine</td>\n",
       "      <td>882</td>\n",
       "      <td>11.42%</td>\n",
       "    </tr>\n",
       "    <tr>\n",
       "      <th>13</th>\n",
       "      <td>milk</td>\n",
       "      <td>768</td>\n",
       "      <td>9.95%</td>\n",
       "    </tr>\n",
       "    <tr>\n",
       "      <th>14</th>\n",
       "      <td>walnuts</td>\n",
       "      <td>766</td>\n",
       "      <td>9.92%</td>\n",
       "    </tr>\n",
       "    <tr>\n",
       "      <th>15</th>\n",
       "      <td>water</td>\n",
       "      <td>655</td>\n",
       "      <td>8.48%</td>\n",
       "    </tr>\n",
       "    <tr>\n",
       "      <th>16</th>\n",
       "      <td>pecans</td>\n",
       "      <td>594</td>\n",
       "      <td>7.69%</td>\n",
       "    </tr>\n",
       "    <tr>\n",
       "      <th>17</th>\n",
       "      <td>oats</td>\n",
       "      <td>573</td>\n",
       "      <td>7.42%</td>\n",
       "    </tr>\n",
       "    <tr>\n",
       "      <th>18</th>\n",
       "      <td>cinnamon</td>\n",
       "      <td>428</td>\n",
       "      <td>5.54%</td>\n",
       "    </tr>\n",
       "    <tr>\n",
       "      <th>19</th>\n",
       "      <td>peanut butter</td>\n",
       "      <td>425</td>\n",
       "      <td>5.51%</td>\n",
       "    </tr>\n",
       "    <tr>\n",
       "      <th>20</th>\n",
       "      <td>oatmeal</td>\n",
       "      <td>393</td>\n",
       "      <td>5.09%</td>\n",
       "    </tr>\n",
       "    <tr>\n",
       "      <th>21</th>\n",
       "      <td>chocolate</td>\n",
       "      <td>335</td>\n",
       "      <td>4.34%</td>\n",
       "    </tr>\n",
       "    <tr>\n",
       "      <th>22</th>\n",
       "      <td>¼</td>\n",
       "      <td>314</td>\n",
       "      <td>4.07%</td>\n",
       "    </tr>\n",
       "    <tr>\n",
       "      <th>23</th>\n",
       "      <td>rolled oats</td>\n",
       "      <td>294</td>\n",
       "      <td>3.81%</td>\n",
       "    </tr>\n",
       "    <tr>\n",
       "      <th>24</th>\n",
       "      <td>vanilla extract</td>\n",
       "      <td>273</td>\n",
       "      <td>3.54%</td>\n",
       "    </tr>\n",
       "  </tbody>\n",
       "</table>\n",
       "</div>"
      ],
      "text/plain": [
       "         ingredient  freq freq_pct\n",
       "0             flour  6862   88.89%\n",
       "1               egg  6720   87.05%\n",
       "2   chocolate chips  6382   82.67%\n",
       "3           vanilla  6297   81.57%\n",
       "4       baking soda  6122   79.30%\n",
       "5       brown sugar  6044   78.29%\n",
       "6       white sugar  5899   76.41%\n",
       "7              salt  5692   73.73%\n",
       "8            butter  4758   61.63%\n",
       "9     baking powder  1590   20.60%\n",
       "10             nuts  1300   16.84%\n",
       "11       shortening  1130   14.64%\n",
       "12        margarine   882   11.42%\n",
       "13             milk   768    9.95%\n",
       "14          walnuts   766    9.92%\n",
       "15            water   655    8.48%\n",
       "16           pecans   594    7.69%\n",
       "17             oats   573    7.42%\n",
       "18         cinnamon   428    5.54%\n",
       "19    peanut butter   425    5.51%\n",
       "20          oatmeal   393    5.09%\n",
       "21        chocolate   335    4.34%\n",
       "22                ¼   314    4.07%\n",
       "23      rolled oats   294    3.81%\n",
       "24  vanilla extract   273    3.54%"
      ]
     },
     "execution_count": 174,
     "metadata": {},
     "output_type": "execute_result"
    }
   ],
   "source": [
    "import json\n",
    "from itertools import chain\n",
    "from collections import defaultdict\n",
    "\n",
    "with open(\"ingredient_mapper.json\", \"r\") as f:\n",
    "    ingredient_mapper = json.load(f)\n",
    "\n",
    "ingredients = defaultdict(int)\n",
    "for item in chain.from_iterable(df_cookies.NER):\n",
    "    item_cleaned = ingredient_mapper.get(item, item)\n",
    "    ingredients[item_cleaned] += 1\n",
    "\n",
    "df_ingredients = pd.DataFrame.from_dict(ingredients, orient = \"index\", columns=[\"freq\"])\\\n",
    "    .sort_values(by=\"freq\", ascending=False).reset_index().rename(columns={'index': 'ingredient'})\n",
    "df_ingredients[\"freq_pct\"] = [f\"{item:6.2f}%\"for item in df_ingredients.freq / df_cookies.shape[0] * 100]\n",
    "df_ingredients.head(25)"
   ]
  },
  {
   "cell_type": "markdown",
   "metadata": {},
   "source": [
    "#### Debug"
   ]
  },
  {
   "cell_type": "code",
   "execution_count": 328,
   "metadata": {},
   "outputs": [
    {
     "name": "stdout",
     "output_type": "stream",
     "text": [
      "2 1/4 c. flour, sifted         -> flour               \n",
      "1 tsp. baking soda             -> baking soda         \n",
      "1 tsp. salt                    -> salt                \n",
      "1 c. unsalted butter, softened -> salt^unsalted butter\n",
      "3/4 c. firmly packed brown sugar -> sugar^brown sugar   \n",
      "1 1/4 c. golden raisins        -> golden raisins      \n",
      "3/4 c. granulated sugar        -> sugar               \n",
      "3 large eggs                   -> eggs                \n",
      "1 tsp. vanilla extract         -> vanilla extract     \n",
      "12 oz. coarsely chopped white chocolate -> white chocolate     \n",
      "3/4 c. coarsely chopped, salted Macadamia nuts -> nuts^salt           \n",
      "\n",
      "2 1/4 c. flour                 -> flour               \n",
      "1 tsp. baking soda             -> baking soda         \n",
      "1/2 tsp. salt                  -> salt                \n",
      "1 c. softened margarine (2 sticks) -> margarine           \n",
      "3/4 c. sugar                   -> sugar               \n",
      "3/4 c. packed light brown sugar -> sugar^brown sugar   \n",
      "1 tsp. vanilla extract         -> vanilla extract     \n",
      "2 eggs                         -> eggs                \n",
      "2 c. Hershey's milk chocolate chips (11.5 oz. pkg.) -> chocolate chips     \n",
      "1 c. chopped nuts (optional)   -> nuts                \n",
      "\n",
      "2/3 c. butter or margarine     -> butter              \n",
      "2/3 c. butter flavored Crisco  -> butter              \n",
      "3/4 c. white sugar             -> white sugar         \n",
      "3/4 c. brown sugar, packed     -> brown sugar         \n",
      "2 eggs                         -> eggs                \n",
      "2 tsp. vanilla extract         -> vanilla extract     \n",
      "3 c. flour                     -> flour               \n",
      "1 tsp. baking soda             -> baking soda         \n",
      "1 tsp. salt                    -> salt                \n",
      "1 (3 1/2 oz.) pkg. instant vanilla pudding mix -> instant vanilla pudding mix\n",
      "1 (12 oz.) pkg. chocolate chips -> chocolate chips     \n",
      "\n"
     ]
    }
   ],
   "source": [
    "def pprint_ing_ner(row):\n",
    "    # for pair in zip(ast.literal_eval(row.ingredients), ast.literal_eval(row.NER)):\n",
    "    #     print(f\"{pair[0]:25} -> {pair[1]:20}\")\n",
    "    for ingd in row.ingredients:\n",
    "        print(\"{:30} -> {:20}\".format(\n",
    "            ingd, \n",
    "            \"^\".join([item for item in row.NER if item in ingd]))\n",
    "        )\n",
    "    print()\n",
    "\n",
    "row_indices = df_cookies.loc[[any([\"vanilla ext\" in item for item in row.ingredients]) for _, row in df_cookies.iterrows()]].index\n",
    "for row in row_indices[:3]:\n",
    "    pprint_ing_ner(df_cookies.iloc[row])"
   ]
  },
  {
   "cell_type": "markdown",
   "metadata": {},
   "source": [
    "## BBC Good Food\n",
    "\n",
    "* JSON format recipes from this [github repo](https://github.com/mneedham/bbcgoodfood). There is no documentation on the original source of data, but it seems like data come from this [web scraping script](https://github.com/mneedham/bbcgoodfood/blob/master/download_recipes.py). The url list is unknown. \n",
    "* See also https://www.bbcgoodfood.com/. "
   ]
  },
  {
   "cell_type": "code",
   "execution_count": 119,
   "metadata": {},
   "outputs": [
    {
     "name": "stdout",
     "output_type": "stream",
     "text": [
      "Resource ../dataset/bbcgoodfood.json already exists.\n"
     ]
    }
   ],
   "source": [
    "filename_dataset = \"bbcgoodfood.json\"\n",
    "download_resource(\n",
    "    resource_url=\"https://github.com/mneedham/bbcgoodfood/raw/master/stream_clean.json\",\n",
    "    local_path=str(path_dataset/filename_dataset)\n",
    ")\n",
    "# read in the json file\n",
    "import json\n",
    "data = []\n",
    "with open(path_dataset/filename_dataset, 'r') as f:\n",
    "    for line in f:\n",
    "        data.append(json.loads(line))\n",
    "\n",
    "print(f\"Num of recipes: {len(data)}\")\n",
    "print(\"Keys of an element: \", data[0].keys())\n"
   ]
  },
  {
   "cell_type": "markdown",
   "metadata": {},
   "source": [
    "* The data is a list of dictionary objects, and each dictionary has only one key 'page'. \n",
    "    * Each 'page' is also a dictionary, with keys ['article', 'recipe', 'channel', 'title'].\n",
    "        * Channel is just 'Recipe'.  \n",
    "        * Article is again a dictionary, with keys ['author', 'description', 'id', 'tags']. \n",
    "        * Recipe, another dictionary, has keys ['collections', 'cooking_time', 'prep_time', 'serves', 'keywords', 'ratings', 'nutrition_info', 'ingredients', 'courses', 'cusine', 'diet_types', 'skill_level', 'post_dates']. \n",
    "            - Collections: tags such as `Bakewell tart, 200-400 calorie, Easy Christmas, Eat like an athlete, Thai, Blackberry, Summer soup, Autumn cake, Sponge cake, Omelette, Salmon, Chickpea, Microwave pudding, Prosecco, Low in salt, Christmas Day drinks, Healthy pie, Easy cocktail`. \n",
    "            - Keywords: key ingredients and tags such as `Stewing steak, Bucks fizz, Vegetarian bbq, Devilled mushrooms, Packed lunch, chickpea side dish, oat and fruit bars, Vanilla sponge, Smart supper, Summer fruit, healthy gravy, Merrilees Parker, Chilled pudding, Gordon ramsay recipes`. \n",
    "            - Cusine (45): `French, Scottish, Thai, Greek, African, Cuban, Middle Eastern, Italian, Cajun & Creole, Eastern European, Australian, English, Asian, Swiss, Caribbean, Japanese, Korean, American, Chinese, Latin American, Brazilian, Turkish, Irish, Belgian, Indonesian, British, Indian, Scandinavian, Balinese, Spanish, German, Mediterranean, Danish, Tunisian, Moroccan, Mexican, Swedish, Portuguese, Austrian, Chilean, Jewish, North African, Southern & Soul, Vietnamese, Hungarian`. \n",
    "            - Courses (22): `Starter, Supper, Cheese Course, Canapes, Condiment, Side dish, Main course, Afternoon tea, Soup course, Vegetable course, Fish Course, Lunch, Buffet, Breakfast, Cocktails, Snack, Dinner, Brunch, Drink, Dessert, Pasta course, Treat`. "
   ]
  },
  {
   "cell_type": "code",
   "execution_count": 211,
   "metadata": {},
   "outputs": [],
   "source": [
    "import pandas as pd\n",
    "cols = ['article_id', 'title', 'ratings', 'serves', 'ingredients', 'cusine', 'courses']\n",
    "data_df = pd.DataFrame(columns=cols)\n",
    "for item in data:\n",
    "    page = item['page']\n",
    "    recipe = page['recipe']\n",
    "    data_df = data_df.append(\n",
    "        pd.DataFrame(\n",
    "            data=[[page['article']['id'], page['title'], recipe['ratings'], recipe['serves'], recipe['ingredients'], recipe['cusine'], recipe['courses']]],\n",
    "            columns=cols\n",
    "        )\n",
    "    )\n",
    "data_df = data_df.reset_index(drop=True)"
   ]
  },
  {
   "cell_type": "markdown",
   "metadata": {},
   "source": [
    "### A closer look at the pizza recipes"
   ]
  },
  {
   "cell_type": "markdown",
   "metadata": {},
   "source": [
    "#### Filtering pizza recipes\n",
    "\n",
    "I first filtered the recipes with \"pizza\" in their titles, which yields 118 results. Then I manually examined the recipe titles to drop non-pizza recipes and label as much pizza subcategories as I can: \n",
    "* Non-pizza: 'Steak with pizzaiola sauce', '5 easy pizza toppings', ['Pizza omelette'](https://www.bbcgoodfood.com/recipes/pizza-omelette), ['Baked cauliflower pizzaiola'](https://www.bbcgoodfood.com/recipes/baked-cauliflower-pizzaiola), ['Pizza baked potato'](https://www.bbcgoodfood.com/recipes/pizza-baked-potato), ['Puff pizza tart'](https://www.bbcgoodfood.com/recipes/puff-pizza-tart), ['Mini pizza quiches'](https://www.bbcgoodfood.com/recipes/mini-pizza-quiches), ['Pizzadillas'](https://www.bbcgoodfood.com/recipes/pizzadillas), and ['Pizza pasta salad'](https://www.bbcgoodfood.com/recipes/pizza-pasta-salad)\n",
    "* Margherita pizza, e.g. 'Next level Margherita pizza', 'Very simple Margherita pizza', 'Ultimate pizza Margherita', 'Pizza Margherita in 4 easy steps', 'Lighter Pizza Margherita'\n",
    "* Florentine pizza: 'Florentine pizza', '20-minute Fiorentina pizzas', 'Florentine dairy-free pizza', 'Eggs Florentine pizza'\n",
    "* Deep-pan pizza: 'Cheat's deep-pan pizza'\n",
    "* Frying pan pizza: 'Frying pan pizza bianco with mushrooms & egg', 'Frying pan pizza with aubergine, ricotta & mint', 'Frying pan pizza', 'Frying pan pizza pie'\n",
    "* Others: 'Mini top-your-own pizzas', 'Pesto pizza with artichokes & prosciutto'\n",
    "\n",
    "In this process, I also identified some potential outliers: ['Cookie dough pizza'](https://www.bbcgoodfood.com/recipes/cookie-dough-pizza), ['Cauliflower crust pizza'](https://www.bbcgoodfood.com/recipes/cauliflower-crust-pizza), ['Tuna melt pizza baguettes'](https://www.bbcgoodfood.com/recipes/tuna-melt-pizza-baguettes)."
   ]
  },
  {
   "cell_type": "code",
   "execution_count": 409,
   "metadata": {},
   "outputs": [
    {
     "name": "stdout",
     "output_type": "stream",
     "text": [
      "Before: 118\n",
      "After: 109\n",
      "category\n",
      "Deep-pan      1\n",
      "Florentine    4\n",
      "Frying-pan    4\n",
      "Margherita    5\n",
      "Name: category, dtype: int64\n"
     ]
    },
    {
     "data": {
      "text/html": [
       "<div>\n",
       "<style scoped>\n",
       "    .dataframe tbody tr th:only-of-type {\n",
       "        vertical-align: middle;\n",
       "    }\n",
       "\n",
       "    .dataframe tbody tr th {\n",
       "        vertical-align: top;\n",
       "    }\n",
       "\n",
       "    .dataframe thead th {\n",
       "        text-align: right;\n",
       "    }\n",
       "</style>\n",
       "<table border=\"1\" class=\"dataframe\">\n",
       "  <thead>\n",
       "    <tr style=\"text-align: right;\">\n",
       "      <th></th>\n",
       "      <th>article_id</th>\n",
       "      <th>title</th>\n",
       "      <th>ratings</th>\n",
       "      <th>serves</th>\n",
       "      <th>ingredients</th>\n",
       "      <th>cusine</th>\n",
       "      <th>courses</th>\n",
       "      <th>category</th>\n",
       "    </tr>\n",
       "  </thead>\n",
       "  <tbody>\n",
       "    <tr>\n",
       "      <th>0</th>\n",
       "      <td>102136</td>\n",
       "      <td>Pizza puff pinwheels</td>\n",
       "      <td>92</td>\n",
       "      <td>12</td>\n",
       "      <td>[puff pastry, pasta, ham, cheddar, egg, oregano]</td>\n",
       "      <td>Italian</td>\n",
       "      <td>[Treat, Starter, Snack, Afternoon tea]</td>\n",
       "      <td>None</td>\n",
       "    </tr>\n",
       "    <tr>\n",
       "      <th>1</th>\n",
       "      <td>4278386</td>\n",
       "      <td>Smoking chilli chicken &amp; sweetcorn pizza</td>\n",
       "      <td>100</td>\n",
       "      <td>4</td>\n",
       "      <td>[barbecue sauce, chipotle paste, pizza base, m...</td>\n",
       "      <td></td>\n",
       "      <td>[Main course]</td>\n",
       "      <td>None</td>\n",
       "    </tr>\n",
       "    <tr>\n",
       "      <th>2</th>\n",
       "      <td>7829316</td>\n",
       "      <td>Next level Margherita pizza</td>\n",
       "      <td>100</td>\n",
       "      <td>0</td>\n",
       "      <td>[strong white flour, fast-action dried yeast, ...</td>\n",
       "      <td></td>\n",
       "      <td>[Dinner, Lunch, Main course]</td>\n",
       "      <td>Margherita</td>\n",
       "    </tr>\n",
       "    <tr>\n",
       "      <th>3</th>\n",
       "      <td>96966</td>\n",
       "      <td>Very simple Margherita pizza</td>\n",
       "      <td>98</td>\n",
       "      <td>2</td>\n",
       "      <td>[olive oil, plain flour, yeast, sugar, water, ...</td>\n",
       "      <td>Italian</td>\n",
       "      <td>[Dinner, Main course]</td>\n",
       "      <td>Margherita</td>\n",
       "    </tr>\n",
       "    <tr>\n",
       "      <th>4</th>\n",
       "      <td>3410721</td>\n",
       "      <td>Holiday pizzas</td>\n",
       "      <td>93</td>\n",
       "      <td>0</td>\n",
       "      <td>[bread flour, sugar, fast-action dried yeast, ...</td>\n",
       "      <td>Italian</td>\n",
       "      <td>[Main course]</td>\n",
       "      <td>None</td>\n",
       "    </tr>\n",
       "  </tbody>\n",
       "</table>\n",
       "</div>"
      ],
      "text/plain": [
       "  article_id                                     title ratings serves  \\\n",
       "0     102136                      Pizza puff pinwheels      92     12   \n",
       "1    4278386  Smoking chilli chicken & sweetcorn pizza     100      4   \n",
       "2    7829316               Next level Margherita pizza     100      0   \n",
       "3      96966              Very simple Margherita pizza      98      2   \n",
       "4    3410721                            Holiday pizzas      93      0   \n",
       "\n",
       "                                         ingredients   cusine  \\\n",
       "0   [puff pastry, pasta, ham, cheddar, egg, oregano]  Italian   \n",
       "1  [barbecue sauce, chipotle paste, pizza base, m...            \n",
       "2  [strong white flour, fast-action dried yeast, ...            \n",
       "3  [olive oil, plain flour, yeast, sugar, water, ...  Italian   \n",
       "4  [bread flour, sugar, fast-action dried yeast, ...  Italian   \n",
       "\n",
       "                                  courses    category  \n",
       "0  [Treat, Starter, Snack, Afternoon tea]        None  \n",
       "1                           [Main course]        None  \n",
       "2            [Dinner, Lunch, Main course]  Margherita  \n",
       "3                   [Dinner, Main course]  Margherita  \n",
       "4                           [Main course]        None  "
      ]
     },
     "execution_count": 409,
     "metadata": {},
     "output_type": "execute_result"
    }
   ],
   "source": [
    "df_pizza = data_df[data_df.title.str.lower().str.contains(\"pizza\")].reset_index(drop = True)\n",
    "print(f\"Before: {df_pizza.shape[0]}\")\n",
    "\n",
    "# drop the non-pizza recipes\n",
    "list_nonpizza = ['Steak with pizzaiola sauce', '5 easy pizza toppings', 'Pizza omelette', 'Baked cauliflower pizzaiola', 'Pizza baked potato', 'Puff pizza tart', 'Mini pizza quiches', 'Pizzadillas', 'Pizza pasta salad']\n",
    "df_pizza = df_pizza[~df_pizza.title.isin(list_nonpizza)].reset_index(drop = True)\n",
    "\n",
    "# label the rest\n",
    "df_pizza[\"category\"] = None\n",
    "df_pizza.loc[df_pizza.title.str.contains(\"Margherita\"), \"category\"] = \"Margherita\"\n",
    "df_pizza.loc[df_pizza.title.str.contains(\"Florentine|Florentina|Fiorentina\", regex=True), \"category\"] = \"Florentine\"\n",
    "df_pizza.loc[df_pizza.title.str.contains(\"Frying pan\"), \"category\"] = \"Frying-pan\"\n",
    "df_pizza.loc[df_pizza.title.str.contains(\"deep-pan\"), \"category\"] = \"Deep-pan\"\n",
    "\n",
    "print(f\"After: {df_pizza.shape[0]}\")\n",
    "print(df_pizza.groupby(\"category\")[\"category\"].count())\n",
    "\n",
    "df_pizza.head()"
   ]
  },
  {
   "cell_type": "markdown",
   "metadata": {},
   "source": [
    "The original recipe with article_id [4278386](https://www.bbcgoodfood.com/recipes/smoking-chilli-chicken-sweetcorn-pizza):\n",
    "\n",
    "* 100g barbecue sauce\n",
    "* 1-2 tbsp chipotle paste , or more if you like it spicy\n",
    "* 2 large ready-made pizza bases\n",
    "* 175g mozzarella , grated (ready-grated is fine)\n",
    "* 200g can sweetcorn , drained\n",
    "* 300g jar red pepper , drained and torn into slices\n",
    "* 200g cooked sliced chicken\n",
    "* small pack coriander , leaves only\n",
    "* 2 fat green chillies , sliced, seeds removed (optional)"
   ]
  },
  {
   "cell_type": "markdown",
   "metadata": {},
   "source": [
    "#### Ingredient list cleanup\n",
    "\n",
    "This dataset already comes with pre-processed ingredient lists with the measuring units and most of the descriptive terms removed. But there is still room for further clean-up, e.g., 'strong white flour' -> 'flour'. I manually created a set of mapping rules to aggregate ingredients (see `src/ingredient_mapper.json`), reducing the number of unique ingredients from 270 to 194.  \n",
    "\n",
    "**Question**\n",
    "* Granularity\n",
    "    - Should we treat \"pizza base\" and \"pizza base mix\" as the same? What about \"pizza base mix\" and \"bread mix\"?\n",
    "    - Brown sugar and regular sugar? Balsamic vinegar and red wine vinegar?\n",
    "    - 'olive oil' -> 'oil'? 'tomato sauce' -> 'tomato'?\n",
    "* How to automatically generate these mapping rules?"
   ]
  },
  {
   "cell_type": "code",
   "execution_count": 643,
   "metadata": {},
   "outputs": [
    {
     "name": "stdout",
     "output_type": "stream",
     "text": [
      "Num of unique ingredients (before cleaning):  270\n",
      ">>> puff pastry,pasta,ham,cheddar,egg,oregano\n",
      "<<< cheddar,pasta,ham,oregano,egg,puff pastry\n",
      "\n",
      ">>> barbecue sauce,chipotle paste,pizza base,mozzarella,sweetcorn,red pepper,chicken,coriander,green chilli\n",
      "<<< mozzarella,sweetcorn,chicken,barbecue sauce,red pepper,pizza base,chipotle paste,coriander,chilli\n",
      "\n",
      ">>> strong white flour,fast-action dried yeast,plum tomatoes,extra virgin olive oil,oregano,basil,parmesan,mozzarella\n",
      "<<< oil,mozzarella,parmesan,flour,basil,tomato,oregano,yeast\n",
      "\n",
      ">>> olive oil,plain flour,yeast,sugar,water,passata,mozzarella,parmesan,basil,salad\n",
      "<<< oil,mozzarella,passata,salad,parmesan,flour,sugar,basil,yeast,water\n",
      "\n",
      ">>> bread flour,sugar,fast-action dried yeast,olive oil,water,garlic clove,passata,tomato purÃ©e,oregano,basil leaf,sugar,red wine vinegar,mozzarella,houmous\n",
      "<<< oil,mozzarella,garlic clove,passata,houmous,flour,sugar,tomato,basil,red wine vinegar,oregano,yeast,water\n",
      "\n",
      "Num of unique ingredients (after cleaning): 194\n"
     ]
    },
    {
     "data": {
      "text/html": [
       "<div>\n",
       "<style scoped>\n",
       "    .dataframe tbody tr th:only-of-type {\n",
       "        vertical-align: middle;\n",
       "    }\n",
       "\n",
       "    .dataframe tbody tr th {\n",
       "        vertical-align: top;\n",
       "    }\n",
       "\n",
       "    .dataframe thead th {\n",
       "        text-align: right;\n",
       "    }\n",
       "</style>\n",
       "<table border=\"1\" class=\"dataframe\">\n",
       "  <thead>\n",
       "    <tr style=\"text-align: right;\">\n",
       "      <th></th>\n",
       "      <th>ingredient</th>\n",
       "      <th>freq</th>\n",
       "    </tr>\n",
       "  </thead>\n",
       "  <tbody>\n",
       "    <tr>\n",
       "      <th>0</th>\n",
       "      <td>oil</td>\n",
       "      <td>75</td>\n",
       "    </tr>\n",
       "    <tr>\n",
       "      <th>1</th>\n",
       "      <td>tomato</td>\n",
       "      <td>54</td>\n",
       "    </tr>\n",
       "    <tr>\n",
       "      <th>2</th>\n",
       "      <td>flour</td>\n",
       "      <td>51</td>\n",
       "    </tr>\n",
       "    <tr>\n",
       "      <th>3</th>\n",
       "      <td>mozzarella</td>\n",
       "      <td>49</td>\n",
       "    </tr>\n",
       "    <tr>\n",
       "      <th>4</th>\n",
       "      <td>garlic clove</td>\n",
       "      <td>37</td>\n",
       "    </tr>\n",
       "    <tr>\n",
       "      <th>5</th>\n",
       "      <td>yeast</td>\n",
       "      <td>33</td>\n",
       "    </tr>\n",
       "    <tr>\n",
       "      <th>6</th>\n",
       "      <td>onion</td>\n",
       "      <td>32</td>\n",
       "    </tr>\n",
       "    <tr>\n",
       "      <th>7</th>\n",
       "      <td>basil</td>\n",
       "      <td>29</td>\n",
       "    </tr>\n",
       "    <tr>\n",
       "      <th>8</th>\n",
       "      <td>bread</td>\n",
       "      <td>22</td>\n",
       "    </tr>\n",
       "    <tr>\n",
       "      <th>9</th>\n",
       "      <td>olive</td>\n",
       "      <td>19</td>\n",
       "    </tr>\n",
       "  </tbody>\n",
       "</table>\n",
       "</div>"
      ],
      "text/plain": [
       "     ingredient  freq\n",
       "0           oil    75\n",
       "1        tomato    54\n",
       "2         flour    51\n",
       "3    mozzarella    49\n",
       "4  garlic clove    37\n",
       "5         yeast    33\n",
       "6         onion    32\n",
       "7         basil    29\n",
       "8         bread    22\n",
       "9         olive    19"
      ]
     },
     "execution_count": 643,
     "metadata": {},
     "output_type": "execute_result"
    }
   ],
   "source": [
    "with open(\"ingredient_mapper.json\", \"r\") as f:\n",
    "    ingredient_mapper = json.load(f)\n",
    "# print(json.dumps(ingredient_mapper, indent=4))\n",
    "\n",
    "from itertools import chain\n",
    "from collections import defaultdict\n",
    "print(\"Num of unique ingredients (before cleaning): \", len(set(chain.from_iterable(df_pizza[\"ingredients\"]))))\n",
    "\n",
    "# further clean up the ingredients\n",
    "df_pizza[\"ingredients_cleaned\"] = [\n",
    "    list(set([ingredient_mapper.get(item, item) for item in ing_list])) \\\n",
    "        for ing_list in df_pizza[\"ingredients\"]\n",
    "]\n",
    "# row-to-row comparison\n",
    "for i in range(5):\n",
    "    print(f\">>> {','.join(df_pizza.ingredients[i])}\\n<<< {','.join(df_pizza.ingredients_cleaned[i])}\\n\")\n",
    "\n",
    "# compute frequency table\n",
    "ingredients = defaultdict(int)\n",
    "for item in chain.from_iterable(df_pizza[\"ingredients_cleaned\"]):\n",
    "    ingredients[item] += 1\n",
    "\n",
    "df_ingredients = pd.DataFrame.from_dict(ingredients, orient = \"index\", columns=[\"freq\"])\\\n",
    "    .sort_values(by=\"freq\", ascending=False).reset_index().rename(columns={'index': 'ingredient'})\n",
    "\n",
    "print(f\"Num of unique ingredients (after cleaning): {len(df_ingredients)}\")\n",
    "df_ingredients.head(10)\n",
    "\n",
    "# df_ingredients[df_ingredients['ingredient'].str.contains('potato')].ingredient.tolist()"
   ]
  },
  {
   "cell_type": "code",
   "execution_count": 485,
   "metadata": {},
   "outputs": [
    {
     "data": {
      "text/plain": [
       "[(('flour', 'oil'), 44),\n",
       " (('oil', 'tomato'), 41),\n",
       " (('garlic clove', 'oil'), 35),\n",
       " (('mozzarella', 'tomato'), 34),\n",
       " (('oil', 'yeast'), 33),\n",
       " (('flour', 'yeast'), 32),\n",
       " (('mozzarella', 'oil'), 32),\n",
       " (('flour', 'tomato'), 29),\n",
       " (('flour', 'mozzarella'), 25),\n",
       " (('flour', 'garlic clove'), 25)]"
      ]
     },
     "execution_count": 485,
     "metadata": {},
     "output_type": "execute_result"
    }
   ],
   "source": [
    "from collections import Counter\n",
    "from itertools import combinations\n",
    "# create a dictionary that counts the occurrences of each ingredient pair\n",
    "combi_count = dict(Counter(\n",
    "    chain.from_iterable([\n",
    "        list(combinations(sorted(ing_list), 2)) for ing_list in df_pizza.ingredients_cleaned\n",
    "    ])\n",
    "))\n",
    "sorted(combi_count.items(), key=lambda item: item[1], reverse=True)[:10]"
   ]
  },
  {
   "cell_type": "markdown",
   "metadata": {},
   "source": [
    "#### Visualization attempts"
   ]
  },
  {
   "cell_type": "markdown",
   "metadata": {},
   "source": [
    "##### Bar/Pie Charts\n",
    "\n",
    "Select several main ingredients to plot proportion?\n",
    "\n",
    "* Refer to [Baking with machine learning](https://sararobinson.dev/2020/04/30/baking-machine-learning.html) - 12 main ingredients: flour, sugar, starter, salt, yeast, milk, water, oil, eggs, baking powder, baking soda, butter.\n",
    "\n",
    "Problem is the current dataset **does not have quantity information.**"
   ]
  },
  {
   "cell_type": "code",
   "execution_count": 430,
   "metadata": {},
   "outputs": [
    {
     "data": {
      "text/plain": [
       "['potato', 'new potato', 'Jersey Royal potato']"
      ]
     },
     "execution_count": 430,
     "metadata": {},
     "output_type": "execute_result"
    }
   ],
   "source": [
    "major_ingredients = [\"flour\", \"sugar\", \"salt\", \"yeast\", \"milk\", \"water\", \"oil\", \"egg\", \"baking powder\", \"butter\"]"
   ]
  },
  {
   "cell_type": "markdown",
   "metadata": {},
   "source": [
    "##### Network Graphs"
   ]
  },
  {
   "cell_type": "code",
   "execution_count": 413,
   "metadata": {},
   "outputs": [],
   "source": [
    "import matplotlib.pyplot as plt\n",
    "import networkx as nx\n",
    "import nx_altair as nxa"
   ]
  },
  {
   "cell_type": "code",
   "execution_count": 645,
   "metadata": {},
   "outputs": [
    {
     "name": "stdout",
     "output_type": "stream",
     "text": [
      "Num of edges:  41\n",
      "Num of nodes:  16\n"
     ]
    },
    {
     "data": {
      "text/html": [
       "\n",
       "<div id=\"altair-viz-c4d8c6af8cfd44ca91ff3db9581f4c6d\"></div>\n",
       "<script type=\"text/javascript\">\n",
       "  var VEGA_DEBUG = (typeof VEGA_DEBUG == \"undefined\") ? {} : VEGA_DEBUG;\n",
       "  (function(spec, embedOpt){\n",
       "    let outputDiv = document.currentScript.previousElementSibling;\n",
       "    if (outputDiv.id !== \"altair-viz-c4d8c6af8cfd44ca91ff3db9581f4c6d\") {\n",
       "      outputDiv = document.getElementById(\"altair-viz-c4d8c6af8cfd44ca91ff3db9581f4c6d\");\n",
       "    }\n",
       "    const paths = {\n",
       "      \"vega\": \"https://cdn.jsdelivr.net/npm//vega@5?noext\",\n",
       "      \"vega-lib\": \"https://cdn.jsdelivr.net/npm//vega-lib?noext\",\n",
       "      \"vega-lite\": \"https://cdn.jsdelivr.net/npm//vega-lite@4.17.0?noext\",\n",
       "      \"vega-embed\": \"https://cdn.jsdelivr.net/npm//vega-embed@6?noext\",\n",
       "    };\n",
       "\n",
       "    function maybeLoadScript(lib, version) {\n",
       "      var key = `${lib.replace(\"-\", \"\")}_version`;\n",
       "      return (VEGA_DEBUG[key] == version) ?\n",
       "        Promise.resolve(paths[lib]) :\n",
       "        new Promise(function(resolve, reject) {\n",
       "          var s = document.createElement('script');\n",
       "          document.getElementsByTagName(\"head\")[0].appendChild(s);\n",
       "          s.async = true;\n",
       "          s.onload = () => {\n",
       "            VEGA_DEBUG[key] = version;\n",
       "            return resolve(paths[lib]);\n",
       "          };\n",
       "          s.onerror = () => reject(`Error loading script: ${paths[lib]}`);\n",
       "          s.src = paths[lib];\n",
       "        });\n",
       "    }\n",
       "\n",
       "    function showError(err) {\n",
       "      outputDiv.innerHTML = `<div class=\"error\" style=\"color:red;\">${err}</div>`;\n",
       "      throw err;\n",
       "    }\n",
       "\n",
       "    function displayChart(vegaEmbed) {\n",
       "      vegaEmbed(outputDiv, spec, embedOpt)\n",
       "        .catch(err => showError(`Javascript Error: ${err.message}<br>This usually means there's a typo in your chart specification. See the javascript console for the full traceback.`));\n",
       "    }\n",
       "\n",
       "    if(typeof define === \"function\" && define.amd) {\n",
       "      requirejs.config({paths});\n",
       "      require([\"vega-embed\"], displayChart, err => showError(`Error loading script: ${err.message}`));\n",
       "    } else {\n",
       "      maybeLoadScript(\"vega\", \"5\")\n",
       "        .then(() => maybeLoadScript(\"vega-lite\", \"4.17.0\"))\n",
       "        .then(() => maybeLoadScript(\"vega-embed\", \"6\"))\n",
       "        .catch(showError)\n",
       "        .then(() => displayChart(vegaEmbed));\n",
       "    }\n",
       "  })({\"config\": {\"view\": {\"continuousWidth\": 400, \"continuousHeight\": 300}}, \"layer\": [{\"data\": {\"name\": \"data-3841a27f069e56f46a09ada52fcb5ef0\"}, \"mark\": {\"type\": \"line\", \"color\": \"#5D8AA8\", \"opacity\": 1}, \"encoding\": {\"detail\": {\"field\": \"edge\", \"type\": \"quantitative\"}, \"size\": {\"field\": \"edge_weight\", \"legend\": null, \"type\": \"quantitative\"}, \"x\": {\"axis\": {\"grid\": false, \"labels\": false, \"ticks\": false, \"title\": \"\"}, \"field\": \"x\", \"type\": \"quantitative\"}, \"y\": {\"axis\": {\"grid\": false, \"labels\": false, \"ticks\": false, \"title\": \"\"}, \"field\": \"y\", \"type\": \"quantitative\"}}, \"selection\": {\"selector041\": {\"type\": \"interval\", \"bind\": \"scales\", \"encodings\": [\"x\", \"y\"]}}}, {\"data\": {\"name\": \"data-fb87b36c90d424e975a5c1d17aafac03\"}, \"mark\": {\"type\": \"point\", \"opacity\": 1, \"size\": 300, \"strokeWidth\": 1.0}, \"encoding\": {\"fill\": {\"field\": \"weight\", \"scale\": {\"scheme\": \"blues\"}, \"type\": \"quantitative\"}, \"x\": {\"axis\": {\"grid\": false, \"labels\": false, \"ticks\": false}, \"field\": \"x\", \"type\": \"quantitative\"}, \"y\": {\"axis\": {\"grid\": false, \"labels\": false, \"ticks\": false}, \"field\": \"y\", \"type\": \"quantitative\"}}}, {\"data\": {\"name\": \"data-fb87b36c90d424e975a5c1d17aafac03\"}, \"mark\": {\"type\": \"text\", \"baseline\": \"middle\", \"fill\": \"black\", \"size\": 15}, \"encoding\": {\"text\": {\"field\": \"label\", \"type\": \"nominal\"}, \"x\": {\"axis\": {\"grid\": false, \"labels\": false, \"ticks\": false}, \"field\": \"x\", \"type\": \"quantitative\"}, \"y\": {\"axis\": {\"grid\": false, \"labels\": false, \"ticks\": false}, \"field\": \"y\", \"type\": \"quantitative\"}}}], \"$schema\": \"https://vega.github.io/schema/vega-lite/v4.17.0.json\", \"datasets\": {\"data-3841a27f069e56f46a09ada52fcb5ef0\": [{\"y\": 0.20591491875862764, \"edge\": 0, \"pair\": [\"basil\", \"flour\"], \"x\": -0.1197128424804056, \"target\": \"flour\", \"edge_weight\": 16, \"source\": \"basil\"}, {\"y\": -0.06557198117619564, \"edge\": 0, \"pair\": [\"basil\", \"flour\"], \"x\": -0.09999866382248197, \"target\": \"flour\", \"edge_weight\": 16, \"source\": \"basil\"}, {\"y\": 0.20591491875862764, \"edge\": 1, \"pair\": [\"basil\", \"mozzarella\"], \"x\": -0.1197128424804056, \"target\": \"mozzarella\", \"edge_weight\": 20, \"source\": \"basil\"}, {\"y\": 0.4215765266846388, \"edge\": 1, \"pair\": [\"basil\", \"mozzarella\"], \"x\": -0.06399907170517544, \"target\": \"mozzarella\", \"edge_weight\": 20, \"source\": \"basil\"}, {\"y\": 0.20591491875862764, \"edge\": 2, \"pair\": [\"basil\", \"oil\"], \"x\": -0.1197128424804056, \"target\": \"oil\", \"edge_weight\": 23, \"source\": \"basil\"}, {\"y\": -0.21915056163087027, \"edge\": 2, \"pair\": [\"basil\", \"oil\"], \"x\": 0.05374950538474092, \"target\": \"oil\", \"edge_weight\": 23, \"source\": \"basil\"}, {\"y\": 0.20591491875862764, \"edge\": 3, \"pair\": [\"basil\", \"tomato\"], \"x\": -0.1197128424804056, \"target\": \"tomato\", \"edge_weight\": 21, \"source\": \"basil\"}, {\"y\": 0.056726047092859444, \"edge\": 3, \"pair\": [\"basil\", \"tomato\"], \"x\": 0.13225020650964425, \"target\": \"tomato\", \"edge_weight\": 21, \"source\": \"basil\"}, {\"y\": 0.20591491875862764, \"edge\": 4, \"pair\": [\"basil\", \"yeast\"], \"x\": -0.1197128424804056, \"target\": \"yeast\", \"edge_weight\": 12, \"source\": \"basil\"}, {\"y\": -0.008204850628300958, \"edge\": 4, \"pair\": [\"basil\", \"yeast\"], \"x\": -0.2362381547699536, \"target\": \"yeast\", \"edge_weight\": 12, \"source\": \"basil\"}, {\"y\": 0.20591491875862764, \"edge\": 5, \"pair\": [\"basil\", \"garlic clove\"], \"x\": -0.1197128424804056, \"target\": \"garlic clove\", \"edge_weight\": 15, \"source\": \"basil\"}, {\"y\": 0.1866490156981765, \"edge\": 5, \"pair\": [\"basil\", \"garlic clove\"], \"x\": 0.16595486466183204, \"target\": \"garlic clove\", \"edge_weight\": 15, \"source\": \"basil\"}, {\"y\": -0.06557198117619564, \"edge\": 6, \"pair\": [\"flour\", \"mozzarella\"], \"x\": -0.09999866382248197, \"target\": \"mozzarella\", \"edge_weight\": 25, \"source\": \"flour\"}, {\"y\": 0.4215765266846388, \"edge\": 6, \"pair\": [\"flour\", \"mozzarella\"], \"x\": -0.06399907170517544, \"target\": \"mozzarella\", \"edge_weight\": 25, \"source\": \"flour\"}, {\"y\": -0.06557198117619564, \"edge\": 7, \"pair\": [\"flour\", \"oil\"], \"x\": -0.09999866382248197, \"target\": \"oil\", \"edge_weight\": 44, \"source\": \"flour\"}, {\"y\": -0.21915056163087027, \"edge\": 7, \"pair\": [\"flour\", \"oil\"], \"x\": 0.05374950538474092, \"target\": \"oil\", \"edge_weight\": 44, \"source\": \"flour\"}, {\"y\": -0.06557198117619564, \"edge\": 8, \"pair\": [\"flour\", \"tomato\"], \"x\": -0.09999866382248197, \"target\": \"tomato\", \"edge_weight\": 29, \"source\": \"flour\"}, {\"y\": 0.056726047092859444, \"edge\": 8, \"pair\": [\"flour\", \"tomato\"], \"x\": 0.13225020650964425, \"target\": \"tomato\", \"edge_weight\": 29, \"source\": \"flour\"}, {\"y\": -0.06557198117619564, \"edge\": 9, \"pair\": [\"flour\", \"yeast\"], \"x\": -0.09999866382248197, \"target\": \"yeast\", \"edge_weight\": 32, \"source\": \"flour\"}, {\"y\": -0.008204850628300958, \"edge\": 9, \"pair\": [\"flour\", \"yeast\"], \"x\": -0.2362381547699536, \"target\": \"yeast\", \"edge_weight\": 32, \"source\": \"flour\"}, {\"y\": -0.06557198117619564, \"edge\": 10, \"pair\": [\"flour\", \"sugar\"], \"x\": -0.09999866382248197, \"target\": \"sugar\", \"edge_weight\": 13, \"source\": \"flour\"}, {\"y\": -0.4600355245732178, \"edge\": 10, \"pair\": [\"flour\", \"sugar\"], \"x\": -0.1928041038191293, \"target\": \"sugar\", \"edge_weight\": 13, \"source\": \"flour\"}, {\"y\": -0.06557198117619564, \"edge\": 11, \"pair\": [\"flour\", \"water\"], \"x\": -0.09999866382248197, \"target\": \"water\", \"edge_weight\": 13, \"source\": \"flour\"}, {\"y\": -0.12546988068609596, \"edge\": 11, \"pair\": [\"flour\", \"water\"], \"x\": -0.49981240776829255, \"target\": \"water\", \"edge_weight\": 13, \"source\": \"flour\"}, {\"y\": -0.06557198117619564, \"edge\": 12, \"pair\": [\"flour\", \"garlic clove\"], \"x\": -0.09999866382248197, \"target\": \"garlic clove\", \"edge_weight\": 25, \"source\": \"flour\"}, {\"y\": 0.1866490156981765, \"edge\": 12, \"pair\": [\"flour\", \"garlic clove\"], \"x\": 0.16595486466183204, \"target\": \"garlic clove\", \"edge_weight\": 25, \"source\": \"flour\"}, {\"y\": -0.06557198117619564, \"edge\": 13, \"pair\": [\"flour\", \"salt\"], \"x\": -0.09999866382248197, \"target\": \"salt\", \"edge_weight\": 15, \"source\": \"flour\"}, {\"y\": -0.3561738234595477, \"edge\": 13, \"pair\": [\"flour\", \"salt\"], \"x\": -0.4023293665395842, \"target\": \"salt\", \"edge_weight\": 15, \"source\": \"flour\"}, {\"y\": -0.06557198117619564, \"edge\": 14, \"pair\": [\"flour\", \"onion\"], \"x\": -0.09999866382248197, \"target\": \"onion\", \"edge_weight\": 15, \"source\": \"flour\"}, {\"y\": -0.014375192235009427, \"edge\": 14, \"pair\": [\"flour\", \"onion\"], \"x\": 0.34965695830483406, \"target\": \"onion\", \"edge_weight\": 15, \"source\": \"flour\"}, {\"y\": 0.4215765266846388, \"edge\": 15, \"pair\": [\"mozzarella\", \"oil\"], \"x\": -0.06399907170517544, \"target\": \"oil\", \"edge_weight\": 32, \"source\": \"mozzarella\"}, {\"y\": -0.21915056163087027, \"edge\": 15, \"pair\": [\"mozzarella\", \"oil\"], \"x\": 0.05374950538474092, \"target\": \"oil\", \"edge_weight\": 32, \"source\": \"mozzarella\"}, {\"y\": 0.4215765266846388, \"edge\": 16, \"pair\": [\"mozzarella\", \"oregano\"], \"x\": -0.06399907170517544, \"target\": \"oregano\", \"edge_weight\": 12, \"source\": \"mozzarella\"}, {\"y\": 1.0, \"edge\": 16, \"pair\": [\"mozzarella\", \"oregano\"], \"x\": 0.105050484464986, \"target\": \"oregano\", \"edge_weight\": 12, \"source\": \"mozzarella\"}, {\"y\": 0.4215765266846388, \"edge\": 17, \"pair\": [\"mozzarella\", \"parmesan\"], \"x\": -0.06399907170517544, \"target\": \"parmesan\", \"edge_weight\": 12, \"source\": \"mozzarella\"}, {\"y\": 0.9563956730059682, \"edge\": 17, \"pair\": [\"mozzarella\", \"parmesan\"], \"x\": -0.3425265834977154, \"target\": \"parmesan\", \"edge_weight\": 12, \"source\": \"mozzarella\"}, {\"y\": 0.4215765266846388, \"edge\": 18, \"pair\": [\"mozzarella\", \"tomato\"], \"x\": -0.06399907170517544, \"target\": \"tomato\", \"edge_weight\": 34, \"source\": \"mozzarella\"}, {\"y\": 0.056726047092859444, \"edge\": 18, \"pair\": [\"mozzarella\", \"tomato\"], \"x\": 0.13225020650964425, \"target\": \"tomato\", \"edge_weight\": 34, \"source\": \"mozzarella\"}, {\"y\": 0.4215765266846388, \"edge\": 19, \"pair\": [\"mozzarella\", \"yeast\"], \"x\": -0.06399907170517544, \"target\": \"yeast\", \"edge_weight\": 16, \"source\": \"mozzarella\"}, {\"y\": -0.008204850628300958, \"edge\": 19, \"pair\": [\"mozzarella\", \"yeast\"], \"x\": -0.2362381547699536, \"target\": \"yeast\", \"edge_weight\": 16, \"source\": \"mozzarella\"}, {\"y\": 0.4215765266846388, \"edge\": 20, \"pair\": [\"mozzarella\", \"garlic clove\"], \"x\": -0.06399907170517544, \"target\": \"garlic clove\", \"edge_weight\": 17, \"source\": \"mozzarella\"}, {\"y\": 0.1866490156981765, \"edge\": 20, \"pair\": [\"mozzarella\", \"garlic clove\"], \"x\": 0.16595486466183204, \"target\": \"garlic clove\", \"edge_weight\": 17, \"source\": \"mozzarella\"}, {\"y\": -0.21915056163087027, \"edge\": 21, \"pair\": [\"oil\", \"tomato\"], \"x\": 0.05374950538474092, \"target\": \"tomato\", \"edge_weight\": 41, \"source\": \"oil\"}, {\"y\": 0.056726047092859444, \"edge\": 21, \"pair\": [\"oil\", \"tomato\"], \"x\": 0.13225020650964425, \"target\": \"tomato\", \"edge_weight\": 41, \"source\": \"oil\"}, {\"y\": -0.21915056163087027, \"edge\": 22, \"pair\": [\"oil\", \"yeast\"], \"x\": 0.05374950538474092, \"target\": \"yeast\", \"edge_weight\": 33, \"source\": \"oil\"}, {\"y\": -0.008204850628300958, \"edge\": 22, \"pair\": [\"oil\", \"yeast\"], \"x\": -0.2362381547699536, \"target\": \"yeast\", \"edge_weight\": 33, \"source\": \"oil\"}, {\"y\": -0.21915056163087027, \"edge\": 23, \"pair\": [\"oil\", \"sugar\"], \"x\": 0.05374950538474092, \"target\": \"sugar\", \"edge_weight\": 15, \"source\": \"oil\"}, {\"y\": -0.4600355245732178, \"edge\": 23, \"pair\": [\"oil\", \"sugar\"], \"x\": -0.1928041038191293, \"target\": \"sugar\", \"edge_weight\": 15, \"source\": \"oil\"}, {\"y\": -0.21915056163087027, \"edge\": 24, \"pair\": [\"oil\", \"water\"], \"x\": 0.05374950538474092, \"target\": \"water\", \"edge_weight\": 13, \"source\": \"oil\"}, {\"y\": -0.12546988068609596, \"edge\": 24, \"pair\": [\"oil\", \"water\"], \"x\": -0.49981240776829255, \"target\": \"water\", \"edge_weight\": 13, \"source\": \"oil\"}, {\"y\": -0.21915056163087027, \"edge\": 25, \"pair\": [\"oil\", \"garlic clove\"], \"x\": 0.05374950538474092, \"target\": \"garlic clove\", \"edge_weight\": 35, \"source\": \"oil\"}, {\"y\": 0.1866490156981765, \"edge\": 25, \"pair\": [\"oil\", \"garlic clove\"], \"x\": 0.16595486466183204, \"target\": \"garlic clove\", \"edge_weight\": 35, \"source\": \"oil\"}, {\"y\": -0.21915056163087027, \"edge\": 26, \"pair\": [\"oil\", \"salt\"], \"x\": 0.05374950538474092, \"target\": \"salt\", \"edge_weight\": 14, \"source\": \"oil\"}, {\"y\": -0.3561738234595477, \"edge\": 26, \"pair\": [\"oil\", \"salt\"], \"x\": -0.4023293665395842, \"target\": \"salt\", \"edge_weight\": 14, \"source\": \"oil\"}, {\"y\": -0.21915056163087027, \"edge\": 27, \"pair\": [\"oil\", \"pizza base\"], \"x\": 0.05374950538474092, \"target\": \"pizza base\", \"edge_weight\": 11, \"source\": \"oil\"}, {\"y\": -0.8549343325687051, \"edge\": 27, \"pair\": [\"oil\", \"pizza base\"], \"x\": 0.11479135358414777, \"target\": \"pizza base\", \"edge_weight\": 11, \"source\": \"oil\"}, {\"y\": -0.21915056163087027, \"edge\": 28, \"pair\": [\"oil\", \"olive\"], \"x\": 0.05374950538474092, \"target\": \"olive\", \"edge_weight\": 13, \"source\": \"oil\"}, {\"y\": -0.05966922220735658, \"edge\": 28, \"pair\": [\"oil\", \"olive\"], \"x\": 0.5313712660943755, \"target\": \"olive\", \"edge_weight\": 13, \"source\": \"oil\"}, {\"y\": -0.21915056163087027, \"edge\": 29, \"pair\": [\"oil\", \"onion\"], \"x\": 0.05374950538474092, \"target\": \"onion\", \"edge_weight\": 25, \"source\": \"oil\"}, {\"y\": -0.014375192235009427, \"edge\": 29, \"pair\": [\"oil\", \"onion\"], \"x\": 0.34965695830483406, \"target\": \"onion\", \"edge_weight\": 25, \"source\": \"oil\"}, {\"y\": -0.21915056163087027, \"edge\": 30, \"pair\": [\"oil\", \"rocket\"], \"x\": 0.05374950538474092, \"target\": \"rocket\", \"edge_weight\": 12, \"source\": \"oil\"}, {\"y\": -0.6636768120749709, \"edge\": 30, \"pair\": [\"oil\", \"rocket\"], \"x\": 0.5045965553981768, \"target\": \"rocket\", \"edge_weight\": 12, \"source\": \"oil\"}, {\"y\": 0.056726047092859444, \"edge\": 31, \"pair\": [\"tomato\", \"yeast\"], \"x\": 0.13225020650964425, \"target\": \"yeast\", \"edge_weight\": 20, \"source\": \"tomato\"}, {\"y\": -0.008204850628300958, \"edge\": 31, \"pair\": [\"tomato\", \"yeast\"], \"x\": -0.2362381547699536, \"target\": \"yeast\", \"edge_weight\": 20, \"source\": \"tomato\"}, {\"y\": 0.056726047092859444, \"edge\": 32, \"pair\": [\"tomato\", \"garlic clove\"], \"x\": 0.13225020650964425, \"target\": \"garlic clove\", \"edge_weight\": 21, \"source\": \"tomato\"}, {\"y\": 0.1866490156981765, \"edge\": 32, \"pair\": [\"tomato\", \"garlic clove\"], \"x\": 0.16595486466183204, \"target\": \"garlic clove\", \"edge_weight\": 21, \"source\": \"tomato\"}, {\"y\": 0.056726047092859444, \"edge\": 33, \"pair\": [\"tomato\", \"onion\"], \"x\": 0.13225020650964425, \"target\": \"onion\", \"edge_weight\": 13, \"source\": \"tomato\"}, {\"y\": -0.014375192235009427, \"edge\": 33, \"pair\": [\"tomato\", \"onion\"], \"x\": 0.34965695830483406, \"target\": \"onion\", \"edge_weight\": 13, \"source\": \"tomato\"}, {\"y\": 0.056726047092859444, \"edge\": 34, \"pair\": [\"tomato\", \"olive\"], \"x\": 0.13225020650964425, \"target\": \"olive\", \"edge_weight\": 12, \"source\": \"tomato\"}, {\"y\": -0.05966922220735658, \"edge\": 34, \"pair\": [\"tomato\", \"olive\"], \"x\": 0.5313712660943755, \"target\": \"olive\", \"edge_weight\": 12, \"source\": \"tomato\"}, {\"y\": -0.008204850628300958, \"edge\": 35, \"pair\": [\"yeast\", \"sugar\"], \"x\": -0.2362381547699536, \"target\": \"sugar\", \"edge_weight\": 12, \"source\": \"yeast\"}, {\"y\": -0.4600355245732178, \"edge\": 35, \"pair\": [\"yeast\", \"sugar\"], \"x\": -0.1928041038191293, \"target\": \"sugar\", \"edge_weight\": 12, \"source\": \"yeast\"}, {\"y\": -0.008204850628300958, \"edge\": 36, \"pair\": [\"yeast\", \"water\"], \"x\": -0.2362381547699536, \"target\": \"water\", \"edge_weight\": 13, \"source\": \"yeast\"}, {\"y\": -0.12546988068609596, \"edge\": 36, \"pair\": [\"yeast\", \"water\"], \"x\": -0.49981240776829255, \"target\": \"water\", \"edge_weight\": 13, \"source\": \"yeast\"}, {\"y\": -0.008204850628300958, \"edge\": 37, \"pair\": [\"yeast\", \"garlic clove\"], \"x\": -0.2362381547699536, \"target\": \"garlic clove\", \"edge_weight\": 20, \"source\": \"yeast\"}, {\"y\": 0.1866490156981765, \"edge\": 37, \"pair\": [\"yeast\", \"garlic clove\"], \"x\": 0.16595486466183204, \"target\": \"garlic clove\", \"edge_weight\": 20, \"source\": \"yeast\"}, {\"y\": -0.008204850628300958, \"edge\": 38, \"pair\": [\"yeast\", \"salt\"], \"x\": -0.2362381547699536, \"target\": \"salt\", \"edge_weight\": 12, \"source\": \"yeast\"}, {\"y\": -0.3561738234595477, \"edge\": 38, \"pair\": [\"yeast\", \"salt\"], \"x\": -0.4023293665395842, \"target\": \"salt\", \"edge_weight\": 12, \"source\": \"yeast\"}, {\"y\": 0.1866490156981765, \"edge\": 39, \"pair\": [\"garlic clove\", \"olive\"], \"x\": 0.16595486466183204, \"target\": \"olive\", \"edge_weight\": 11, \"source\": \"garlic clove\"}, {\"y\": -0.05966922220735658, \"edge\": 39, \"pair\": [\"garlic clove\", \"olive\"], \"x\": 0.5313712660943755, \"target\": \"olive\", \"edge_weight\": 11, \"source\": \"garlic clove\"}, {\"y\": 0.1866490156981765, \"edge\": 40, \"pair\": [\"garlic clove\", \"onion\"], \"x\": 0.16595486466183204, \"target\": \"onion\", \"edge_weight\": 12, \"source\": \"garlic clove\"}, {\"y\": -0.014375192235009427, \"edge\": 40, \"pair\": [\"garlic clove\", \"onion\"], \"x\": 0.34965695830483406, \"target\": \"onion\", \"edge_weight\": 12, \"source\": \"garlic clove\"}], \"data-fb87b36c90d424e975a5c1d17aafac03\": [{\"x\": -0.1197128424804056, \"weight\": 29, \"y\": 0.20591491875862764, \"label\": \"basil\"}, {\"x\": -0.09999866382248197, \"weight\": 51, \"y\": -0.06557198117619564, \"label\": \"flour\"}, {\"x\": -0.06399907170517544, \"weight\": 49, \"y\": 0.4215765266846388, \"label\": \"mozzarella\"}, {\"x\": 0.05374950538474092, \"weight\": 75, \"y\": -0.21915056163087027, \"label\": \"oil\"}, {\"x\": 0.13225020650964425, \"weight\": 54, \"y\": 0.056726047092859444, \"label\": \"tomato\"}, {\"x\": -0.2362381547699536, \"weight\": 33, \"y\": -0.008204850628300958, \"label\": \"yeast\"}, {\"x\": 0.105050484464986, \"weight\": 13, \"y\": 1.0, \"label\": \"oregano\"}, {\"x\": -0.3425265834977154, \"weight\": 13, \"y\": 0.9563956730059682, \"label\": \"parmesan\"}, {\"x\": -0.1928041038191293, \"weight\": 17, \"y\": -0.4600355245732178, \"label\": \"sugar\"}, {\"x\": -0.49981240776829255, \"weight\": 13, \"y\": -0.12546988068609596, \"label\": \"water\"}, {\"x\": 0.16595486466183204, \"weight\": 37, \"y\": 0.1866490156981765, \"label\": \"garlic clove\"}, {\"x\": -0.4023293665395842, \"weight\": 15, \"y\": -0.3561738234595477, \"label\": \"salt\"}, {\"x\": 0.11479135358414777, \"weight\": 18, \"y\": -0.8549343325687051, \"label\": \"pizza base\"}, {\"x\": 0.5313712660943755, \"weight\": 19, \"y\": -0.05966922220735658, \"label\": \"olive\"}, {\"x\": 0.34965695830483406, \"weight\": 32, \"y\": -0.014375192235009427, \"label\": \"onion\"}, {\"x\": 0.5045965553981768, \"weight\": 14, \"y\": -0.6636768120749709, \"label\": \"rocket\"}]}}, {\"mode\": \"vega-lite\"});\n",
       "</script>"
      ],
      "text/plain": [
       "alt.LayerChart(...)"
      ]
     },
     "execution_count": 645,
     "metadata": {},
     "output_type": "execute_result"
    },
    {
     "data": {
      "image/png": "[encoded data removed]",
      "text/plain": [
       "<Figure size 432x288 with 1 Axes>"
      ]
     },
     "metadata": {},
     "output_type": "display_data"
    }
   ],
   "source": [
    "G = nx.Graph()\n",
    "# G.add_edges_from(combi_count.keys())\n",
    "G.add_edges_from([item[0] for item in combi_count.items() if item[1] > 10])\n",
    "print(\"Num of edges: \", G.number_of_edges())\n",
    "print(\"Num of nodes: \", G.number_of_nodes())\n",
    "\n",
    "for edge in G.edges():\n",
    "    occurrence = combi_count[edge] if edge in combi_count else combi_count[(edge[1], edge[0])]\n",
    "    G.edges()[edge].update({\n",
    "        \"edge_weight\": occurrence\n",
    "    })\n",
    "\n",
    "for node in G.nodes():\n",
    "    G.nodes()[node].update({\n",
    "        \"label\": node,\n",
    "        \"weight\": ingredients[node]\n",
    "    })\n",
    "\n",
    "# draw the graph using networkx (matplotlib)\n",
    "weights = [ingredients[node] for node in G.nodes()]\n",
    "widths = [G.edges()[edge]['edge_weight'] for edge in G.edges()]\n",
    "nx.draw(\n",
    "    G, with_labels=True, pos=nx.spring_layout(G, seed=23),\n",
    "    node_size=np.array(weights)*10, node_color=weights, cmap=plt.cm.viridis_r, vmin=2, vmax=150,\n",
    "    edge_color=widths, edge_cmap=plt.cm.viridis_r, edge_vmin=0, edge_vmax=35\n",
    ")\n",
    "\n",
    "# draw the graph using nx-altair\n",
    "viz = nxa.draw_networkx(\n",
    "    G,\n",
    "    node_label='label',\n",
    "    node_color='weight', cmap='blues',\n",
    "    pos=nx.spring_layout(G, seed=23),\n",
    "    width='edge_weight',\n",
    "    edge_color=\"#5D8AA8\",\n",
    ")\n",
    "viz.interactive()"
   ]
  },
  {
   "cell_type": "markdown",
   "metadata": {},
   "source": [
    "## Annotated recipes from [\"RecipeScape\"](https://recipescape.kixlab.org/)\n",
    "\n",
    "Annotated recipes in JSON format for [chocolate chip cookies](https://recipescape.kixlab.org/ccc_trees.json) and [tomato pasta](https://recipescape.kixlab.org/tomatopasta_trees.json)."
   ]
  },
  {
   "cell_type": "code",
   "execution_count": 13,
   "metadata": {},
   "outputs": [
    {
     "name": "stdout",
     "output_type": "stream",
     "text": [
      "Resource dataset/recipescape-choco-chip-cookies.json already exists.\n"
     ]
    }
   ],
   "source": [
    "# download dataset from url if not already exists\n",
    "filename_dataset = \"recipescape-choco-chip-cookies.json\"\n",
    "download_resource(\n",
    "    resource_url=\"https://recipescape.kixlab.org/ccc_trees.json\",\n",
    "    local_path=str(path_dataset/filename_dataset)\n",
    ")\n",
    "# read in the json file\n",
    "import json\n",
    "with open(path_dataset/filename_dataset, 'r') as f:\n",
    "    data = json.load(f)\n",
    "# data is a list of dict objects, each dict has keys 'id' and 'tree'"
   ]
  },
  {
   "cell_type": "markdown",
   "metadata": {},
   "source": [
    "This dataset is a list of dict objects, each dict has keys 'id' and 'tree'."
   ]
  },
  {
   "cell_type": "code",
   "execution_count": 42,
   "metadata": {},
   "outputs": [
    {
     "name": "stdout",
     "output_type": "stream",
     "text": [
      "Num of elements: 490\n",
      "Keys of an element:  dict_keys(['id', 'tree'])\n"
     ]
    }
   ],
   "source": [
    "print(f\"Num of elements: {len(data)}\")\n",
    "print(\"Keys of an element: \", data[0].keys())\n",
    "# print(json.dumps(data, indent=4))"
   ]
  },
  {
   "cell_type": "markdown",
   "metadata": {},
   "source": [
    "A 'tree' is also a list of dict objects, each with keys 'word' and 'ingredient'. "
   ]
  },
  {
   "cell_type": "code",
   "execution_count": 45,
   "metadata": {},
   "outputs": [
    {
     "name": "stdout",
     "output_type": "stream",
     "text": [
      "Num of elements: 7\n",
      "Keys of an element:  dict_keys(['word', 'ingredient'])\n"
     ]
    }
   ],
   "source": [
    "tree = data[0][\"tree\"]\n",
    "print(f\"Num of elements: {len(tree)}\")\n",
    "print(\"Keys of an element: \", tree[0].keys())\n",
    "# print(json.dumps(tree, indent=4))"
   ]
  },
  {
   "cell_type": "code",
   "execution_count": 75,
   "metadata": {},
   "outputs": [
    {
     "name": "stdout",
     "output_type": "stream",
     "text": [
      "recipe_id               \tword        \tingredient\n",
      "54a47bb66529d92b2c02c10e\tarrange     \tbread slices,work surface,bread slice,cheese,tablespoons caponata,half,tomato\n",
      "                        \tremaining   \tcheese,bread,brush,bread slices,oil,heat,skillet,medium heat\n",
      "                        \tis          \tcheese\n",
      "54a42ff76529d92b2c01385a\theat        \tcooking spray\n",
      "                        \tadd         \ttomato sauce,cranberry sauce,horseradish,dry mustard,vinegar,stock\n",
      "                        \tlower       \t\n",
      "                        \tstirring    \t\n",
      "                        \tlower       \t\n",
      "                        \tserve       \t\n",
      "                        \treheat      \t\n",
      "54a4154d19925f464b375841\theat        \toil\n",
      "                        \tsauté       \tshallots\n",
      "                        \tadd         \tchicken\n",
      "                        \tturn        \tchicken\n",
      "                        \tbroth       \t\n",
      "                        \tcover       \t\n",
      "                        \tsimmer      \tchicken\n",
      "                        \tboil        \tsauce\n",
      "54a47c2e19925f464b39bb94\theat        \toil\n",
      "                        \tsauté       \t\n",
      "                        \tsimmer      \tsauce\n",
      "                        \ttoss        \tsauce,pasta\n",
      "                        \ttransfer    \tpasta\n",
      "54a47c4d6529d92b2c02c371\tadd         \tsausage,onion,garlic\n",
      "                        \tbreaking    \t\n",
      "                        \tadd         \ttomatoes,juices\n",
      "                        \tstirring    \t\n",
      "                        \tseason      \tsauce,salt,pepper\n",
      "                        \trefrigerate \t\n",
      "                        \tpreheat     \toil\n",
      "                        \tstir        \ttomato sauce\n",
      "                        \tsprinkle    \tparmesan cheese\n",
      "54a433f76529d92b2c016abd\theat        \tolive oil\n",
      "                        \tsauté       \t\n",
      "                        \ttransfer    \tpancetta\n",
      "                        \tadd         \tpork\n",
      "                        \ttransfer    \tpancetta\n",
      "                        \tsauté       \t\n",
      "                        \treduce      \theat\n",
      "                        \tadd         \twine\n",
      "                        \tadd         \tpancetta,pork,accumulated juices\n",
      "                        \tcover       \t\n",
      "                        \tstirring    \t\n",
      "                        \ttilt        \t\n",
      "                        \toff         \tfat,ragù\n",
      "                        \tbreak       \t\n",
      "                        \tseason      \tragù,salt,pepper\n",
      "                        \tcover       \t\n",
      "                        \trefrigerated\t\n",
      "                        \tpreheat     \t\n",
      "                        \tcook        \tpasta,water\n",
      "                        \tdrain       \tpasta\n",
      "                        \tseason      \tmixture,salt,pepper\n",
      "                        \tsprinkle    \tcheeses\n"
     ]
    }
   ],
   "source": [
    "# pretty print the data as table (first 6 rows)\n",
    "def print_row(row):\n",
    "    print(f\"{row[0]:<24}\\t{row[1]:<12}\\t{row[2]}\")\n",
    "\n",
    "print_row([\"recipe_id\", \"word\", \"ingredient\"])\n",
    "for recipe in data[:6]:\n",
    "    for idx, record in enumerate(recipe[\"tree\"]):\n",
    "        print_row(row=[' ' if idx else recipe['id'], record['word'], ','.join(record['ingredient'])])"
   ]
  },
  {
   "cell_type": "markdown",
   "metadata": {},
   "source": [
    "### Tomato pasta"
   ]
  },
  {
   "cell_type": "code",
   "execution_count": 363,
   "metadata": {},
   "outputs": [
    {
     "name": "stdout",
     "output_type": "stream",
     "text": [
      "Resource ../dataset/recipescape-tomato-pasta.json already exists.\n",
      "Num of elements: 553\n",
      "Keys of an element:  dict_keys(['id', 'tree'])\n",
      "\n",
      "Num of elements: 3\n",
      "Keys of an element:  dict_keys(['word', 'ingredient'])\n"
     ]
    }
   ],
   "source": [
    "# download dataset from url if not already exists\n",
    "filename_dataset = \"recipescape-tomato-pasta.json\"\n",
    "download_resource(\n",
    "    resource_url=\"https://recipescape.kixlab.org/tomatopasta_trees.json\",\n",
    "    local_path=str(path_dataset/filename_dataset)\n",
    ")\n",
    "\n",
    "# read in the json file\n",
    "import json\n",
    "with open(path_dataset/filename_dataset, 'r') as f:\n",
    "    data = json.load(f)\n",
    "# data is a list of dict objects, each dict has keys 'id' and 'tree'\n",
    "\n",
    "print(f\"Num of elements: {len(data)}\")\n",
    "print(\"Keys of an element: \", data[0].keys())\n",
    "# print(json.dumps(data, indent=4))\n",
    "\n",
    "tree = data[0][\"tree\"]\n",
    "print(f\"\\nNum of elements: {len(tree)}\")\n",
    "print(\"Keys of an element: \", tree[0].keys())\n",
    "# print(json.dumps(tree, indent=4))"
   ]
  },
  {
   "cell_type": "code",
   "execution_count": 365,
   "metadata": {},
   "outputs": [
    {
     "name": "stdout",
     "output_type": "stream",
     "text": [
      "recipe_id               \tword        \tingredient\n",
      "54a47bb66529d92b2c02c10e\tarrange     \tbread slices,work surface,bread slice,cheese,tablespoons caponata,half,tomato\n",
      "                        \tremaining   \tcheese,bread,brush,bread slices,oil,heat,skillet,medium heat\n",
      "                        \tis          \tcheese\n",
      "54a42ff76529d92b2c01385a\theat        \tcooking spray\n",
      "                        \tadd         \ttomato sauce,cranberry sauce,horseradish,dry mustard,vinegar,stock\n",
      "                        \tlower       \t\n",
      "                        \tstirring    \t\n",
      "                        \tlower       \t\n",
      "                        \tserve       \t\n",
      "                        \treheat      \t\n",
      "54a4154d19925f464b375841\theat        \toil\n",
      "                        \tsauté       \tshallots\n",
      "                        \tadd         \tchicken\n",
      "                        \tturn        \tchicken\n",
      "                        \tbroth       \t\n",
      "                        \tcover       \t\n",
      "                        \tsimmer      \tchicken\n",
      "                        \tboil        \tsauce\n",
      "54a47c2e19925f464b39bb94\theat        \toil\n",
      "                        \tsauté       \t\n",
      "                        \tsimmer      \tsauce\n",
      "                        \ttoss        \tsauce,pasta\n",
      "                        \ttransfer    \tpasta\n",
      "54a47c4d6529d92b2c02c371\tadd         \tsausage,onion,garlic\n",
      "                        \tbreaking    \t\n",
      "                        \tadd         \ttomatoes,juices\n",
      "                        \tstirring    \t\n",
      "                        \tseason      \tsauce,salt,pepper\n",
      "                        \trefrigerate \t\n",
      "                        \tpreheat     \toil\n",
      "                        \tstir        \ttomato sauce\n",
      "                        \tsprinkle    \tparmesan cheese\n",
      "54a433f76529d92b2c016abd\theat        \tolive oil\n",
      "                        \tsauté       \t\n",
      "                        \ttransfer    \tpancetta\n",
      "                        \tadd         \tpork\n",
      "                        \ttransfer    \tpancetta\n",
      "                        \tsauté       \t\n",
      "                        \treduce      \theat\n",
      "                        \tadd         \twine\n",
      "                        \tadd         \tpancetta,pork,accumulated juices\n",
      "                        \tcover       \t\n",
      "                        \tstirring    \t\n",
      "                        \ttilt        \t\n",
      "                        \toff         \tfat,ragù\n",
      "                        \tbreak       \t\n",
      "                        \tseason      \tragù,salt,pepper\n",
      "                        \tcover       \t\n",
      "                        \trefrigerated\t\n",
      "                        \tpreheat     \t\n",
      "                        \tcook        \tpasta,water\n",
      "                        \tdrain       \tpasta\n",
      "                        \tseason      \tmixture,salt,pepper\n",
      "                        \tsprinkle    \tcheeses\n"
     ]
    }
   ],
   "source": [
    "# pretty print the data as table (first 6 rows)\n",
    "def print_row(row):\n",
    "    print(f\"{row[0]:<24}\\t{row[1]:<12}\\t{row[2]}\")\n",
    "\n",
    "print_row([\"recipe_id\", \"word\", \"ingredient\"])\n",
    "for recipe in data[:6]:\n",
    "    for idx, record in enumerate(recipe[\"tree\"]):\n",
    "        print_row(row=[' ' if idx else recipe['id'], record['word'], ','.join(record['ingredient'])])\n",
    "\n",
    "# pprint_df = pd.DataFrame(\n",
    "#     columns = [\"recipe_id\", \"word\", \"ingredient\"]\n",
    "# )\n",
    "# for recipe in data:\n",
    "#     for record in recipe[\"tree\"]:\n",
    "#         pprint_df = pprint_df.append(pd.DataFrame(\n",
    "#             data=[[recipe[\"id\"], record[\"word\"], record[\"ingredient\"]]],\n",
    "#             columns=[\"recipe_id\", \"word\", \"ingredient\"]\n",
    "#         ))\n",
    "# pprint_df.head()"
   ]
  },
  {
   "cell_type": "markdown",
   "metadata": {},
   "source": [
    "## Simplified Recipes1M\n",
    "\n",
    "> Source: https://dominikschmidt.xyz/simplified-recipes-1M/"
   ]
  },
  {
   "cell_type": "code",
   "execution_count": 637,
   "metadata": {},
   "outputs": [
    {
     "name": "stdout",
     "output_type": "stream",
     "text": [
      "Resource ../dataset/simplified-recipes-1M.npz already exists.\n"
     ]
    }
   ],
   "source": [
    "# download dataset from url if not already exists\n",
    "filename_dataset = \"simplified-recipes-1M.npz\"\n",
    "download_resource(\n",
    "    resource_url=\"https://github.com/schmidtdominik/RecipeNet/raw/master/simplified-recipes-1M.npz\",\n",
    "    local_path=str(path_dataset/filename_dataset)\n",
    ")\n",
    "\n",
    "import numpy as np\n",
    "with np.load(path_dataset/filename_dataset, allow_pickle=True) as data:\n",
    "    recipes = data['recipes']\n",
    "    ingredients = data['ingredients']\n",
    "del data"
   ]
  },
  {
   "cell_type": "code",
   "execution_count": 642,
   "metadata": {},
   "outputs": [
    {
     "name": "stdout",
     "output_type": "stream",
     "text": [
      "['salt' 'pepper' 'butter' 'garlic' 'sugar']\n",
      "[ 233 2754   42  120  560  345  150 2081   12   21]\n",
      "['basil leaves, focaccia, leaves, mozzarella, pesto, plum tomatoes, rosemary, sandwiches, sliced, tomatoes', 'balsamic vinegar, boiling water, butter, cooking spray, crumbled gorgonzola, currants, gorgonzola, grated orange, kosher, kosher salt, orange rind, parsley, pine nuts, polenta, toasted, vinegar, water', 'bottle, bouillon, carrots, celery, chicken bouillon, cilantro, clam juice, cloves, fish, garlic, medium shrimp, olive, olive oil, onion, pepper, pepper flakes, red pepper, red pepper flakes, salt, sherry, shrimp, stewed tomatoes, tomatoes, water, white, white wine', 'grand marnier, kahlua', 'black pepper, coarse sea salt, fresh lemon, fresh lemon juice, ground, ground black pepper, lemon, lemon juice, lime, lime peel, mayonaise, pepper, sea salt, shallots, sherry wine, sherry wine vinegar, vinegar, wine vinegar']\n"
     ]
    }
   ],
   "source": [
    "print(ingredients[:5])\n",
    "print(recipes[0])\n",
    "print([\", \".join([ingredients[ing] for ing in recipe]) for recipe in recipes[:5]])"
   ]
  }
 ],
 "metadata": {
  "interpreter": {
   "hash": "2243570999d709669870674c130d5c989af571bf8fd02bb480a01170839d5b26"
  },
  "kernelspec": {
   "display_name": "Python 3 (ipykernel)",
   "language": "python",
   "name": "python3"
  },
  "language_info": {
   "codemirror_mode": {
    "name": "ipython",
    "version": 3
   },
   "file_extension": ".py",
   "mimetype": "text/x-python",
   "name": "python",
   "nbconvert_exporter": "python",
   "pygments_lexer": "ipython3",
   "version": "3.8.2"
  }
 },
 "nbformat": 4,
 "nbformat_minor": 2
}
