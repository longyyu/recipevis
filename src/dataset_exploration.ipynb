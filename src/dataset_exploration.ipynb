{
 "cells": [
  {
   "cell_type": "code",
   "execution_count": 87,
   "metadata": {},
   "outputs": [
    {
     "name": "stdout",
     "output_type": "stream",
     "text": [
      "Current directory: /Users/longyyu/Documents/research/recipevis.git/src\n"
     ]
    }
   ],
   "source": [
    "import os\n",
    "import pathlib\n",
    "\n",
    "print(f\"Current directory: {os.getcwd()}\")\n",
    "\n",
    "path_dataset = pathlib.Path(\"../dataset/\")"
   ]
  },
  {
   "cell_type": "code",
   "execution_count": 4,
   "metadata": {},
   "outputs": [],
   "source": [
    "def download_resource(resource_url, local_path):\n",
    "    import requests\n",
    "    if not os.path.exists(local_path):\n",
    "        r = requests.get(resource_url)\n",
    "        print(f\"Content type: {r.headers.get('content-type')}\")\n",
    "        print(f\"Content disposition: {r.headers.get('content-disposition')}\")\n",
    "        print(f\"Content length: {r.headers.get('content-length')}\")\n",
    "        try:\n",
    "            with open(local_path, 'wb') as file_disk:\n",
    "                for chunk in r.iter_content(chunk_size=1024):\n",
    "                    if chunk:\n",
    "                        file_disk.write(chunk)\n",
    "        except Exception as e:\n",
    "            print(f\"Error: {str(e)}\")\n",
    "        if os.path.isfile(local_path):\n",
    "            print(\"Downloaded successfully!\")\n",
    "    else:\n",
    "        print(f\"Resource {local_path} already exists.\")"
   ]
  },
  {
   "cell_type": "markdown",
   "metadata": {},
   "source": [
    "## BBC Good Food\n",
    "\n",
    "* JSON format recipes from this [github repo](https://github.com/mneedham/bbcgoodfood). There is no documentation on the original source of data, but it seems like data come from this [web scraping script](https://github.com/mneedham/bbcgoodfood/blob/master/download_recipes.py). The url list is unknown. \n",
    "* See also https://www.bbcgoodfood.com/. "
   ]
  },
  {
   "cell_type": "code",
   "execution_count": 119,
   "metadata": {},
   "outputs": [
    {
     "name": "stdout",
     "output_type": "stream",
     "text": [
      "Resource ../dataset/bbcgoodfood.json already exists.\n"
     ]
    }
   ],
   "source": [
    "filename_dataset = \"bbcgoodfood.json\"\n",
    "download_resource(\n",
    "    resource_url=\"https://github.com/mneedham/bbcgoodfood/raw/master/stream_clean.json\",\n",
    "    local_path=str(path_dataset/filename_dataset)\n",
    ")\n",
    "# read in the json file\n",
    "import json\n",
    "data = []\n",
    "with open(path_dataset/filename_dataset, 'r') as f:\n",
    "    for line in f:\n",
    "        data.append(json.loads(line))\n",
    "\n",
    "print(f\"Num of recipes: {len(data)}\")\n",
    "print(\"Keys of an element: \", data[0].keys())\n"
   ]
  },
  {
   "cell_type": "markdown",
   "metadata": {},
   "source": [
    "* The data is a list of dictionary objects, and each dictionary has only one key 'page'. \n",
    "    * Each 'page' is also a dictionary, with keys ['article', 'recipe', 'channel', 'title'].\n",
    "        * Channel is just 'Recipe'.  \n",
    "        * Article is again a dictionary, with keys ['author', 'description', 'id', 'tags']. \n",
    "        * Recipe, another dictionary, has keys ['collections', 'cooking_time', 'prep_time', 'serves', 'keywords', 'ratings', 'nutrition_info', 'ingredients', 'courses', 'cusine', 'diet_types', 'skill_level', 'post_dates']. \n",
    "            - Collections: tags such as `Bakewell tart, 200-400 calorie, Easy Christmas, Eat like an athlete, Thai, Blackberry, Summer soup, Autumn cake, Sponge cake, Omelette, Salmon, Chickpea, Microwave pudding, Prosecco, Low in salt, Christmas Day drinks, Healthy pie, Easy cocktail`. \n",
    "            - Keywords: key ingredients and tags such as `Stewing steak, Bucks fizz, Vegetarian bbq, Devilled mushrooms, Packed lunch, chickpea side dish, oat and fruit bars, Vanilla sponge, Smart supper, Summer fruit, healthy gravy, Merrilees Parker, Chilled pudding, Gordon ramsay recipes`. \n",
    "            - Cusine (45): `French, Scottish, Thai, Greek, African, Cuban, Middle Eastern, Italian, Cajun & Creole, Eastern European, Australian, English, Asian, Swiss, Caribbean, Japanese, Korean, American, Chinese, Latin American, Brazilian, Turkish, Irish, Belgian, Indonesian, British, Indian, Scandinavian, Balinese, Spanish, German, Mediterranean, Danish, Tunisian, Moroccan, Mexican, Swedish, Portuguese, Austrian, Chilean, Jewish, North African, Southern & Soul, Vietnamese, Hungarian`. \n",
    "            - Courses (22): `Starter, Supper, Cheese Course, Canapes, Condiment, Side dish, Main course, Afternoon tea, Soup course, Vegetable course, Fish Course, Lunch, Buffet, Breakfast, Cocktails, Snack, Dinner, Brunch, Drink, Dessert, Pasta course, Treat`. "
   ]
  },
  {
   "cell_type": "code",
   "execution_count": 211,
   "metadata": {},
   "outputs": [],
   "source": [
    "import pandas as pd\n",
    "cols = ['article_id', 'title', 'ratings', 'serves', 'ingredients', 'cusine', 'courses']\n",
    "data_df = pd.DataFrame(columns=cols)\n",
    "for item in data:\n",
    "    page = item['page']\n",
    "    recipe = page['recipe']\n",
    "    data_df = data_df.append(\n",
    "        pd.DataFrame(\n",
    "            data=[[page['article']['id'], page['title'], recipe['ratings'], recipe['serves'], recipe['ingredients'], recipe['cusine'], recipe['courses']]],\n",
    "            columns=cols\n",
    "        )\n",
    "    )\n",
    "data_df = data_df.reset_index(drop=True)"
   ]
  },
  {
   "cell_type": "markdown",
   "metadata": {},
   "source": [
    "### A closer look at the pizza recipes\n",
    "\n",
    "* Pre-processing\n",
    "    - Further clean up the ingredient list from 278 to 210 (e.g., 'strong white flour' -> 'flour', for details see `src/ingredient_mapper.json`)\n",
    "    - Select several main ingredients\n",
    "        - Refer to [Baking with machine learning](https://sararobinson.dev/2020/04/30/baking-machine-learning.html) - 12 main ingredients: flour, sugar, starter, salt, yeast, milk, water, oil, eggs, baking powder, baking soda, butter\n",
    "    - **Question**: granularity\n",
    "        - Should we treat \"pizza base\" and \"pizza base mix\" as the same? What about \"pizza base mix\" and \"bread mix\"?\n",
    "        - Brown sugar and regular sugar?\n",
    "        - 'olive oil' -> 'oil'? 'tomato sauce' -> 'tomato'?\n",
    "* Visualization Attempts [#todo]"
   ]
  },
  {
   "cell_type": "markdown",
   "metadata": {},
   "source": [
    "#### Filtering pizza recipes\n",
    "\n",
    "I first filtered the recipes with \"pizza\" in their titles, which yields 118 results. Then I manually examined the recipe titles to drop non-pizza recipes and label as much pizza subcategories as I can: \n",
    "* Non-pizza: 'Steak with pizzaiola sauce', '5 easy pizza toppings', ['Pizza omelette'](https://www.bbcgoodfood.com/recipes/pizza-omelette), ['Baked cauliflower pizzaiola'](https://www.bbcgoodfood.com/recipes/baked-cauliflower-pizzaiola), ['Pizza baked potato'](https://www.bbcgoodfood.com/recipes/pizza-baked-potato), ['Puff pizza tart'](https://www.bbcgoodfood.com/recipes/puff-pizza-tart), ['Mini pizza quiches'](https://www.bbcgoodfood.com/recipes/mini-pizza-quiches), ['Pizzadillas'](https://www.bbcgoodfood.com/recipes/pizzadillas), and ['Pizza pasta salad'](https://www.bbcgoodfood.com/recipes/pizza-pasta-salad)\n",
    "* Margherita pizza, e.g. 'Next level Margherita pizza', 'Very simple Margherita pizza', 'Ultimate pizza Margherita', 'Pizza Margherita in 4 easy steps', 'Lighter Pizza Margherita'\n",
    "* Florentine pizza: 'Florentine pizza', '20-minute Fiorentina pizzas', 'Florentine dairy-free pizza', 'Eggs Florentine pizza'\n",
    "* Deep-pan pizza: 'Cheat's deep-pan pizza'\n",
    "* Pan-fried pizza: 'Frying pan pizza bianco with mushrooms & egg', 'Frying pan pizza with aubergine, ricotta & mint', 'Frying pan pizza', 'Frying pan pizza pie'\n",
    "* Others: 'Mini top-your-own pizzas', 'Pesto pizza with artichokes & prosciutto'\n",
    "\n",
    "In this process, I also identified some potential outliers: ['Cookie dough pizza'](https://www.bbcgoodfood.com/recipes/cookie-dough-pizza), ['Cauliflower crust pizza'](https://www.bbcgoodfood.com/recipes/cauliflower-crust-pizza), ['Tuna melt pizza baguettes'](https://www.bbcgoodfood.com/recipes/tuna-melt-pizza-baguettes)."
   ]
  },
  {
   "cell_type": "code",
   "execution_count": 388,
   "metadata": {},
   "outputs": [
    {
     "data": {
      "text/plain": [
       "(118, 7)"
      ]
     },
     "execution_count": 388,
     "metadata": {},
     "output_type": "execute_result"
    }
   ],
   "source": [
    "df_pizza = data_df[data_df.title.str.lower().str.contains(\"pizza\")].reset_index(drop = True)\n",
    "print(f\"Before: {df_pizza.shape[0]}\")\n",
    "df_pizza[df_pizza.title.isin([])]\n",
    "print(f\"After: {df_pizza.shape[0]}\")"
   ]
  },
  {
   "cell_type": "markdown",
   "metadata": {},
   "source": [
    "The original recipe with article_id [4278386](https://www.bbcgoodfood.com/recipes/smoking-chilli-chicken-sweetcorn-pizza):\n",
    "\n",
    "* 100g barbecue sauce\n",
    "* 1-2 tbsp chipotle paste , or more if you like it spicy\n",
    "* 2 large ready-made pizza bases\n",
    "* 175g mozzarella , grated (ready-grated is fine)\n",
    "* 200g can sweetcorn , drained\n",
    "* 300g jar red pepper , drained and torn into slices\n",
    "* 200g cooked sliced chicken\n",
    "* small pack coriander , leaves only\n",
    "* 2 fat green chillies , sliced, seeds removed (optional)"
   ]
  },
  {
   "cell_type": "code",
   "execution_count": 376,
   "metadata": {},
   "outputs": [
    {
     "name": "stdout",
     "output_type": "stream",
     "text": [
      "Num of unique ingredients: 203\n"
     ]
    },
    {
     "data": {
      "text/html": [
       "<div>\n",
       "<style scoped>\n",
       "    .dataframe tbody tr th:only-of-type {\n",
       "        vertical-align: middle;\n",
       "    }\n",
       "\n",
       "    .dataframe tbody tr th {\n",
       "        vertical-align: top;\n",
       "    }\n",
       "\n",
       "    .dataframe thead th {\n",
       "        text-align: right;\n",
       "    }\n",
       "</style>\n",
       "<table border=\"1\" class=\"dataframe\">\n",
       "  <thead>\n",
       "    <tr style=\"text-align: right;\">\n",
       "      <th></th>\n",
       "      <th>ingredient</th>\n",
       "      <th>freq</th>\n",
       "    </tr>\n",
       "  </thead>\n",
       "  <tbody>\n",
       "    <tr>\n",
       "      <th>0</th>\n",
       "      <td>oil</td>\n",
       "      <td>102</td>\n",
       "    </tr>\n",
       "    <tr>\n",
       "      <th>1</th>\n",
       "      <td>tomato</td>\n",
       "      <td>81</td>\n",
       "    </tr>\n",
       "    <tr>\n",
       "      <th>2</th>\n",
       "      <td>flour</td>\n",
       "      <td>59</td>\n",
       "    </tr>\n",
       "    <tr>\n",
       "      <th>3</th>\n",
       "      <td>mozzarella</td>\n",
       "      <td>56</td>\n",
       "    </tr>\n",
       "    <tr>\n",
       "      <th>4</th>\n",
       "      <td>garlic clove</td>\n",
       "      <td>42</td>\n",
       "    </tr>\n",
       "    <tr>\n",
       "      <th>5</th>\n",
       "      <td>basil</td>\n",
       "      <td>36</td>\n",
       "    </tr>\n",
       "    <tr>\n",
       "      <th>6</th>\n",
       "      <td>onion</td>\n",
       "      <td>34</td>\n",
       "    </tr>\n",
       "    <tr>\n",
       "      <th>7</th>\n",
       "      <td>yeast</td>\n",
       "      <td>34</td>\n",
       "    </tr>\n",
       "    <tr>\n",
       "      <th>8</th>\n",
       "      <td>olive</td>\n",
       "      <td>23</td>\n",
       "    </tr>\n",
       "    <tr>\n",
       "      <th>9</th>\n",
       "      <td>bread</td>\n",
       "      <td>23</td>\n",
       "    </tr>\n",
       "    <tr>\n",
       "      <th>10</th>\n",
       "      <td>sugar</td>\n",
       "      <td>22</td>\n",
       "    </tr>\n",
       "    <tr>\n",
       "      <th>11</th>\n",
       "      <td>pizza base</td>\n",
       "      <td>19</td>\n",
       "    </tr>\n",
       "    <tr>\n",
       "      <th>12</th>\n",
       "      <td>passata</td>\n",
       "      <td>17</td>\n",
       "    </tr>\n",
       "    <tr>\n",
       "      <th>13</th>\n",
       "      <td>oregano</td>\n",
       "      <td>17</td>\n",
       "    </tr>\n",
       "    <tr>\n",
       "      <th>14</th>\n",
       "      <td>rocket</td>\n",
       "      <td>16</td>\n",
       "    </tr>\n",
       "  </tbody>\n",
       "</table>\n",
       "</div>"
      ],
      "text/plain": [
       "      ingredient  freq\n",
       "0            oil   102\n",
       "1         tomato    81\n",
       "2          flour    59\n",
       "3     mozzarella    56\n",
       "4   garlic clove    42\n",
       "5          basil    36\n",
       "6          onion    34\n",
       "7          yeast    34\n",
       "8          olive    23\n",
       "9          bread    23\n",
       "10         sugar    22\n",
       "11    pizza base    19\n",
       "12       passata    17\n",
       "13       oregano    17\n",
       "14        rocket    16"
      ]
     },
     "execution_count": 376,
     "metadata": {},
     "output_type": "execute_result"
    }
   ],
   "source": [
    "with open(\"ingredient_mapper.json\", \"r\") as f:\n",
    "    ingredient_mapper = json.load(f)\n",
    "# print(json.dumps(ingredient_mapper, indent=4))\n",
    "\n",
    "from itertools import chain\n",
    "from collections import defaultdict\n",
    "ingredients = defaultdict(int)\n",
    "for item in chain.from_iterable(df_pizza[\"ingredients\"]):\n",
    "    # further clean up the ingredients\n",
    "    item_cleaned = ingredient_mapper.get(item, item)\n",
    "    ingredients[item_cleaned] += 1\n",
    "\n",
    "df_ingredients = pd.DataFrame.from_dict(ingredients, orient = \"index\", columns=[\"freq\"])\\\n",
    "    .sort_values(by=\"freq\", ascending=False).reset_index().rename(columns={'index': 'ingredient'})\n",
    "\n",
    "print(f\"Num of unique ingredients: {len(df_ingredients)}\")\n",
    "df_ingredients.head(15)"
   ]
  },
  {
   "cell_type": "code",
   "execution_count": 382,
   "metadata": {},
   "outputs": [],
   "source": [
    "# df_ingredients[df_ingredients['ingredient'].str.contains('butter')].ingredient.tolist()\n",
    "ingredient_12 = [\"flour\", \"sugar\", \"starter\", \"salt\", \"yeast\", \"milk\", \"water\", \"oil\", \"eggs\", \"baking powder\", \"baking soda\", \"butter\"]"
   ]
  },
  {
   "cell_type": "markdown",
   "metadata": {},
   "source": [
    "#### Visualization attempts"
   ]
  },
  {
   "cell_type": "code",
   "execution_count": null,
   "metadata": {},
   "outputs": [],
   "source": []
  },
  {
   "cell_type": "markdown",
   "metadata": {},
   "source": [
    "## Annotated recipes from [\"RecipeScape\"](https://recipescape.kixlab.org/)\n",
    "\n",
    "Annotated recipes in JSON format for [chocolate chip cookies](https://recipescape.kixlab.org/ccc_trees.json) and [tomato pasta](https://recipescape.kixlab.org/tomatopasta_trees.json)."
   ]
  },
  {
   "cell_type": "code",
   "execution_count": 13,
   "metadata": {},
   "outputs": [
    {
     "name": "stdout",
     "output_type": "stream",
     "text": [
      "Resource dataset/recipescape-choco-chip-cookies.json already exists.\n"
     ]
    }
   ],
   "source": [
    "# download dataset from url if not already exists\n",
    "filename_dataset = \"recipescape-choco-chip-cookies.json\"\n",
    "download_resource(\n",
    "    resource_url=\"https://recipescape.kixlab.org/ccc_trees.json\",\n",
    "    local_path=str(path_dataset/filename_dataset)\n",
    ")\n",
    "# read in the json file\n",
    "import json\n",
    "with open(path_dataset/filename_dataset, 'r') as f:\n",
    "    data = json.load(f)\n",
    "# data is a list of dict objects, each dict has keys 'id' and 'tree'"
   ]
  },
  {
   "cell_type": "markdown",
   "metadata": {},
   "source": [
    "This dataset is a list of dict objects, each dict has keys 'id' and 'tree'."
   ]
  },
  {
   "cell_type": "code",
   "execution_count": 42,
   "metadata": {},
   "outputs": [
    {
     "name": "stdout",
     "output_type": "stream",
     "text": [
      "Num of elements: 490\n",
      "Keys of an element:  dict_keys(['id', 'tree'])\n"
     ]
    }
   ],
   "source": [
    "print(f\"Num of elements: {len(data)}\")\n",
    "print(\"Keys of an element: \", data[0].keys())\n",
    "# print(json.dumps(data, indent=4))"
   ]
  },
  {
   "cell_type": "markdown",
   "metadata": {},
   "source": [
    "A 'tree' is also a list of dict objects, each with keys 'word' and 'ingredient'. "
   ]
  },
  {
   "cell_type": "code",
   "execution_count": 45,
   "metadata": {},
   "outputs": [
    {
     "name": "stdout",
     "output_type": "stream",
     "text": [
      "Num of elements: 7\n",
      "Keys of an element:  dict_keys(['word', 'ingredient'])\n"
     ]
    }
   ],
   "source": [
    "tree = data[0][\"tree\"]\n",
    "print(f\"Num of elements: {len(tree)}\")\n",
    "print(\"Keys of an element: \", tree[0].keys())\n",
    "# print(json.dumps(tree, indent=4))"
   ]
  },
  {
   "cell_type": "code",
   "execution_count": 75,
   "metadata": {},
   "outputs": [
    {
     "name": "stdout",
     "output_type": "stream",
     "text": [
      "recipe_id               \tword        \tingredient\n",
      "54a47bb66529d92b2c02c10e\tarrange     \tbread slices,work surface,bread slice,cheese,tablespoons caponata,half,tomato\n",
      "                        \tremaining   \tcheese,bread,brush,bread slices,oil,heat,skillet,medium heat\n",
      "                        \tis          \tcheese\n",
      "54a42ff76529d92b2c01385a\theat        \tcooking spray\n",
      "                        \tadd         \ttomato sauce,cranberry sauce,horseradish,dry mustard,vinegar,stock\n",
      "                        \tlower       \t\n",
      "                        \tstirring    \t\n",
      "                        \tlower       \t\n",
      "                        \tserve       \t\n",
      "                        \treheat      \t\n",
      "54a4154d19925f464b375841\theat        \toil\n",
      "                        \tsauté       \tshallots\n",
      "                        \tadd         \tchicken\n",
      "                        \tturn        \tchicken\n",
      "                        \tbroth       \t\n",
      "                        \tcover       \t\n",
      "                        \tsimmer      \tchicken\n",
      "                        \tboil        \tsauce\n",
      "54a47c2e19925f464b39bb94\theat        \toil\n",
      "                        \tsauté       \t\n",
      "                        \tsimmer      \tsauce\n",
      "                        \ttoss        \tsauce,pasta\n",
      "                        \ttransfer    \tpasta\n",
      "54a47c4d6529d92b2c02c371\tadd         \tsausage,onion,garlic\n",
      "                        \tbreaking    \t\n",
      "                        \tadd         \ttomatoes,juices\n",
      "                        \tstirring    \t\n",
      "                        \tseason      \tsauce,salt,pepper\n",
      "                        \trefrigerate \t\n",
      "                        \tpreheat     \toil\n",
      "                        \tstir        \ttomato sauce\n",
      "                        \tsprinkle    \tparmesan cheese\n",
      "54a433f76529d92b2c016abd\theat        \tolive oil\n",
      "                        \tsauté       \t\n",
      "                        \ttransfer    \tpancetta\n",
      "                        \tadd         \tpork\n",
      "                        \ttransfer    \tpancetta\n",
      "                        \tsauté       \t\n",
      "                        \treduce      \theat\n",
      "                        \tadd         \twine\n",
      "                        \tadd         \tpancetta,pork,accumulated juices\n",
      "                        \tcover       \t\n",
      "                        \tstirring    \t\n",
      "                        \ttilt        \t\n",
      "                        \toff         \tfat,ragù\n",
      "                        \tbreak       \t\n",
      "                        \tseason      \tragù,salt,pepper\n",
      "                        \tcover       \t\n",
      "                        \trefrigerated\t\n",
      "                        \tpreheat     \t\n",
      "                        \tcook        \tpasta,water\n",
      "                        \tdrain       \tpasta\n",
      "                        \tseason      \tmixture,salt,pepper\n",
      "                        \tsprinkle    \tcheeses\n"
     ]
    }
   ],
   "source": [
    "# pretty print the data as table (first 6 rows)\n",
    "def print_row(row):\n",
    "    print(f\"{row[0]:<24}\\t{row[1]:<12}\\t{row[2]}\")\n",
    "\n",
    "print_row([\"recipe_id\", \"word\", \"ingredient\"])\n",
    "for recipe in data[:6]:\n",
    "    for idx, record in enumerate(recipe[\"tree\"]):\n",
    "        print_row(row=[' ' if idx else recipe['id'], record['word'], ','.join(record['ingredient'])])"
   ]
  },
  {
   "cell_type": "markdown",
   "metadata": {},
   "source": [
    "### Tomato pasta"
   ]
  },
  {
   "cell_type": "code",
   "execution_count": 363,
   "metadata": {},
   "outputs": [
    {
     "name": "stdout",
     "output_type": "stream",
     "text": [
      "Resource ../dataset/recipescape-tomato-pasta.json already exists.\n",
      "Num of elements: 553\n",
      "Keys of an element:  dict_keys(['id', 'tree'])\n",
      "\n",
      "Num of elements: 3\n",
      "Keys of an element:  dict_keys(['word', 'ingredient'])\n"
     ]
    }
   ],
   "source": [
    "# download dataset from url if not already exists\n",
    "filename_dataset = \"recipescape-tomato-pasta.json\"\n",
    "download_resource(\n",
    "    resource_url=\"https://recipescape.kixlab.org/tomatopasta_trees.json\",\n",
    "    local_path=str(path_dataset/filename_dataset)\n",
    ")\n",
    "\n",
    "# read in the json file\n",
    "import json\n",
    "with open(path_dataset/filename_dataset, 'r') as f:\n",
    "    data = json.load(f)\n",
    "# data is a list of dict objects, each dict has keys 'id' and 'tree'\n",
    "\n",
    "print(f\"Num of elements: {len(data)}\")\n",
    "print(\"Keys of an element: \", data[0].keys())\n",
    "# print(json.dumps(data, indent=4))\n",
    "\n",
    "tree = data[0][\"tree\"]\n",
    "print(f\"\\nNum of elements: {len(tree)}\")\n",
    "print(\"Keys of an element: \", tree[0].keys())\n",
    "# print(json.dumps(tree, indent=4))"
   ]
  },
  {
   "cell_type": "code",
   "execution_count": 365,
   "metadata": {},
   "outputs": [
    {
     "name": "stdout",
     "output_type": "stream",
     "text": [
      "recipe_id               \tword        \tingredient\n",
      "54a47bb66529d92b2c02c10e\tarrange     \tbread slices,work surface,bread slice,cheese,tablespoons caponata,half,tomato\n",
      "                        \tremaining   \tcheese,bread,brush,bread slices,oil,heat,skillet,medium heat\n",
      "                        \tis          \tcheese\n",
      "54a42ff76529d92b2c01385a\theat        \tcooking spray\n",
      "                        \tadd         \ttomato sauce,cranberry sauce,horseradish,dry mustard,vinegar,stock\n",
      "                        \tlower       \t\n",
      "                        \tstirring    \t\n",
      "                        \tlower       \t\n",
      "                        \tserve       \t\n",
      "                        \treheat      \t\n",
      "54a4154d19925f464b375841\theat        \toil\n",
      "                        \tsauté       \tshallots\n",
      "                        \tadd         \tchicken\n",
      "                        \tturn        \tchicken\n",
      "                        \tbroth       \t\n",
      "                        \tcover       \t\n",
      "                        \tsimmer      \tchicken\n",
      "                        \tboil        \tsauce\n",
      "54a47c2e19925f464b39bb94\theat        \toil\n",
      "                        \tsauté       \t\n",
      "                        \tsimmer      \tsauce\n",
      "                        \ttoss        \tsauce,pasta\n",
      "                        \ttransfer    \tpasta\n",
      "54a47c4d6529d92b2c02c371\tadd         \tsausage,onion,garlic\n",
      "                        \tbreaking    \t\n",
      "                        \tadd         \ttomatoes,juices\n",
      "                        \tstirring    \t\n",
      "                        \tseason      \tsauce,salt,pepper\n",
      "                        \trefrigerate \t\n",
      "                        \tpreheat     \toil\n",
      "                        \tstir        \ttomato sauce\n",
      "                        \tsprinkle    \tparmesan cheese\n",
      "54a433f76529d92b2c016abd\theat        \tolive oil\n",
      "                        \tsauté       \t\n",
      "                        \ttransfer    \tpancetta\n",
      "                        \tadd         \tpork\n",
      "                        \ttransfer    \tpancetta\n",
      "                        \tsauté       \t\n",
      "                        \treduce      \theat\n",
      "                        \tadd         \twine\n",
      "                        \tadd         \tpancetta,pork,accumulated juices\n",
      "                        \tcover       \t\n",
      "                        \tstirring    \t\n",
      "                        \ttilt        \t\n",
      "                        \toff         \tfat,ragù\n",
      "                        \tbreak       \t\n",
      "                        \tseason      \tragù,salt,pepper\n",
      "                        \tcover       \t\n",
      "                        \trefrigerated\t\n",
      "                        \tpreheat     \t\n",
      "                        \tcook        \tpasta,water\n",
      "                        \tdrain       \tpasta\n",
      "                        \tseason      \tmixture,salt,pepper\n",
      "                        \tsprinkle    \tcheeses\n"
     ]
    }
   ],
   "source": [
    "# pretty print the data as table (first 6 rows)\n",
    "def print_row(row):\n",
    "    print(f\"{row[0]:<24}\\t{row[1]:<12}\\t{row[2]}\")\n",
    "\n",
    "print_row([\"recipe_id\", \"word\", \"ingredient\"])\n",
    "for recipe in data[:6]:\n",
    "    for idx, record in enumerate(recipe[\"tree\"]):\n",
    "        print_row(row=[' ' if idx else recipe['id'], record['word'], ','.join(record['ingredient'])])\n",
    "\n",
    "# pprint_df = pd.DataFrame(\n",
    "#     columns = [\"recipe_id\", \"word\", \"ingredient\"]\n",
    "# )\n",
    "# for recipe in data:\n",
    "#     for record in recipe[\"tree\"]:\n",
    "#         pprint_df = pprint_df.append(pd.DataFrame(\n",
    "#             data=[[recipe[\"id\"], record[\"word\"], record[\"ingredient\"]]],\n",
    "#             columns=[\"recipe_id\", \"word\", \"ingredient\"]\n",
    "#         ))\n",
    "# pprint_df.head()"
   ]
  },
  {
   "cell_type": "markdown",
   "metadata": {},
   "source": [
    "## Simplified Recipes1M\n",
    "\n",
    "> Source: https://dominikschmidt.xyz/simplified-recipes-1M/"
   ]
  },
  {
   "cell_type": "code",
   "execution_count": 88,
   "metadata": {},
   "outputs": [
    {
     "name": "stdout",
     "output_type": "stream",
     "text": [
      "Resource ../dataset/simplified-recipes-1M.npz already exists.\n"
     ]
    }
   ],
   "source": [
    "# download dataset from url if not already exists\n",
    "filename_dataset = \"simplified-recipes-1M.npz\"\n",
    "download_resource(\n",
    "    resource_url=\"https://github.com/schmidtdominik/RecipeNet/raw/master/simplified-recipes-1M.npz\",\n",
    "    local_path=str(path_dataset/filename_dataset)\n",
    ")\n",
    "\n",
    "import numpy as np\n",
    "with np.load(path_dataset/filename_dataset, allow_pickle=True) as data:\n",
    "    recipes = data['recipes']\n",
    "    ingredients = data['ingredients']\n",
    "del data"
   ]
  },
  {
   "cell_type": "code",
   "execution_count": 103,
   "metadata": {},
   "outputs": [],
   "source": []
  }
 ],
 "metadata": {
  "interpreter": {
   "hash": "2243570999d709669870674c130d5c989af571bf8fd02bb480a01170839d5b26"
  },
  "kernelspec": {
   "display_name": "Python 3.8.2 64-bit ('env': venv)",
   "language": "python",
   "name": "python3"
  },
  "language_info": {
   "codemirror_mode": {
    "name": "ipython",
    "version": 3
   },
   "file_extension": ".py",
   "mimetype": "text/x-python",
   "name": "python",
   "nbconvert_exporter": "python",
   "pygments_lexer": "ipython3",
   "version": "3.8.2"
  },
  "orig_nbformat": 4
 },
 "nbformat": 4,
 "nbformat_minor": 2
}
