{
 "cells": [
  {
   "cell_type": "code",
   "execution_count": 87,
   "metadata": {},
   "outputs": [
    {
     "name": "stdout",
     "output_type": "stream",
     "text": [
      "Current directory: /Users/longyyu/Documents/research/recipevis.git/src\n"
     ]
    }
   ],
   "source": [
    "import os\n",
    "import pathlib\n",
    "\n",
    "print(f\"Current directory: {os.getcwd()}\")\n",
    "\n",
    "path_dataset = pathlib.Path(\"../dataset/\")"
   ]
  },
  {
   "cell_type": "code",
   "execution_count": 4,
   "metadata": {},
   "outputs": [],
   "source": [
    "def download_resource(resource_url, local_path):\n",
    "    import requests\n",
    "    if not os.path.exists(local_path):\n",
    "        r = requests.get(resource_url)\n",
    "        print(f\"Content type: {r.headers.get('content-type')}\")\n",
    "        print(f\"Content disposition: {r.headers.get('content-disposition')}\")\n",
    "        print(f\"Content length: {r.headers.get('content-length')}\")\n",
    "        try:\n",
    "            with open(local_path, 'wb') as file_disk:\n",
    "                for chunk in r.iter_content(chunk_size=1024):\n",
    "                    if chunk:\n",
    "                        file_disk.write(chunk)\n",
    "        except Exception as e:\n",
    "            print(f\"Error: {str(e)}\")\n",
    "        if os.path.isfile(local_path):\n",
    "            print(\"Downloaded successfully!\")\n",
    "    else:\n",
    "        print(f\"Resource {local_path} already exists.\")"
   ]
  },
  {
   "cell_type": "markdown",
   "metadata": {},
   "source": [
    "## BBC Good Food\n",
    "\n",
    "* JSON format recipes from this [github repo](https://github.com/mneedham/bbcgoodfood). There is no documentation on the original source of data, but it seems like data come from this [web scraping script](https://github.com/mneedham/bbcgoodfood/blob/master/download_recipes.py). The url list is unknown. \n",
    "* See also https://www.bbcgoodfood.com/. "
   ]
  },
  {
   "cell_type": "code",
   "execution_count": 119,
   "metadata": {},
   "outputs": [
    {
     "name": "stdout",
     "output_type": "stream",
     "text": [
      "Resource ../dataset/bbcgoodfood.json already exists.\n"
     ]
    }
   ],
   "source": [
    "filename_dataset = \"bbcgoodfood.json\"\n",
    "download_resource(\n",
    "    resource_url=\"https://github.com/mneedham/bbcgoodfood/raw/master/stream_clean.json\",\n",
    "    local_path=str(path_dataset/filename_dataset)\n",
    ")\n",
    "# read in the json file\n",
    "import json\n",
    "data = []\n",
    "with open(path_dataset/filename_dataset, 'r') as f:\n",
    "    for line in f:\n",
    "        data.append(json.loads(line))\n",
    "\n",
    "print(f\"Num of recipes: {len(data)}\")\n",
    "print(\"Keys of an element: \", data[0].keys())\n"
   ]
  },
  {
   "cell_type": "markdown",
   "metadata": {},
   "source": [
    "* The data is a list of dictionary objects, and each dictionary has only one key 'page'. \n",
    "    * Each 'page' is also a dictionary, with keys ['article', 'recipe', 'channel', 'title'].\n",
    "        * Channel is just 'Recipe'.  \n",
    "        * Article is again a dictionary, with keys ['author', 'description', 'id', 'tags']. \n",
    "        * Recipe, another dictionary, has keys ['collections', 'cooking_time', 'prep_time', 'serves', 'keywords', 'ratings', 'nutrition_info', 'ingredients', 'courses', 'cusine', 'diet_types', 'skill_level', 'post_dates']. \n",
    "            - Collections: tags such as `Bakewell tart, 200-400 calorie, Easy Christmas, Eat like an athlete, Thai, Blackberry, Summer soup, Autumn cake, Sponge cake, Omelette, Salmon, Chickpea, Microwave pudding, Prosecco, Low in salt, Christmas Day drinks, Healthy pie, Easy cocktail`. \n",
    "            - Keywords: key ingredients and tags such as `Stewing steak, Bucks fizz, Vegetarian bbq, Devilled mushrooms, Packed lunch, chickpea side dish, oat and fruit bars, Vanilla sponge, Smart supper, Summer fruit, healthy gravy, Merrilees Parker, Chilled pudding, Gordon ramsay recipes`. \n",
    "            - Cusine (45): `French, Scottish, Thai, Greek, African, Cuban, Middle Eastern, Italian, Cajun & Creole, Eastern European, Australian, English, Asian, Swiss, Caribbean, Japanese, Korean, American, Chinese, Latin American, Brazilian, Turkish, Irish, Belgian, Indonesian, British, Indian, Scandinavian, Balinese, Spanish, German, Mediterranean, Danish, Tunisian, Moroccan, Mexican, Swedish, Portuguese, Austrian, Chilean, Jewish, North African, Southern & Soul, Vietnamese, Hungarian`. \n",
    "            - Courses (22): `Starter, Supper, Cheese Course, Canapes, Condiment, Side dish, Main course, Afternoon tea, Soup course, Vegetable course, Fish Course, Lunch, Buffet, Breakfast, Cocktails, Snack, Dinner, Brunch, Drink, Dessert, Pasta course, Treat`. "
   ]
  },
  {
   "cell_type": "code",
   "execution_count": 211,
   "metadata": {},
   "outputs": [],
   "source": [
    "import pandas as pd\n",
    "cols = ['article_id', 'title', 'ratings', 'serves', 'ingredients', 'cusine', 'courses']\n",
    "data_df = pd.DataFrame(columns=cols)\n",
    "for item in data:\n",
    "    page = item['page']\n",
    "    recipe = page['recipe']\n",
    "    data_df = data_df.append(\n",
    "        pd.DataFrame(\n",
    "            data=[[page['article']['id'], page['title'], recipe['ratings'], recipe['serves'], recipe['ingredients'], recipe['cusine'], recipe['courses']]],\n",
    "            columns=cols\n",
    "        )\n",
    "    )\n",
    "data_df = data_df.reset_index(drop=True)"
   ]
  },
  {
   "cell_type": "markdown",
   "metadata": {},
   "source": [
    "### A closer look at the pizza recipes"
   ]
  },
  {
   "cell_type": "markdown",
   "metadata": {},
   "source": [
    "#### Filtering pizza recipes\n",
    "\n",
    "I first filtered the recipes with \"pizza\" in their titles, which yields 118 results. Then I manually examined the recipe titles to drop non-pizza recipes and label as much pizza subcategories as I can: \n",
    "* Non-pizza: 'Steak with pizzaiola sauce', '5 easy pizza toppings', ['Pizza omelette'](https://www.bbcgoodfood.com/recipes/pizza-omelette), ['Baked cauliflower pizzaiola'](https://www.bbcgoodfood.com/recipes/baked-cauliflower-pizzaiola), ['Pizza baked potato'](https://www.bbcgoodfood.com/recipes/pizza-baked-potato), ['Puff pizza tart'](https://www.bbcgoodfood.com/recipes/puff-pizza-tart), ['Mini pizza quiches'](https://www.bbcgoodfood.com/recipes/mini-pizza-quiches), ['Pizzadillas'](https://www.bbcgoodfood.com/recipes/pizzadillas), and ['Pizza pasta salad'](https://www.bbcgoodfood.com/recipes/pizza-pasta-salad)\n",
    "* Margherita pizza, e.g. 'Next level Margherita pizza', 'Very simple Margherita pizza', 'Ultimate pizza Margherita', 'Pizza Margherita in 4 easy steps', 'Lighter Pizza Margherita'\n",
    "* Florentine pizza: 'Florentine pizza', '20-minute Fiorentina pizzas', 'Florentine dairy-free pizza', 'Eggs Florentine pizza'\n",
    "* Deep-pan pizza: 'Cheat's deep-pan pizza'\n",
    "* Frying pan pizza: 'Frying pan pizza bianco with mushrooms & egg', 'Frying pan pizza with aubergine, ricotta & mint', 'Frying pan pizza', 'Frying pan pizza pie'\n",
    "* Others: 'Mini top-your-own pizzas', 'Pesto pizza with artichokes & prosciutto'\n",
    "\n",
    "In this process, I also identified some potential outliers: ['Cookie dough pizza'](https://www.bbcgoodfood.com/recipes/cookie-dough-pizza), ['Cauliflower crust pizza'](https://www.bbcgoodfood.com/recipes/cauliflower-crust-pizza), ['Tuna melt pizza baguettes'](https://www.bbcgoodfood.com/recipes/tuna-melt-pizza-baguettes)."
   ]
  },
  {
   "cell_type": "code",
   "execution_count": 409,
   "metadata": {},
   "outputs": [
    {
     "name": "stdout",
     "output_type": "stream",
     "text": [
      "Before: 118\n",
      "After: 109\n",
      "category\n",
      "Deep-pan      1\n",
      "Florentine    4\n",
      "Frying-pan    4\n",
      "Margherita    5\n",
      "Name: category, dtype: int64\n"
     ]
    },
    {
     "data": {
      "text/html": [
       "<div>\n",
       "<style scoped>\n",
       "    .dataframe tbody tr th:only-of-type {\n",
       "        vertical-align: middle;\n",
       "    }\n",
       "\n",
       "    .dataframe tbody tr th {\n",
       "        vertical-align: top;\n",
       "    }\n",
       "\n",
       "    .dataframe thead th {\n",
       "        text-align: right;\n",
       "    }\n",
       "</style>\n",
       "<table border=\"1\" class=\"dataframe\">\n",
       "  <thead>\n",
       "    <tr style=\"text-align: right;\">\n",
       "      <th></th>\n",
       "      <th>article_id</th>\n",
       "      <th>title</th>\n",
       "      <th>ratings</th>\n",
       "      <th>serves</th>\n",
       "      <th>ingredients</th>\n",
       "      <th>cusine</th>\n",
       "      <th>courses</th>\n",
       "      <th>category</th>\n",
       "    </tr>\n",
       "  </thead>\n",
       "  <tbody>\n",
       "    <tr>\n",
       "      <th>0</th>\n",
       "      <td>102136</td>\n",
       "      <td>Pizza puff pinwheels</td>\n",
       "      <td>92</td>\n",
       "      <td>12</td>\n",
       "      <td>[puff pastry, pasta, ham, cheddar, egg, oregano]</td>\n",
       "      <td>Italian</td>\n",
       "      <td>[Treat, Starter, Snack, Afternoon tea]</td>\n",
       "      <td>None</td>\n",
       "    </tr>\n",
       "    <tr>\n",
       "      <th>1</th>\n",
       "      <td>4278386</td>\n",
       "      <td>Smoking chilli chicken &amp; sweetcorn pizza</td>\n",
       "      <td>100</td>\n",
       "      <td>4</td>\n",
       "      <td>[barbecue sauce, chipotle paste, pizza base, m...</td>\n",
       "      <td></td>\n",
       "      <td>[Main course]</td>\n",
       "      <td>None</td>\n",
       "    </tr>\n",
       "    <tr>\n",
       "      <th>2</th>\n",
       "      <td>7829316</td>\n",
       "      <td>Next level Margherita pizza</td>\n",
       "      <td>100</td>\n",
       "      <td>0</td>\n",
       "      <td>[strong white flour, fast-action dried yeast, ...</td>\n",
       "      <td></td>\n",
       "      <td>[Dinner, Lunch, Main course]</td>\n",
       "      <td>Margherita</td>\n",
       "    </tr>\n",
       "    <tr>\n",
       "      <th>3</th>\n",
       "      <td>96966</td>\n",
       "      <td>Very simple Margherita pizza</td>\n",
       "      <td>98</td>\n",
       "      <td>2</td>\n",
       "      <td>[olive oil, plain flour, yeast, sugar, water, ...</td>\n",
       "      <td>Italian</td>\n",
       "      <td>[Dinner, Main course]</td>\n",
       "      <td>Margherita</td>\n",
       "    </tr>\n",
       "    <tr>\n",
       "      <th>4</th>\n",
       "      <td>3410721</td>\n",
       "      <td>Holiday pizzas</td>\n",
       "      <td>93</td>\n",
       "      <td>0</td>\n",
       "      <td>[bread flour, sugar, fast-action dried yeast, ...</td>\n",
       "      <td>Italian</td>\n",
       "      <td>[Main course]</td>\n",
       "      <td>None</td>\n",
       "    </tr>\n",
       "  </tbody>\n",
       "</table>\n",
       "</div>"
      ],
      "text/plain": [
       "  article_id                                     title ratings serves  \\\n",
       "0     102136                      Pizza puff pinwheels      92     12   \n",
       "1    4278386  Smoking chilli chicken & sweetcorn pizza     100      4   \n",
       "2    7829316               Next level Margherita pizza     100      0   \n",
       "3      96966              Very simple Margherita pizza      98      2   \n",
       "4    3410721                            Holiday pizzas      93      0   \n",
       "\n",
       "                                         ingredients   cusine  \\\n",
       "0   [puff pastry, pasta, ham, cheddar, egg, oregano]  Italian   \n",
       "1  [barbecue sauce, chipotle paste, pizza base, m...            \n",
       "2  [strong white flour, fast-action dried yeast, ...            \n",
       "3  [olive oil, plain flour, yeast, sugar, water, ...  Italian   \n",
       "4  [bread flour, sugar, fast-action dried yeast, ...  Italian   \n",
       "\n",
       "                                  courses    category  \n",
       "0  [Treat, Starter, Snack, Afternoon tea]        None  \n",
       "1                           [Main course]        None  \n",
       "2            [Dinner, Lunch, Main course]  Margherita  \n",
       "3                   [Dinner, Main course]  Margherita  \n",
       "4                           [Main course]        None  "
      ]
     },
     "execution_count": 409,
     "metadata": {},
     "output_type": "execute_result"
    }
   ],
   "source": [
    "df_pizza = data_df[data_df.title.str.lower().str.contains(\"pizza\")].reset_index(drop = True)\n",
    "print(f\"Before: {df_pizza.shape[0]}\")\n",
    "\n",
    "# drop the non-pizza recipes\n",
    "list_nonpizza = ['Steak with pizzaiola sauce', '5 easy pizza toppings', 'Pizza omelette', 'Baked cauliflower pizzaiola', 'Pizza baked potato', 'Puff pizza tart', 'Mini pizza quiches', 'Pizzadillas', 'Pizza pasta salad']\n",
    "df_pizza = df_pizza[~df_pizza.title.isin(list_nonpizza)].reset_index(drop = True)\n",
    "\n",
    "# label the rest\n",
    "df_pizza[\"category\"] = None\n",
    "df_pizza.loc[df_pizza.title.str.contains(\"Margherita\"), \"category\"] = \"Margherita\"\n",
    "df_pizza.loc[df_pizza.title.str.contains(\"Florentine|Florentina|Fiorentina\", regex=True), \"category\"] = \"Florentine\"\n",
    "df_pizza.loc[df_pizza.title.str.contains(\"Frying pan\"), \"category\"] = \"Frying-pan\"\n",
    "df_pizza.loc[df_pizza.title.str.contains(\"deep-pan\"), \"category\"] = \"Deep-pan\"\n",
    "\n",
    "print(f\"After: {df_pizza.shape[0]}\")\n",
    "print(df_pizza.groupby(\"category\")[\"category\"].count())\n",
    "\n",
    "df_pizza.head()"
   ]
  },
  {
   "cell_type": "markdown",
   "metadata": {},
   "source": [
    "The original recipe with article_id [4278386](https://www.bbcgoodfood.com/recipes/smoking-chilli-chicken-sweetcorn-pizza):\n",
    "\n",
    "* 100g barbecue sauce\n",
    "* 1-2 tbsp chipotle paste , or more if you like it spicy\n",
    "* 2 large ready-made pizza bases\n",
    "* 175g mozzarella , grated (ready-grated is fine)\n",
    "* 200g can sweetcorn , drained\n",
    "* 300g jar red pepper , drained and torn into slices\n",
    "* 200g cooked sliced chicken\n",
    "* small pack coriander , leaves only\n",
    "* 2 fat green chillies , sliced, seeds removed (optional)"
   ]
  },
  {
   "cell_type": "markdown",
   "metadata": {},
   "source": [
    "#### Ingredient list cleanup\n",
    "\n",
    "This dataset already comes with pre-processed ingredient lists with the measuring units and most of the descriptive terms removed. But there is still room for further clean-up, e.g., 'strong white flour' -> 'flour'. I manually created a set of mapping rules to aggregate ingredients (see `src/ingredient_mapper.json`), reducing the number of unique ingredients from 270 to 194.  \n",
    "\n",
    "**Question**\n",
    "* Granularity\n",
    "    - Should we treat \"pizza base\" and \"pizza base mix\" as the same? What about \"pizza base mix\" and \"bread mix\"?\n",
    "    - Brown sugar and regular sugar? Balsamic vinegar and red wine vinegar?\n",
    "    - 'olive oil' -> 'oil'? 'tomato sauce' -> 'tomato'?\n",
    "* How to automatically generate these mapping rules?"
   ]
  },
  {
   "cell_type": "code",
   "execution_count": 435,
   "metadata": {},
   "outputs": [
    {
     "name": "stdout",
     "output_type": "stream",
     "text": [
      "Num of unique ingredients (before cleaning):  270\n",
      ">>> puff pastry,pasta,ham,cheddar,egg,oregano\n",
      "<<< cheddar,pasta,ham,oregano,egg,puff pastry\n",
      "\n",
      ">>> barbecue sauce,chipotle paste,pizza base,mozzarella,sweetcorn,red pepper,chicken,coriander,green chilli\n",
      "<<< mozzarella,sweetcorn,chicken,barbecue sauce,red pepper,pizza base,chipotle paste,coriander,chilli\n",
      "\n",
      ">>> strong white flour,fast-action dried yeast,plum tomatoes,extra virgin olive oil,oregano,basil,parmesan,mozzarella\n",
      "<<< oil,mozzarella,parmesan,flour,basil,tomato,oregano,yeast\n",
      "\n",
      ">>> olive oil,plain flour,yeast,sugar,water,passata,mozzarella,parmesan,basil,salad\n",
      "<<< oil,mozzarella,passata,salad,parmesan,flour,sugar,basil,yeast,water\n",
      "\n",
      ">>> bread flour,sugar,fast-action dried yeast,olive oil,water,garlic clove,passata,tomato purÃ©e,oregano,basil leaf,sugar,red wine vinegar,mozzarella,houmous\n",
      "<<< oil,mozzarella,garlic clove,passata,houmous,flour,sugar,tomato,basil,red wine vinegar,oregano,yeast,water\n",
      "\n",
      "Num of unique ingredients (after cleaning): 194\n"
     ]
    },
    {
     "data": {
      "text/html": [
       "<div>\n",
       "<style scoped>\n",
       "    .dataframe tbody tr th:only-of-type {\n",
       "        vertical-align: middle;\n",
       "    }\n",
       "\n",
       "    .dataframe tbody tr th {\n",
       "        vertical-align: top;\n",
       "    }\n",
       "\n",
       "    .dataframe thead th {\n",
       "        text-align: right;\n",
       "    }\n",
       "</style>\n",
       "<table border=\"1\" class=\"dataframe\">\n",
       "  <thead>\n",
       "    <tr style=\"text-align: right;\">\n",
       "      <th></th>\n",
       "      <th>ingredient</th>\n",
       "      <th>freq</th>\n",
       "    </tr>\n",
       "  </thead>\n",
       "  <tbody>\n",
       "    <tr>\n",
       "      <th>0</th>\n",
       "      <td>oil</td>\n",
       "      <td>75</td>\n",
       "    </tr>\n",
       "    <tr>\n",
       "      <th>1</th>\n",
       "      <td>tomato</td>\n",
       "      <td>54</td>\n",
       "    </tr>\n",
       "    <tr>\n",
       "      <th>2</th>\n",
       "      <td>flour</td>\n",
       "      <td>51</td>\n",
       "    </tr>\n",
       "    <tr>\n",
       "      <th>3</th>\n",
       "      <td>mozzarella</td>\n",
       "      <td>49</td>\n",
       "    </tr>\n",
       "    <tr>\n",
       "      <th>4</th>\n",
       "      <td>garlic clove</td>\n",
       "      <td>37</td>\n",
       "    </tr>\n",
       "    <tr>\n",
       "      <th>5</th>\n",
       "      <td>yeast</td>\n",
       "      <td>33</td>\n",
       "    </tr>\n",
       "    <tr>\n",
       "      <th>6</th>\n",
       "      <td>onion</td>\n",
       "      <td>32</td>\n",
       "    </tr>\n",
       "    <tr>\n",
       "      <th>7</th>\n",
       "      <td>basil</td>\n",
       "      <td>29</td>\n",
       "    </tr>\n",
       "    <tr>\n",
       "      <th>8</th>\n",
       "      <td>bread</td>\n",
       "      <td>22</td>\n",
       "    </tr>\n",
       "    <tr>\n",
       "      <th>9</th>\n",
       "      <td>olive</td>\n",
       "      <td>19</td>\n",
       "    </tr>\n",
       "  </tbody>\n",
       "</table>\n",
       "</div>"
      ],
      "text/plain": [
       "     ingredient  freq\n",
       "0           oil    75\n",
       "1        tomato    54\n",
       "2         flour    51\n",
       "3    mozzarella    49\n",
       "4  garlic clove    37\n",
       "5         yeast    33\n",
       "6         onion    32\n",
       "7         basil    29\n",
       "8         bread    22\n",
       "9         olive    19"
      ]
     },
     "execution_count": 435,
     "metadata": {},
     "output_type": "execute_result"
    }
   ],
   "source": [
    "with open(\"ingredient_mapper.json\", \"r\") as f:\n",
    "    ingredient_mapper = json.load(f)\n",
    "# print(json.dumps(ingredient_mapper, indent=4))\n",
    "\n",
    "from itertools import chain\n",
    "from collections import defaultdict\n",
    "print(\"Num of unique ingredients (before cleaning): \", len(set(chain.from_iterable(df_pizza[\"ingredients\"]))))\n",
    "\n",
    "# further clean up the ingredients\n",
    "df_pizza[\"ingredients_cleaned\"] = [\n",
    "    list(set([ingredient_mapper.get(item, item) for item in ing_list])) \\\n",
    "        for ing_list in df_pizza[\"ingredients\"]\n",
    "]\n",
    "# row-to-row comparison\n",
    "for i in range(5):\n",
    "    print(f\">>> {','.join(df_pizza.ingredients[i])}\\n<<< {','.join(df_pizza.ingredients_cleaned[i])}\\n\")\n",
    "\n",
    "# compute frequency table\n",
    "ingredients = defaultdict(int)\n",
    "for item in chain.from_iterable(df_pizza[\"ingredients_cleaned\"]):\n",
    "    ingredients[item] += 1\n",
    "\n",
    "df_ingredients = pd.DataFrame.from_dict(ingredients, orient = \"index\", columns=[\"freq\"])\\\n",
    "    .sort_values(by=\"freq\", ascending=False).reset_index().rename(columns={'index': 'ingredient'})\n",
    "\n",
    "print(f\"Num of unique ingredients (after cleaning): {len(df_ingredients)}\")\n",
    "df_ingredients.head(10)\n",
    "\n",
    "# df_ingredients[df_ingredients['ingredient'].str.contains('potato')].ingredient.tolist()"
   ]
  },
  {
   "cell_type": "code",
   "execution_count": 485,
   "metadata": {},
   "outputs": [
    {
     "data": {
      "text/plain": [
       "[(('flour', 'oil'), 44),\n",
       " (('oil', 'tomato'), 41),\n",
       " (('garlic clove', 'oil'), 35),\n",
       " (('mozzarella', 'tomato'), 34),\n",
       " (('oil', 'yeast'), 33),\n",
       " (('flour', 'yeast'), 32),\n",
       " (('mozzarella', 'oil'), 32),\n",
       " (('flour', 'tomato'), 29),\n",
       " (('flour', 'mozzarella'), 25),\n",
       " (('flour', 'garlic clove'), 25)]"
      ]
     },
     "execution_count": 485,
     "metadata": {},
     "output_type": "execute_result"
    }
   ],
   "source": [
    "from collections import Counter\n",
    "from itertools import combinations\n",
    "# create a dictionary that counts the occurrences of each ingredient pair\n",
    "combi_count = dict(Counter(\n",
    "    chain.from_iterable([\n",
    "        list(combinations(sorted(ing_list), 2)) for ing_list in df_pizza.ingredients_cleaned\n",
    "    ])\n",
    "))\n",
    "sorted(combi_count.items(), key=lambda item: item[1], reverse=True)[:10]"
   ]
  },
  {
   "cell_type": "markdown",
   "metadata": {},
   "source": [
    "#### Visualization attempts"
   ]
  },
  {
   "cell_type": "markdown",
   "metadata": {},
   "source": [
    "##### Bar/Pie Charts\n",
    "\n",
    "Select several main ingredients to plot proportion?\n",
    "\n",
    "* Refer to [Baking with machine learning](https://sararobinson.dev/2020/04/30/baking-machine-learning.html) - 12 main ingredients: flour, sugar, starter, salt, yeast, milk, water, oil, eggs, baking powder, baking soda, butter.\n",
    "\n",
    "Problem is the current dataset **does not have quantity information.**"
   ]
  },
  {
   "cell_type": "code",
   "execution_count": 430,
   "metadata": {},
   "outputs": [
    {
     "data": {
      "text/plain": [
       "['potato', 'new potato', 'Jersey Royal potato']"
      ]
     },
     "execution_count": 430,
     "metadata": {},
     "output_type": "execute_result"
    }
   ],
   "source": [
    "major_ingredients = [\"flour\", \"sugar\", \"salt\", \"yeast\", \"milk\", \"water\", \"oil\", \"egg\", \"baking powder\", \"butter\"]"
   ]
  },
  {
   "cell_type": "markdown",
   "metadata": {},
   "source": [
    "##### Network Graphs"
   ]
  },
  {
   "cell_type": "code",
   "execution_count": 413,
   "metadata": {},
   "outputs": [],
   "source": [
    "import matplotlib.pyplot as plt\n",
    "import networkx as nx\n",
    "import nx_altair as nxa"
   ]
  },
  {
   "cell_type": "code",
   "execution_count": 578,
   "metadata": {},
   "outputs": [
    {
     "name": "stdout",
     "output_type": "stream",
     "text": [
      "Num of edges:  134\n",
      "Num of nodes:  36\n"
     ]
    }
   ],
   "source": [
    "G = nx.Graph()\n",
    "# G.add_edges_from(combi_count.keys())\n",
    "G.add_edges_from([item[0] for item in combi_count.items() if item[1] > 4])\n",
    "print(\"Num of edges: \", G.number_of_edges())\n",
    "print(\"Num of nodes: \", G.number_of_nodes())\n",
    "\n",
    "for edge in G.edges():\n",
    "    occurrence = combi_count[edge] if edge in combi_count else combi_count[(edge[1], edge[0])]\n",
    "    G.edges()[edge].update({\n",
    "        \"edge_weight\": occurrence\n",
    "    })\n",
    "\n",
    "for node in G.nodes():\n",
    "    G.nodes()[node].update({\n",
    "        \"label\": node,\n",
    "        \"weight\": ingredients[node]\n",
    "    })"
   ]
  },
  {
   "cell_type": "code",
   "execution_count": 588,
   "metadata": {},
   "outputs": [
    {
     "data": {
      "text/html": [
       "\n",
       "<div id=\"altair-viz-18c6550bb6174bb0a083db3b7af5730e\"></div>\n",
       "<script type=\"text/javascript\">\n",
       "  var VEGA_DEBUG = (typeof VEGA_DEBUG == \"undefined\") ? {} : VEGA_DEBUG;\n",
       "  (function(spec, embedOpt){\n",
       "    let outputDiv = document.currentScript.previousElementSibling;\n",
       "    if (outputDiv.id !== \"altair-viz-18c6550bb6174bb0a083db3b7af5730e\") {\n",
       "      outputDiv = document.getElementById(\"altair-viz-18c6550bb6174bb0a083db3b7af5730e\");\n",
       "    }\n",
       "    const paths = {\n",
       "      \"vega\": \"https://cdn.jsdelivr.net/npm//vega@5?noext\",\n",
       "      \"vega-lib\": \"https://cdn.jsdelivr.net/npm//vega-lib?noext\",\n",
       "      \"vega-lite\": \"https://cdn.jsdelivr.net/npm//vega-lite@4.17.0?noext\",\n",
       "      \"vega-embed\": \"https://cdn.jsdelivr.net/npm//vega-embed@6?noext\",\n",
       "    };\n",
       "\n",
       "    function maybeLoadScript(lib, version) {\n",
       "      var key = `${lib.replace(\"-\", \"\")}_version`;\n",
       "      return (VEGA_DEBUG[key] == version) ?\n",
       "        Promise.resolve(paths[lib]) :\n",
       "        new Promise(function(resolve, reject) {\n",
       "          var s = document.createElement('script');\n",
       "          document.getElementsByTagName(\"head\")[0].appendChild(s);\n",
       "          s.async = true;\n",
       "          s.onload = () => {\n",
       "            VEGA_DEBUG[key] = version;\n",
       "            return resolve(paths[lib]);\n",
       "          };\n",
       "          s.onerror = () => reject(`Error loading script: ${paths[lib]}`);\n",
       "          s.src = paths[lib];\n",
       "        });\n",
       "    }\n",
       "\n",
       "    function showError(err) {\n",
       "      outputDiv.innerHTML = `<div class=\"error\" style=\"color:red;\">${err}</div>`;\n",
       "      throw err;\n",
       "    }\n",
       "\n",
       "    function displayChart(vegaEmbed) {\n",
       "      vegaEmbed(outputDiv, spec, embedOpt)\n",
       "        .catch(err => showError(`Javascript Error: ${err.message}<br>This usually means there's a typo in your chart specification. See the javascript console for the full traceback.`));\n",
       "    }\n",
       "\n",
       "    if(typeof define === \"function\" && define.amd) {\n",
       "      requirejs.config({paths});\n",
       "      require([\"vega-embed\"], displayChart, err => showError(`Error loading script: ${err.message}`));\n",
       "    } else {\n",
       "      maybeLoadScript(\"vega\", \"5\")\n",
       "        .then(() => maybeLoadScript(\"vega-lite\", \"4.17.0\"))\n",
       "        .then(() => maybeLoadScript(\"vega-embed\", \"6\"))\n",
       "        .catch(showError)\n",
       "        .then(() => displayChart(vegaEmbed));\n",
       "    }\n",
       "  })({\"config\": {\"view\": {\"continuousWidth\": 400, \"continuousHeight\": 300}}, \"layer\": [{\"data\": {\"name\": \"data-850039b32d94dd89ebda5ce5bca28d83\"}, \"mark\": {\"type\": \"line\", \"color\": \"#5D8AA8\", \"opacity\": 1}, \"encoding\": {\"detail\": {\"field\": \"edge\", \"type\": \"quantitative\"}, \"size\": {\"field\": \"edge_weight\", \"legend\": null, \"type\": \"quantitative\"}, \"x\": {\"axis\": {\"grid\": false, \"labels\": false, \"ticks\": false, \"title\": \"\"}, \"field\": \"x\", \"type\": \"quantitative\"}, \"y\": {\"axis\": {\"grid\": false, \"labels\": false, \"ticks\": false, \"title\": \"\"}, \"field\": \"y\", \"type\": \"quantitative\"}}, \"selection\": {\"selector031\": {\"type\": \"interval\", \"bind\": \"scales\", \"encodings\": [\"x\", \"y\"]}}}, {\"data\": {\"name\": \"data-905568096a5e8d3e6c5946fd843cfe0b\"}, \"mark\": {\"type\": \"point\", \"opacity\": 1, \"size\": 300, \"strokeWidth\": 1.0}, \"encoding\": {\"fill\": {\"field\": \"weight\", \"scale\": {\"scheme\": \"blues\"}, \"type\": \"quantitative\"}, \"x\": {\"axis\": {\"grid\": false, \"labels\": false, \"ticks\": false}, \"field\": \"x\", \"type\": \"quantitative\"}, \"y\": {\"axis\": {\"grid\": false, \"labels\": false, \"ticks\": false}, \"field\": \"y\", \"type\": \"quantitative\"}}}, {\"data\": {\"name\": \"data-905568096a5e8d3e6c5946fd843cfe0b\"}, \"mark\": {\"type\": \"text\", \"baseline\": \"middle\", \"fill\": \"black\", \"size\": 15}, \"encoding\": {\"text\": {\"field\": \"label\", \"type\": \"nominal\"}, \"x\": {\"axis\": {\"grid\": false, \"labels\": false, \"ticks\": false}, \"field\": \"x\", \"type\": \"quantitative\"}, \"y\": {\"axis\": {\"grid\": false, \"labels\": false, \"ticks\": false}, \"field\": \"y\", \"type\": \"quantitative\"}}}], \"$schema\": \"https://vega.github.io/schema/vega-lite/v4.17.0.json\", \"datasets\": {\"data-850039b32d94dd89ebda5ce5bca28d83\": [{\"y\": 0.403511767411401, \"edge\": 0, \"pair\": [\"chilli\", \"mozzarella\"], \"x\": 0.31690419125815195, \"target\": \"mozzarella\", \"edge_weight\": 5, \"source\": \"chilli\"}, {\"y\": 0.11033693218870348, \"edge\": 0, \"pair\": [\"chilli\", \"mozzarella\"], \"x\": 0.23388405632465104, \"target\": \"mozzarella\", \"edge_weight\": 5, \"source\": \"chilli\"}, {\"y\": 0.403511767411401, \"edge\": 1, \"pair\": [\"chilli\", \"oil\"], \"x\": 0.31690419125815195, \"target\": \"oil\", \"edge_weight\": 6, \"source\": \"chilli\"}, {\"y\": -0.15778130825687844, \"edge\": 1, \"pair\": [\"chilli\", \"oil\"], \"x\": -0.12275707261243386, \"target\": \"oil\", \"edge_weight\": 6, \"source\": \"chilli\"}, {\"y\": 0.403511767411401, \"edge\": 2, \"pair\": [\"chilli\", \"tomato\"], \"x\": 0.31690419125815195, \"target\": \"tomato\", \"edge_weight\": 5, \"source\": \"chilli\"}, {\"y\": 0.28136618160089105, \"edge\": 2, \"pair\": [\"chilli\", \"tomato\"], \"x\": 0.048818855282392964, \"target\": \"tomato\", \"edge_weight\": 5, \"source\": \"chilli\"}, {\"y\": 0.403511767411401, \"edge\": 3, \"pair\": [\"chilli\", \"onion\"], \"x\": 0.31690419125815195, \"target\": \"onion\", \"edge_weight\": 6, \"source\": \"chilli\"}, {\"y\": 0.19187831540158393, \"edge\": 3, \"pair\": [\"chilli\", \"onion\"], \"x\": 0.2742211017522927, \"target\": \"onion\", \"edge_weight\": 6, \"source\": \"chilli\"}, {\"y\": 0.11033693218870348, \"edge\": 4, \"pair\": [\"mozzarella\", \"pizza base\"], \"x\": 0.23388405632465104, \"target\": \"pizza base\", \"edge_weight\": 7, \"source\": \"mozzarella\"}, {\"y\": 0.48565077593561917, \"edge\": 4, \"pair\": [\"mozzarella\", \"pizza base\"], \"x\": 0.11357419031972558, \"target\": \"pizza base\", \"edge_weight\": 7, \"source\": \"mozzarella\"}, {\"y\": 0.11033693218870348, \"edge\": 5, \"pair\": [\"mozzarella\", \"red pepper\"], \"x\": 0.23388405632465104, \"target\": \"red pepper\", \"edge_weight\": 5, \"source\": \"mozzarella\"}, {\"y\": 0.4469114062277095, \"edge\": 5, \"pair\": [\"mozzarella\", \"red pepper\"], \"x\": 0.6067319601682, \"target\": \"red pepper\", \"edge_weight\": 5, \"source\": \"mozzarella\"}, {\"y\": 0.11033693218870348, \"edge\": 6, \"pair\": [\"mozzarella\", \"basil\"], \"x\": 0.23388405632465104, \"target\": \"basil\", \"edge_weight\": 20, \"source\": \"mozzarella\"}, {\"y\": -0.004737353497237078, \"edge\": 6, \"pair\": [\"mozzarella\", \"basil\"], \"x\": 0.1690165113805107, \"target\": \"basil\", \"edge_weight\": 20, \"source\": \"mozzarella\"}, {\"y\": 0.11033693218870348, \"edge\": 7, \"pair\": [\"mozzarella\", \"flour\"], \"x\": 0.23388405632465104, \"target\": \"flour\", \"edge_weight\": 25, \"source\": \"mozzarella\"}, {\"y\": -0.07530072528736904, \"edge\": 7, \"pair\": [\"mozzarella\", \"flour\"], \"x\": -0.09721672312912452, \"target\": \"flour\", \"edge_weight\": 25, \"source\": \"mozzarella\"}, {\"y\": 0.11033693218870348, \"edge\": 8, \"pair\": [\"mozzarella\", \"oil\"], \"x\": 0.23388405632465104, \"target\": \"oil\", \"edge_weight\": 32, \"source\": \"mozzarella\"}, {\"y\": -0.15778130825687844, \"edge\": 8, \"pair\": [\"mozzarella\", \"oil\"], \"x\": -0.12275707261243386, \"target\": \"oil\", \"edge_weight\": 32, \"source\": \"mozzarella\"}, {\"y\": 0.11033693218870348, \"edge\": 9, \"pair\": [\"mozzarella\", \"oregano\"], \"x\": 0.23388405632465104, \"target\": \"oregano\", \"edge_weight\": 12, \"source\": \"mozzarella\"}, {\"y\": 0.2299667764186039, \"edge\": 9, \"pair\": [\"mozzarella\", \"oregano\"], \"x\": 0.12993278735066677, \"target\": \"oregano\", \"edge_weight\": 12, \"source\": \"mozzarella\"}, {\"y\": 0.11033693218870348, \"edge\": 10, \"pair\": [\"mozzarella\", \"parmesan\"], \"x\": 0.23388405632465104, \"target\": \"parmesan\", \"edge_weight\": 12, \"source\": \"mozzarella\"}, {\"y\": 0.07142951535649514, \"edge\": 10, \"pair\": [\"mozzarella\", \"parmesan\"], \"x\": -0.07663715010163837, \"target\": \"parmesan\", \"edge_weight\": 12, \"source\": \"mozzarella\"}, {\"y\": 0.11033693218870348, \"edge\": 11, \"pair\": [\"mozzarella\", \"tomato\"], \"x\": 0.23388405632465104, \"target\": \"tomato\", \"edge_weight\": 34, \"source\": \"mozzarella\"}, {\"y\": 0.28136618160089105, \"edge\": 11, \"pair\": [\"mozzarella\", \"tomato\"], \"x\": 0.048818855282392964, \"target\": \"tomato\", \"edge_weight\": 34, \"source\": \"mozzarella\"}, {\"y\": 0.11033693218870348, \"edge\": 12, \"pair\": [\"mozzarella\", \"yeast\"], \"x\": 0.23388405632465104, \"target\": \"yeast\", \"edge_weight\": 16, \"source\": \"mozzarella\"}, {\"y\": 0.00983232230177047, \"edge\": 12, \"pair\": [\"mozzarella\", \"yeast\"], \"x\": 0.034142018430340794, \"target\": \"yeast\", \"edge_weight\": 16, \"source\": \"mozzarella\"}, {\"y\": 0.11033693218870348, \"edge\": 13, \"pair\": [\"mozzarella\", \"passata\"], \"x\": 0.23388405632465104, \"target\": \"passata\", \"edge_weight\": 10, \"source\": \"mozzarella\"}, {\"y\": -0.19257285563344853, \"edge\": 13, \"pair\": [\"mozzarella\", \"passata\"], \"x\": 0.15056754945832057, \"target\": \"passata\", \"edge_weight\": 10, \"source\": \"mozzarella\"}, {\"y\": 0.11033693218870348, \"edge\": 14, \"pair\": [\"mozzarella\", \"sugar\"], \"x\": 0.23388405632465104, \"target\": \"sugar\", \"edge_weight\": 7, \"source\": \"mozzarella\"}, {\"y\": -0.22216009307004062, \"edge\": 14, \"pair\": [\"mozzarella\", \"sugar\"], \"x\": 0.29415333919673164, \"target\": \"sugar\", \"edge_weight\": 7, \"source\": \"mozzarella\"}, {\"y\": 0.11033693218870348, \"edge\": 15, \"pair\": [\"mozzarella\", \"water\"], \"x\": 0.23388405632465104, \"target\": \"water\", \"edge_weight\": 9, \"source\": \"mozzarella\"}, {\"y\": 0.04332605782444903, \"edge\": 15, \"pair\": [\"mozzarella\", \"water\"], \"x\": -0.21950995119468603, \"target\": \"water\", \"edge_weight\": 9, \"source\": \"mozzarella\"}, {\"y\": 0.11033693218870348, \"edge\": 16, \"pair\": [\"mozzarella\", \"garlic clove\"], \"x\": 0.23388405632465104, \"target\": \"garlic clove\", \"edge_weight\": 17, \"source\": \"mozzarella\"}, {\"y\": -0.08623067997906717, \"edge\": 16, \"pair\": [\"mozzarella\", \"garlic clove\"], \"x\": 0.053305918911480905, \"target\": \"garlic clove\", \"edge_weight\": 17, \"source\": \"mozzarella\"}, {\"y\": 0.11033693218870348, \"edge\": 17, \"pair\": [\"mozzarella\", \"olive\"], \"x\": 0.23388405632465104, \"target\": \"olive\", \"edge_weight\": 10, \"source\": \"mozzarella\"}, {\"y\": 0.21165513912629644, \"edge\": 17, \"pair\": [\"mozzarella\", \"olive\"], \"x\": -0.048932225789377025, \"target\": \"olive\", \"edge_weight\": 10, \"source\": \"mozzarella\"}, {\"y\": 0.11033693218870348, \"edge\": 18, \"pair\": [\"mozzarella\", \"onion\"], \"x\": 0.23388405632465104, \"target\": \"onion\", \"edge_weight\": 7, \"source\": \"mozzarella\"}, {\"y\": 0.19187831540158393, \"edge\": 18, \"pair\": [\"mozzarella\", \"onion\"], \"x\": 0.2742211017522927, \"target\": \"onion\", \"edge_weight\": 7, \"source\": \"mozzarella\"}, {\"y\": 0.11033693218870348, \"edge\": 19, \"pair\": [\"mozzarella\", \"bread\"], \"x\": 0.23388405632465104, \"target\": \"bread\", \"edge_weight\": 9, \"source\": \"mozzarella\"}, {\"y\": 0.08344774789730536, \"edge\": 19, \"pair\": [\"mozzarella\", \"bread\"], \"x\": 0.4609310604133291, \"target\": \"bread\", \"edge_weight\": 9, \"source\": \"mozzarella\"}, {\"y\": 0.11033693218870348, \"edge\": 20, \"pair\": [\"mozzarella\", \"salt\"], \"x\": 0.23388405632465104, \"target\": \"salt\", \"edge_weight\": 5, \"source\": \"mozzarella\"}, {\"y\": 0.18174924759316577, \"edge\": 20, \"pair\": [\"mozzarella\", \"salt\"], \"x\": -0.2396384683044342, \"target\": \"salt\", \"edge_weight\": 5, \"source\": \"mozzarella\"}, {\"y\": 0.11033693218870348, \"edge\": 21, \"pair\": [\"mozzarella\", \"rocket\"], \"x\": 0.23388405632465104, \"target\": \"rocket\", \"edge_weight\": 5, \"source\": \"mozzarella\"}, {\"y\": -0.0721490409637699, \"edge\": 21, \"pair\": [\"mozzarella\", \"rocket\"], \"x\": 0.32122778912877104, \"target\": \"rocket\", \"edge_weight\": 5, \"source\": \"mozzarella\"}, {\"y\": 0.11033693218870348, \"edge\": 22, \"pair\": [\"mozzarella\", \"ham\"], \"x\": 0.23388405632465104, \"target\": \"ham\", \"edge_weight\": 5, \"source\": \"mozzarella\"}, {\"y\": 0.03457086934208114, \"edge\": 22, \"pair\": [\"mozzarella\", \"ham\"], \"x\": 0.8682578274907841, \"target\": \"ham\", \"edge_weight\": 5, \"source\": \"mozzarella\"}, {\"y\": 0.48565077593561917, \"edge\": 23, \"pair\": [\"pizza base\", \"oil\"], \"x\": 0.11357419031972558, \"target\": \"oil\", \"edge_weight\": 11, \"source\": \"pizza base\"}, {\"y\": -0.15778130825687844, \"edge\": 23, \"pair\": [\"pizza base\", \"oil\"], \"x\": -0.12275707261243386, \"target\": \"oil\", \"edge_weight\": 11, \"source\": \"pizza base\"}, {\"y\": 0.48565077593561917, \"edge\": 24, \"pair\": [\"pizza base\", \"tomato\"], \"x\": 0.11357419031972558, \"target\": \"tomato\", \"edge_weight\": 6, \"source\": \"pizza base\"}, {\"y\": 0.28136618160089105, \"edge\": 24, \"pair\": [\"pizza base\", \"tomato\"], \"x\": 0.048818855282392964, \"target\": \"tomato\", \"edge_weight\": 6, \"source\": \"pizza base\"}, {\"y\": 0.48565077593561917, \"edge\": 25, \"pair\": [\"pizza base\", \"onion\"], \"x\": 0.11357419031972558, \"target\": \"onion\", \"edge_weight\": 5, \"source\": \"pizza base\"}, {\"y\": 0.19187831540158393, \"edge\": 25, \"pair\": [\"pizza base\", \"onion\"], \"x\": 0.2742211017522927, \"target\": \"onion\", \"edge_weight\": 5, \"source\": \"pizza base\"}, {\"y\": 0.4469114062277095, \"edge\": 26, \"pair\": [\"red pepper\", \"tomato\"], \"x\": 0.6067319601682, \"target\": \"tomato\", \"edge_weight\": 6, \"source\": \"red pepper\"}, {\"y\": 0.28136618160089105, \"edge\": 26, \"pair\": [\"red pepper\", \"tomato\"], \"x\": 0.048818855282392964, \"target\": \"tomato\", \"edge_weight\": 6, \"source\": \"red pepper\"}, {\"y\": -0.004737353497237078, \"edge\": 27, \"pair\": [\"basil\", \"flour\"], \"x\": 0.1690165113805107, \"target\": \"flour\", \"edge_weight\": 16, \"source\": \"basil\"}, {\"y\": -0.07530072528736904, \"edge\": 27, \"pair\": [\"basil\", \"flour\"], \"x\": -0.09721672312912452, \"target\": \"flour\", \"edge_weight\": 16, \"source\": \"basil\"}, {\"y\": -0.004737353497237078, \"edge\": 28, \"pair\": [\"basil\", \"oil\"], \"x\": 0.1690165113805107, \"target\": \"oil\", \"edge_weight\": 23, \"source\": \"basil\"}, {\"y\": -0.15778130825687844, \"edge\": 28, \"pair\": [\"basil\", \"oil\"], \"x\": -0.12275707261243386, \"target\": \"oil\", \"edge_weight\": 23, \"source\": \"basil\"}, {\"y\": -0.004737353497237078, \"edge\": 29, \"pair\": [\"basil\", \"parmesan\"], \"x\": 0.1690165113805107, \"target\": \"parmesan\", \"edge_weight\": 6, \"source\": \"basil\"}, {\"y\": 0.07142951535649514, \"edge\": 29, \"pair\": [\"basil\", \"parmesan\"], \"x\": -0.07663715010163837, \"target\": \"parmesan\", \"edge_weight\": 6, \"source\": \"basil\"}, {\"y\": -0.004737353497237078, \"edge\": 30, \"pair\": [\"basil\", \"tomato\"], \"x\": 0.1690165113805107, \"target\": \"tomato\", \"edge_weight\": 21, \"source\": \"basil\"}, {\"y\": 0.28136618160089105, \"edge\": 30, \"pair\": [\"basil\", \"tomato\"], \"x\": 0.048818855282392964, \"target\": \"tomato\", \"edge_weight\": 21, \"source\": \"basil\"}, {\"y\": -0.004737353497237078, \"edge\": 31, \"pair\": [\"basil\", \"yeast\"], \"x\": 0.1690165113805107, \"target\": \"yeast\", \"edge_weight\": 12, \"source\": \"basil\"}, {\"y\": 0.00983232230177047, \"edge\": 31, \"pair\": [\"basil\", \"yeast\"], \"x\": 0.034142018430340794, \"target\": \"yeast\", \"edge_weight\": 12, \"source\": \"basil\"}, {\"y\": -0.004737353497237078, \"edge\": 32, \"pair\": [\"basil\", \"passata\"], \"x\": 0.1690165113805107, \"target\": \"passata\", \"edge_weight\": 10, \"source\": \"basil\"}, {\"y\": -0.19257285563344853, \"edge\": 32, \"pair\": [\"basil\", \"passata\"], \"x\": 0.15056754945832057, \"target\": \"passata\", \"edge_weight\": 10, \"source\": \"basil\"}, {\"y\": -0.004737353497237078, \"edge\": 33, \"pair\": [\"basil\", \"sugar\"], \"x\": 0.1690165113805107, \"target\": \"sugar\", \"edge_weight\": 6, \"source\": \"basil\"}, {\"y\": -0.22216009307004062, \"edge\": 33, \"pair\": [\"basil\", \"sugar\"], \"x\": 0.29415333919673164, \"target\": \"sugar\", \"edge_weight\": 6, \"source\": \"basil\"}, {\"y\": -0.004737353497237078, \"edge\": 34, \"pair\": [\"basil\", \"water\"], \"x\": 0.1690165113805107, \"target\": \"water\", \"edge_weight\": 5, \"source\": \"basil\"}, {\"y\": 0.04332605782444903, \"edge\": 34, \"pair\": [\"basil\", \"water\"], \"x\": -0.21950995119468603, \"target\": \"water\", \"edge_weight\": 5, \"source\": \"basil\"}, {\"y\": -0.004737353497237078, \"edge\": 35, \"pair\": [\"basil\", \"garlic clove\"], \"x\": 0.1690165113805107, \"target\": \"garlic clove\", \"edge_weight\": 15, \"source\": \"basil\"}, {\"y\": -0.08623067997906717, \"edge\": 35, \"pair\": [\"basil\", \"garlic clove\"], \"x\": 0.053305918911480905, \"target\": \"garlic clove\", \"edge_weight\": 15, \"source\": \"basil\"}, {\"y\": -0.004737353497237078, \"edge\": 36, \"pair\": [\"basil\", \"olive\"], \"x\": 0.1690165113805107, \"target\": \"olive\", \"edge_weight\": 7, \"source\": \"basil\"}, {\"y\": 0.21165513912629644, \"edge\": 36, \"pair\": [\"basil\", \"olive\"], \"x\": -0.048932225789377025, \"target\": \"olive\", \"edge_weight\": 7, \"source\": \"basil\"}, {\"y\": -0.004737353497237078, \"edge\": 37, \"pair\": [\"basil\", \"onion\"], \"x\": 0.1690165113805107, \"target\": \"onion\", \"edge_weight\": 7, \"source\": \"basil\"}, {\"y\": 0.19187831540158393, \"edge\": 37, \"pair\": [\"basil\", \"onion\"], \"x\": 0.2742211017522927, \"target\": \"onion\", \"edge_weight\": 7, \"source\": \"basil\"}, {\"y\": -0.004737353497237078, \"edge\": 38, \"pair\": [\"basil\", \"bread\"], \"x\": 0.1690165113805107, \"target\": \"bread\", \"edge_weight\": 5, \"source\": \"basil\"}, {\"y\": 0.08344774789730536, \"edge\": 38, \"pair\": [\"basil\", \"bread\"], \"x\": 0.4609310604133291, \"target\": \"bread\", \"edge_weight\": 5, \"source\": \"basil\"}, {\"y\": -0.07530072528736904, \"edge\": 39, \"pair\": [\"flour\", \"oil\"], \"x\": -0.09721672312912452, \"target\": \"oil\", \"edge_weight\": 44, \"source\": \"flour\"}, {\"y\": -0.15778130825687844, \"edge\": 39, \"pair\": [\"flour\", \"oil\"], \"x\": -0.12275707261243386, \"target\": \"oil\", \"edge_weight\": 44, \"source\": \"flour\"}, {\"y\": -0.07530072528736904, \"edge\": 40, \"pair\": [\"flour\", \"oregano\"], \"x\": -0.09721672312912452, \"target\": \"oregano\", \"edge_weight\": 8, \"source\": \"flour\"}, {\"y\": 0.2299667764186039, \"edge\": 40, \"pair\": [\"flour\", \"oregano\"], \"x\": 0.12993278735066677, \"target\": \"oregano\", \"edge_weight\": 8, \"source\": \"flour\"}, {\"y\": -0.07530072528736904, \"edge\": 41, \"pair\": [\"flour\", \"parmesan\"], \"x\": -0.09721672312912452, \"target\": \"parmesan\", \"edge_weight\": 9, \"source\": \"flour\"}, {\"y\": 0.07142951535649514, \"edge\": 41, \"pair\": [\"flour\", \"parmesan\"], \"x\": -0.07663715010163837, \"target\": \"parmesan\", \"edge_weight\": 9, \"source\": \"flour\"}, {\"y\": -0.07530072528736904, \"edge\": 42, \"pair\": [\"flour\", \"tomato\"], \"x\": -0.09721672312912452, \"target\": \"tomato\", \"edge_weight\": 29, \"source\": \"flour\"}, {\"y\": 0.28136618160089105, \"edge\": 42, \"pair\": [\"flour\", \"tomato\"], \"x\": 0.048818855282392964, \"target\": \"tomato\", \"edge_weight\": 29, \"source\": \"flour\"}, {\"y\": -0.07530072528736904, \"edge\": 43, \"pair\": [\"flour\", \"yeast\"], \"x\": -0.09721672312912452, \"target\": \"yeast\", \"edge_weight\": 32, \"source\": \"flour\"}, {\"y\": 0.00983232230177047, \"edge\": 43, \"pair\": [\"flour\", \"yeast\"], \"x\": 0.034142018430340794, \"target\": \"yeast\", \"edge_weight\": 32, \"source\": \"flour\"}, {\"y\": -0.07530072528736904, \"edge\": 44, \"pair\": [\"flour\", \"passata\"], \"x\": -0.09721672312912452, \"target\": \"passata\", \"edge_weight\": 10, \"source\": \"flour\"}, {\"y\": -0.19257285563344853, \"edge\": 44, \"pair\": [\"flour\", \"passata\"], \"x\": 0.15056754945832057, \"target\": \"passata\", \"edge_weight\": 10, \"source\": \"flour\"}, {\"y\": -0.07530072528736904, \"edge\": 45, \"pair\": [\"flour\", \"sugar\"], \"x\": -0.09721672312912452, \"target\": \"sugar\", \"edge_weight\": 13, \"source\": \"flour\"}, {\"y\": -0.22216009307004062, \"edge\": 45, \"pair\": [\"flour\", \"sugar\"], \"x\": 0.29415333919673164, \"target\": \"sugar\", \"edge_weight\": 13, \"source\": \"flour\"}, {\"y\": -0.07530072528736904, \"edge\": 46, \"pair\": [\"flour\", \"water\"], \"x\": -0.09721672312912452, \"target\": \"water\", \"edge_weight\": 13, \"source\": \"flour\"}, {\"y\": 0.04332605782444903, \"edge\": 46, \"pair\": [\"flour\", \"water\"], \"x\": -0.21950995119468603, \"target\": \"water\", \"edge_weight\": 13, \"source\": \"flour\"}, {\"y\": -0.07530072528736904, \"edge\": 47, \"pair\": [\"flour\", \"garlic clove\"], \"x\": -0.09721672312912452, \"target\": \"garlic clove\", \"edge_weight\": 25, \"source\": \"flour\"}, {\"y\": -0.08623067997906717, \"edge\": 47, \"pair\": [\"flour\", \"garlic clove\"], \"x\": 0.053305918911480905, \"target\": \"garlic clove\", \"edge_weight\": 25, \"source\": \"flour\"}, {\"y\": -0.07530072528736904, \"edge\": 48, \"pair\": [\"flour\", \"salt\"], \"x\": -0.09721672312912452, \"target\": \"salt\", \"edge_weight\": 15, \"source\": \"flour\"}, {\"y\": 0.18174924759316577, \"edge\": 48, \"pair\": [\"flour\", \"salt\"], \"x\": -0.2396384683044342, \"target\": \"salt\", \"edge_weight\": 15, \"source\": \"flour\"}, {\"y\": -0.07530072528736904, \"edge\": 49, \"pair\": [\"flour\", \"olive\"], \"x\": -0.09721672312912452, \"target\": \"olive\", \"edge_weight\": 9, \"source\": \"flour\"}, {\"y\": 0.21165513912629644, \"edge\": 49, \"pair\": [\"flour\", \"olive\"], \"x\": -0.048932225789377025, \"target\": \"olive\", \"edge_weight\": 9, \"source\": \"flour\"}, {\"y\": -0.07530072528736904, \"edge\": 50, \"pair\": [\"flour\", \"rocket\"], \"x\": -0.09721672312912452, \"target\": \"rocket\", \"edge_weight\": 7, \"source\": \"flour\"}, {\"y\": -0.0721490409637699, \"edge\": 50, \"pair\": [\"flour\", \"rocket\"], \"x\": 0.32122778912877104, \"target\": \"rocket\", \"edge_weight\": 7, \"source\": \"flour\"}, {\"y\": -0.07530072528736904, \"edge\": 51, \"pair\": [\"flour\", \"baking powder\"], \"x\": -0.09721672312912452, \"target\": \"baking powder\", \"edge_weight\": 5, \"source\": \"flour\"}, {\"y\": -0.5951150748363662, \"edge\": 51, \"pair\": [\"flour\", \"baking powder\"], \"x\": -0.32180746353882894, \"target\": \"baking powder\", \"edge_weight\": 5, \"source\": \"flour\"}, {\"y\": -0.07530072528736904, \"edge\": 52, \"pair\": [\"flour\", \"onion\"], \"x\": -0.09721672312912452, \"target\": \"onion\", \"edge_weight\": 15, \"source\": \"flour\"}, {\"y\": 0.19187831540158393, \"edge\": 52, \"pair\": [\"flour\", \"onion\"], \"x\": 0.2742211017522927, \"target\": \"onion\", \"edge_weight\": 15, \"source\": \"flour\"}, {\"y\": -0.07530072528736904, \"edge\": 53, \"pair\": [\"flour\", \"courgette\"], \"x\": -0.09721672312912452, \"target\": \"courgette\", \"edge_weight\": 5, \"source\": \"flour\"}, {\"y\": -0.24397964882086623, \"edge\": 53, \"pair\": [\"flour\", \"courgette\"], \"x\": -0.6006871063936479, \"target\": \"courgette\", \"edge_weight\": 5, \"source\": \"flour\"}, {\"y\": -0.07530072528736904, \"edge\": 54, \"pair\": [\"flour\", \"lemon\"], \"x\": -0.09721672312912452, \"target\": \"lemon\", \"edge_weight\": 5, \"source\": \"flour\"}, {\"y\": -0.3858699000762784, \"edge\": 54, \"pair\": [\"flour\", \"lemon\"], \"x\": -0.19796457055329145, \"target\": \"lemon\", \"edge_weight\": 5, \"source\": \"flour\"}, {\"y\": -0.07530072528736904, \"edge\": 55, \"pair\": [\"flour\", \"bread\"], \"x\": -0.09721672312912452, \"target\": \"bread\", \"edge_weight\": 5, \"source\": \"flour\"}, {\"y\": 0.08344774789730536, \"edge\": 55, \"pair\": [\"flour\", \"bread\"], \"x\": 0.4609310604133291, \"target\": \"bread\", \"edge_weight\": 5, \"source\": \"flour\"}, {\"y\": -0.07530072528736904, \"edge\": 56, \"pair\": [\"flour\", \"butter\"], \"x\": -0.09721672312912452, \"target\": \"butter\", \"edge_weight\": 5, \"source\": \"flour\"}, {\"y\": -0.45965176232981453, \"edge\": 56, \"pair\": [\"flour\", \"butter\"], \"x\": -0.5153570837539263, \"target\": \"butter\", \"edge_weight\": 5, \"source\": \"flour\"}, {\"y\": -0.07530072528736904, \"edge\": 57, \"pair\": [\"flour\", \"cheddar\"], \"x\": -0.09721672312912452, \"target\": \"cheddar\", \"edge_weight\": 8, \"source\": \"flour\"}, {\"y\": 0.17353679547086365, \"edge\": 57, \"pair\": [\"flour\", \"cheddar\"], \"x\": -0.4734097403066018, \"target\": \"cheddar\", \"edge_weight\": 8, \"source\": \"flour\"}, {\"y\": -0.07530072528736904, \"edge\": 58, \"pair\": [\"flour\", \"egg\"], \"x\": -0.09721672312912452, \"target\": \"egg\", \"edge_weight\": 6, \"source\": \"flour\"}, {\"y\": -0.3595494772283508, \"edge\": 58, \"pair\": [\"flour\", \"egg\"], \"x\": 0.04864272024318457, \"target\": \"egg\", \"edge_weight\": 6, \"source\": \"flour\"}, {\"y\": -0.07530072528736904, \"edge\": 59, \"pair\": [\"flour\", \"balsamic vinegar\"], \"x\": -0.09721672312912452, \"target\": \"balsamic vinegar\", \"edge_weight\": 6, \"source\": \"flour\"}, {\"y\": 0.38328531411622613, \"edge\": 59, \"pair\": [\"flour\", \"balsamic vinegar\"], \"x\": -0.19607132831670085, \"target\": \"balsamic vinegar\", \"edge_weight\": 6, \"source\": \"flour\"}, {\"y\": -0.15778130825687844, \"edge\": 60, \"pair\": [\"oil\", \"oregano\"], \"x\": -0.12275707261243386, \"target\": \"oregano\", \"edge_weight\": 9, \"source\": \"oil\"}, {\"y\": 0.2299667764186039, \"edge\": 60, \"pair\": [\"oil\", \"oregano\"], \"x\": 0.12993278735066677, \"target\": \"oregano\", \"edge_weight\": 9, \"source\": \"oil\"}, {\"y\": -0.15778130825687844, \"edge\": 61, \"pair\": [\"oil\", \"parmesan\"], \"x\": -0.12275707261243386, \"target\": \"parmesan\", \"edge_weight\": 8, \"source\": \"oil\"}, {\"y\": 0.07142951535649514, \"edge\": 61, \"pair\": [\"oil\", \"parmesan\"], \"x\": -0.07663715010163837, \"target\": \"parmesan\", \"edge_weight\": 8, \"source\": \"oil\"}, {\"y\": -0.15778130825687844, \"edge\": 62, \"pair\": [\"oil\", \"tomato\"], \"x\": -0.12275707261243386, \"target\": \"tomato\", \"edge_weight\": 41, \"source\": \"oil\"}, {\"y\": 0.28136618160089105, \"edge\": 62, \"pair\": [\"oil\", \"tomato\"], \"x\": 0.048818855282392964, \"target\": \"tomato\", \"edge_weight\": 41, \"source\": \"oil\"}, {\"y\": -0.15778130825687844, \"edge\": 63, \"pair\": [\"oil\", \"yeast\"], \"x\": -0.12275707261243386, \"target\": \"yeast\", \"edge_weight\": 33, \"source\": \"oil\"}, {\"y\": 0.00983232230177047, \"edge\": 63, \"pair\": [\"oil\", \"yeast\"], \"x\": 0.034142018430340794, \"target\": \"yeast\", \"edge_weight\": 33, \"source\": \"oil\"}, {\"y\": -0.15778130825687844, \"edge\": 64, \"pair\": [\"oil\", \"passata\"], \"x\": -0.12275707261243386, \"target\": \"passata\", \"edge_weight\": 10, \"source\": \"oil\"}, {\"y\": -0.19257285563344853, \"edge\": 64, \"pair\": [\"oil\", \"passata\"], \"x\": 0.15056754945832057, \"target\": \"passata\", \"edge_weight\": 10, \"source\": \"oil\"}, {\"y\": -0.15778130825687844, \"edge\": 65, \"pair\": [\"oil\", \"sugar\"], \"x\": -0.12275707261243386, \"target\": \"sugar\", \"edge_weight\": 15, \"source\": \"oil\"}, {\"y\": -0.22216009307004062, \"edge\": 65, \"pair\": [\"oil\", \"sugar\"], \"x\": 0.29415333919673164, \"target\": \"sugar\", \"edge_weight\": 15, \"source\": \"oil\"}, {\"y\": -0.15778130825687844, \"edge\": 66, \"pair\": [\"oil\", \"water\"], \"x\": -0.12275707261243386, \"target\": \"water\", \"edge_weight\": 13, \"source\": \"oil\"}, {\"y\": 0.04332605782444903, \"edge\": 66, \"pair\": [\"oil\", \"water\"], \"x\": -0.21950995119468603, \"target\": \"water\", \"edge_weight\": 13, \"source\": \"oil\"}, {\"y\": -0.15778130825687844, \"edge\": 67, \"pair\": [\"oil\", \"garlic clove\"], \"x\": -0.12275707261243386, \"target\": \"garlic clove\", \"edge_weight\": 35, \"source\": \"oil\"}, {\"y\": -0.08623067997906717, \"edge\": 67, \"pair\": [\"oil\", \"garlic clove\"], \"x\": 0.053305918911480905, \"target\": \"garlic clove\", \"edge_weight\": 35, \"source\": \"oil\"}, {\"y\": -0.15778130825687844, \"edge\": 68, \"pair\": [\"oil\", \"salt\"], \"x\": -0.12275707261243386, \"target\": \"salt\", \"edge_weight\": 14, \"source\": \"oil\"}, {\"y\": 0.18174924759316577, \"edge\": 68, \"pair\": [\"oil\", \"salt\"], \"x\": -0.2396384683044342, \"target\": \"salt\", \"edge_weight\": 14, \"source\": \"oil\"}, {\"y\": -0.15778130825687844, \"edge\": 69, \"pair\": [\"oil\", \"lemon\"], \"x\": -0.12275707261243386, \"target\": \"lemon\", \"edge_weight\": 7, \"source\": \"oil\"}, {\"y\": -0.3858699000762784, \"edge\": 69, \"pair\": [\"oil\", \"lemon\"], \"x\": -0.19796457055329145, \"target\": \"lemon\", \"edge_weight\": 7, \"source\": \"oil\"}, {\"y\": -0.15778130825687844, \"edge\": 70, \"pair\": [\"oil\", \"milk\"], \"x\": -0.12275707261243386, \"target\": \"milk\", \"edge_weight\": 5, \"source\": \"oil\"}, {\"y\": -0.7921630068530396, \"edge\": 70, \"pair\": [\"oil\", \"milk\"], \"x\": 0.2671153089591338, \"target\": \"milk\", \"edge_weight\": 5, \"source\": \"oil\"}, {\"y\": -0.15778130825687844, \"edge\": 71, \"pair\": [\"oil\", \"olive\"], \"x\": -0.12275707261243386, \"target\": \"olive\", \"edge_weight\": 13, \"source\": \"oil\"}, {\"y\": 0.21165513912629644, \"edge\": 71, \"pair\": [\"oil\", \"olive\"], \"x\": -0.048932225789377025, \"target\": \"olive\", \"edge_weight\": 13, \"source\": \"oil\"}, {\"y\": -0.15778130825687844, \"edge\": 72, \"pair\": [\"oil\", \"courgette\"], \"x\": -0.12275707261243386, \"target\": \"courgette\", \"edge_weight\": 6, \"source\": \"oil\"}, {\"y\": -0.24397964882086623, \"edge\": 72, \"pair\": [\"oil\", \"courgette\"], \"x\": -0.6006871063936479, \"target\": \"courgette\", \"edge_weight\": 6, \"source\": \"oil\"}, {\"y\": -0.15778130825687844, \"edge\": 73, \"pair\": [\"oil\", \"onion\"], \"x\": -0.12275707261243386, \"target\": \"onion\", \"edge_weight\": 25, \"source\": \"oil\"}, {\"y\": 0.19187831540158393, \"edge\": 73, \"pair\": [\"oil\", \"onion\"], \"x\": 0.2742211017522927, \"target\": \"onion\", \"edge_weight\": 25, \"source\": \"oil\"}, {\"y\": -0.15778130825687844, \"edge\": 74, \"pair\": [\"oil\", \"ricotta\"], \"x\": -0.12275707261243386, \"target\": \"ricotta\", \"edge_weight\": 5, \"source\": \"oil\"}, {\"y\": -0.8711712400395748, \"edge\": 74, \"pair\": [\"oil\", \"ricotta\"], \"x\": -0.3622224195621261, \"target\": \"ricotta\", \"edge_weight\": 5, \"source\": \"oil\"}, {\"y\": -0.15778130825687844, \"edge\": 75, \"pair\": [\"oil\", \"rocket\"], \"x\": -0.12275707261243386, \"target\": \"rocket\", \"edge_weight\": 12, \"source\": \"oil\"}, {\"y\": -0.0721490409637699, \"edge\": 75, \"pair\": [\"oil\", \"rocket\"], \"x\": 0.32122778912877104, \"target\": \"rocket\", \"edge_weight\": 12, \"source\": \"oil\"}, {\"y\": -0.15778130825687844, \"edge\": 76, \"pair\": [\"oil\", \"balsamic vinegar\"], \"x\": -0.12275707261243386, \"target\": \"balsamic vinegar\", \"edge_weight\": 9, \"source\": \"oil\"}, {\"y\": 0.38328531411622613, \"edge\": 76, \"pair\": [\"oil\", \"balsamic vinegar\"], \"x\": -0.19607132831670085, \"target\": \"balsamic vinegar\", \"edge_weight\": 9, \"source\": \"oil\"}, {\"y\": -0.15778130825687844, \"edge\": 77, \"pair\": [\"oil\", \"bread\"], \"x\": -0.12275707261243386, \"target\": \"bread\", \"edge_weight\": 8, \"source\": \"oil\"}, {\"y\": 0.08344774789730536, \"edge\": 77, \"pair\": [\"oil\", \"bread\"], \"x\": 0.4609310604133291, \"target\": \"bread\", \"edge_weight\": 8, \"source\": \"oil\"}, {\"y\": -0.15778130825687844, \"edge\": 78, \"pair\": [\"oil\", \"butter\"], \"x\": -0.12275707261243386, \"target\": \"butter\", \"edge_weight\": 5, \"source\": \"oil\"}, {\"y\": -0.45965176232981453, \"edge\": 78, \"pair\": [\"oil\", \"butter\"], \"x\": -0.5153570837539263, \"target\": \"butter\", \"edge_weight\": 5, \"source\": \"oil\"}, {\"y\": -0.15778130825687844, \"edge\": 79, \"pair\": [\"oil\", \"rosemary\"], \"x\": -0.12275707261243386, \"target\": \"rosemary\", \"edge_weight\": 8, \"source\": \"oil\"}, {\"y\": 0.11352926725153861, \"edge\": 79, \"pair\": [\"oil\", \"rosemary\"], \"x\": -0.820080414024419, \"target\": \"rosemary\", \"edge_weight\": 8, \"source\": \"oil\"}, {\"y\": -0.15778130825687844, \"edge\": 80, \"pair\": [\"oil\", \"egg\"], \"x\": -0.12275707261243386, \"target\": \"egg\", \"edge_weight\": 9, \"source\": \"oil\"}, {\"y\": -0.3595494772283508, \"edge\": 80, \"pair\": [\"oil\", \"egg\"], \"x\": 0.04864272024318457, \"target\": \"egg\", \"edge_weight\": 9, \"source\": \"oil\"}, {\"y\": -0.15778130825687844, \"edge\": 81, \"pair\": [\"oil\", \"baking powder\"], \"x\": -0.12275707261243386, \"target\": \"baking powder\", \"edge_weight\": 5, \"source\": \"oil\"}, {\"y\": -0.5951150748363662, \"edge\": 81, \"pair\": [\"oil\", \"baking powder\"], \"x\": -0.32180746353882894, \"target\": \"baking powder\", \"edge_weight\": 5, \"source\": \"oil\"}, {\"y\": -0.15778130825687844, \"edge\": 82, \"pair\": [\"oil\", \"potato\"], \"x\": -0.12275707261243386, \"target\": \"potato\", \"edge_weight\": 5, \"source\": \"oil\"}, {\"y\": -0.889932451784224, \"edge\": 82, \"pair\": [\"oil\", \"potato\"], \"x\": -0.03210146750284717, \"target\": \"potato\", \"edge_weight\": 5, \"source\": \"oil\"}, {\"y\": -0.15778130825687844, \"edge\": 83, \"pair\": [\"oil\", \"cheddar\"], \"x\": -0.12275707261243386, \"target\": \"cheddar\", \"edge_weight\": 8, \"source\": \"oil\"}, {\"y\": 0.17353679547086365, \"edge\": 83, \"pair\": [\"oil\", \"cheddar\"], \"x\": -0.4734097403066018, \"target\": \"cheddar\", \"edge_weight\": 8, \"source\": \"oil\"}, {\"y\": -0.15778130825687844, \"edge\": 84, \"pair\": [\"oil\", \"ciabatta\"], \"x\": -0.12275707261243386, \"target\": \"ciabatta\", \"edge_weight\": 5, \"source\": \"oil\"}, {\"y\": -0.3526983683313133, \"edge\": 84, \"pair\": [\"oil\", \"ciabatta\"], \"x\": -0.8505611017903179, \"target\": \"ciabatta\", \"edge_weight\": 5, \"source\": \"oil\"}, {\"y\": 0.07142951535649514, \"edge\": 85, \"pair\": [\"parmesan\", \"tomato\"], \"x\": -0.07663715010163837, \"target\": \"tomato\", \"edge_weight\": 8, \"source\": \"parmesan\"}, {\"y\": 0.28136618160089105, \"edge\": 85, \"pair\": [\"parmesan\", \"tomato\"], \"x\": 0.048818855282392964, \"target\": \"tomato\", \"edge_weight\": 8, \"source\": \"parmesan\"}, {\"y\": 0.07142951535649514, \"edge\": 86, \"pair\": [\"parmesan\", \"yeast\"], \"x\": -0.07663715010163837, \"target\": \"yeast\", \"edge_weight\": 6, \"source\": \"parmesan\"}, {\"y\": 0.00983232230177047, \"edge\": 86, \"pair\": [\"parmesan\", \"yeast\"], \"x\": 0.034142018430340794, \"target\": \"yeast\", \"edge_weight\": 6, \"source\": \"parmesan\"}, {\"y\": 0.07142951535649514, \"edge\": 87, \"pair\": [\"parmesan\", \"passata\"], \"x\": -0.07663715010163837, \"target\": \"passata\", \"edge_weight\": 5, \"source\": \"parmesan\"}, {\"y\": -0.19257285563344853, \"edge\": 87, \"pair\": [\"parmesan\", \"passata\"], \"x\": 0.15056754945832057, \"target\": \"passata\", \"edge_weight\": 5, \"source\": \"parmesan\"}, {\"y\": 0.07142951535649514, \"edge\": 88, \"pair\": [\"parmesan\", \"garlic clove\"], \"x\": -0.07663715010163837, \"target\": \"garlic clove\", \"edge_weight\": 6, \"source\": \"parmesan\"}, {\"y\": -0.08623067997906717, \"edge\": 88, \"pair\": [\"parmesan\", \"garlic clove\"], \"x\": 0.053305918911480905, \"target\": \"garlic clove\", \"edge_weight\": 6, \"source\": \"parmesan\"}, {\"y\": 0.28136618160089105, \"edge\": 89, \"pair\": [\"tomato\", \"oregano\"], \"x\": 0.048818855282392964, \"target\": \"oregano\", \"edge_weight\": 9, \"source\": \"tomato\"}, {\"y\": 0.2299667764186039, \"edge\": 89, \"pair\": [\"tomato\", \"oregano\"], \"x\": 0.12993278735066677, \"target\": \"oregano\", \"edge_weight\": 9, \"source\": \"tomato\"}, {\"y\": 0.28136618160089105, \"edge\": 90, \"pair\": [\"tomato\", \"yeast\"], \"x\": 0.048818855282392964, \"target\": \"yeast\", \"edge_weight\": 20, \"source\": \"tomato\"}, {\"y\": 0.00983232230177047, \"edge\": 90, \"pair\": [\"tomato\", \"yeast\"], \"x\": 0.034142018430340794, \"target\": \"yeast\", \"edge_weight\": 20, \"source\": \"tomato\"}, {\"y\": 0.28136618160089105, \"edge\": 91, \"pair\": [\"tomato\", \"garlic clove\"], \"x\": 0.048818855282392964, \"target\": \"garlic clove\", \"edge_weight\": 21, \"source\": \"tomato\"}, {\"y\": -0.08623067997906717, \"edge\": 91, \"pair\": [\"tomato\", \"garlic clove\"], \"x\": 0.053305918911480905, \"target\": \"garlic clove\", \"edge_weight\": 21, \"source\": \"tomato\"}, {\"y\": 0.28136618160089105, \"edge\": 92, \"pair\": [\"tomato\", \"passata\"], \"x\": 0.048818855282392964, \"target\": \"passata\", \"edge_weight\": 6, \"source\": \"tomato\"}, {\"y\": -0.19257285563344853, \"edge\": 92, \"pair\": [\"tomato\", \"passata\"], \"x\": 0.15056754945832057, \"target\": \"passata\", \"edge_weight\": 6, \"source\": \"tomato\"}, {\"y\": 0.28136618160089105, \"edge\": 93, \"pair\": [\"tomato\", \"water\"], \"x\": 0.048818855282392964, \"target\": \"water\", \"edge_weight\": 10, \"source\": \"tomato\"}, {\"y\": 0.04332605782444903, \"edge\": 93, \"pair\": [\"tomato\", \"water\"], \"x\": -0.21950995119468603, \"target\": \"water\", \"edge_weight\": 10, \"source\": \"tomato\"}, {\"y\": 0.28136618160089105, \"edge\": 94, \"pair\": [\"tomato\", \"caper\"], \"x\": 0.048818855282392964, \"target\": \"caper\", \"edge_weight\": 5, \"source\": \"tomato\"}, {\"y\": 0.9479570948434876, \"edge\": 94, \"pair\": [\"tomato\", \"caper\"], \"x\": -0.22518191461893466, \"target\": \"caper\", \"edge_weight\": 5, \"source\": \"tomato\"}, {\"y\": 0.28136618160089105, \"edge\": 95, \"pair\": [\"tomato\", \"onion\"], \"x\": 0.048818855282392964, \"target\": \"onion\", \"edge_weight\": 13, \"source\": \"tomato\"}, {\"y\": 0.19187831540158393, \"edge\": 95, \"pair\": [\"tomato\", \"onion\"], \"x\": 0.2742211017522927, \"target\": \"onion\", \"edge_weight\": 13, \"source\": \"tomato\"}, {\"y\": 0.28136618160089105, \"edge\": 96, \"pair\": [\"tomato\", \"rocket\"], \"x\": 0.048818855282392964, \"target\": \"rocket\", \"edge_weight\": 10, \"source\": \"tomato\"}, {\"y\": -0.0721490409637699, \"edge\": 96, \"pair\": [\"tomato\", \"rocket\"], \"x\": 0.32122778912877104, \"target\": \"rocket\", \"edge_weight\": 10, \"source\": \"tomato\"}, {\"y\": 0.28136618160089105, \"edge\": 97, \"pair\": [\"tomato\", \"salt\"], \"x\": 0.048818855282392964, \"target\": \"salt\", \"edge_weight\": 10, \"source\": \"tomato\"}, {\"y\": 0.18174924759316577, \"edge\": 97, \"pair\": [\"tomato\", \"salt\"], \"x\": -0.2396384683044342, \"target\": \"salt\", \"edge_weight\": 10, \"source\": \"tomato\"}, {\"y\": 0.28136618160089105, \"edge\": 98, \"pair\": [\"tomato\", \"balsamic vinegar\"], \"x\": 0.048818855282392964, \"target\": \"balsamic vinegar\", \"edge_weight\": 5, \"source\": \"tomato\"}, {\"y\": 0.38328531411622613, \"edge\": 98, \"pair\": [\"tomato\", \"balsamic vinegar\"], \"x\": -0.19607132831670085, \"target\": \"balsamic vinegar\", \"edge_weight\": 5, \"source\": \"tomato\"}, {\"y\": 0.28136618160089105, \"edge\": 99, \"pair\": [\"tomato\", \"olive\"], \"x\": 0.048818855282392964, \"target\": \"olive\", \"edge_weight\": 12, \"source\": \"tomato\"}, {\"y\": 0.21165513912629644, \"edge\": 99, \"pair\": [\"tomato\", \"olive\"], \"x\": -0.048932225789377025, \"target\": \"olive\", \"edge_weight\": 12, \"source\": \"tomato\"}, {\"y\": 0.28136618160089105, \"edge\": 100, \"pair\": [\"tomato\", \"egg\"], \"x\": 0.048818855282392964, \"target\": \"egg\", \"edge_weight\": 7, \"source\": \"tomato\"}, {\"y\": -0.3595494772283508, \"edge\": 100, \"pair\": [\"tomato\", \"egg\"], \"x\": 0.04864272024318457, \"target\": \"egg\", \"edge_weight\": 7, \"source\": \"tomato\"}, {\"y\": 0.28136618160089105, \"edge\": 101, \"pair\": [\"tomato\", \"pepper\"], \"x\": 0.048818855282392964, \"target\": \"pepper\", \"edge_weight\": 5, \"source\": \"tomato\"}, {\"y\": 1.0, \"edge\": 101, \"pair\": [\"tomato\", \"pepper\"], \"x\": 0.14669771456194788, \"target\": \"pepper\", \"edge_weight\": 5, \"source\": \"tomato\"}, {\"y\": 0.28136618160089105, \"edge\": 102, \"pair\": [\"tomato\", \"cheddar\"], \"x\": 0.048818855282392964, \"target\": \"cheddar\", \"edge_weight\": 10, \"source\": \"tomato\"}, {\"y\": 0.17353679547086365, \"edge\": 102, \"pair\": [\"tomato\", \"cheddar\"], \"x\": -0.4734097403066018, \"target\": \"cheddar\", \"edge_weight\": 10, \"source\": \"tomato\"}, {\"y\": 0.28136618160089105, \"edge\": 103, \"pair\": [\"tomato\", \"bread\"], \"x\": 0.048818855282392964, \"target\": \"bread\", \"edge_weight\": 9, \"source\": \"tomato\"}, {\"y\": 0.08344774789730536, \"edge\": 103, \"pair\": [\"tomato\", \"bread\"], \"x\": 0.4609310604133291, \"target\": \"bread\", \"edge_weight\": 9, \"source\": \"tomato\"}, {\"y\": 0.00983232230177047, \"edge\": 104, \"pair\": [\"yeast\", \"oregano\"], \"x\": 0.034142018430340794, \"target\": \"oregano\", \"edge_weight\": 5, \"source\": \"yeast\"}, {\"y\": 0.2299667764186039, \"edge\": 104, \"pair\": [\"yeast\", \"oregano\"], \"x\": 0.12993278735066677, \"target\": \"oregano\", \"edge_weight\": 5, \"source\": \"yeast\"}, {\"y\": 0.00983232230177047, \"edge\": 105, \"pair\": [\"yeast\", \"passata\"], \"x\": 0.034142018430340794, \"target\": \"passata\", \"edge_weight\": 7, \"source\": \"yeast\"}, {\"y\": -0.19257285563344853, \"edge\": 105, \"pair\": [\"yeast\", \"passata\"], \"x\": 0.15056754945832057, \"target\": \"passata\", \"edge_weight\": 7, \"source\": \"yeast\"}, {\"y\": 0.00983232230177047, \"edge\": 106, \"pair\": [\"yeast\", \"sugar\"], \"x\": 0.034142018430340794, \"target\": \"sugar\", \"edge_weight\": 12, \"source\": \"yeast\"}, {\"y\": -0.22216009307004062, \"edge\": 106, \"pair\": [\"yeast\", \"sugar\"], \"x\": 0.29415333919673164, \"target\": \"sugar\", \"edge_weight\": 12, \"source\": \"yeast\"}, {\"y\": 0.00983232230177047, \"edge\": 107, \"pair\": [\"yeast\", \"water\"], \"x\": 0.034142018430340794, \"target\": \"water\", \"edge_weight\": 13, \"source\": \"yeast\"}, {\"y\": 0.04332605782444903, \"edge\": 107, \"pair\": [\"yeast\", \"water\"], \"x\": -0.21950995119468603, \"target\": \"water\", \"edge_weight\": 13, \"source\": \"yeast\"}, {\"y\": 0.00983232230177047, \"edge\": 108, \"pair\": [\"yeast\", \"garlic clove\"], \"x\": 0.034142018430340794, \"target\": \"garlic clove\", \"edge_weight\": 20, \"source\": \"yeast\"}, {\"y\": -0.08623067997906717, \"edge\": 108, \"pair\": [\"yeast\", \"garlic clove\"], \"x\": 0.053305918911480905, \"target\": \"garlic clove\", \"edge_weight\": 20, \"source\": \"yeast\"}, {\"y\": 0.00983232230177047, \"edge\": 109, \"pair\": [\"yeast\", \"salt\"], \"x\": 0.034142018430340794, \"target\": \"salt\", \"edge_weight\": 12, \"source\": \"yeast\"}, {\"y\": 0.18174924759316577, \"edge\": 109, \"pair\": [\"yeast\", \"salt\"], \"x\": -0.2396384683044342, \"target\": \"salt\", \"edge_weight\": 12, \"source\": \"yeast\"}, {\"y\": 0.00983232230177047, \"edge\": 110, \"pair\": [\"yeast\", \"olive\"], \"x\": 0.034142018430340794, \"target\": \"olive\", \"edge_weight\": 6, \"source\": \"yeast\"}, {\"y\": 0.21165513912629644, \"edge\": 110, \"pair\": [\"yeast\", \"olive\"], \"x\": -0.048932225789377025, \"target\": \"olive\", \"edge_weight\": 6, \"source\": \"yeast\"}, {\"y\": 0.00983232230177047, \"edge\": 111, \"pair\": [\"yeast\", \"rocket\"], \"x\": 0.034142018430340794, \"target\": \"rocket\", \"edge_weight\": 5, \"source\": \"yeast\"}, {\"y\": -0.0721490409637699, \"edge\": 111, \"pair\": [\"yeast\", \"rocket\"], \"x\": 0.32122778912877104, \"target\": \"rocket\", \"edge_weight\": 5, \"source\": \"yeast\"}, {\"y\": 0.00983232230177047, \"edge\": 112, \"pair\": [\"yeast\", \"lemon\"], \"x\": 0.034142018430340794, \"target\": \"lemon\", \"edge_weight\": 5, \"source\": \"yeast\"}, {\"y\": -0.3858699000762784, \"edge\": 112, \"pair\": [\"yeast\", \"lemon\"], \"x\": -0.19796457055329145, \"target\": \"lemon\", \"edge_weight\": 5, \"source\": \"yeast\"}, {\"y\": 0.00983232230177047, \"edge\": 113, \"pair\": [\"yeast\", \"onion\"], \"x\": 0.034142018430340794, \"target\": \"onion\", \"edge_weight\": 5, \"source\": \"yeast\"}, {\"y\": 0.19187831540158393, \"edge\": 113, \"pair\": [\"yeast\", \"onion\"], \"x\": 0.2742211017522927, \"target\": \"onion\", \"edge_weight\": 5, \"source\": \"yeast\"}, {\"y\": 0.2299667764186039, \"edge\": 114, \"pair\": [\"oregano\", \"garlic clove\"], \"x\": 0.12993278735066677, \"target\": \"garlic clove\", \"edge_weight\": 6, \"source\": \"oregano\"}, {\"y\": -0.08623067997906717, \"edge\": 114, \"pair\": [\"oregano\", \"garlic clove\"], \"x\": 0.053305918911480905, \"target\": \"garlic clove\", \"edge_weight\": 6, \"source\": \"oregano\"}, {\"y\": -0.19257285563344853, \"edge\": 115, \"pair\": [\"passata\", \"sugar\"], \"x\": 0.15056754945832057, \"target\": \"sugar\", \"edge_weight\": 6, \"source\": \"passata\"}, {\"y\": -0.22216009307004062, \"edge\": 115, \"pair\": [\"passata\", \"sugar\"], \"x\": 0.29415333919673164, \"target\": \"sugar\", \"edge_weight\": 6, \"source\": \"passata\"}, {\"y\": -0.19257285563344853, \"edge\": 116, \"pair\": [\"passata\", \"garlic clove\"], \"x\": 0.15056754945832057, \"target\": \"garlic clove\", \"edge_weight\": 9, \"source\": \"passata\"}, {\"y\": -0.08623067997906717, \"edge\": 116, \"pair\": [\"passata\", \"garlic clove\"], \"x\": 0.053305918911480905, \"target\": \"garlic clove\", \"edge_weight\": 9, \"source\": \"passata\"}, {\"y\": -0.22216009307004062, \"edge\": 117, \"pair\": [\"sugar\", \"garlic clove\"], \"x\": 0.29415333919673164, \"target\": \"garlic clove\", \"edge_weight\": 10, \"source\": \"sugar\"}, {\"y\": -0.08623067997906717, \"edge\": 117, \"pair\": [\"sugar\", \"garlic clove\"], \"x\": 0.053305918911480905, \"target\": \"garlic clove\", \"edge_weight\": 10, \"source\": \"sugar\"}, {\"y\": -0.22216009307004062, \"edge\": 118, \"pair\": [\"sugar\", \"onion\"], \"x\": 0.29415333919673164, \"target\": \"onion\", \"edge_weight\": 6, \"source\": \"sugar\"}, {\"y\": 0.19187831540158393, \"edge\": 118, \"pair\": [\"sugar\", \"onion\"], \"x\": 0.2742211017522927, \"target\": \"onion\", \"edge_weight\": 6, \"source\": \"sugar\"}, {\"y\": 0.04332605782444903, \"edge\": 119, \"pair\": [\"water\", \"garlic clove\"], \"x\": -0.21950995119468603, \"target\": \"garlic clove\", \"edge_weight\": 6, \"source\": \"water\"}, {\"y\": -0.08623067997906717, \"edge\": 119, \"pair\": [\"water\", \"garlic clove\"], \"x\": 0.053305918911480905, \"target\": \"garlic clove\", \"edge_weight\": 6, \"source\": \"water\"}, {\"y\": 0.04332605782444903, \"edge\": 120, \"pair\": [\"water\", \"salt\"], \"x\": -0.21950995119468603, \"target\": \"salt\", \"edge_weight\": 6, \"source\": \"water\"}, {\"y\": 0.18174924759316577, \"edge\": 120, \"pair\": [\"water\", \"salt\"], \"x\": -0.2396384683044342, \"target\": \"salt\", \"edge_weight\": 6, \"source\": \"water\"}, {\"y\": -0.08623067997906717, \"edge\": 121, \"pair\": [\"garlic clove\", \"olive\"], \"x\": 0.053305918911480905, \"target\": \"olive\", \"edge_weight\": 11, \"source\": \"garlic clove\"}, {\"y\": 0.21165513912629644, \"edge\": 121, \"pair\": [\"garlic clove\", \"olive\"], \"x\": -0.048932225789377025, \"target\": \"olive\", \"edge_weight\": 11, \"source\": \"garlic clove\"}, {\"y\": -0.08623067997906717, \"edge\": 122, \"pair\": [\"garlic clove\", \"lemon\"], \"x\": 0.053305918911480905, \"target\": \"lemon\", \"edge_weight\": 5, \"source\": \"garlic clove\"}, {\"y\": -0.3858699000762784, \"edge\": 122, \"pair\": [\"garlic clove\", \"lemon\"], \"x\": -0.19796457055329145, \"target\": \"lemon\", \"edge_weight\": 5, \"source\": \"garlic clove\"}, {\"y\": -0.08623067997906717, \"edge\": 123, \"pair\": [\"garlic clove\", \"onion\"], \"x\": 0.053305918911480905, \"target\": \"onion\", \"edge_weight\": 12, \"source\": \"garlic clove\"}, {\"y\": 0.19187831540158393, \"edge\": 123, \"pair\": [\"garlic clove\", \"onion\"], \"x\": 0.2742211017522927, \"target\": \"onion\", \"edge_weight\": 12, \"source\": \"garlic clove\"}, {\"y\": -0.08623067997906717, \"edge\": 124, \"pair\": [\"garlic clove\", \"rocket\"], \"x\": 0.053305918911480905, \"target\": \"rocket\", \"edge_weight\": 6, \"source\": \"garlic clove\"}, {\"y\": -0.0721490409637699, \"edge\": 124, \"pair\": [\"garlic clove\", \"rocket\"], \"x\": 0.32122778912877104, \"target\": \"rocket\", \"edge_weight\": 6, \"source\": \"garlic clove\"}, {\"y\": -0.08623067997906717, \"edge\": 125, \"pair\": [\"garlic clove\", \"salt\"], \"x\": 0.053305918911480905, \"target\": \"salt\", \"edge_weight\": 5, \"source\": \"garlic clove\"}, {\"y\": 0.18174924759316577, \"edge\": 125, \"pair\": [\"garlic clove\", \"salt\"], \"x\": -0.2396384683044342, \"target\": \"salt\", \"edge_weight\": 5, \"source\": \"garlic clove\"}, {\"y\": -0.08623067997906717, \"edge\": 126, \"pair\": [\"garlic clove\", \"egg\"], \"x\": 0.053305918911480905, \"target\": \"egg\", \"edge_weight\": 6, \"source\": \"garlic clove\"}, {\"y\": -0.3595494772283508, \"edge\": 126, \"pair\": [\"garlic clove\", \"egg\"], \"x\": 0.04864272024318457, \"target\": \"egg\", \"edge_weight\": 6, \"source\": \"garlic clove\"}, {\"y\": 0.21165513912629644, \"edge\": 127, \"pair\": [\"olive\", \"onion\"], \"x\": -0.048932225789377025, \"target\": \"onion\", \"edge_weight\": 6, \"source\": \"olive\"}, {\"y\": 0.19187831540158393, \"edge\": 127, \"pair\": [\"olive\", \"onion\"], \"x\": 0.2742211017522927, \"target\": \"onion\", \"edge_weight\": 6, \"source\": \"olive\"}, {\"y\": 0.19187831540158393, \"edge\": 128, \"pair\": [\"onion\", \"bread\"], \"x\": 0.2742211017522927, \"target\": \"bread\", \"edge_weight\": 8, \"source\": \"onion\"}, {\"y\": 0.08344774789730536, \"edge\": 128, \"pair\": [\"onion\", \"bread\"], \"x\": 0.4609310604133291, \"target\": \"bread\", \"edge_weight\": 8, \"source\": \"onion\"}, {\"y\": 0.19187831540158393, \"edge\": 129, \"pair\": [\"onion\", \"feta cheese\"], \"x\": 0.2742211017522927, \"target\": \"feta cheese\", \"edge_weight\": 5, \"source\": \"onion\"}, {\"y\": 0.3571214606794474, \"edge\": 129, \"pair\": [\"onion\", \"feta cheese\"], \"x\": 0.8620113008627178, \"target\": \"feta cheese\", \"edge_weight\": 5, \"source\": \"onion\"}, {\"y\": 0.19187831540158393, \"edge\": 130, \"pair\": [\"onion\", \"rocket\"], \"x\": 0.2742211017522927, \"target\": \"rocket\", \"edge_weight\": 6, \"source\": \"onion\"}, {\"y\": -0.0721490409637699, \"edge\": 130, \"pair\": [\"onion\", \"rocket\"], \"x\": 0.32122778912877104, \"target\": \"rocket\", \"edge_weight\": 6, \"source\": \"onion\"}, {\"y\": 0.19187831540158393, \"edge\": 131, \"pair\": [\"onion\", \"balsamic vinegar\"], \"x\": 0.2742211017522927, \"target\": \"balsamic vinegar\", \"edge_weight\": 8, \"source\": \"onion\"}, {\"y\": 0.38328531411622613, \"edge\": 131, \"pair\": [\"onion\", \"balsamic vinegar\"], \"x\": -0.19607132831670085, \"target\": \"balsamic vinegar\", \"edge_weight\": 8, \"source\": \"onion\"}, {\"y\": 0.08344774789730536, \"edge\": 132, \"pair\": [\"bread\", \"feta cheese\"], \"x\": 0.4609310604133291, \"target\": \"feta cheese\", \"edge_weight\": 5, \"source\": \"bread\"}, {\"y\": 0.3571214606794474, \"edge\": 132, \"pair\": [\"bread\", \"feta cheese\"], \"x\": 0.8620113008627178, \"target\": \"feta cheese\", \"edge_weight\": 5, \"source\": \"bread\"}, {\"y\": 0.08344774789730536, \"edge\": 133, \"pair\": [\"bread\", \"ham\"], \"x\": 0.4609310604133291, \"target\": \"ham\", \"edge_weight\": 5, \"source\": \"bread\"}, {\"y\": 0.03457086934208114, \"edge\": 133, \"pair\": [\"bread\", \"ham\"], \"x\": 0.8682578274907841, \"target\": \"ham\", \"edge_weight\": 5, \"source\": \"bread\"}], \"data-905568096a5e8d3e6c5946fd843cfe0b\": [{\"x\": 0.31690419125815195, \"weight\": 10, \"y\": 0.403511767411401, \"label\": \"chilli\"}, {\"x\": 0.23388405632465104, \"weight\": 49, \"y\": 0.11033693218870348, \"label\": \"mozzarella\"}, {\"x\": 0.11357419031972558, \"weight\": 18, \"y\": 0.48565077593561917, \"label\": \"pizza base\"}, {\"x\": 0.6067319601682, \"weight\": 7, \"y\": 0.4469114062277095, \"label\": \"red pepper\"}, {\"x\": 0.1690165113805107, \"weight\": 29, \"y\": -0.004737353497237078, \"label\": \"basil\"}, {\"x\": -0.09721672312912452, \"weight\": 51, \"y\": -0.07530072528736904, \"label\": \"flour\"}, {\"x\": -0.12275707261243386, \"weight\": 75, \"y\": -0.15778130825687844, \"label\": \"oil\"}, {\"x\": -0.07663715010163837, \"weight\": 13, \"y\": 0.07142951535649514, \"label\": \"parmesan\"}, {\"x\": 0.048818855282392964, \"weight\": 54, \"y\": 0.28136618160089105, \"label\": \"tomato\"}, {\"x\": 0.034142018430340794, \"weight\": 33, \"y\": 0.00983232230177047, \"label\": \"yeast\"}, {\"x\": 0.12993278735066677, \"weight\": 13, \"y\": 0.2299667764186039, \"label\": \"oregano\"}, {\"x\": 0.15056754945832057, \"weight\": 14, \"y\": -0.19257285563344853, \"label\": \"passata\"}, {\"x\": 0.29415333919673164, \"weight\": 17, \"y\": -0.22216009307004062, \"label\": \"sugar\"}, {\"x\": -0.21950995119468603, \"weight\": 13, \"y\": 0.04332605782444903, \"label\": \"water\"}, {\"x\": 0.053305918911480905, \"weight\": 37, \"y\": -0.08623067997906717, \"label\": \"garlic clove\"}, {\"x\": -0.2396384683044342, \"weight\": 15, \"y\": 0.18174924759316577, \"label\": \"salt\"}, {\"x\": -0.22518191461893466, \"weight\": 5, \"y\": 0.9479570948434876, \"label\": \"caper\"}, {\"x\": -0.19796457055329145, \"weight\": 7, \"y\": -0.3858699000762784, \"label\": \"lemon\"}, {\"x\": 0.2671153089591338, \"weight\": 5, \"y\": -0.7921630068530396, \"label\": \"milk\"}, {\"x\": -0.048932225789377025, \"weight\": 19, \"y\": 0.21165513912629644, \"label\": \"olive\"}, {\"x\": -0.6006871063936479, \"weight\": 7, \"y\": -0.24397964882086623, \"label\": \"courgette\"}, {\"x\": 0.2742211017522927, \"weight\": 32, \"y\": 0.19187831540158393, \"label\": \"onion\"}, {\"x\": -0.3622224195621261, \"weight\": 6, \"y\": -0.8711712400395748, \"label\": \"ricotta\"}, {\"x\": 0.32122778912877104, \"weight\": 14, \"y\": -0.0721490409637699, \"label\": \"rocket\"}, {\"x\": -0.19607132831670085, \"weight\": 11, \"y\": 0.38328531411622613, \"label\": \"balsamic vinegar\"}, {\"x\": 0.4609310604133291, \"weight\": 22, \"y\": 0.08344774789730536, \"label\": \"bread\"}, {\"x\": 0.8620113008627178, \"weight\": 6, \"y\": 0.3571214606794474, \"label\": \"feta cheese\"}, {\"x\": -0.5153570837539263, \"weight\": 6, \"y\": -0.45965176232981453, \"label\": \"butter\"}, {\"x\": -0.820080414024419, \"weight\": 8, \"y\": 0.11352926725153861, \"label\": \"rosemary\"}, {\"x\": 0.04864272024318457, \"weight\": 14, \"y\": -0.3595494772283508, \"label\": \"egg\"}, {\"x\": -0.32180746353882894, \"weight\": 5, \"y\": -0.5951150748363662, \"label\": \"baking powder\"}, {\"x\": -0.03210146750284717, \"weight\": 7, \"y\": -0.889932451784224, \"label\": \"potato\"}, {\"x\": 0.14669771456194788, \"weight\": 5, \"y\": 1.0, \"label\": \"pepper\"}, {\"x\": -0.4734097403066018, \"weight\": 14, \"y\": 0.17353679547086365, \"label\": \"cheddar\"}, {\"x\": 0.8682578274907841, \"weight\": 9, \"y\": 0.03457086934208114, \"label\": \"ham\"}, {\"x\": -0.8505611017903179, \"weight\": 7, \"y\": -0.3526983683313133, \"label\": \"ciabatta\"}]}}, {\"mode\": \"vega-lite\"});\n",
       "</script>"
      ],
      "text/plain": [
       "alt.LayerChart(...)"
      ]
     },
     "execution_count": 588,
     "metadata": {},
     "output_type": "execute_result"
    }
   ],
   "source": [
    "# draw the graph using Altair\n",
    "viz = nxa.draw_networkx(\n",
    "    G,\n",
    "    node_label='label',\n",
    "    node_color='weight',\n",
    "    cmap='blues', # 'viridis', 'plasma', 'magma', 'cividis'\n",
    "    pos=nx.spring_layout(G, seed=23),\n",
    "    width='edge_weight',\n",
    "    edge_color=\"#5D8AA8\",\n",
    ")\n",
    "viz.interactive()"
   ]
  },
  {
   "cell_type": "markdown",
   "metadata": {},
   "source": [
    "## Annotated recipes from [\"RecipeScape\"](https://recipescape.kixlab.org/)\n",
    "\n",
    "Annotated recipes in JSON format for [chocolate chip cookies](https://recipescape.kixlab.org/ccc_trees.json) and [tomato pasta](https://recipescape.kixlab.org/tomatopasta_trees.json)."
   ]
  },
  {
   "cell_type": "code",
   "execution_count": 13,
   "metadata": {},
   "outputs": [
    {
     "name": "stdout",
     "output_type": "stream",
     "text": [
      "Resource dataset/recipescape-choco-chip-cookies.json already exists.\n"
     ]
    }
   ],
   "source": [
    "# download dataset from url if not already exists\n",
    "filename_dataset = \"recipescape-choco-chip-cookies.json\"\n",
    "download_resource(\n",
    "    resource_url=\"https://recipescape.kixlab.org/ccc_trees.json\",\n",
    "    local_path=str(path_dataset/filename_dataset)\n",
    ")\n",
    "# read in the json file\n",
    "import json\n",
    "with open(path_dataset/filename_dataset, 'r') as f:\n",
    "    data = json.load(f)\n",
    "# data is a list of dict objects, each dict has keys 'id' and 'tree'"
   ]
  },
  {
   "cell_type": "markdown",
   "metadata": {},
   "source": [
    "This dataset is a list of dict objects, each dict has keys 'id' and 'tree'."
   ]
  },
  {
   "cell_type": "code",
   "execution_count": 42,
   "metadata": {},
   "outputs": [
    {
     "name": "stdout",
     "output_type": "stream",
     "text": [
      "Num of elements: 490\n",
      "Keys of an element:  dict_keys(['id', 'tree'])\n"
     ]
    }
   ],
   "source": [
    "print(f\"Num of elements: {len(data)}\")\n",
    "print(\"Keys of an element: \", data[0].keys())\n",
    "# print(json.dumps(data, indent=4))"
   ]
  },
  {
   "cell_type": "markdown",
   "metadata": {},
   "source": [
    "A 'tree' is also a list of dict objects, each with keys 'word' and 'ingredient'. "
   ]
  },
  {
   "cell_type": "code",
   "execution_count": 45,
   "metadata": {},
   "outputs": [
    {
     "name": "stdout",
     "output_type": "stream",
     "text": [
      "Num of elements: 7\n",
      "Keys of an element:  dict_keys(['word', 'ingredient'])\n"
     ]
    }
   ],
   "source": [
    "tree = data[0][\"tree\"]\n",
    "print(f\"Num of elements: {len(tree)}\")\n",
    "print(\"Keys of an element: \", tree[0].keys())\n",
    "# print(json.dumps(tree, indent=4))"
   ]
  },
  {
   "cell_type": "code",
   "execution_count": 75,
   "metadata": {},
   "outputs": [
    {
     "name": "stdout",
     "output_type": "stream",
     "text": [
      "recipe_id               \tword        \tingredient\n",
      "54a47bb66529d92b2c02c10e\tarrange     \tbread slices,work surface,bread slice,cheese,tablespoons caponata,half,tomato\n",
      "                        \tremaining   \tcheese,bread,brush,bread slices,oil,heat,skillet,medium heat\n",
      "                        \tis          \tcheese\n",
      "54a42ff76529d92b2c01385a\theat        \tcooking spray\n",
      "                        \tadd         \ttomato sauce,cranberry sauce,horseradish,dry mustard,vinegar,stock\n",
      "                        \tlower       \t\n",
      "                        \tstirring    \t\n",
      "                        \tlower       \t\n",
      "                        \tserve       \t\n",
      "                        \treheat      \t\n",
      "54a4154d19925f464b375841\theat        \toil\n",
      "                        \tsauté       \tshallots\n",
      "                        \tadd         \tchicken\n",
      "                        \tturn        \tchicken\n",
      "                        \tbroth       \t\n",
      "                        \tcover       \t\n",
      "                        \tsimmer      \tchicken\n",
      "                        \tboil        \tsauce\n",
      "54a47c2e19925f464b39bb94\theat        \toil\n",
      "                        \tsauté       \t\n",
      "                        \tsimmer      \tsauce\n",
      "                        \ttoss        \tsauce,pasta\n",
      "                        \ttransfer    \tpasta\n",
      "54a47c4d6529d92b2c02c371\tadd         \tsausage,onion,garlic\n",
      "                        \tbreaking    \t\n",
      "                        \tadd         \ttomatoes,juices\n",
      "                        \tstirring    \t\n",
      "                        \tseason      \tsauce,salt,pepper\n",
      "                        \trefrigerate \t\n",
      "                        \tpreheat     \toil\n",
      "                        \tstir        \ttomato sauce\n",
      "                        \tsprinkle    \tparmesan cheese\n",
      "54a433f76529d92b2c016abd\theat        \tolive oil\n",
      "                        \tsauté       \t\n",
      "                        \ttransfer    \tpancetta\n",
      "                        \tadd         \tpork\n",
      "                        \ttransfer    \tpancetta\n",
      "                        \tsauté       \t\n",
      "                        \treduce      \theat\n",
      "                        \tadd         \twine\n",
      "                        \tadd         \tpancetta,pork,accumulated juices\n",
      "                        \tcover       \t\n",
      "                        \tstirring    \t\n",
      "                        \ttilt        \t\n",
      "                        \toff         \tfat,ragù\n",
      "                        \tbreak       \t\n",
      "                        \tseason      \tragù,salt,pepper\n",
      "                        \tcover       \t\n",
      "                        \trefrigerated\t\n",
      "                        \tpreheat     \t\n",
      "                        \tcook        \tpasta,water\n",
      "                        \tdrain       \tpasta\n",
      "                        \tseason      \tmixture,salt,pepper\n",
      "                        \tsprinkle    \tcheeses\n"
     ]
    }
   ],
   "source": [
    "# pretty print the data as table (first 6 rows)\n",
    "def print_row(row):\n",
    "    print(f\"{row[0]:<24}\\t{row[1]:<12}\\t{row[2]}\")\n",
    "\n",
    "print_row([\"recipe_id\", \"word\", \"ingredient\"])\n",
    "for recipe in data[:6]:\n",
    "    for idx, record in enumerate(recipe[\"tree\"]):\n",
    "        print_row(row=[' ' if idx else recipe['id'], record['word'], ','.join(record['ingredient'])])"
   ]
  },
  {
   "cell_type": "markdown",
   "metadata": {},
   "source": [
    "### Tomato pasta"
   ]
  },
  {
   "cell_type": "code",
   "execution_count": 363,
   "metadata": {},
   "outputs": [
    {
     "name": "stdout",
     "output_type": "stream",
     "text": [
      "Resource ../dataset/recipescape-tomato-pasta.json already exists.\n",
      "Num of elements: 553\n",
      "Keys of an element:  dict_keys(['id', 'tree'])\n",
      "\n",
      "Num of elements: 3\n",
      "Keys of an element:  dict_keys(['word', 'ingredient'])\n"
     ]
    }
   ],
   "source": [
    "# download dataset from url if not already exists\n",
    "filename_dataset = \"recipescape-tomato-pasta.json\"\n",
    "download_resource(\n",
    "    resource_url=\"https://recipescape.kixlab.org/tomatopasta_trees.json\",\n",
    "    local_path=str(path_dataset/filename_dataset)\n",
    ")\n",
    "\n",
    "# read in the json file\n",
    "import json\n",
    "with open(path_dataset/filename_dataset, 'r') as f:\n",
    "    data = json.load(f)\n",
    "# data is a list of dict objects, each dict has keys 'id' and 'tree'\n",
    "\n",
    "print(f\"Num of elements: {len(data)}\")\n",
    "print(\"Keys of an element: \", data[0].keys())\n",
    "# print(json.dumps(data, indent=4))\n",
    "\n",
    "tree = data[0][\"tree\"]\n",
    "print(f\"\\nNum of elements: {len(tree)}\")\n",
    "print(\"Keys of an element: \", tree[0].keys())\n",
    "# print(json.dumps(tree, indent=4))"
   ]
  },
  {
   "cell_type": "code",
   "execution_count": 365,
   "metadata": {},
   "outputs": [
    {
     "name": "stdout",
     "output_type": "stream",
     "text": [
      "recipe_id               \tword        \tingredient\n",
      "54a47bb66529d92b2c02c10e\tarrange     \tbread slices,work surface,bread slice,cheese,tablespoons caponata,half,tomato\n",
      "                        \tremaining   \tcheese,bread,brush,bread slices,oil,heat,skillet,medium heat\n",
      "                        \tis          \tcheese\n",
      "54a42ff76529d92b2c01385a\theat        \tcooking spray\n",
      "                        \tadd         \ttomato sauce,cranberry sauce,horseradish,dry mustard,vinegar,stock\n",
      "                        \tlower       \t\n",
      "                        \tstirring    \t\n",
      "                        \tlower       \t\n",
      "                        \tserve       \t\n",
      "                        \treheat      \t\n",
      "54a4154d19925f464b375841\theat        \toil\n",
      "                        \tsauté       \tshallots\n",
      "                        \tadd         \tchicken\n",
      "                        \tturn        \tchicken\n",
      "                        \tbroth       \t\n",
      "                        \tcover       \t\n",
      "                        \tsimmer      \tchicken\n",
      "                        \tboil        \tsauce\n",
      "54a47c2e19925f464b39bb94\theat        \toil\n",
      "                        \tsauté       \t\n",
      "                        \tsimmer      \tsauce\n",
      "                        \ttoss        \tsauce,pasta\n",
      "                        \ttransfer    \tpasta\n",
      "54a47c4d6529d92b2c02c371\tadd         \tsausage,onion,garlic\n",
      "                        \tbreaking    \t\n",
      "                        \tadd         \ttomatoes,juices\n",
      "                        \tstirring    \t\n",
      "                        \tseason      \tsauce,salt,pepper\n",
      "                        \trefrigerate \t\n",
      "                        \tpreheat     \toil\n",
      "                        \tstir        \ttomato sauce\n",
      "                        \tsprinkle    \tparmesan cheese\n",
      "54a433f76529d92b2c016abd\theat        \tolive oil\n",
      "                        \tsauté       \t\n",
      "                        \ttransfer    \tpancetta\n",
      "                        \tadd         \tpork\n",
      "                        \ttransfer    \tpancetta\n",
      "                        \tsauté       \t\n",
      "                        \treduce      \theat\n",
      "                        \tadd         \twine\n",
      "                        \tadd         \tpancetta,pork,accumulated juices\n",
      "                        \tcover       \t\n",
      "                        \tstirring    \t\n",
      "                        \ttilt        \t\n",
      "                        \toff         \tfat,ragù\n",
      "                        \tbreak       \t\n",
      "                        \tseason      \tragù,salt,pepper\n",
      "                        \tcover       \t\n",
      "                        \trefrigerated\t\n",
      "                        \tpreheat     \t\n",
      "                        \tcook        \tpasta,water\n",
      "                        \tdrain       \tpasta\n",
      "                        \tseason      \tmixture,salt,pepper\n",
      "                        \tsprinkle    \tcheeses\n"
     ]
    }
   ],
   "source": [
    "# pretty print the data as table (first 6 rows)\n",
    "def print_row(row):\n",
    "    print(f\"{row[0]:<24}\\t{row[1]:<12}\\t{row[2]}\")\n",
    "\n",
    "print_row([\"recipe_id\", \"word\", \"ingredient\"])\n",
    "for recipe in data[:6]:\n",
    "    for idx, record in enumerate(recipe[\"tree\"]):\n",
    "        print_row(row=[' ' if idx else recipe['id'], record['word'], ','.join(record['ingredient'])])\n",
    "\n",
    "# pprint_df = pd.DataFrame(\n",
    "#     columns = [\"recipe_id\", \"word\", \"ingredient\"]\n",
    "# )\n",
    "# for recipe in data:\n",
    "#     for record in recipe[\"tree\"]:\n",
    "#         pprint_df = pprint_df.append(pd.DataFrame(\n",
    "#             data=[[recipe[\"id\"], record[\"word\"], record[\"ingredient\"]]],\n",
    "#             columns=[\"recipe_id\", \"word\", \"ingredient\"]\n",
    "#         ))\n",
    "# pprint_df.head()"
   ]
  },
  {
   "cell_type": "markdown",
   "metadata": {},
   "source": [
    "## Simplified Recipes1M\n",
    "\n",
    "> Source: https://dominikschmidt.xyz/simplified-recipes-1M/"
   ]
  },
  {
   "cell_type": "code",
   "execution_count": 88,
   "metadata": {},
   "outputs": [
    {
     "name": "stdout",
     "output_type": "stream",
     "text": [
      "Resource ../dataset/simplified-recipes-1M.npz already exists.\n"
     ]
    }
   ],
   "source": [
    "# download dataset from url if not already exists\n",
    "filename_dataset = \"simplified-recipes-1M.npz\"\n",
    "download_resource(\n",
    "    resource_url=\"https://github.com/schmidtdominik/RecipeNet/raw/master/simplified-recipes-1M.npz\",\n",
    "    local_path=str(path_dataset/filename_dataset)\n",
    ")\n",
    "\n",
    "import numpy as np\n",
    "with np.load(path_dataset/filename_dataset, allow_pickle=True) as data:\n",
    "    recipes = data['recipes']\n",
    "    ingredients = data['ingredients']\n",
    "del data"
   ]
  },
  {
   "cell_type": "code",
   "execution_count": 103,
   "metadata": {},
   "outputs": [],
   "source": []
  }
 ],
 "metadata": {
  "interpreter": {
   "hash": "2243570999d709669870674c130d5c989af571bf8fd02bb480a01170839d5b26"
  },
  "kernelspec": {
   "display_name": "Python 3.8.2 64-bit ('env': venv)",
   "language": "python",
   "name": "python3"
  },
  "language_info": {
   "codemirror_mode": {
    "name": "ipython",
    "version": 3
   },
   "file_extension": ".py",
   "mimetype": "text/x-python",
   "name": "python",
   "nbconvert_exporter": "python",
   "pygments_lexer": "ipython3",
   "version": "3.8.2"
  },
  "orig_nbformat": 4
 },
 "nbformat": 4,
 "nbformat_minor": 2
}
